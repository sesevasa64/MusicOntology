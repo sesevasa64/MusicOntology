{
 "cells": [
  {
   "cell_type": "code",
   "execution_count": 1,
   "metadata": {},
   "outputs": [],
   "source": [
    "from rdflib import Graph"
   ]
  },
  {
   "cell_type": "code",
   "execution_count": 2,
   "metadata": {},
   "outputs": [],
   "source": [
    "g = Graph()\n",
    "g = g.parse(\"data/music_graph.ttl\")"
   ]
  },
  {
   "cell_type": "code",
   "execution_count": 3,
   "metadata": {},
   "outputs": [
    {
     "data": {
      "text/plain": [
       "'Graph size: 656350'"
      ]
     },
     "execution_count": 3,
     "metadata": {},
     "output_type": "execute_result"
    }
   ],
   "source": [
    "qres = g.query(\"\"\"\n",
    "    SELECT ?s ?p ?o\n",
    "    WHERE {\n",
    "        ?s ?p ?o\n",
    "    }\n",
    "\"\"\")\n",
    "\n",
    "f\"Graph size: {len(qres)}\""
   ]
  },
  {
   "cell_type": "markdown",
   "metadata": {},
   "source": [
    "1. Какой самый популярный жанр музыки среди выпущенных треков?"
   ]
  },
  {
   "cell_type": "code",
   "execution_count": 4,
   "metadata": {},
   "outputs": [
    {
     "name": "stdout",
     "output_type": "stream",
     "text": [
      "Rock, 12911\n",
      "Electronic, 4769\n",
      "Metal, 3914\n",
      "Pop, 1386\n",
      "Rap, 1047\n"
     ]
    }
   ],
   "source": [
    "qres = g.query(\"\"\"\n",
    "    SELECT ?genreName (COUNT(?track) AS ?count)\n",
    "    WHERE {\n",
    "        ?track rdf:type ns1:Track .\n",
    "        ?track ns1:hasGenre ?genre .\n",
    "        ?genre ns1:name ?genreName .\n",
    "    }\n",
    "    GROUP BY ?genreName\n",
    "    ORDER BY DESC(?count)\n",
    "    LIMIT 5\n",
    "\"\"\")\n",
    "\n",
    "for i, row in enumerate(qres):\n",
    "    genre, tracks_count = row\n",
    "    print(f\"{genre}, {tracks_count}\")"
   ]
  },
  {
   "cell_type": "markdown",
   "metadata": {},
   "source": [
    "2. Какой средний показатель танцевальности у топ-100 треков по популярности?"
   ]
  },
  {
   "cell_type": "code",
   "execution_count": 5,
   "metadata": {},
   "outputs": [
    {
     "name": "stdout",
     "output_type": "stream",
     "text": [
      "0.6021900000000003, 0.48235880655144864\n"
     ]
    }
   ],
   "source": [
    "qres = g.query(\"\"\"\n",
    "    SELECT (AVG(?danceability) AS ?averageDanceability)\n",
    "    WHERE {\n",
    "        SELECT ?danceability\n",
    "        WHERE {\n",
    "            ?track rdf:type ns1:Track .\n",
    "            ?track ns1:popularity ?popularity .\n",
    "            ?track ns1:danceability ?danceability .\n",
    "        }\n",
    "        ORDER BY DESC(?popularity)\n",
    "        LIMIT 100\n",
    "    }\n",
    "\"\"\")\n",
    "\n",
    "qres2 = g.query(\"\"\"\n",
    "    SELECT (AVG(?danceability) AS ?averageDanceability) \n",
    "    WHERE {\n",
    "        ?track rdf:type ns1:Track .\n",
    "        ?track ns1:danceability ?danceability .\n",
    "    }\n",
    "\"\"\")\n",
    "\n",
    "for row1, row2 in zip(qres, qres2):\n",
    "    avg_danceability_100 = row1[0].value\n",
    "    avg_danceability_all = row2[0].value\n",
    "    print(f\"{avg_danceability_100}, {avg_danceability_all}\")"
   ]
  },
  {
   "cell_type": "markdown",
   "metadata": {},
   "source": [
    "3. Альбом какой группы содержит наибольшее количество песен?"
   ]
  },
  {
   "cell_type": "code",
   "execution_count": 6,
   "metadata": {},
   "outputs": [
    {
     "name": "stdout",
     "output_type": "stream",
     "text": [
      "Serge Gainsbourg, Intégrale, 271\n"
     ]
    }
   ],
   "source": [
    "qres = g.query(\"\"\"\n",
    "    SELECT ?performerName ?albumName ?tracks\n",
    "    WHERE {\n",
    "        ?album rdf:type ns1:Album .\n",
    "        ?album ns1:albumType \"album\" .\n",
    "        ?album ns1:tracksTotal ?tracks .\n",
    "        ?album ns1:performedBy ?performer .\n",
    "        ?album ns1:name ?albumName .\n",
    "        ?performer ns1:name ?performerName\n",
    "    }\n",
    "    ORDER BY DESC(?tracks) LIMIT 1\n",
    "\"\"\")\n",
    "\n",
    "for i, row in enumerate(qres):\n",
    "    performer_name, album_name, tracks_count = row\n",
    "    print(f\"{performer_name}, {album_name}, {tracks_count}\")"
   ]
  },
  {
   "cell_type": "markdown",
   "metadata": {},
   "source": [
    "4. Какая группа выпустила больше всего альбомов за 2006 год?"
   ]
  },
  {
   "cell_type": "code",
   "execution_count": 7,
   "metadata": {},
   "outputs": [
    {
     "name": "stdout",
     "output_type": "stream",
     "text": [
      "Patrick Watson, 4\n"
     ]
    }
   ],
   "source": [
    "qres = g.query(\"\"\"\n",
    "    SELECT ?performerName (COUNT(?album) as ?albumsInYear)\n",
    "    WHERE {\n",
    "        ?album rdf:type ns1:Album .\n",
    "        ?album ns1:albumType \"album\" .\n",
    "        ?album ns1:releaseYear \"2006\" .\n",
    "        ?album ns1:performedBy ?performer .\n",
    "        ?performer ns1:name ?performerName\n",
    "    }\n",
    "    GROUP BY ?performerName\n",
    "    ORDER BY DESC(?allPerformerTracks) LIMIT 1\n",
    "\"\"\")\n",
    "\n",
    "for i, row in enumerate(qres):\n",
    "    performer_name, tracks_count = row\n",
    "    print(f\"{performer_name}, {tracks_count}\")"
   ]
  },
  {
   "cell_type": "markdown",
   "metadata": {},
   "source": [
    "4. Какая группа выпустила больше всего песен за 2014 год?"
   ]
  },
  {
   "cell_type": "code",
   "execution_count": 8,
   "metadata": {},
   "outputs": [
    {
     "name": "stdout",
     "output_type": "stream",
     "text": [
      "Franz Schubert, 43\n"
     ]
    }
   ],
   "source": [
    "qres = g.query(\"\"\"\n",
    "    SELECT ?performerName (SUM(?tracks) as ?allPerformerTracks)\n",
    "    WHERE {\n",
    "        ?album rdf:type ns1:Album .\n",
    "        ?album ns1:albumType \"album\" .\n",
    "        ?album ns1:tracksTotal ?tracks .\n",
    "        ?album ns1:releaseYear \"2014\" .\n",
    "        ?album ns1:performedBy ?performer .\n",
    "        ?performer ns1:name ?performerName\n",
    "    }\n",
    "    GROUP BY ?performerName\n",
    "    ORDER BY DESC(?allPerformerTracks) LIMIT 1\n",
    "\"\"\")\n",
    "\n",
    "for i, row in enumerate(qres):\n",
    "    performer_name, tracks_count = row\n",
    "    print(f\"{performer_name}, {tracks_count}\")"
   ]
  },
  {
   "cell_type": "code",
   "execution_count": null,
   "metadata": {},
   "outputs": [],
   "source": []
  }
 ],
 "metadata": {
  "kernelspec": {
   "display_name": "venv",
   "language": "python",
   "name": "python3"
  },
  "language_info": {
   "codemirror_mode": {
    "name": "ipython",
    "version": 3
   },
   "file_extension": ".py",
   "mimetype": "text/x-python",
   "name": "python",
   "nbconvert_exporter": "python",
   "pygments_lexer": "ipython3",
   "version": "3.11.5"
  }
 },
 "nbformat": 4,
 "nbformat_minor": 2
}
