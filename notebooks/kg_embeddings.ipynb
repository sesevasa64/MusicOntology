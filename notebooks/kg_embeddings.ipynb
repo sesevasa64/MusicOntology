{
 "cells": [
  {
   "cell_type": "code",
   "execution_count": 230,
   "metadata": {},
   "outputs": [],
   "source": [
    "import re\n",
    "import numpy as np\n",
    "import pandas as pd\n",
    "import seaborn as sns\n",
    "import tensorflow as tf\n",
    "from rdflib import Graph\n",
    "import matplotlib.pyplot as plt\n",
    "from ampligraph.utils import save_model, restore_model\n",
    "from ampligraph.evaluation import train_test_split_no_unseen\n",
    "from ampligraph.latent_features import ScoringBasedEmbeddingModel\n",
    "from ampligraph.latent_features.loss_functions import get as get_loss\n",
    "from ampligraph.latent_features.regularizers import get as get_regularizer\n",
    "from ampligraph.evaluation import mr_score, mrr_score, hits_at_n_score\n",
    "from sklearn.decomposition import PCA\n",
    "from sklearn.manifold import TSNE\n",
    "from sklearn.model_selection import train_test_split\n",
    "from ampligraph.discovery import find_clusters\n",
    "from sklearn.cluster import KMeans\n",
    "from sklearn import metrics\n",
    "%matplotlib inline"
   ]
  },
  {
   "cell_type": "code",
   "execution_count": 2,
   "metadata": {},
   "outputs": [
    {
     "name": "stderr",
     "output_type": "stream",
     "text": [
      "2023-12-15 20:42:04.889182: I tensorflow/compiler/xla/stream_executor/cuda/cuda_gpu_executor.cc:894] successful NUMA node read from SysFS had negative value (-1), but there must be at least one NUMA node, so returning NUMA node zero. See more at https://github.com/torvalds/linux/blob/v6.0/Documentation/ABI/testing/sysfs-bus-pci#L344-L355\n",
      "2023-12-15 20:42:04.895117: I tensorflow/compiler/xla/stream_executor/cuda/cuda_gpu_executor.cc:894] successful NUMA node read from SysFS had negative value (-1), but there must be at least one NUMA node, so returning NUMA node zero. See more at https://github.com/torvalds/linux/blob/v6.0/Documentation/ABI/testing/sysfs-bus-pci#L344-L355\n",
      "2023-12-15 20:42:04.895291: I tensorflow/compiler/xla/stream_executor/cuda/cuda_gpu_executor.cc:894] successful NUMA node read from SysFS had negative value (-1), but there must be at least one NUMA node, so returning NUMA node zero. See more at https://github.com/torvalds/linux/blob/v6.0/Documentation/ABI/testing/sysfs-bus-pci#L344-L355\n",
      "2023-12-15 20:42:05.218128: I tensorflow/compiler/xla/stream_executor/cuda/cuda_gpu_executor.cc:894] successful NUMA node read from SysFS had negative value (-1), but there must be at least one NUMA node, so returning NUMA node zero. See more at https://github.com/torvalds/linux/blob/v6.0/Documentation/ABI/testing/sysfs-bus-pci#L344-L355\n",
      "2023-12-15 20:42:05.218327: I tensorflow/compiler/xla/stream_executor/cuda/cuda_gpu_executor.cc:894] successful NUMA node read from SysFS had negative value (-1), but there must be at least one NUMA node, so returning NUMA node zero. See more at https://github.com/torvalds/linux/blob/v6.0/Documentation/ABI/testing/sysfs-bus-pci#L344-L355\n",
      "2023-12-15 20:42:05.218482: I tensorflow/compiler/xla/stream_executor/cuda/cuda_gpu_executor.cc:894] successful NUMA node read from SysFS had negative value (-1), but there must be at least one NUMA node, so returning NUMA node zero. See more at https://github.com/torvalds/linux/blob/v6.0/Documentation/ABI/testing/sysfs-bus-pci#L344-L355\n",
      "2023-12-15 20:42:05.218592: I tensorflow/core/common_runtime/gpu/gpu_device.cc:1886] Created device /device:GPU:0 with 4737 MB memory:  -> device: 0, name: NVIDIA GeForce GTX 1060 6GB, pci bus id: 0000:05:00.0, compute capability: 6.1\n"
     ]
    },
    {
     "data": {
      "text/plain": [
       "True"
      ]
     },
     "execution_count": 2,
     "metadata": {},
     "output_type": "execute_result"
    }
   ],
   "source": [
    "tf.test.is_gpu_available()"
   ]
  },
  {
   "cell_type": "code",
   "execution_count": 3,
   "metadata": {},
   "outputs": [],
   "source": [
    "g = Graph()\n",
    "g.parse(\"../data/music_graph.ttl\");"
   ]
  },
  {
   "cell_type": "code",
   "execution_count": 13,
   "metadata": {},
   "outputs": [
    {
     "data": {
      "text/plain": [
       "795348"
      ]
     },
     "execution_count": 13,
     "metadata": {},
     "output_type": "execute_result"
    }
   ],
   "source": [
    "data = [triplet for triplet in g]\n",
    "len(data)"
   ]
  },
  {
   "cell_type": "code",
   "execution_count": 14,
   "metadata": {},
   "outputs": [
    {
     "data": {
      "text/html": [
       "<div>\n",
       "<style scoped>\n",
       "    .dataframe tbody tr th:only-of-type {\n",
       "        vertical-align: middle;\n",
       "    }\n",
       "\n",
       "    .dataframe tbody tr th {\n",
       "        vertical-align: top;\n",
       "    }\n",
       "\n",
       "    .dataframe thead th {\n",
       "        text-align: right;\n",
       "    }\n",
       "</style>\n",
       "<table border=\"1\" class=\"dataframe\">\n",
       "  <thead>\n",
       "    <tr style=\"text-align: right;\">\n",
       "      <th></th>\n",
       "      <th>subject</th>\n",
       "      <th>predicate</th>\n",
       "      <th>object</th>\n",
       "    </tr>\n",
       "  </thead>\n",
       "  <tbody>\n",
       "    <tr>\n",
       "      <th>0</th>\n",
       "      <td>track_1EPNMdf6BfE4pMvGrL0TMV</td>\n",
       "      <td>popularity</td>\n",
       "      <td>20</td>\n",
       "    </tr>\n",
       "    <tr>\n",
       "      <th>1</th>\n",
       "      <td>track_06BlXCvoKvpvnH8WJ39pSs</td>\n",
       "      <td>performedBy</td>\n",
       "      <td>39T6qqI0jDtSWWioX8eGJz</td>\n",
       "    </tr>\n",
       "    <tr>\n",
       "      <th>2</th>\n",
       "      <td>track_4wv4mYGR4R1e3Scp3Ri1cf</td>\n",
       "      <td>performedBy</td>\n",
       "      <td>performer_74KPeP60dRLSAAk7sFtWTC</td>\n",
       "    </tr>\n",
       "    <tr>\n",
       "      <th>3</th>\n",
       "      <td>album_2256qKBSQdt53T5dz4Kdcs</td>\n",
       "      <td>type</td>\n",
       "      <td>Album</td>\n",
       "    </tr>\n",
       "    <tr>\n",
       "      <th>4</th>\n",
       "      <td>track_0i4tyixbYk32UpBsx1GFSa</td>\n",
       "      <td>performedBy</td>\n",
       "      <td>performer_1E4r4z7ivGUcSAnCbINJ9v</td>\n",
       "    </tr>\n",
       "    <tr>\n",
       "      <th>...</th>\n",
       "      <td>...</td>\n",
       "      <td>...</td>\n",
       "      <td>...</td>\n",
       "    </tr>\n",
       "    <tr>\n",
       "      <th>795343</th>\n",
       "      <td>track_3M8CUA40qXgzVIrpnGmosc</td>\n",
       "      <td>duration</td>\n",
       "      <td>273972</td>\n",
       "    </tr>\n",
       "    <tr>\n",
       "      <th>795344</th>\n",
       "      <td>track_0H9cBCGyUx2oA82M4ZAUmy</td>\n",
       "      <td>danceability</td>\n",
       "      <td>0.498</td>\n",
       "    </tr>\n",
       "    <tr>\n",
       "      <th>795345</th>\n",
       "      <td>album_6VBlasy358A35gHRnRY7HO</td>\n",
       "      <td>performedBy</td>\n",
       "      <td>performer_2N6aCxMw56t6OuH5Jn23D7</td>\n",
       "    </tr>\n",
       "    <tr>\n",
       "      <th>795346</th>\n",
       "      <td>track_0aOQBM8gVoV7d5kvety7iH</td>\n",
       "      <td>type</td>\n",
       "      <td>Track</td>\n",
       "    </tr>\n",
       "    <tr>\n",
       "      <th>795347</th>\n",
       "      <td>album_3U9Sei4833mgHFxuTIxOrC</td>\n",
       "      <td>albumType</td>\n",
       "      <td>album</td>\n",
       "    </tr>\n",
       "  </tbody>\n",
       "</table>\n",
       "<p>795348 rows × 3 columns</p>\n",
       "</div>"
      ],
      "text/plain": [
       "                             subject     predicate  \\\n",
       "0       track_1EPNMdf6BfE4pMvGrL0TMV    popularity   \n",
       "1       track_06BlXCvoKvpvnH8WJ39pSs   performedBy   \n",
       "2       track_4wv4mYGR4R1e3Scp3Ri1cf   performedBy   \n",
       "3       album_2256qKBSQdt53T5dz4Kdcs          type   \n",
       "4       track_0i4tyixbYk32UpBsx1GFSa   performedBy   \n",
       "...                              ...           ...   \n",
       "795343  track_3M8CUA40qXgzVIrpnGmosc      duration   \n",
       "795344  track_0H9cBCGyUx2oA82M4ZAUmy  danceability   \n",
       "795345  album_6VBlasy358A35gHRnRY7HO   performedBy   \n",
       "795346  track_0aOQBM8gVoV7d5kvety7iH          type   \n",
       "795347  album_3U9Sei4833mgHFxuTIxOrC     albumType   \n",
       "\n",
       "                                  object  \n",
       "0                                     20  \n",
       "1                 39T6qqI0jDtSWWioX8eGJz  \n",
       "2       performer_74KPeP60dRLSAAk7sFtWTC  \n",
       "3                                  Album  \n",
       "4       performer_1E4r4z7ivGUcSAnCbINJ9v  \n",
       "...                                  ...  \n",
       "795343                            273972  \n",
       "795344                             0.498  \n",
       "795345  performer_2N6aCxMw56t6OuH5Jn23D7  \n",
       "795346                             Track  \n",
       "795347                             album  \n",
       "\n",
       "[795348 rows x 3 columns]"
      ]
     },
     "execution_count": 14,
     "metadata": {},
     "output_type": "execute_result"
    }
   ],
   "source": [
    "cols = [\"subject\", \"predicate\", \"object\"]\n",
    "def remove_prefix(x):\n",
    "    return re.sub(\".+#\", \"\", x)\n",
    "triples_df = pd.DataFrame(data, columns=cols)\n",
    "for c in cols:\n",
    "    triples_df[c] = triples_df[c].apply(lambda x: str(x.toPython()))\n",
    "    triples_df[c] = triples_df[c].apply(remove_prefix) \n",
    "triples_df"
   ]
  },
  {
   "cell_type": "code",
   "execution_count": 22,
   "metadata": {},
   "outputs": [
    {
     "data": {
      "text/plain": [
       "(636279, 159069)"
      ]
     },
     "execution_count": 22,
     "metadata": {},
     "output_type": "execute_result"
    }
   ],
   "source": [
    "columns = triples_df.columns\n",
    "data_train, data_test = train_test_split_no_unseen(triples_df.values, test_size=0.2)\n",
    "data_train = pd.DataFrame(data_train, columns=columns)\n",
    "data_test = pd.DataFrame(data_test, columns=columns)\n",
    "len(data_train), len(data_test)"
   ]
  },
  {
   "cell_type": "code",
   "execution_count": 24,
   "metadata": {},
   "outputs": [
    {
     "name": "stdout",
     "output_type": "stream",
     "text": [
      "Train set size:  (626279, 3)\n",
      "Test set size:  (10000, 3)\n"
     ]
    }
   ],
   "source": [
    "X_train, X_valid = train_test_split_no_unseen(data_train.values, test_size=10000)\n",
    "print('Train set size: ', X_train.shape)\n",
    "print('Test set size: ', X_valid.shape)"
   ]
  },
  {
   "cell_type": "code",
   "execution_count": 25,
   "metadata": {},
   "outputs": [],
   "source": [
    "model = ScoringBasedEmbeddingModel(\n",
    "    k=100, eta=1, scoring_type='TransE'\n",
    ")"
   ]
  },
  {
   "cell_type": "code",
   "execution_count": 26,
   "metadata": {},
   "outputs": [],
   "source": [
    "optim = tf.keras.optimizers.Adam(learning_rate=1e-4)\n",
    "loss = get_loss('multiclass_nll')\n",
    "regularizer = get_regularizer('LP', {'p': 3, 'lambda': 1e-5})"
   ]
  },
  {
   "cell_type": "code",
   "execution_count": 27,
   "metadata": {},
   "outputs": [],
   "source": [
    "model.compile(\n",
    "    optimizer=optim, loss=loss, entity_relation_regularizer=regularizer\n",
    ")"
   ]
  },
  {
   "cell_type": "code",
   "execution_count": 28,
   "metadata": {},
   "outputs": [
    {
     "name": "stdout",
     "output_type": "stream",
     "text": [
      "Epoch 1/250\n",
      "21/21 [==============================] - 1s 58ms/step - loss: 21398.9414\n",
      "Epoch 2/250\n",
      " 6/21 [=======>......................] - ETA: 0s - loss: 21481.0254"
     ]
    },
    {
     "name": "stderr",
     "output_type": "stream",
     "text": [
      "2023-12-15 20:45:29.250182: I tensorflow/core/framework/local_rendezvous.cc:421] Local rendezvous recv item cancelled. Key hash: 2316493296872010628\n"
     ]
    },
    {
     "name": "stdout",
     "output_type": "stream",
     "text": [
      "21/21 [==============================] - 1s 30ms/step - loss: 21039.5742\n",
      "Epoch 3/250\n",
      " 6/21 [=======>......................] - ETA: 0s - loss: 21048.6895"
     ]
    },
    {
     "name": "stderr",
     "output_type": "stream",
     "text": [
      "2023-12-15 20:45:29.919766: I tensorflow/core/framework/local_rendezvous.cc:421] Local rendezvous recv item cancelled. Key hash: 2316493296872010628\n"
     ]
    },
    {
     "name": "stdout",
     "output_type": "stream",
     "text": [
      "21/21 [==============================] - 1s 31ms/step - loss: 20706.4629\n",
      "Epoch 4/250\n",
      " 6/21 [=======>......................] - ETA: 0s - loss: 20689.4824"
     ]
    },
    {
     "name": "stderr",
     "output_type": "stream",
     "text": [
      "2023-12-15 20:45:30.600915: I tensorflow/core/framework/local_rendezvous.cc:421] Local rendezvous recv item cancelled. Key hash: 2316493296872010628\n"
     ]
    },
    {
     "name": "stdout",
     "output_type": "stream",
     "text": [
      "21/21 [==============================] - 1s 30ms/step - loss: 20394.7246\n",
      "Epoch 5/250\n",
      " 6/21 [=======>......................] - ETA: 0s - loss: 20367.4258"
     ]
    },
    {
     "name": "stderr",
     "output_type": "stream",
     "text": [
      "2023-12-15 20:45:31.265320: I tensorflow/core/framework/local_rendezvous.cc:421] Local rendezvous recv item cancelled. Key hash: 2316493296872010628\n"
     ]
    },
    {
     "name": "stdout",
     "output_type": "stream",
     "text": [
      "21/21 [==============================] - 1s 30ms/step - loss: 20101.1484\n",
      "Epoch 6/250\n",
      " 6/21 [=======>......................] - ETA: 0s - loss: 20068.4375"
     ]
    },
    {
     "name": "stderr",
     "output_type": "stream",
     "text": [
      "2023-12-15 20:45:31.926844: I tensorflow/core/framework/local_rendezvous.cc:421] Local rendezvous recv item cancelled. Key hash: 2316493296872010628\n"
     ]
    },
    {
     "name": "stdout",
     "output_type": "stream",
     "text": [
      "21/21 [==============================] - 1s 31ms/step - loss: 19825.4668\n",
      "Epoch 7/250\n",
      " 6/21 [=======>......................] - ETA: 0s - loss: 19790.0371"
     ]
    },
    {
     "name": "stderr",
     "output_type": "stream",
     "text": [
      "2023-12-15 20:45:32.594481: I tensorflow/core/framework/local_rendezvous.cc:421] Local rendezvous recv item cancelled. Key hash: 2316493296872010628\n"
     ]
    },
    {
     "name": "stdout",
     "output_type": "stream",
     "text": [
      "21/21 [==============================] - 1s 31ms/step - loss: 19564.3535\n",
      "Epoch 8/250\n",
      " 4/21 [====>.........................] - ETA: 0s - loss: 19541.4219"
     ]
    },
    {
     "name": "stderr",
     "output_type": "stream",
     "text": [
      "2023-12-15 20:45:33.266816: I tensorflow/core/framework/local_rendezvous.cc:421] Local rendezvous recv item cancelled. Key hash: 2316493296872010628\n"
     ]
    },
    {
     "name": "stdout",
     "output_type": "stream",
     "text": [
      "21/21 [==============================] - 1s 31ms/step - loss: 19316.0195\n",
      "Epoch 9/250\n",
      " 6/21 [=======>......................] - ETA: 0s - loss: 19277.2520"
     ]
    },
    {
     "name": "stderr",
     "output_type": "stream",
     "text": [
      "2023-12-15 20:45:33.948409: I tensorflow/core/framework/local_rendezvous.cc:421] Local rendezvous recv item cancelled. Key hash: 2316493296872010628\n"
     ]
    },
    {
     "name": "stdout",
     "output_type": "stream",
     "text": [
      "21/21 [==============================] - 1s 32ms/step - loss: 19080.2578\n",
      "Epoch 10/250\n",
      " 4/21 [====>.........................] - ETA: 0s - loss: 19056.8750"
     ]
    },
    {
     "name": "stderr",
     "output_type": "stream",
     "text": [
      "2023-12-15 20:45:34.652721: I tensorflow/core/framework/local_rendezvous.cc:421] Local rendezvous recv item cancelled. Key hash: 2316493296872010628\n"
     ]
    },
    {
     "name": "stdout",
     "output_type": "stream",
     "text": [
      "21/21 [==============================] - 1s 32ms/step - loss: 18855.8613\n",
      "Epoch 11/250\n",
      " 6/21 [=======>......................] - ETA: 0s - loss: 18818.5098"
     ]
    },
    {
     "name": "stderr",
     "output_type": "stream",
     "text": [
      "2023-12-15 20:45:35.351287: I tensorflow/core/framework/local_rendezvous.cc:421] Local rendezvous recv item cancelled. Key hash: 2316493296872010628\n"
     ]
    },
    {
     "name": "stdout",
     "output_type": "stream",
     "text": [
      "21/21 [==============================] - 1s 31ms/step - loss: 18641.3008\n",
      "Epoch 12/250\n",
      "21/21 [==============================] - 1s 31ms/step - loss: 18434.6270\n",
      "Epoch 13/250\n",
      " 6/21 [=======>......................] - ETA: 0s - loss: 18398.2070"
     ]
    },
    {
     "name": "stderr",
     "output_type": "stream",
     "text": [
      "2023-12-15 20:45:36.742416: I tensorflow/core/framework/local_rendezvous.cc:421] Local rendezvous recv item cancelled. Key hash: 2316493296872010628\n"
     ]
    },
    {
     "name": "stdout",
     "output_type": "stream",
     "text": [
      "21/21 [==============================] - 1s 30ms/step - loss: 18236.4707\n",
      "Epoch 14/250\n",
      " 4/21 [====>.........................] - ETA: 0s - loss: 18214.7227"
     ]
    },
    {
     "name": "stderr",
     "output_type": "stream",
     "text": [
      "2023-12-15 20:45:37.409496: I tensorflow/core/framework/local_rendezvous.cc:421] Local rendezvous recv item cancelled. Key hash: 2316493296872010628\n"
     ]
    },
    {
     "name": "stdout",
     "output_type": "stream",
     "text": [
      "21/21 [==============================] - 1s 31ms/step - loss: 18045.4551\n",
      "Epoch 15/250\n",
      " 6/21 [=======>......................] - ETA: 0s - loss: 18009.6113"
     ]
    },
    {
     "name": "stderr",
     "output_type": "stream",
     "text": [
      "2023-12-15 20:45:38.101982: I tensorflow/core/framework/local_rendezvous.cc:421] Local rendezvous recv item cancelled. Key hash: 2316493296872010628\n"
     ]
    },
    {
     "name": "stdout",
     "output_type": "stream",
     "text": [
      "21/21 [==============================] - 1s 30ms/step - loss: 17860.4785\n",
      "Epoch 16/250\n",
      " 6/21 [=======>......................] - ETA: 0s - loss: 17825.8105"
     ]
    },
    {
     "name": "stderr",
     "output_type": "stream",
     "text": [
      "2023-12-15 20:45:38.756559: I tensorflow/core/framework/local_rendezvous.cc:421] Local rendezvous recv item cancelled. Key hash: 2316493296872010628\n"
     ]
    },
    {
     "name": "stdout",
     "output_type": "stream",
     "text": [
      "21/21 [==============================] - 1s 30ms/step - loss: 17681.3555\n",
      "Epoch 17/250\n",
      " 6/21 [=======>......................] - ETA: 0s - loss: 17647.3613"
     ]
    },
    {
     "name": "stderr",
     "output_type": "stream",
     "text": [
      "2023-12-15 20:45:39.418883: I tensorflow/core/framework/local_rendezvous.cc:421] Local rendezvous recv item cancelled. Key hash: 2316493296872010628\n"
     ]
    },
    {
     "name": "stdout",
     "output_type": "stream",
     "text": [
      "21/21 [==============================] - 1s 29ms/step - loss: 17508.5801\n",
      "Epoch 18/250\n",
      " 4/21 [====>.........................] - ETA: 0s - loss: 17488.1484"
     ]
    },
    {
     "name": "stderr",
     "output_type": "stream",
     "text": [
      "2023-12-15 20:45:40.063023: I tensorflow/core/framework/local_rendezvous.cc:421] Local rendezvous recv item cancelled. Key hash: 2316493296872010628\n"
     ]
    },
    {
     "name": "stdout",
     "output_type": "stream",
     "text": [
      "21/21 [==============================] - 1s 31ms/step - loss: 17339.7285\n",
      "Epoch 19/250\n",
      " 6/21 [=======>......................] - ETA: 0s - loss: 17306.5801"
     ]
    },
    {
     "name": "stderr",
     "output_type": "stream",
     "text": [
      "2023-12-15 20:45:40.741642: I tensorflow/core/framework/local_rendezvous.cc:421] Local rendezvous recv item cancelled. Key hash: 2316493296872010628\n"
     ]
    },
    {
     "name": "stdout",
     "output_type": "stream",
     "text": [
      "21/21 [==============================] - 1s 31ms/step - loss: 17175.2188\n",
      "Epoch 20/250\n",
      " 6/21 [=======>......................] - ETA: 0s - loss: 17142.5469"
     ]
    },
    {
     "name": "stderr",
     "output_type": "stream",
     "text": [
      "2023-12-15 20:45:41.419797: I tensorflow/core/framework/local_rendezvous.cc:421] Local rendezvous recv item cancelled. Key hash: 2316493296872010628\n"
     ]
    },
    {
     "name": "stdout",
     "output_type": "stream",
     "text": [
      "21/21 [==============================] - 1s 31ms/step - loss: 17015.3086\n",
      "Epoch 21/250\n",
      " 6/21 [=======>......................] - ETA: 0s - loss: 16983.0273"
     ]
    },
    {
     "name": "stderr",
     "output_type": "stream",
     "text": [
      "2023-12-15 20:45:42.094898: I tensorflow/core/framework/local_rendezvous.cc:421] Local rendezvous recv item cancelled. Key hash: 2316493296872010628\n"
     ]
    },
    {
     "name": "stdout",
     "output_type": "stream",
     "text": [
      "21/21 [==============================] - 1s 31ms/step - loss: 16859.0039\n",
      "Epoch 22/250\n",
      " 6/21 [=======>......................] - ETA: 0s - loss: 16827.2812"
     ]
    },
    {
     "name": "stderr",
     "output_type": "stream",
     "text": [
      "2023-12-15 20:45:42.778014: I tensorflow/core/framework/local_rendezvous.cc:421] Local rendezvous recv item cancelled. Key hash: 2316493296872010628\n"
     ]
    },
    {
     "name": "stdout",
     "output_type": "stream",
     "text": [
      "21/21 [==============================] - 1s 31ms/step - loss: 16706.0723\n",
      "Epoch 23/250\n",
      " 6/21 [=======>......................] - ETA: 0s - loss: 16674.8828"
     ]
    },
    {
     "name": "stderr",
     "output_type": "stream",
     "text": [
      "2023-12-15 20:45:43.447855: I tensorflow/core/framework/local_rendezvous.cc:421] Local rendezvous recv item cancelled. Key hash: 2316493296872010628\n"
     ]
    },
    {
     "name": "stdout",
     "output_type": "stream",
     "text": [
      "21/21 [==============================] - 1s 31ms/step - loss: 16556.3203\n",
      "Epoch 24/250\n",
      " 6/21 [=======>......................] - ETA: 0s - loss: 16525.6992"
     ]
    },
    {
     "name": "stderr",
     "output_type": "stream",
     "text": [
      "2023-12-15 20:45:44.133298: I tensorflow/core/framework/local_rendezvous.cc:421] Local rendezvous recv item cancelled. Key hash: 2316493296872010628\n"
     ]
    },
    {
     "name": "stdout",
     "output_type": "stream",
     "text": [
      "21/21 [==============================] - 1s 30ms/step - loss: 16410.0684\n",
      "Epoch 25/250\n",
      " 6/21 [=======>......................] - ETA: 0s - loss: 16379.5186"
     ]
    },
    {
     "name": "stderr",
     "output_type": "stream",
     "text": [
      "2023-12-15 20:45:44.780772: I tensorflow/core/framework/local_rendezvous.cc:421] Local rendezvous recv item cancelled. Key hash: 2316493296872010628\n"
     ]
    },
    {
     "name": "stdout",
     "output_type": "stream",
     "text": [
      "21/21 [==============================] - 1s 30ms/step - loss: 16266.0098\n",
      "Epoch 26/250\n",
      " 6/21 [=======>......................] - ETA: 0s - loss: 16235.9453"
     ]
    },
    {
     "name": "stderr",
     "output_type": "stream",
     "text": [
      "2023-12-15 20:45:45.436714: I tensorflow/core/framework/local_rendezvous.cc:421] Local rendezvous recv item cancelled. Key hash: 2316493296872010628\n"
     ]
    },
    {
     "name": "stdout",
     "output_type": "stream",
     "text": [
      "21/21 [==============================] - 1s 30ms/step - loss: 16125.1152\n",
      "Epoch 27/250\n",
      " 6/21 [=======>......................] - ETA: 0s - loss: 16095.2402"
     ]
    },
    {
     "name": "stderr",
     "output_type": "stream",
     "text": [
      "2023-12-15 20:45:46.097946: I tensorflow/core/framework/local_rendezvous.cc:421] Local rendezvous recv item cancelled. Key hash: 2316493296872010628\n"
     ]
    },
    {
     "name": "stdout",
     "output_type": "stream",
     "text": [
      "21/21 [==============================] - 1s 30ms/step - loss: 15986.1963\n",
      "Epoch 28/250\n",
      " 6/21 [=======>......................] - ETA: 0s - loss: 15956.6826"
     ]
    },
    {
     "name": "stderr",
     "output_type": "stream",
     "text": [
      "2023-12-15 20:45:46.746556: I tensorflow/core/framework/local_rendezvous.cc:421] Local rendezvous recv item cancelled. Key hash: 2316493296872010628\n"
     ]
    },
    {
     "name": "stdout",
     "output_type": "stream",
     "text": [
      "21/21 [==============================] - 1s 31ms/step - loss: 15849.5947\n",
      "Epoch 29/250\n",
      " 6/21 [=======>......................] - ETA: 0s - loss: 15820.4766"
     ]
    },
    {
     "name": "stderr",
     "output_type": "stream",
     "text": [
      "2023-12-15 20:45:47.426877: I tensorflow/core/framework/local_rendezvous.cc:421] Local rendezvous recv item cancelled. Key hash: 2316493296872010628\n"
     ]
    },
    {
     "name": "stdout",
     "output_type": "stream",
     "text": [
      "21/21 [==============================] - 1s 31ms/step - loss: 15715.1533\n",
      "Epoch 30/250\n",
      " 6/21 [=======>......................] - ETA: 0s - loss: 15686.0205"
     ]
    },
    {
     "name": "stderr",
     "output_type": "stream",
     "text": [
      "2023-12-15 20:45:48.103011: I tensorflow/core/framework/local_rendezvous.cc:421] Local rendezvous recv item cancelled. Key hash: 2316493296872010628\n"
     ]
    },
    {
     "name": "stdout",
     "output_type": "stream",
     "text": [
      "21/21 [==============================] - 1s 31ms/step - loss: 15582.4004\n",
      "Epoch 31/250\n",
      " 6/21 [=======>......................] - ETA: 0s - loss: 15553.8564"
     ]
    },
    {
     "name": "stderr",
     "output_type": "stream",
     "text": [
      "2023-12-15 20:45:48.768140: I tensorflow/core/framework/local_rendezvous.cc:421] Local rendezvous recv item cancelled. Key hash: 2316493296872010628\n"
     ]
    },
    {
     "name": "stdout",
     "output_type": "stream",
     "text": [
      "21/21 [==============================] - 1s 31ms/step - loss: 15451.8809\n",
      "Epoch 32/250\n",
      " 6/21 [=======>......................] - ETA: 0s - loss: 15423.3887"
     ]
    },
    {
     "name": "stderr",
     "output_type": "stream",
     "text": [
      "2023-12-15 20:45:49.437455: I tensorflow/core/framework/local_rendezvous.cc:421] Local rendezvous recv item cancelled. Key hash: 2316493296872010628\n"
     ]
    },
    {
     "name": "stdout",
     "output_type": "stream",
     "text": [
      "21/21 [==============================] - 1s 31ms/step - loss: 15322.6855\n",
      "Epoch 33/250\n",
      " 4/21 [====>.........................] - ETA: 0s - loss: 15305.7871"
     ]
    },
    {
     "name": "stderr",
     "output_type": "stream",
     "text": [
      "2023-12-15 20:45:50.118108: I tensorflow/core/framework/local_rendezvous.cc:421] Local rendezvous recv item cancelled. Key hash: 2316493296872010628\n"
     ]
    },
    {
     "name": "stdout",
     "output_type": "stream",
     "text": [
      "21/21 [==============================] - 1s 31ms/step - loss: 15195.1982\n",
      "Epoch 34/250\n",
      " 4/21 [====>.........................] - ETA: 0s - loss: 15178.4209"
     ]
    },
    {
     "name": "stderr",
     "output_type": "stream",
     "text": [
      "2023-12-15 20:45:50.800844: I tensorflow/core/framework/local_rendezvous.cc:421] Local rendezvous recv item cancelled. Key hash: 2316493296872010628\n"
     ]
    },
    {
     "name": "stdout",
     "output_type": "stream",
     "text": [
      "21/21 [==============================] - 1s 31ms/step - loss: 15069.0615\n",
      "Epoch 35/250\n",
      " 6/21 [=======>......................] - ETA: 0s - loss: 15041.2949"
     ]
    },
    {
     "name": "stderr",
     "output_type": "stream",
     "text": [
      "2023-12-15 20:45:51.482031: I tensorflow/core/framework/local_rendezvous.cc:421] Local rendezvous recv item cancelled. Key hash: 2316493296872010628\n"
     ]
    },
    {
     "name": "stdout",
     "output_type": "stream",
     "text": [
      "21/21 [==============================] - 1s 31ms/step - loss: 14944.3545\n",
      "Epoch 36/250\n",
      " 6/21 [=======>......................] - ETA: 0s - loss: 14916.6084"
     ]
    },
    {
     "name": "stderr",
     "output_type": "stream",
     "text": [
      "2023-12-15 20:45:52.155698: I tensorflow/core/framework/local_rendezvous.cc:421] Local rendezvous recv item cancelled. Key hash: 2316493296872010628\n"
     ]
    },
    {
     "name": "stdout",
     "output_type": "stream",
     "text": [
      "21/21 [==============================] - 1s 31ms/step - loss: 14821.2275\n",
      "Epoch 37/250\n",
      " 6/21 [=======>......................] - ETA: 0s - loss: 14793.9121"
     ]
    },
    {
     "name": "stderr",
     "output_type": "stream",
     "text": [
      "2023-12-15 20:45:52.827010: I tensorflow/core/framework/local_rendezvous.cc:421] Local rendezvous recv item cancelled. Key hash: 2316493296872010628\n"
     ]
    },
    {
     "name": "stdout",
     "output_type": "stream",
     "text": [
      "21/21 [==============================] - 1s 31ms/step - loss: 14699.9883\n",
      "Epoch 38/250\n",
      " 6/21 [=======>......................] - ETA: 0s - loss: 14672.7314"
     ]
    },
    {
     "name": "stderr",
     "output_type": "stream",
     "text": [
      "2023-12-15 20:45:53.509571: I tensorflow/core/framework/local_rendezvous.cc:421] Local rendezvous recv item cancelled. Key hash: 2316493296872010628\n"
     ]
    },
    {
     "name": "stdout",
     "output_type": "stream",
     "text": [
      "21/21 [==============================] - 1s 31ms/step - loss: 14579.8262\n",
      "Epoch 39/250\n",
      " 6/21 [=======>......................] - ETA: 0s - loss: 14552.8926"
     ]
    },
    {
     "name": "stderr",
     "output_type": "stream",
     "text": [
      "2023-12-15 20:45:54.178250: I tensorflow/core/framework/local_rendezvous.cc:421] Local rendezvous recv item cancelled. Key hash: 2316493296872010628\n"
     ]
    },
    {
     "name": "stdout",
     "output_type": "stream",
     "text": [
      "21/21 [==============================] - 1s 31ms/step - loss: 14461.2246\n",
      "Epoch 40/250\n",
      " 6/21 [=======>......................] - ETA: 0s - loss: 14434.5635"
     ]
    },
    {
     "name": "stderr",
     "output_type": "stream",
     "text": [
      "2023-12-15 20:45:54.853695: I tensorflow/core/framework/local_rendezvous.cc:421] Local rendezvous recv item cancelled. Key hash: 2316493296872010628\n"
     ]
    },
    {
     "name": "stdout",
     "output_type": "stream",
     "text": [
      "21/21 [==============================] - 1s 31ms/step - loss: 14344.0352\n",
      "Epoch 41/250\n",
      " 6/21 [=======>......................] - ETA: 0s - loss: 14317.6270"
     ]
    },
    {
     "name": "stderr",
     "output_type": "stream",
     "text": [
      "2023-12-15 20:45:55.526536: I tensorflow/core/framework/local_rendezvous.cc:421] Local rendezvous recv item cancelled. Key hash: 2316493296872010628\n"
     ]
    },
    {
     "name": "stdout",
     "output_type": "stream",
     "text": [
      "21/21 [==============================] - 1s 31ms/step - loss: 14228.0605\n",
      "Epoch 42/250\n",
      " 6/21 [=======>......................] - ETA: 0s - loss: 14201.8691"
     ]
    },
    {
     "name": "stderr",
     "output_type": "stream",
     "text": [
      "2023-12-15 20:45:56.202804: I tensorflow/core/framework/local_rendezvous.cc:421] Local rendezvous recv item cancelled. Key hash: 2316493296872010628\n"
     ]
    },
    {
     "name": "stdout",
     "output_type": "stream",
     "text": [
      "21/21 [==============================] - 1s 31ms/step - loss: 14113.4336\n",
      "Epoch 43/250\n",
      " 6/21 [=======>......................] - ETA: 0s - loss: 14087.1719"
     ]
    },
    {
     "name": "stderr",
     "output_type": "stream",
     "text": [
      "2023-12-15 20:45:56.878627: I tensorflow/core/framework/local_rendezvous.cc:421] Local rendezvous recv item cancelled. Key hash: 2316493296872010628\n"
     ]
    },
    {
     "name": "stdout",
     "output_type": "stream",
     "text": [
      "21/21 [==============================] - 1s 31ms/step - loss: 13999.7646\n",
      "Epoch 44/250\n",
      " 6/21 [=======>......................] - ETA: 0s - loss: 13973.9541"
     ]
    },
    {
     "name": "stderr",
     "output_type": "stream",
     "text": [
      "2023-12-15 20:45:57.547482: I tensorflow/core/framework/local_rendezvous.cc:421] Local rendezvous recv item cancelled. Key hash: 2316493296872010628\n"
     ]
    },
    {
     "name": "stdout",
     "output_type": "stream",
     "text": [
      "21/21 [==============================] - 1s 31ms/step - loss: 13887.6309\n",
      "Epoch 45/250\n",
      " 6/21 [=======>......................] - ETA: 0s - loss: 13861.9424"
     ]
    },
    {
     "name": "stderr",
     "output_type": "stream",
     "text": [
      "2023-12-15 20:45:58.219179: I tensorflow/core/framework/local_rendezvous.cc:421] Local rendezvous recv item cancelled. Key hash: 2316493296872010628\n"
     ]
    },
    {
     "name": "stdout",
     "output_type": "stream",
     "text": [
      "21/21 [==============================] - 1s 31ms/step - loss: 13776.7168\n",
      "Epoch 46/250\n",
      " 6/21 [=======>......................] - ETA: 0s - loss: 13751.3779"
     ]
    },
    {
     "name": "stderr",
     "output_type": "stream",
     "text": [
      "2023-12-15 20:45:58.885266: I tensorflow/core/framework/local_rendezvous.cc:421] Local rendezvous recv item cancelled. Key hash: 2316493296872010628\n"
     ]
    },
    {
     "name": "stdout",
     "output_type": "stream",
     "text": [
      "21/21 [==============================] - 1s 31ms/step - loss: 13667.3789\n",
      "Epoch 47/250\n",
      " 6/21 [=======>......................] - ETA: 0s - loss: 13642.2500"
     ]
    },
    {
     "name": "stderr",
     "output_type": "stream",
     "text": [
      "2023-12-15 20:45:59.561704: I tensorflow/core/framework/local_rendezvous.cc:421] Local rendezvous recv item cancelled. Key hash: 2316493296872010628\n"
     ]
    },
    {
     "name": "stdout",
     "output_type": "stream",
     "text": [
      "21/21 [==============================] - 1s 30ms/step - loss: 13559.5752\n",
      "Epoch 48/250\n",
      " 6/21 [=======>......................] - ETA: 0s - loss: 13534.9141"
     ]
    },
    {
     "name": "stderr",
     "output_type": "stream",
     "text": [
      "2023-12-15 20:46:00.231028: I tensorflow/core/framework/local_rendezvous.cc:421] Local rendezvous recv item cancelled. Key hash: 2316493296872010628\n"
     ]
    },
    {
     "name": "stdout",
     "output_type": "stream",
     "text": [
      "21/21 [==============================] - 1s 30ms/step - loss: 13453.2812\n",
      "Epoch 49/250\n",
      " 6/21 [=======>......................] - ETA: 0s - loss: 13428.6367"
     ]
    },
    {
     "name": "stderr",
     "output_type": "stream",
     "text": [
      "2023-12-15 20:46:00.903003: I tensorflow/core/framework/local_rendezvous.cc:421] Local rendezvous recv item cancelled. Key hash: 2316493296872010628\n"
     ]
    },
    {
     "name": "stdout",
     "output_type": "stream",
     "text": [
      "21/21 [==============================] - 1s 31ms/step - loss: 13347.8340\n",
      "Epoch 50/250\n",
      " 6/21 [=======>......................] - ETA: 0s - loss: 13323.5498"
     ]
    },
    {
     "name": "stderr",
     "output_type": "stream",
     "text": [
      "2023-12-15 20:46:01.569755: I tensorflow/core/framework/local_rendezvous.cc:421] Local rendezvous recv item cancelled. Key hash: 2316493296872010628\n"
     ]
    },
    {
     "name": "stdout",
     "output_type": "stream",
     "text": [
      "21/21 [==============================] - 1s 31ms/step - loss: 13243.8809\n",
      "Epoch 51/250\n",
      " 6/21 [=======>......................] - ETA: 0s - loss: 13219.8584"
     ]
    },
    {
     "name": "stderr",
     "output_type": "stream",
     "text": [
      "2023-12-15 20:46:02.246889: I tensorflow/core/framework/local_rendezvous.cc:421] Local rendezvous recv item cancelled. Key hash: 2316493296872010628\n"
     ]
    },
    {
     "name": "stdout",
     "output_type": "stream",
     "text": [
      "21/21 [==============================] - 1s 30ms/step - loss: 13141.3809\n",
      "Epoch 52/250\n",
      " 6/21 [=======>......................] - ETA: 0s - loss: 13117.6475"
     ]
    },
    {
     "name": "stderr",
     "output_type": "stream",
     "text": [
      "2023-12-15 20:46:02.912701: I tensorflow/core/framework/local_rendezvous.cc:421] Local rendezvous recv item cancelled. Key hash: 2316493296872010628\n"
     ]
    },
    {
     "name": "stdout",
     "output_type": "stream",
     "text": [
      "21/21 [==============================] - 1s 31ms/step - loss: 13040.1670\n",
      "Epoch 53/250\n",
      " 6/21 [=======>......................] - ETA: 0s - loss: 13016.8027"
     ]
    },
    {
     "name": "stderr",
     "output_type": "stream",
     "text": [
      "2023-12-15 20:46:03.581889: I tensorflow/core/framework/local_rendezvous.cc:421] Local rendezvous recv item cancelled. Key hash: 2316493296872010628\n"
     ]
    },
    {
     "name": "stdout",
     "output_type": "stream",
     "text": [
      "21/21 [==============================] - 1s 30ms/step - loss: 12940.6748\n",
      "Epoch 54/250\n",
      " 6/21 [=======>......................] - ETA: 0s - loss: 12917.5801"
     ]
    },
    {
     "name": "stderr",
     "output_type": "stream",
     "text": [
      "2023-12-15 20:46:04.249169: I tensorflow/core/framework/local_rendezvous.cc:421] Local rendezvous recv item cancelled. Key hash: 2316493296872010628\n"
     ]
    },
    {
     "name": "stdout",
     "output_type": "stream",
     "text": [
      "21/21 [==============================] - 1s 31ms/step - loss: 12842.4531\n",
      "Epoch 55/250\n",
      " 6/21 [=======>......................] - ETA: 0s - loss: 12819.5840"
     ]
    },
    {
     "name": "stderr",
     "output_type": "stream",
     "text": [
      "2023-12-15 20:46:04.923913: I tensorflow/core/framework/local_rendezvous.cc:421] Local rendezvous recv item cancelled. Key hash: 2316493296872010628\n"
     ]
    },
    {
     "name": "stdout",
     "output_type": "stream",
     "text": [
      "21/21 [==============================] - 1s 31ms/step - loss: 12745.4043\n",
      "Epoch 56/250\n",
      " 6/21 [=======>......................] - ETA: 0s - loss: 12722.8457"
     ]
    },
    {
     "name": "stderr",
     "output_type": "stream",
     "text": [
      "2023-12-15 20:46:05.597200: I tensorflow/core/framework/local_rendezvous.cc:421] Local rendezvous recv item cancelled. Key hash: 2316493296872010628\n"
     ]
    },
    {
     "name": "stdout",
     "output_type": "stream",
     "text": [
      "21/21 [==============================] - 1s 31ms/step - loss: 12649.6211\n",
      "Epoch 57/250\n",
      " 4/21 [====>.........................] - ETA: 0s - loss: 12636.2080"
     ]
    },
    {
     "name": "stderr",
     "output_type": "stream",
     "text": [
      "2023-12-15 20:46:06.277619: I tensorflow/core/framework/local_rendezvous.cc:421] Local rendezvous recv item cancelled. Key hash: 2316493296872010628\n"
     ]
    },
    {
     "name": "stdout",
     "output_type": "stream",
     "text": [
      "21/21 [==============================] - 1s 31ms/step - loss: 12555.0176\n",
      "Epoch 58/250\n",
      " 6/21 [=======>......................] - ETA: 0s - loss: 12532.9463"
     ]
    },
    {
     "name": "stderr",
     "output_type": "stream",
     "text": [
      "2023-12-15 20:46:06.957456: I tensorflow/core/framework/local_rendezvous.cc:421] Local rendezvous recv item cancelled. Key hash: 2316493296872010628\n"
     ]
    },
    {
     "name": "stdout",
     "output_type": "stream",
     "text": [
      "21/21 [==============================] - 1s 31ms/step - loss: 12461.8477\n",
      "Epoch 59/250\n",
      " 6/21 [=======>......................] - ETA: 0s - loss: 12440.1035"
     ]
    },
    {
     "name": "stderr",
     "output_type": "stream",
     "text": [
      "2023-12-15 20:46:07.625929: I tensorflow/core/framework/local_rendezvous.cc:421] Local rendezvous recv item cancelled. Key hash: 2316493296872010628\n"
     ]
    },
    {
     "name": "stdout",
     "output_type": "stream",
     "text": [
      "21/21 [==============================] - 1s 30ms/step - loss: 12370.0127\n",
      "Epoch 60/250\n",
      " 6/21 [=======>......................] - ETA: 0s - loss: 12348.5195"
     ]
    },
    {
     "name": "stderr",
     "output_type": "stream",
     "text": [
      "2023-12-15 20:46:08.298158: I tensorflow/core/framework/local_rendezvous.cc:421] Local rendezvous recv item cancelled. Key hash: 2316493296872010628\n"
     ]
    },
    {
     "name": "stdout",
     "output_type": "stream",
     "text": [
      "21/21 [==============================] - 1s 30ms/step - loss: 12279.4209\n",
      "Epoch 61/250\n",
      " 6/21 [=======>......................] - ETA: 0s - loss: 12258.2568"
     ]
    },
    {
     "name": "stderr",
     "output_type": "stream",
     "text": [
      "2023-12-15 20:46:08.964757: I tensorflow/core/framework/local_rendezvous.cc:421] Local rendezvous recv item cancelled. Key hash: 2316493296872010628\n"
     ]
    },
    {
     "name": "stdout",
     "output_type": "stream",
     "text": [
      "21/21 [==============================] - 1s 31ms/step - loss: 12190.0615\n",
      "Epoch 62/250\n",
      " 6/21 [=======>......................] - ETA: 0s - loss: 12169.0547"
     ]
    },
    {
     "name": "stderr",
     "output_type": "stream",
     "text": [
      "2023-12-15 20:46:09.632607: I tensorflow/core/framework/local_rendezvous.cc:421] Local rendezvous recv item cancelled. Key hash: 2316493296872010628\n"
     ]
    },
    {
     "name": "stdout",
     "output_type": "stream",
     "text": [
      "21/21 [==============================] - 1s 31ms/step - loss: 12101.6270\n",
      "Epoch 63/250\n",
      " 6/21 [=======>......................] - ETA: 0s - loss: 12080.9824"
     ]
    },
    {
     "name": "stderr",
     "output_type": "stream",
     "text": [
      "2023-12-15 20:46:10.309026: I tensorflow/core/framework/local_rendezvous.cc:421] Local rendezvous recv item cancelled. Key hash: 2316493296872010628\n"
     ]
    },
    {
     "name": "stdout",
     "output_type": "stream",
     "text": [
      "21/21 [==============================] - 1s 31ms/step - loss: 12014.5400\n",
      "Epoch 64/250\n",
      " 6/21 [=======>......................] - ETA: 0s - loss: 11994.0459"
     ]
    },
    {
     "name": "stderr",
     "output_type": "stream",
     "text": [
      "2023-12-15 20:46:10.980988: I tensorflow/core/framework/local_rendezvous.cc:421] Local rendezvous recv item cancelled. Key hash: 2316493296872010628\n"
     ]
    },
    {
     "name": "stdout",
     "output_type": "stream",
     "text": [
      "21/21 [==============================] - 1s 31ms/step - loss: 11928.4775\n",
      "Epoch 65/250\n",
      " 6/21 [=======>......................] - ETA: 0s - loss: 11908.3066"
     ]
    },
    {
     "name": "stderr",
     "output_type": "stream",
     "text": [
      "2023-12-15 20:46:11.657515: I tensorflow/core/framework/local_rendezvous.cc:421] Local rendezvous recv item cancelled. Key hash: 2316493296872010628\n"
     ]
    },
    {
     "name": "stdout",
     "output_type": "stream",
     "text": [
      "21/21 [==============================] - 1s 31ms/step - loss: 11843.5811\n",
      "Epoch 66/250\n",
      " 6/21 [=======>......................] - ETA: 0s - loss: 11823.5752"
     ]
    },
    {
     "name": "stderr",
     "output_type": "stream",
     "text": [
      "2023-12-15 20:46:12.324969: I tensorflow/core/framework/local_rendezvous.cc:421] Local rendezvous recv item cancelled. Key hash: 2316493296872010628\n"
     ]
    },
    {
     "name": "stdout",
     "output_type": "stream",
     "text": [
      "21/21 [==============================] - 1s 31ms/step - loss: 11759.7041\n",
      "Epoch 67/250\n",
      " 4/21 [====>.........................] - ETA: 0s - loss: 11747.8506"
     ]
    },
    {
     "name": "stderr",
     "output_type": "stream",
     "text": [
      "2023-12-15 20:46:12.997852: I tensorflow/core/framework/local_rendezvous.cc:421] Local rendezvous recv item cancelled. Key hash: 2316493296872010628\n"
     ]
    },
    {
     "name": "stdout",
     "output_type": "stream",
     "text": [
      "21/21 [==============================] - 1s 31ms/step - loss: 11676.9014\n",
      "Epoch 68/250\n",
      " 6/21 [=======>......................] - ETA: 0s - loss: 11657.4404"
     ]
    },
    {
     "name": "stderr",
     "output_type": "stream",
     "text": [
      "2023-12-15 20:46:13.683625: I tensorflow/core/framework/local_rendezvous.cc:421] Local rendezvous recv item cancelled. Key hash: 2316493296872010628\n"
     ]
    },
    {
     "name": "stdout",
     "output_type": "stream",
     "text": [
      "21/21 [==============================] - 1s 31ms/step - loss: 11595.2158\n",
      "Epoch 69/250\n",
      " 6/21 [=======>......................] - ETA: 0s - loss: 11575.9492"
     ]
    },
    {
     "name": "stderr",
     "output_type": "stream",
     "text": [
      "2023-12-15 20:46:14.361274: I tensorflow/core/framework/local_rendezvous.cc:421] Local rendezvous recv item cancelled. Key hash: 2316493296872010628\n"
     ]
    },
    {
     "name": "stdout",
     "output_type": "stream",
     "text": [
      "21/21 [==============================] - 1s 30ms/step - loss: 11514.5547\n",
      "Epoch 70/250\n",
      " 6/21 [=======>......................] - ETA: 0s - loss: 11495.4766"
     ]
    },
    {
     "name": "stderr",
     "output_type": "stream",
     "text": [
      "2023-12-15 20:46:15.029169: I tensorflow/core/framework/local_rendezvous.cc:421] Local rendezvous recv item cancelled. Key hash: 2316493296872010628\n"
     ]
    },
    {
     "name": "stdout",
     "output_type": "stream",
     "text": [
      "21/21 [==============================] - 1s 31ms/step - loss: 11434.8242\n",
      "Epoch 71/250\n",
      " 6/21 [=======>......................] - ETA: 0s - loss: 11415.9541"
     ]
    },
    {
     "name": "stderr",
     "output_type": "stream",
     "text": [
      "2023-12-15 20:46:15.705201: I tensorflow/core/framework/local_rendezvous.cc:421] Local rendezvous recv item cancelled. Key hash: 2316493296872010628\n"
     ]
    },
    {
     "name": "stdout",
     "output_type": "stream",
     "text": [
      "21/21 [==============================] - 1s 31ms/step - loss: 11355.9385\n",
      "Epoch 72/250\n",
      " 6/21 [=======>......................] - ETA: 0s - loss: 11337.2764"
     ]
    },
    {
     "name": "stderr",
     "output_type": "stream",
     "text": [
      "2023-12-15 20:46:16.384087: I tensorflow/core/framework/local_rendezvous.cc:421] Local rendezvous recv item cancelled. Key hash: 2316493296872010628\n"
     ]
    },
    {
     "name": "stdout",
     "output_type": "stream",
     "text": [
      "21/21 [==============================] - 1s 30ms/step - loss: 11278.0762\n",
      "Epoch 73/250\n",
      " 6/21 [=======>......................] - ETA: 0s - loss: 11259.7197"
     ]
    },
    {
     "name": "stderr",
     "output_type": "stream",
     "text": [
      "2023-12-15 20:46:17.047270: I tensorflow/core/framework/local_rendezvous.cc:421] Local rendezvous recv item cancelled. Key hash: 2316493296872010628\n"
     ]
    },
    {
     "name": "stdout",
     "output_type": "stream",
     "text": [
      "21/21 [==============================] - 1s 31ms/step - loss: 11201.4053\n",
      "Epoch 74/250\n",
      " 6/21 [=======>......................] - ETA: 0s - loss: 11183.1904"
     ]
    },
    {
     "name": "stderr",
     "output_type": "stream",
     "text": [
      "2023-12-15 20:46:17.716695: I tensorflow/core/framework/local_rendezvous.cc:421] Local rendezvous recv item cancelled. Key hash: 2316493296872010628\n"
     ]
    },
    {
     "name": "stdout",
     "output_type": "stream",
     "text": [
      "21/21 [==============================] - 1s 31ms/step - loss: 11125.6328\n",
      "Epoch 75/250\n",
      " 6/21 [=======>......................] - ETA: 0s - loss: 11107.6758"
     ]
    },
    {
     "name": "stderr",
     "output_type": "stream",
     "text": [
      "2023-12-15 20:46:18.388012: I tensorflow/core/framework/local_rendezvous.cc:421] Local rendezvous recv item cancelled. Key hash: 2316493296872010628\n"
     ]
    },
    {
     "name": "stdout",
     "output_type": "stream",
     "text": [
      "21/21 [==============================] - 1s 31ms/step - loss: 11050.8164\n",
      "Epoch 76/250\n",
      " 6/21 [=======>......................] - ETA: 0s - loss: 11033.0703"
     ]
    },
    {
     "name": "stderr",
     "output_type": "stream",
     "text": [
      "2023-12-15 20:46:19.058186: I tensorflow/core/framework/local_rendezvous.cc:421] Local rendezvous recv item cancelled. Key hash: 2316493296872010628\n"
     ]
    },
    {
     "name": "stdout",
     "output_type": "stream",
     "text": [
      "21/21 [==============================] - 1s 31ms/step - loss: 10977.0049\n",
      "Epoch 77/250\n",
      " 6/21 [=======>......................] - ETA: 0s - loss: 10959.4443"
     ]
    },
    {
     "name": "stderr",
     "output_type": "stream",
     "text": [
      "2023-12-15 20:46:19.731060: I tensorflow/core/framework/local_rendezvous.cc:421] Local rendezvous recv item cancelled. Key hash: 2316493296872010628\n"
     ]
    },
    {
     "name": "stdout",
     "output_type": "stream",
     "text": [
      "21/21 [==============================] - 1s 31ms/step - loss: 10904.0342\n",
      "Epoch 78/250\n",
      " 6/21 [=======>......................] - ETA: 0s - loss: 10886.7305"
     ]
    },
    {
     "name": "stderr",
     "output_type": "stream",
     "text": [
      "2023-12-15 20:46:20.402370: I tensorflow/core/framework/local_rendezvous.cc:421] Local rendezvous recv item cancelled. Key hash: 2316493296872010628\n"
     ]
    },
    {
     "name": "stdout",
     "output_type": "stream",
     "text": [
      "21/21 [==============================] - 1s 31ms/step - loss: 10832.0088\n",
      "Epoch 79/250\n",
      " 6/21 [=======>......................] - ETA: 0s - loss: 10814.9639"
     ]
    },
    {
     "name": "stderr",
     "output_type": "stream",
     "text": [
      "2023-12-15 20:46:21.074671: I tensorflow/core/framework/local_rendezvous.cc:421] Local rendezvous recv item cancelled. Key hash: 2316493296872010628\n"
     ]
    },
    {
     "name": "stdout",
     "output_type": "stream",
     "text": [
      "21/21 [==============================] - 1s 31ms/step - loss: 10760.9580\n",
      "Epoch 80/250\n",
      " 6/21 [=======>......................] - ETA: 0s - loss: 10744.0898"
     ]
    },
    {
     "name": "stderr",
     "output_type": "stream",
     "text": [
      "2023-12-15 20:46:21.750741: I tensorflow/core/framework/local_rendezvous.cc:421] Local rendezvous recv item cancelled. Key hash: 2316493296872010628\n"
     ]
    },
    {
     "name": "stdout",
     "output_type": "stream",
     "text": [
      "21/21 [==============================] - 1s 31ms/step - loss: 10690.9414\n",
      "Epoch 81/250\n",
      " 4/21 [====>.........................] - ETA: 0s - loss: 10680.9844"
     ]
    },
    {
     "name": "stderr",
     "output_type": "stream",
     "text": [
      "2023-12-15 20:46:22.429779: I tensorflow/core/framework/local_rendezvous.cc:421] Local rendezvous recv item cancelled. Key hash: 2316493296872010628\n"
     ]
    },
    {
     "name": "stdout",
     "output_type": "stream",
     "text": [
      "21/21 [==============================] - 1s 31ms/step - loss: 10621.8164\n",
      "Epoch 82/250\n",
      " 6/21 [=======>......................] - ETA: 0s - loss: 10605.3740"
     ]
    },
    {
     "name": "stderr",
     "output_type": "stream",
     "text": [
      "2023-12-15 20:46:23.119177: I tensorflow/core/framework/local_rendezvous.cc:421] Local rendezvous recv item cancelled. Key hash: 2316493296872010628\n"
     ]
    },
    {
     "name": "stdout",
     "output_type": "stream",
     "text": [
      "21/21 [==============================] - 1s 31ms/step - loss: 10553.4736\n",
      "Epoch 83/250\n",
      " 6/21 [=======>......................] - ETA: 0s - loss: 10537.2559"
     ]
    },
    {
     "name": "stderr",
     "output_type": "stream",
     "text": [
      "2023-12-15 20:46:23.792815: I tensorflow/core/framework/local_rendezvous.cc:421] Local rendezvous recv item cancelled. Key hash: 2316493296872010628\n"
     ]
    },
    {
     "name": "stdout",
     "output_type": "stream",
     "text": [
      "21/21 [==============================] - 1s 31ms/step - loss: 10486.0977\n",
      "Epoch 84/250\n",
      " 6/21 [=======>......................] - ETA: 0s - loss: 10470.0508"
     ]
    },
    {
     "name": "stderr",
     "output_type": "stream",
     "text": [
      "2023-12-15 20:46:24.463258: I tensorflow/core/framework/local_rendezvous.cc:421] Local rendezvous recv item cancelled. Key hash: 2316493296872010628\n"
     ]
    },
    {
     "name": "stdout",
     "output_type": "stream",
     "text": [
      "21/21 [==============================] - 1s 31ms/step - loss: 10419.5664\n",
      "Epoch 85/250\n",
      " 6/21 [=======>......................] - ETA: 0s - loss: 10403.6982"
     ]
    },
    {
     "name": "stderr",
     "output_type": "stream",
     "text": [
      "2023-12-15 20:46:25.141267: I tensorflow/core/framework/local_rendezvous.cc:421] Local rendezvous recv item cancelled. Key hash: 2316493296872010628\n"
     ]
    },
    {
     "name": "stdout",
     "output_type": "stream",
     "text": [
      "21/21 [==============================] - 1s 32ms/step - loss: 10353.8838\n",
      "Epoch 86/250\n",
      " 6/21 [=======>......................] - ETA: 0s - loss: 10338.2676"
     ]
    },
    {
     "name": "stderr",
     "output_type": "stream",
     "text": [
      "2023-12-15 20:46:25.831216: I tensorflow/core/framework/local_rendezvous.cc:421] Local rendezvous recv item cancelled. Key hash: 2316493296872010628\n"
     ]
    },
    {
     "name": "stdout",
     "output_type": "stream",
     "text": [
      "21/21 [==============================] - 1s 31ms/step - loss: 10289.1836\n",
      "Epoch 87/250\n",
      " 4/21 [====>.........................] - ETA: 0s - loss: 10279.9482"
     ]
    },
    {
     "name": "stderr",
     "output_type": "stream",
     "text": [
      "2023-12-15 20:46:26.509502: I tensorflow/core/framework/local_rendezvous.cc:421] Local rendezvous recv item cancelled. Key hash: 2316493296872010628\n"
     ]
    },
    {
     "name": "stdout",
     "output_type": "stream",
     "text": [
      "21/21 [==============================] - 1s 31ms/step - loss: 10225.2520\n",
      "Epoch 88/250\n",
      " 6/21 [=======>......................] - ETA: 0s - loss: 10210.0146"
     ]
    },
    {
     "name": "stderr",
     "output_type": "stream",
     "text": [
      "2023-12-15 20:46:27.187683: I tensorflow/core/framework/local_rendezvous.cc:421] Local rendezvous recv item cancelled. Key hash: 2316493296872010628\n"
     ]
    },
    {
     "name": "stdout",
     "output_type": "stream",
     "text": [
      "21/21 [==============================] - 1s 31ms/step - loss: 10162.0811\n",
      "Epoch 89/250\n",
      " 6/21 [=======>......................] - ETA: 0s - loss: 10147.0400"
     ]
    },
    {
     "name": "stderr",
     "output_type": "stream",
     "text": [
      "2023-12-15 20:46:27.867468: I tensorflow/core/framework/local_rendezvous.cc:421] Local rendezvous recv item cancelled. Key hash: 2316493296872010628\n"
     ]
    },
    {
     "name": "stdout",
     "output_type": "stream",
     "text": [
      "21/21 [==============================] - 1s 31ms/step - loss: 10099.6973\n",
      "Epoch 90/250\n",
      " 6/21 [=======>......................] - ETA: 0s - loss: 10084.8018"
     ]
    },
    {
     "name": "stderr",
     "output_type": "stream",
     "text": [
      "2023-12-15 20:46:28.540985: I tensorflow/core/framework/local_rendezvous.cc:421] Local rendezvous recv item cancelled. Key hash: 2316493296872010628\n"
     ]
    },
    {
     "name": "stdout",
     "output_type": "stream",
     "text": [
      "21/21 [==============================] - 1s 31ms/step - loss: 10038.0088\n",
      "Epoch 91/250\n",
      " 6/21 [=======>......................] - ETA: 0s - loss: 10023.3164"
     ]
    },
    {
     "name": "stderr",
     "output_type": "stream",
     "text": [
      "2023-12-15 20:46:29.214378: I tensorflow/core/framework/local_rendezvous.cc:421] Local rendezvous recv item cancelled. Key hash: 2316493296872010628\n"
     ]
    },
    {
     "name": "stdout",
     "output_type": "stream",
     "text": [
      "21/21 [==============================] - 1s 31ms/step - loss: 9977.1025\n",
      "Epoch 92/250\n",
      " 6/21 [=======>......................] - ETA: 0s - loss: 9962.5625"
     ]
    },
    {
     "name": "stderr",
     "output_type": "stream",
     "text": [
      "2023-12-15 20:46:29.889932: I tensorflow/core/framework/local_rendezvous.cc:421] Local rendezvous recv item cancelled. Key hash: 2316493296872010628\n"
     ]
    },
    {
     "name": "stdout",
     "output_type": "stream",
     "text": [
      "21/21 [==============================] - 1s 31ms/step - loss: 9917.0020\n",
      "Epoch 93/250\n",
      " 6/21 [=======>......................] - ETA: 0s - loss: 9902.6348"
     ]
    },
    {
     "name": "stderr",
     "output_type": "stream",
     "text": [
      "2023-12-15 20:46:30.565302: I tensorflow/core/framework/local_rendezvous.cc:421] Local rendezvous recv item cancelled. Key hash: 2316493296872010628\n"
     ]
    },
    {
     "name": "stdout",
     "output_type": "stream",
     "text": [
      "21/21 [==============================] - 1s 31ms/step - loss: 9857.5996\n",
      "Epoch 94/250\n",
      " 6/21 [=======>......................] - ETA: 0s - loss: 9843.3584"
     ]
    },
    {
     "name": "stderr",
     "output_type": "stream",
     "text": [
      "2023-12-15 20:46:31.241208: I tensorflow/core/framework/local_rendezvous.cc:421] Local rendezvous recv item cancelled. Key hash: 2316493296872010628\n"
     ]
    },
    {
     "name": "stdout",
     "output_type": "stream",
     "text": [
      "21/21 [==============================] - 1s 31ms/step - loss: 9799.0205\n",
      "Epoch 95/250\n",
      " 6/21 [=======>......................] - ETA: 0s - loss: 9785.0205"
     ]
    },
    {
     "name": "stderr",
     "output_type": "stream",
     "text": [
      "2023-12-15 20:46:31.917930: I tensorflow/core/framework/local_rendezvous.cc:421] Local rendezvous recv item cancelled. Key hash: 2316493296872010628\n"
     ]
    },
    {
     "name": "stdout",
     "output_type": "stream",
     "text": [
      "21/21 [==============================] - 1s 33ms/step - loss: 9741.1738\n",
      "Epoch 96/250\n",
      " 4/21 [====>.........................] - ETA: 0s - loss: 9732.9131"
     ]
    },
    {
     "name": "stderr",
     "output_type": "stream",
     "text": [
      "2023-12-15 20:46:32.630319: I tensorflow/core/framework/local_rendezvous.cc:421] Local rendezvous recv item cancelled. Key hash: 2316493296872010628\n"
     ]
    },
    {
     "name": "stdout",
     "output_type": "stream",
     "text": [
      "21/21 [==============================] - 1s 31ms/step - loss: 9683.9971\n",
      "Epoch 97/250\n",
      " 6/21 [=======>......................] - ETA: 0s - loss: 9670.2334"
     ]
    },
    {
     "name": "stderr",
     "output_type": "stream",
     "text": [
      "2023-12-15 20:46:33.321302: I tensorflow/core/framework/local_rendezvous.cc:421] Local rendezvous recv item cancelled. Key hash: 2316493296872010628\n"
     ]
    },
    {
     "name": "stdout",
     "output_type": "stream",
     "text": [
      "21/21 [==============================] - 1s 31ms/step - loss: 9627.4180\n",
      "Epoch 98/250\n",
      " 6/21 [=======>......................] - ETA: 0s - loss: 9613.9180"
     ]
    },
    {
     "name": "stderr",
     "output_type": "stream",
     "text": [
      "2023-12-15 20:46:34.007092: I tensorflow/core/framework/local_rendezvous.cc:421] Local rendezvous recv item cancelled. Key hash: 2316493296872010628\n"
     ]
    },
    {
     "name": "stdout",
     "output_type": "stream",
     "text": [
      "21/21 [==============================] - 1s 31ms/step - loss: 9571.5410\n",
      "Epoch 99/250\n",
      " 4/21 [====>.........................] - ETA: 0s - loss: 9563.5146"
     ]
    },
    {
     "name": "stderr",
     "output_type": "stream",
     "text": [
      "2023-12-15 20:46:34.681624: I tensorflow/core/framework/local_rendezvous.cc:421] Local rendezvous recv item cancelled. Key hash: 2316493296872010628\n"
     ]
    },
    {
     "name": "stdout",
     "output_type": "stream",
     "text": [
      "21/21 [==============================] - 1s 31ms/step - loss: 9516.2734\n",
      "Epoch 100/250\n",
      " 4/21 [====>.........................] - ETA: 0s - loss: 9508.3730"
     ]
    },
    {
     "name": "stderr",
     "output_type": "stream",
     "text": [
      "2023-12-15 20:46:35.365136: I tensorflow/core/framework/local_rendezvous.cc:421] Local rendezvous recv item cancelled. Key hash: 2316493296872010628\n"
     ]
    },
    {
     "name": "stdout",
     "output_type": "stream",
     "text": [
      "21/21 [==============================] - 1s 31ms/step - loss: 9461.7539\n",
      "Epoch 101/250\n",
      " 6/21 [=======>......................] - ETA: 0s - loss: 9448.6738"
     ]
    },
    {
     "name": "stderr",
     "output_type": "stream",
     "text": [
      "2023-12-15 20:46:36.045929: I tensorflow/core/framework/local_rendezvous.cc:421] Local rendezvous recv item cancelled. Key hash: 2316493296872010628\n"
     ]
    },
    {
     "name": "stdout",
     "output_type": "stream",
     "text": [
      "21/21 [==============================] - 1s 30ms/step - loss: 9407.8115\n",
      "Epoch 102/250\n",
      " 6/21 [=======>......................] - ETA: 0s - loss: 9394.8896"
     ]
    },
    {
     "name": "stderr",
     "output_type": "stream",
     "text": [
      "2023-12-15 20:46:36.714184: I tensorflow/core/framework/local_rendezvous.cc:421] Local rendezvous recv item cancelled. Key hash: 2316493296872010628\n"
     ]
    },
    {
     "name": "stdout",
     "output_type": "stream",
     "text": [
      "21/21 [==============================] - 1s 31ms/step - loss: 9354.5889\n",
      "Epoch 103/250\n",
      " 4/21 [====>.........................] - ETA: 0s - loss: 9346.9844"
     ]
    },
    {
     "name": "stderr",
     "output_type": "stream",
     "text": [
      "2023-12-15 20:46:37.386387: I tensorflow/core/framework/local_rendezvous.cc:421] Local rendezvous recv item cancelled. Key hash: 2316493296872010628\n"
     ]
    },
    {
     "name": "stdout",
     "output_type": "stream",
     "text": [
      "21/21 [==============================] - 1s 32ms/step - loss: 9302.0625\n",
      "Epoch 104/250\n",
      " 6/21 [=======>......................] - ETA: 0s - loss: 9289.4199"
     ]
    },
    {
     "name": "stderr",
     "output_type": "stream",
     "text": [
      "2023-12-15 20:46:38.082775: I tensorflow/core/framework/local_rendezvous.cc:421] Local rendezvous recv item cancelled. Key hash: 2316493296872010628\n"
     ]
    },
    {
     "name": "stdout",
     "output_type": "stream",
     "text": [
      "21/21 [==============================] - 1s 30ms/step - loss: 9250.0420\n",
      "Epoch 105/250\n",
      " 6/21 [=======>......................] - ETA: 0s - loss: 9237.5459"
     ]
    },
    {
     "name": "stderr",
     "output_type": "stream",
     "text": [
      "2023-12-15 20:46:38.745251: I tensorflow/core/framework/local_rendezvous.cc:421] Local rendezvous recv item cancelled. Key hash: 2316493296872010628\n"
     ]
    },
    {
     "name": "stdout",
     "output_type": "stream",
     "text": [
      "21/21 [==============================] - 1s 30ms/step - loss: 9198.6758\n",
      "Epoch 106/250\n",
      " 4/21 [====>.........................] - ETA: 0s - loss: 9191.2930"
     ]
    },
    {
     "name": "stderr",
     "output_type": "stream",
     "text": [
      "2023-12-15 20:46:39.416055: I tensorflow/core/framework/local_rendezvous.cc:421] Local rendezvous recv item cancelled. Key hash: 2316493296872010628\n"
     ]
    },
    {
     "name": "stdout",
     "output_type": "stream",
     "text": [
      "21/21 [==============================] - 1s 31ms/step - loss: 9147.8818\n",
      "Epoch 107/250\n",
      " 4/21 [====>.........................] - ETA: 0s - loss: 9140.5957"
     ]
    },
    {
     "name": "stderr",
     "output_type": "stream",
     "text": [
      "2023-12-15 20:46:40.100312: I tensorflow/core/framework/local_rendezvous.cc:421] Local rendezvous recv item cancelled. Key hash: 2316493296872010628\n"
     ]
    },
    {
     "name": "stdout",
     "output_type": "stream",
     "text": [
      "21/21 [==============================] - 1s 32ms/step - loss: 9097.7920\n",
      "Epoch 108/250\n",
      " 6/21 [=======>......................] - ETA: 0s - loss: 9085.7627"
     ]
    },
    {
     "name": "stderr",
     "output_type": "stream",
     "text": [
      "2023-12-15 20:46:40.797986: I tensorflow/core/framework/local_rendezvous.cc:421] Local rendezvous recv item cancelled. Key hash: 2316493296872010628\n"
     ]
    },
    {
     "name": "stdout",
     "output_type": "stream",
     "text": [
      "21/21 [==============================] - 1s 30ms/step - loss: 9048.1846\n",
      "Epoch 109/250\n",
      " 4/21 [====>.........................] - ETA: 0s - loss: 9041.0225"
     ]
    },
    {
     "name": "stderr",
     "output_type": "stream",
     "text": [
      "2023-12-15 20:46:41.464793: I tensorflow/core/framework/local_rendezvous.cc:421] Local rendezvous recv item cancelled. Key hash: 2316493296872010628\n"
     ]
    },
    {
     "name": "stdout",
     "output_type": "stream",
     "text": [
      "21/21 [==============================] - 1s 31ms/step - loss: 8999.0566\n",
      "Epoch 110/250\n",
      " 6/21 [=======>......................] - ETA: 0s - loss: 8987.2393"
     ]
    },
    {
     "name": "stderr",
     "output_type": "stream",
     "text": [
      "2023-12-15 20:46:42.144759: I tensorflow/core/framework/local_rendezvous.cc:421] Local rendezvous recv item cancelled. Key hash: 2316493296872010628\n"
     ]
    },
    {
     "name": "stdout",
     "output_type": "stream",
     "text": [
      "21/21 [==============================] - 1s 31ms/step - loss: 8950.6152\n",
      "Epoch 111/250\n",
      " 6/21 [=======>......................] - ETA: 0s - loss: 8938.9980"
     ]
    },
    {
     "name": "stderr",
     "output_type": "stream",
     "text": [
      "2023-12-15 20:46:42.816810: I tensorflow/core/framework/local_rendezvous.cc:421] Local rendezvous recv item cancelled. Key hash: 2316493296872010628\n"
     ]
    },
    {
     "name": "stdout",
     "output_type": "stream",
     "text": [
      "21/21 [==============================] - 1s 31ms/step - loss: 8902.6934\n",
      "Epoch 112/250\n",
      " 6/21 [=======>......................] - ETA: 0s - loss: 8891.1934"
     ]
    },
    {
     "name": "stderr",
     "output_type": "stream",
     "text": [
      "2023-12-15 20:46:43.499637: I tensorflow/core/framework/local_rendezvous.cc:421] Local rendezvous recv item cancelled. Key hash: 2316493296872010628\n"
     ]
    },
    {
     "name": "stdout",
     "output_type": "stream",
     "text": [
      "21/21 [==============================] - 1s 31ms/step - loss: 8855.2373\n",
      "Epoch 113/250\n",
      " 6/21 [=======>......................] - ETA: 0s - loss: 8843.8662"
     ]
    },
    {
     "name": "stderr",
     "output_type": "stream",
     "text": [
      "2023-12-15 20:46:44.174778: I tensorflow/core/framework/local_rendezvous.cc:421] Local rendezvous recv item cancelled. Key hash: 2316493296872010628\n"
     ]
    },
    {
     "name": "stdout",
     "output_type": "stream",
     "text": [
      "21/21 [==============================] - 1s 31ms/step - loss: 8808.3994\n",
      "Epoch 114/250\n",
      " 6/21 [=======>......................] - ETA: 0s - loss: 8797.1191"
     ]
    },
    {
     "name": "stderr",
     "output_type": "stream",
     "text": [
      "2023-12-15 20:46:44.842089: I tensorflow/core/framework/local_rendezvous.cc:421] Local rendezvous recv item cancelled. Key hash: 2316493296872010628\n"
     ]
    },
    {
     "name": "stdout",
     "output_type": "stream",
     "text": [
      "21/21 [==============================] - 1s 31ms/step - loss: 8761.9961\n",
      "Epoch 115/250\n",
      " 6/21 [=======>......................] - ETA: 0s - loss: 8750.8428"
     ]
    },
    {
     "name": "stderr",
     "output_type": "stream",
     "text": [
      "2023-12-15 20:46:45.511827: I tensorflow/core/framework/local_rendezvous.cc:421] Local rendezvous recv item cancelled. Key hash: 2316493296872010628\n"
     ]
    },
    {
     "name": "stdout",
     "output_type": "stream",
     "text": [
      "21/21 [==============================] - 1s 31ms/step - loss: 8716.0752\n",
      "Epoch 116/250\n",
      " 6/21 [=======>......................] - ETA: 0s - loss: 8705.0352"
     ]
    },
    {
     "name": "stderr",
     "output_type": "stream",
     "text": [
      "2023-12-15 20:46:46.191274: I tensorflow/core/framework/local_rendezvous.cc:421] Local rendezvous recv item cancelled. Key hash: 2316493296872010628\n"
     ]
    },
    {
     "name": "stdout",
     "output_type": "stream",
     "text": [
      "21/21 [==============================] - 1s 31ms/step - loss: 8670.5820\n",
      "Epoch 117/250\n",
      " 6/21 [=======>......................] - ETA: 0s - loss: 8659.6572"
     ]
    },
    {
     "name": "stderr",
     "output_type": "stream",
     "text": [
      "2023-12-15 20:46:46.869326: I tensorflow/core/framework/local_rendezvous.cc:421] Local rendezvous recv item cancelled. Key hash: 2316493296872010628\n"
     ]
    },
    {
     "name": "stdout",
     "output_type": "stream",
     "text": [
      "21/21 [==============================] - 1s 31ms/step - loss: 8625.7324\n",
      "Epoch 118/250\n",
      " 6/21 [=======>......................] - ETA: 0s - loss: 8614.8906"
     ]
    },
    {
     "name": "stderr",
     "output_type": "stream",
     "text": [
      "2023-12-15 20:46:47.546244: I tensorflow/core/framework/local_rendezvous.cc:421] Local rendezvous recv item cancelled. Key hash: 2316493296872010628\n"
     ]
    },
    {
     "name": "stdout",
     "output_type": "stream",
     "text": [
      "21/21 [==============================] - 1s 31ms/step - loss: 8581.1924\n",
      "Epoch 119/250\n",
      " 6/21 [=======>......................] - ETA: 0s - loss: 8570.4492"
     ]
    },
    {
     "name": "stderr",
     "output_type": "stream",
     "text": [
      "2023-12-15 20:46:48.233006: I tensorflow/core/framework/local_rendezvous.cc:421] Local rendezvous recv item cancelled. Key hash: 2316493296872010628\n"
     ]
    },
    {
     "name": "stdout",
     "output_type": "stream",
     "text": [
      "21/21 [==============================] - 1s 31ms/step - loss: 8537.1035\n",
      "Epoch 120/250\n",
      " 6/21 [=======>......................] - ETA: 0s - loss: 8526.5664"
     ]
    },
    {
     "name": "stderr",
     "output_type": "stream",
     "text": [
      "2023-12-15 20:46:48.917699: I tensorflow/core/framework/local_rendezvous.cc:421] Local rendezvous recv item cancelled. Key hash: 2316493296872010628\n"
     ]
    },
    {
     "name": "stdout",
     "output_type": "stream",
     "text": [
      "21/21 [==============================] - 1s 31ms/step - loss: 8493.6514\n",
      "Epoch 121/250\n",
      "21/21 [==============================] - 1s 31ms/step - loss: 8450.6475\n",
      "Epoch 122/250\n",
      " 6/21 [=======>......................] - ETA: 0s - loss: 8440.2705"
     ]
    },
    {
     "name": "stderr",
     "output_type": "stream",
     "text": [
      "2023-12-15 20:46:50.276893: I tensorflow/core/framework/local_rendezvous.cc:421] Local rendezvous recv item cancelled. Key hash: 2316493296872010628\n"
     ]
    },
    {
     "name": "stdout",
     "output_type": "stream",
     "text": [
      "21/21 [==============================] - 1s 31ms/step - loss: 8408.0742\n",
      "Epoch 123/250\n",
      " 6/21 [=======>......................] - ETA: 0s - loss: 8397.8389"
     ]
    },
    {
     "name": "stderr",
     "output_type": "stream",
     "text": [
      "2023-12-15 20:46:50.954317: I tensorflow/core/framework/local_rendezvous.cc:421] Local rendezvous recv item cancelled. Key hash: 2316493296872010628\n"
     ]
    },
    {
     "name": "stdout",
     "output_type": "stream",
     "text": [
      "21/21 [==============================] - 1s 31ms/step - loss: 8366.0605\n",
      "Epoch 124/250\n",
      " 6/21 [=======>......................] - ETA: 0s - loss: 8355.9121"
     ]
    },
    {
     "name": "stderr",
     "output_type": "stream",
     "text": [
      "2023-12-15 20:46:51.623841: I tensorflow/core/framework/local_rendezvous.cc:421] Local rendezvous recv item cancelled. Key hash: 2316493296872010628\n"
     ]
    },
    {
     "name": "stdout",
     "output_type": "stream",
     "text": [
      "21/21 [==============================] - 1s 31ms/step - loss: 8324.3906\n",
      "Epoch 125/250\n",
      " 6/21 [=======>......................] - ETA: 0s - loss: 8314.3408"
     ]
    },
    {
     "name": "stderr",
     "output_type": "stream",
     "text": [
      "2023-12-15 20:46:52.292178: I tensorflow/core/framework/local_rendezvous.cc:421] Local rendezvous recv item cancelled. Key hash: 2316493296872010628\n"
     ]
    },
    {
     "name": "stdout",
     "output_type": "stream",
     "text": [
      "21/21 [==============================] - 1s 31ms/step - loss: 8283.1875\n",
      "Epoch 126/250\n",
      " 6/21 [=======>......................] - ETA: 0s - loss: 8273.2305"
     ]
    },
    {
     "name": "stderr",
     "output_type": "stream",
     "text": [
      "2023-12-15 20:46:52.962138: I tensorflow/core/framework/local_rendezvous.cc:421] Local rendezvous recv item cancelled. Key hash: 2316493296872010628\n"
     ]
    },
    {
     "name": "stdout",
     "output_type": "stream",
     "text": [
      "21/21 [==============================] - 1s 31ms/step - loss: 8242.3711\n",
      "Epoch 127/250\n",
      " 6/21 [=======>......................] - ETA: 0s - loss: 8232.5723"
     ]
    },
    {
     "name": "stderr",
     "output_type": "stream",
     "text": [
      "2023-12-15 20:46:53.635145: I tensorflow/core/framework/local_rendezvous.cc:421] Local rendezvous recv item cancelled. Key hash: 2316493296872010628\n"
     ]
    },
    {
     "name": "stdout",
     "output_type": "stream",
     "text": [
      "21/21 [==============================] - 1s 31ms/step - loss: 8202.0527\n",
      "Epoch 128/250\n",
      " 6/21 [=======>......................] - ETA: 0s - loss: 8192.3438"
     ]
    },
    {
     "name": "stderr",
     "output_type": "stream",
     "text": [
      "2023-12-15 20:46:54.308978: I tensorflow/core/framework/local_rendezvous.cc:421] Local rendezvous recv item cancelled. Key hash: 2316493296872010628\n"
     ]
    },
    {
     "name": "stdout",
     "output_type": "stream",
     "text": [
      "21/21 [==============================] - 1s 30ms/step - loss: 8162.2017\n",
      "Epoch 129/250\n",
      " 6/21 [=======>......................] - ETA: 0s - loss: 8152.5654"
     ]
    },
    {
     "name": "stderr",
     "output_type": "stream",
     "text": [
      "2023-12-15 20:46:54.974968: I tensorflow/core/framework/local_rendezvous.cc:421] Local rendezvous recv item cancelled. Key hash: 2316493296872010628\n"
     ]
    },
    {
     "name": "stdout",
     "output_type": "stream",
     "text": [
      "21/21 [==============================] - 1s 31ms/step - loss: 8122.6660\n",
      "Epoch 130/250\n",
      " 6/21 [=======>......................] - ETA: 0s - loss: 8113.1343"
     ]
    },
    {
     "name": "stderr",
     "output_type": "stream",
     "text": [
      "2023-12-15 20:46:55.648545: I tensorflow/core/framework/local_rendezvous.cc:421] Local rendezvous recv item cancelled. Key hash: 2316493296872010628\n"
     ]
    },
    {
     "name": "stdout",
     "output_type": "stream",
     "text": [
      "21/21 [==============================] - 1s 31ms/step - loss: 8083.5278\n",
      "Epoch 131/250\n",
      " 6/21 [=======>......................] - ETA: 0s - loss: 8074.0693"
     ]
    },
    {
     "name": "stderr",
     "output_type": "stream",
     "text": [
      "2023-12-15 20:46:56.326070: I tensorflow/core/framework/local_rendezvous.cc:421] Local rendezvous recv item cancelled. Key hash: 2316493296872010628\n"
     ]
    },
    {
     "name": "stdout",
     "output_type": "stream",
     "text": [
      "21/21 [==============================] - 1s 31ms/step - loss: 8044.7778\n",
      "Epoch 132/250\n",
      " 6/21 [=======>......................] - ETA: 0s - loss: 8035.4629"
     ]
    },
    {
     "name": "stderr",
     "output_type": "stream",
     "text": [
      "2023-12-15 20:46:57.004419: I tensorflow/core/framework/local_rendezvous.cc:421] Local rendezvous recv item cancelled. Key hash: 2316493296872010628\n"
     ]
    },
    {
     "name": "stdout",
     "output_type": "stream",
     "text": [
      "21/21 [==============================] - 1s 30ms/step - loss: 8006.5713\n",
      "Epoch 133/250\n",
      " 6/21 [=======>......................] - ETA: 0s - loss: 7997.3057"
     ]
    },
    {
     "name": "stderr",
     "output_type": "stream",
     "text": [
      "2023-12-15 20:46:57.677395: I tensorflow/core/framework/local_rendezvous.cc:421] Local rendezvous recv item cancelled. Key hash: 2316493296872010628\n"
     ]
    },
    {
     "name": "stdout",
     "output_type": "stream",
     "text": [
      "21/21 [==============================] - 1s 31ms/step - loss: 7968.6411\n",
      "Epoch 134/250\n",
      " 6/21 [=======>......................] - ETA: 0s - loss: 7959.5000"
     ]
    },
    {
     "name": "stderr",
     "output_type": "stream",
     "text": [
      "2023-12-15 20:46:58.342416: I tensorflow/core/framework/local_rendezvous.cc:421] Local rendezvous recv item cancelled. Key hash: 2316493296872010628\n"
     ]
    },
    {
     "name": "stdout",
     "output_type": "stream",
     "text": [
      "21/21 [==============================] - 1s 31ms/step - loss: 7931.1245\n",
      "Epoch 135/250\n",
      " 6/21 [=======>......................] - ETA: 0s - loss: 7922.0679"
     ]
    },
    {
     "name": "stderr",
     "output_type": "stream",
     "text": [
      "2023-12-15 20:46:59.016365: I tensorflow/core/framework/local_rendezvous.cc:421] Local rendezvous recv item cancelled. Key hash: 2316493296872010628\n"
     ]
    },
    {
     "name": "stdout",
     "output_type": "stream",
     "text": [
      "21/21 [==============================] - 1s 31ms/step - loss: 7893.9409\n",
      "Epoch 136/250\n",
      " 6/21 [=======>......................] - ETA: 0s - loss: 7884.9692"
     ]
    },
    {
     "name": "stderr",
     "output_type": "stream",
     "text": [
      "2023-12-15 20:46:59.689744: I tensorflow/core/framework/local_rendezvous.cc:421] Local rendezvous recv item cancelled. Key hash: 2316493296872010628\n"
     ]
    },
    {
     "name": "stdout",
     "output_type": "stream",
     "text": [
      "21/21 [==============================] - 1s 31ms/step - loss: 7857.1196\n",
      "Epoch 137/250\n",
      " 6/21 [=======>......................] - ETA: 0s - loss: 7848.2578"
     ]
    },
    {
     "name": "stderr",
     "output_type": "stream",
     "text": [
      "2023-12-15 20:47:00.361043: I tensorflow/core/framework/local_rendezvous.cc:421] Local rendezvous recv item cancelled. Key hash: 2316493296872010628\n"
     ]
    },
    {
     "name": "stdout",
     "output_type": "stream",
     "text": [
      "21/21 [==============================] - 1s 31ms/step - loss: 7820.7261\n",
      "Epoch 138/250\n",
      " 4/21 [====>.........................] - ETA: 0s - loss: 7815.4712"
     ]
    },
    {
     "name": "stderr",
     "output_type": "stream",
     "text": [
      "2023-12-15 20:47:01.033226: I tensorflow/core/framework/local_rendezvous.cc:421] Local rendezvous recv item cancelled. Key hash: 2316493296872010628\n"
     ]
    },
    {
     "name": "stdout",
     "output_type": "stream",
     "text": [
      "21/21 [==============================] - 1s 31ms/step - loss: 7784.6860\n",
      "Epoch 139/250\n",
      " 6/21 [=======>......................] - ETA: 0s - loss: 7775.9644"
     ]
    },
    {
     "name": "stderr",
     "output_type": "stream",
     "text": [
      "2023-12-15 20:47:01.720590: I tensorflow/core/framework/local_rendezvous.cc:421] Local rendezvous recv item cancelled. Key hash: 2316493296872010628\n"
     ]
    },
    {
     "name": "stdout",
     "output_type": "stream",
     "text": [
      "21/21 [==============================] - 1s 31ms/step - loss: 7748.8755\n",
      "Epoch 140/250\n",
      " 6/21 [=======>......................] - ETA: 0s - loss: 7740.2612"
     ]
    },
    {
     "name": "stderr",
     "output_type": "stream",
     "text": [
      "2023-12-15 20:47:02.390066: I tensorflow/core/framework/local_rendezvous.cc:421] Local rendezvous recv item cancelled. Key hash: 2316493296872010628\n"
     ]
    },
    {
     "name": "stdout",
     "output_type": "stream",
     "text": [
      "21/21 [==============================] - 1s 31ms/step - loss: 7713.5352\n",
      "Epoch 141/250\n",
      " 6/21 [=======>......................] - ETA: 0s - loss: 7705.0132"
     ]
    },
    {
     "name": "stderr",
     "output_type": "stream",
     "text": [
      "2023-12-15 20:47:03.067403: I tensorflow/core/framework/local_rendezvous.cc:421] Local rendezvous recv item cancelled. Key hash: 2316493296872010628\n"
     ]
    },
    {
     "name": "stdout",
     "output_type": "stream",
     "text": [
      "21/21 [==============================] - 1s 31ms/step - loss: 7678.5396\n",
      "Epoch 142/250\n",
      " 6/21 [=======>......................] - ETA: 0s - loss: 7670.0713"
     ]
    },
    {
     "name": "stderr",
     "output_type": "stream",
     "text": [
      "2023-12-15 20:47:03.737866: I tensorflow/core/framework/local_rendezvous.cc:421] Local rendezvous recv item cancelled. Key hash: 2316493296872010628\n"
     ]
    },
    {
     "name": "stdout",
     "output_type": "stream",
     "text": [
      "21/21 [==============================] - 1s 31ms/step - loss: 7643.8413\n",
      "Epoch 143/250\n",
      " 6/21 [=======>......................] - ETA: 0s - loss: 7635.4761"
     ]
    },
    {
     "name": "stderr",
     "output_type": "stream",
     "text": [
      "2023-12-15 20:47:04.417726: I tensorflow/core/framework/local_rendezvous.cc:421] Local rendezvous recv item cancelled. Key hash: 2316493296872010628\n"
     ]
    },
    {
     "name": "stdout",
     "output_type": "stream",
     "text": [
      "21/21 [==============================] - 1s 31ms/step - loss: 7609.5015\n",
      "Epoch 144/250\n",
      " 6/21 [=======>......................] - ETA: 0s - loss: 7601.2104"
     ]
    },
    {
     "name": "stderr",
     "output_type": "stream",
     "text": [
      "2023-12-15 20:47:05.091336: I tensorflow/core/framework/local_rendezvous.cc:421] Local rendezvous recv item cancelled. Key hash: 2316493296872010628\n"
     ]
    },
    {
     "name": "stdout",
     "output_type": "stream",
     "text": [
      "21/21 [==============================] - 1s 31ms/step - loss: 7575.4609\n",
      "Epoch 145/250\n",
      " 6/21 [=======>......................] - ETA: 0s - loss: 7567.2075"
     ]
    },
    {
     "name": "stderr",
     "output_type": "stream",
     "text": [
      "2023-12-15 20:47:05.763009: I tensorflow/core/framework/local_rendezvous.cc:421] Local rendezvous recv item cancelled. Key hash: 2316493296872010628\n"
     ]
    },
    {
     "name": "stdout",
     "output_type": "stream",
     "text": [
      "21/21 [==============================] - 1s 30ms/step - loss: 7541.8062\n",
      "Epoch 146/250\n",
      " 6/21 [=======>......................] - ETA: 0s - loss: 7533.6826"
     ]
    },
    {
     "name": "stderr",
     "output_type": "stream",
     "text": [
      "2023-12-15 20:47:06.424335: I tensorflow/core/framework/local_rendezvous.cc:421] Local rendezvous recv item cancelled. Key hash: 2316493296872010628\n"
     ]
    },
    {
     "name": "stdout",
     "output_type": "stream",
     "text": [
      "21/21 [==============================] - 1s 31ms/step - loss: 7508.5356\n",
      "Epoch 147/250\n",
      " 6/21 [=======>......................] - ETA: 0s - loss: 7500.4766"
     ]
    },
    {
     "name": "stderr",
     "output_type": "stream",
     "text": [
      "2023-12-15 20:47:07.096166: I tensorflow/core/framework/local_rendezvous.cc:421] Local rendezvous recv item cancelled. Key hash: 2316493296872010628\n"
     ]
    },
    {
     "name": "stdout",
     "output_type": "stream",
     "text": [
      "21/21 [==============================] - 1s 31ms/step - loss: 7475.5464\n",
      "Epoch 148/250\n",
      " 6/21 [=======>......................] - ETA: 0s - loss: 7467.6060"
     ]
    },
    {
     "name": "stderr",
     "output_type": "stream",
     "text": [
      "2023-12-15 20:47:07.764626: I tensorflow/core/framework/local_rendezvous.cc:421] Local rendezvous recv item cancelled. Key hash: 2316493296872010628\n"
     ]
    },
    {
     "name": "stdout",
     "output_type": "stream",
     "text": [
      "21/21 [==============================] - 1s 31ms/step - loss: 7442.9160\n",
      "Epoch 149/250\n",
      " 6/21 [=======>......................] - ETA: 0s - loss: 7434.9907"
     ]
    },
    {
     "name": "stderr",
     "output_type": "stream",
     "text": [
      "2023-12-15 20:47:08.445634: I tensorflow/core/framework/local_rendezvous.cc:421] Local rendezvous recv item cancelled. Key hash: 2316493296872010628\n"
     ]
    },
    {
     "name": "stdout",
     "output_type": "stream",
     "text": [
      "21/21 [==============================] - 1s 31ms/step - loss: 7410.5078\n",
      "Epoch 150/250\n",
      " 6/21 [=======>......................] - ETA: 0s - loss: 7402.7129"
     ]
    },
    {
     "name": "stderr",
     "output_type": "stream",
     "text": [
      "2023-12-15 20:47:09.125893: I tensorflow/core/framework/local_rendezvous.cc:421] Local rendezvous recv item cancelled. Key hash: 2316493296872010628\n"
     ]
    },
    {
     "name": "stdout",
     "output_type": "stream",
     "text": [
      "21/21 [==============================] - 1s 32ms/step - loss: 7378.4180\n",
      "Epoch 151/250\n",
      " 6/21 [=======>......................] - ETA: 0s - loss: 7370.6245"
     ]
    },
    {
     "name": "stderr",
     "output_type": "stream",
     "text": [
      "2023-12-15 20:47:09.816997: I tensorflow/core/framework/local_rendezvous.cc:421] Local rendezvous recv item cancelled. Key hash: 2316493296872010628\n"
     ]
    },
    {
     "name": "stdout",
     "output_type": "stream",
     "text": [
      "21/21 [==============================] - 1s 31ms/step - loss: 7346.6333\n",
      "Epoch 152/250\n",
      "21/21 [==============================] - 1s 31ms/step - loss: 7315.1953\n",
      "Epoch 153/250\n",
      " 6/21 [=======>......................] - ETA: 0s - loss: 7307.5674"
     ]
    },
    {
     "name": "stderr",
     "output_type": "stream",
     "text": [
      "2023-12-15 20:47:11.159907: I tensorflow/core/framework/local_rendezvous.cc:421] Local rendezvous recv item cancelled. Key hash: 2316493296872010628\n"
     ]
    },
    {
     "name": "stdout",
     "output_type": "stream",
     "text": [
      "21/21 [==============================] - 1s 30ms/step - loss: 7284.0381\n",
      "Epoch 154/250\n",
      " 6/21 [=======>......................] - ETA: 0s - loss: 7276.4575"
     ]
    },
    {
     "name": "stderr",
     "output_type": "stream",
     "text": [
      "2023-12-15 20:47:11.824946: I tensorflow/core/framework/local_rendezvous.cc:421] Local rendezvous recv item cancelled. Key hash: 2316493296872010628\n"
     ]
    },
    {
     "name": "stdout",
     "output_type": "stream",
     "text": [
      "21/21 [==============================] - 1s 31ms/step - loss: 7253.1592\n",
      "Epoch 155/250\n",
      " 4/21 [====>.........................] - ETA: 0s - loss: 7248.6592"
     ]
    },
    {
     "name": "stderr",
     "output_type": "stream",
     "text": [
      "2023-12-15 20:47:12.499253: I tensorflow/core/framework/local_rendezvous.cc:421] Local rendezvous recv item cancelled. Key hash: 2316493296872010628\n"
     ]
    },
    {
     "name": "stdout",
     "output_type": "stream",
     "text": [
      "21/21 [==============================] - 1s 32ms/step - loss: 7222.5605\n",
      "Epoch 156/250\n",
      " 6/21 [=======>......................] - ETA: 0s - loss: 7215.0977"
     ]
    },
    {
     "name": "stderr",
     "output_type": "stream",
     "text": [
      "2023-12-15 20:47:13.198171: I tensorflow/core/framework/local_rendezvous.cc:421] Local rendezvous recv item cancelled. Key hash: 2316493296872010628\n"
     ]
    },
    {
     "name": "stdout",
     "output_type": "stream",
     "text": [
      "21/21 [==============================] - 1s 31ms/step - loss: 7192.1582\n",
      "Epoch 157/250\n",
      " 4/21 [====>.........................] - ETA: 0s - loss: 7187.7485"
     ]
    },
    {
     "name": "stderr",
     "output_type": "stream",
     "text": [
      "2023-12-15 20:47:13.879426: I tensorflow/core/framework/local_rendezvous.cc:421] Local rendezvous recv item cancelled. Key hash: 2316493296872010628\n"
     ]
    },
    {
     "name": "stdout",
     "output_type": "stream",
     "text": [
      "21/21 [==============================] - 1s 31ms/step - loss: 7162.0854\n",
      "Epoch 158/250\n",
      " 6/21 [=======>......................] - ETA: 0s - loss: 7154.8008"
     ]
    },
    {
     "name": "stderr",
     "output_type": "stream",
     "text": [
      "2023-12-15 20:47:14.563475: I tensorflow/core/framework/local_rendezvous.cc:421] Local rendezvous recv item cancelled. Key hash: 2316493296872010628\n"
     ]
    },
    {
     "name": "stdout",
     "output_type": "stream",
     "text": [
      "21/21 [==============================] - 1s 31ms/step - loss: 7132.3677\n",
      "Epoch 159/250\n",
      " 6/21 [=======>......................] - ETA: 0s - loss: 7125.1528"
     ]
    },
    {
     "name": "stderr",
     "output_type": "stream",
     "text": [
      "2023-12-15 20:47:15.244637: I tensorflow/core/framework/local_rendezvous.cc:421] Local rendezvous recv item cancelled. Key hash: 2316493296872010628\n"
     ]
    },
    {
     "name": "stdout",
     "output_type": "stream",
     "text": [
      "21/21 [==============================] - 1s 31ms/step - loss: 7102.8667\n",
      "Epoch 160/250\n",
      " 6/21 [=======>......................] - ETA: 0s - loss: 7095.7339"
     ]
    },
    {
     "name": "stderr",
     "output_type": "stream",
     "text": [
      "2023-12-15 20:47:15.913783: I tensorflow/core/framework/local_rendezvous.cc:421] Local rendezvous recv item cancelled. Key hash: 2316493296872010628\n"
     ]
    },
    {
     "name": "stdout",
     "output_type": "stream",
     "text": [
      "21/21 [==============================] - 1s 31ms/step - loss: 7073.7388\n",
      "Epoch 161/250\n",
      " 6/21 [=======>......................] - ETA: 0s - loss: 7066.6606"
     ]
    },
    {
     "name": "stderr",
     "output_type": "stream",
     "text": [
      "2023-12-15 20:47:16.592362: I tensorflow/core/framework/local_rendezvous.cc:421] Local rendezvous recv item cancelled. Key hash: 2316493296872010628\n"
     ]
    },
    {
     "name": "stdout",
     "output_type": "stream",
     "text": [
      "21/21 [==============================] - 1s 31ms/step - loss: 7044.7549\n",
      "Epoch 162/250\n",
      " 6/21 [=======>......................] - ETA: 0s - loss: 7037.7539"
     ]
    },
    {
     "name": "stderr",
     "output_type": "stream",
     "text": [
      "2023-12-15 20:47:17.273774: I tensorflow/core/framework/local_rendezvous.cc:421] Local rendezvous recv item cancelled. Key hash: 2316493296872010628\n"
     ]
    },
    {
     "name": "stdout",
     "output_type": "stream",
     "text": [
      "21/21 [==============================] - 1s 31ms/step - loss: 7016.0757\n",
      "Epoch 163/250\n",
      " 6/21 [=======>......................] - ETA: 0s - loss: 7009.1138"
     ]
    },
    {
     "name": "stderr",
     "output_type": "stream",
     "text": [
      "2023-12-15 20:47:17.957886: I tensorflow/core/framework/local_rendezvous.cc:421] Local rendezvous recv item cancelled. Key hash: 2316493296872010628\n"
     ]
    },
    {
     "name": "stdout",
     "output_type": "stream",
     "text": [
      "21/21 [==============================] - 1s 31ms/step - loss: 6987.6338\n",
      "Epoch 164/250\n",
      " 6/21 [=======>......................] - ETA: 0s - loss: 6980.7178"
     ]
    },
    {
     "name": "stderr",
     "output_type": "stream",
     "text": [
      "2023-12-15 20:47:18.631804: I tensorflow/core/framework/local_rendezvous.cc:421] Local rendezvous recv item cancelled. Key hash: 2316493296872010628\n"
     ]
    },
    {
     "name": "stdout",
     "output_type": "stream",
     "text": [
      "21/21 [==============================] - 1s 31ms/step - loss: 6959.4224\n",
      "Epoch 165/250\n",
      " 6/21 [=======>......................] - ETA: 0s - loss: 6952.6294"
     ]
    },
    {
     "name": "stderr",
     "output_type": "stream",
     "text": [
      "2023-12-15 20:47:19.300899: I tensorflow/core/framework/local_rendezvous.cc:421] Local rendezvous recv item cancelled. Key hash: 2316493296872010628\n"
     ]
    },
    {
     "name": "stdout",
     "output_type": "stream",
     "text": [
      "21/21 [==============================] - 1s 31ms/step - loss: 6931.4946\n",
      "Epoch 166/250\n",
      " 6/21 [=======>......................] - ETA: 0s - loss: 6924.7188"
     ]
    },
    {
     "name": "stderr",
     "output_type": "stream",
     "text": [
      "2023-12-15 20:47:19.970764: I tensorflow/core/framework/local_rendezvous.cc:421] Local rendezvous recv item cancelled. Key hash: 2316493296872010628\n"
     ]
    },
    {
     "name": "stdout",
     "output_type": "stream",
     "text": [
      "21/21 [==============================] - 1s 30ms/step - loss: 6903.8452\n",
      "Epoch 167/250\n",
      " 6/21 [=======>......................] - ETA: 0s - loss: 6897.0928"
     ]
    },
    {
     "name": "stderr",
     "output_type": "stream",
     "text": [
      "2023-12-15 20:47:20.646988: I tensorflow/core/framework/local_rendezvous.cc:421] Local rendezvous recv item cancelled. Key hash: 2316493296872010628\n"
     ]
    },
    {
     "name": "stdout",
     "output_type": "stream",
     "text": [
      "21/21 [==============================] - 1s 30ms/step - loss: 6876.4019\n",
      "Epoch 168/250\n",
      " 6/21 [=======>......................] - ETA: 0s - loss: 6869.7676"
     ]
    },
    {
     "name": "stderr",
     "output_type": "stream",
     "text": [
      "2023-12-15 20:47:21.318991: I tensorflow/core/framework/local_rendezvous.cc:421] Local rendezvous recv item cancelled. Key hash: 2316493296872010628\n"
     ]
    },
    {
     "name": "stdout",
     "output_type": "stream",
     "text": [
      "21/21 [==============================] - 1s 31ms/step - loss: 6849.1543\n",
      "Epoch 169/250\n",
      " 6/21 [=======>......................] - ETA: 0s - loss: 6842.5273"
     ]
    },
    {
     "name": "stderr",
     "output_type": "stream",
     "text": [
      "2023-12-15 20:47:21.992630: I tensorflow/core/framework/local_rendezvous.cc:421] Local rendezvous recv item cancelled. Key hash: 2316493296872010628\n"
     ]
    },
    {
     "name": "stdout",
     "output_type": "stream",
     "text": [
      "21/21 [==============================] - 1s 31ms/step - loss: 6822.0840\n",
      "Epoch 170/250\n",
      " 4/21 [====>.........................] - ETA: 0s - loss: 6818.1787"
     ]
    },
    {
     "name": "stderr",
     "output_type": "stream",
     "text": [
      "2023-12-15 20:47:22.666973: I tensorflow/core/framework/local_rendezvous.cc:421] Local rendezvous recv item cancelled. Key hash: 2316493296872010628\n"
     ]
    },
    {
     "name": "stdout",
     "output_type": "stream",
     "text": [
      "21/21 [==============================] - 1s 31ms/step - loss: 6795.3618\n",
      "Epoch 171/250\n",
      " 6/21 [=======>......................] - ETA: 0s - loss: 6788.8818"
     ]
    },
    {
     "name": "stderr",
     "output_type": "stream",
     "text": [
      "2023-12-15 20:47:23.349091: I tensorflow/core/framework/local_rendezvous.cc:421] Local rendezvous recv item cancelled. Key hash: 2316493296872010628\n"
     ]
    },
    {
     "name": "stdout",
     "output_type": "stream",
     "text": [
      "21/21 [==============================] - 1s 31ms/step - loss: 6768.8452\n",
      "Epoch 172/250\n",
      " 6/21 [=======>......................] - ETA: 0s - loss: 6762.3887"
     ]
    },
    {
     "name": "stderr",
     "output_type": "stream",
     "text": [
      "2023-12-15 20:47:24.014926: I tensorflow/core/framework/local_rendezvous.cc:421] Local rendezvous recv item cancelled. Key hash: 2316493296872010628\n"
     ]
    },
    {
     "name": "stdout",
     "output_type": "stream",
     "text": [
      "21/21 [==============================] - 1s 30ms/step - loss: 6742.5063\n",
      "Epoch 173/250\n",
      " 6/21 [=======>......................] - ETA: 0s - loss: 6736.1011"
     ]
    },
    {
     "name": "stderr",
     "output_type": "stream",
     "text": [
      "2023-12-15 20:47:24.681768: I tensorflow/core/framework/local_rendezvous.cc:421] Local rendezvous recv item cancelled. Key hash: 2316493296872010628\n"
     ]
    },
    {
     "name": "stdout",
     "output_type": "stream",
     "text": [
      "21/21 [==============================] - 1s 30ms/step - loss: 6716.4438\n",
      "Epoch 174/250\n",
      " 6/21 [=======>......................] - ETA: 0s - loss: 6710.1289"
     ]
    },
    {
     "name": "stderr",
     "output_type": "stream",
     "text": [
      "2023-12-15 20:47:25.348346: I tensorflow/core/framework/local_rendezvous.cc:421] Local rendezvous recv item cancelled. Key hash: 2316493296872010628\n"
     ]
    },
    {
     "name": "stdout",
     "output_type": "stream",
     "text": [
      "21/21 [==============================] - 1s 30ms/step - loss: 6690.5898\n",
      "Epoch 175/250\n",
      " 6/21 [=======>......................] - ETA: 0s - loss: 6684.3232"
     ]
    },
    {
     "name": "stderr",
     "output_type": "stream",
     "text": [
      "2023-12-15 20:47:26.015229: I tensorflow/core/framework/local_rendezvous.cc:421] Local rendezvous recv item cancelled. Key hash: 2316493296872010628\n"
     ]
    },
    {
     "name": "stdout",
     "output_type": "stream",
     "text": [
      "21/21 [==============================] - 1s 31ms/step - loss: 6664.9189\n",
      "Epoch 176/250\n",
      " 6/21 [=======>......................] - ETA: 0s - loss: 6658.6831"
     ]
    },
    {
     "name": "stderr",
     "output_type": "stream",
     "text": [
      "2023-12-15 20:47:26.688004: I tensorflow/core/framework/local_rendezvous.cc:421] Local rendezvous recv item cancelled. Key hash: 2316493296872010628\n"
     ]
    },
    {
     "name": "stdout",
     "output_type": "stream",
     "text": [
      "21/21 [==============================] - 1s 31ms/step - loss: 6639.4951\n",
      "Epoch 177/250\n",
      " 6/21 [=======>......................] - ETA: 0s - loss: 6633.2969"
     ]
    },
    {
     "name": "stderr",
     "output_type": "stream",
     "text": [
      "2023-12-15 20:47:27.364414: I tensorflow/core/framework/local_rendezvous.cc:421] Local rendezvous recv item cancelled. Key hash: 2316493296872010628\n"
     ]
    },
    {
     "name": "stdout",
     "output_type": "stream",
     "text": [
      "21/21 [==============================] - 1s 30ms/step - loss: 6614.2568\n",
      "Epoch 178/250\n",
      " 6/21 [=======>......................] - ETA: 0s - loss: 6608.1753"
     ]
    },
    {
     "name": "stderr",
     "output_type": "stream",
     "text": [
      "2023-12-15 20:47:28.031406: I tensorflow/core/framework/local_rendezvous.cc:421] Local rendezvous recv item cancelled. Key hash: 2316493296872010628\n"
     ]
    },
    {
     "name": "stdout",
     "output_type": "stream",
     "text": [
      "21/21 [==============================] - 1s 31ms/step - loss: 6589.2944\n",
      "Epoch 179/250\n",
      " 6/21 [=======>......................] - ETA: 0s - loss: 6583.2163"
     ]
    },
    {
     "name": "stderr",
     "output_type": "stream",
     "text": [
      "2023-12-15 20:47:28.700470: I tensorflow/core/framework/local_rendezvous.cc:421] Local rendezvous recv item cancelled. Key hash: 2316493296872010628\n"
     ]
    },
    {
     "name": "stdout",
     "output_type": "stream",
     "text": [
      "21/21 [==============================] - 1s 31ms/step - loss: 6564.4937\n",
      "Epoch 180/250\n",
      " 6/21 [=======>......................] - ETA: 0s - loss: 6558.4517"
     ]
    },
    {
     "name": "stderr",
     "output_type": "stream",
     "text": [
      "2023-12-15 20:47:29.378524: I tensorflow/core/framework/local_rendezvous.cc:421] Local rendezvous recv item cancelled. Key hash: 2316493296872010628\n"
     ]
    },
    {
     "name": "stdout",
     "output_type": "stream",
     "text": [
      "21/21 [==============================] - 1s 31ms/step - loss: 6539.8799\n",
      "Epoch 181/250\n",
      " 6/21 [=======>......................] - ETA: 0s - loss: 6533.9033"
     ]
    },
    {
     "name": "stderr",
     "output_type": "stream",
     "text": [
      "2023-12-15 20:47:30.057141: I tensorflow/core/framework/local_rendezvous.cc:421] Local rendezvous recv item cancelled. Key hash: 2316493296872010628\n"
     ]
    },
    {
     "name": "stdout",
     "output_type": "stream",
     "text": [
      "21/21 [==============================] - 1s 31ms/step - loss: 6515.4766\n",
      "Epoch 182/250\n",
      " 6/21 [=======>......................] - ETA: 0s - loss: 6509.5259"
     ]
    },
    {
     "name": "stderr",
     "output_type": "stream",
     "text": [
      "2023-12-15 20:47:30.727301: I tensorflow/core/framework/local_rendezvous.cc:421] Local rendezvous recv item cancelled. Key hash: 2316493296872010628\n"
     ]
    },
    {
     "name": "stdout",
     "output_type": "stream",
     "text": [
      "21/21 [==============================] - 1s 31ms/step - loss: 6491.2471\n",
      "Epoch 183/250\n",
      " 6/21 [=======>......................] - ETA: 0s - loss: 6485.3540"
     ]
    },
    {
     "name": "stderr",
     "output_type": "stream",
     "text": [
      "2023-12-15 20:47:31.394414: I tensorflow/core/framework/local_rendezvous.cc:421] Local rendezvous recv item cancelled. Key hash: 2316493296872010628\n"
     ]
    },
    {
     "name": "stdout",
     "output_type": "stream",
     "text": [
      "21/21 [==============================] - 1s 31ms/step - loss: 6467.2451\n",
      "Epoch 184/250\n",
      " 6/21 [=======>......................] - ETA: 0s - loss: 6461.4126"
     ]
    },
    {
     "name": "stderr",
     "output_type": "stream",
     "text": [
      "2023-12-15 20:47:32.069500: I tensorflow/core/framework/local_rendezvous.cc:421] Local rendezvous recv item cancelled. Key hash: 2316493296872010628\n"
     ]
    },
    {
     "name": "stdout",
     "output_type": "stream",
     "text": [
      "21/21 [==============================] - 1s 30ms/step - loss: 6443.3999\n",
      "Epoch 185/250\n",
      " 6/21 [=======>......................] - ETA: 0s - loss: 6437.6250"
     ]
    },
    {
     "name": "stderr",
     "output_type": "stream",
     "text": [
      "2023-12-15 20:47:32.739027: I tensorflow/core/framework/local_rendezvous.cc:421] Local rendezvous recv item cancelled. Key hash: 2316493296872010628\n"
     ]
    },
    {
     "name": "stdout",
     "output_type": "stream",
     "text": [
      "21/21 [==============================] - 1s 31ms/step - loss: 6419.7783\n",
      "Epoch 186/250\n",
      " 4/21 [====>.........................] - ETA: 0s - loss: 6416.3413"
     ]
    },
    {
     "name": "stderr",
     "output_type": "stream",
     "text": [
      "2023-12-15 20:47:33.409811: I tensorflow/core/framework/local_rendezvous.cc:421] Local rendezvous recv item cancelled. Key hash: 2316493296872010628\n"
     ]
    },
    {
     "name": "stdout",
     "output_type": "stream",
     "text": [
      "21/21 [==============================] - 1s 31ms/step - loss: 6396.3335\n",
      "Epoch 187/250\n",
      " 4/21 [====>.........................] - ETA: 0s - loss: 6392.9258"
     ]
    },
    {
     "name": "stderr",
     "output_type": "stream",
     "text": [
      "2023-12-15 20:47:34.089830: I tensorflow/core/framework/local_rendezvous.cc:421] Local rendezvous recv item cancelled. Key hash: 2316493296872010628\n"
     ]
    },
    {
     "name": "stdout",
     "output_type": "stream",
     "text": [
      "21/21 [==============================] - 1s 31ms/step - loss: 6373.0879\n",
      "Epoch 188/250\n",
      " 4/21 [====>.........................] - ETA: 0s - loss: 6369.6851"
     ]
    },
    {
     "name": "stderr",
     "output_type": "stream",
     "text": [
      "2023-12-15 20:47:34.775338: I tensorflow/core/framework/local_rendezvous.cc:421] Local rendezvous recv item cancelled. Key hash: 2316493296872010628\n"
     ]
    },
    {
     "name": "stdout",
     "output_type": "stream",
     "text": [
      "21/21 [==============================] - 1s 30ms/step - loss: 6349.9463\n",
      "Epoch 189/250\n",
      " 4/21 [====>.........................] - ETA: 0s - loss: 6346.5947"
     ]
    },
    {
     "name": "stderr",
     "output_type": "stream",
     "text": [
      "2023-12-15 20:47:35.454184: I tensorflow/core/framework/local_rendezvous.cc:421] Local rendezvous recv item cancelled. Key hash: 2316493296872010628\n"
     ]
    },
    {
     "name": "stdout",
     "output_type": "stream",
     "text": [
      "21/21 [==============================] - 1s 30ms/step - loss: 6327.0654\n",
      "Epoch 190/250\n",
      " 4/21 [====>.........................] - ETA: 0s - loss: 6323.7197"
     ]
    },
    {
     "name": "stderr",
     "output_type": "stream",
     "text": [
      "2023-12-15 20:47:36.131757: I tensorflow/core/framework/local_rendezvous.cc:421] Local rendezvous recv item cancelled. Key hash: 2316493296872010628\n"
     ]
    },
    {
     "name": "stdout",
     "output_type": "stream",
     "text": [
      "21/21 [==============================] - 1s 30ms/step - loss: 6304.3511\n",
      "Epoch 191/250\n",
      " 4/21 [====>.........................] - ETA: 0s - loss: 6301.0361"
     ]
    },
    {
     "name": "stderr",
     "output_type": "stream",
     "text": [
      "2023-12-15 20:47:36.810547: I tensorflow/core/framework/local_rendezvous.cc:421] Local rendezvous recv item cancelled. Key hash: 2316493296872010628\n"
     ]
    },
    {
     "name": "stdout",
     "output_type": "stream",
     "text": [
      "21/21 [==============================] - 1s 31ms/step - loss: 6281.8091\n",
      "Epoch 192/250\n",
      " 4/21 [====>.........................] - ETA: 0s - loss: 6278.5298"
     ]
    },
    {
     "name": "stderr",
     "output_type": "stream",
     "text": [
      "2023-12-15 20:47:37.499410: I tensorflow/core/framework/local_rendezvous.cc:421] Local rendezvous recv item cancelled. Key hash: 2316493296872010628\n"
     ]
    },
    {
     "name": "stdout",
     "output_type": "stream",
     "text": [
      "21/21 [==============================] - 1s 31ms/step - loss: 6259.3950\n",
      "Epoch 193/250\n",
      " 4/21 [====>.........................] - ETA: 0s - loss: 6256.1343"
     ]
    },
    {
     "name": "stderr",
     "output_type": "stream",
     "text": [
      "2023-12-15 20:47:38.185739: I tensorflow/core/framework/local_rendezvous.cc:421] Local rendezvous recv item cancelled. Key hash: 2316493296872010628\n"
     ]
    },
    {
     "name": "stdout",
     "output_type": "stream",
     "text": [
      "21/21 [==============================] - 1s 31ms/step - loss: 6237.2046\n",
      "Epoch 194/250\n",
      " 4/21 [====>.........................] - ETA: 0s - loss: 6233.9756"
     ]
    },
    {
     "name": "stderr",
     "output_type": "stream",
     "text": [
      "2023-12-15 20:47:38.866872: I tensorflow/core/framework/local_rendezvous.cc:421] Local rendezvous recv item cancelled. Key hash: 2316493296872010628\n"
     ]
    },
    {
     "name": "stdout",
     "output_type": "stream",
     "text": [
      "21/21 [==============================] - 1s 31ms/step - loss: 6215.1616\n",
      "Epoch 195/250\n",
      " 4/21 [====>.........................] - ETA: 0s - loss: 6211.9277"
     ]
    },
    {
     "name": "stderr",
     "output_type": "stream",
     "text": [
      "2023-12-15 20:47:39.549293: I tensorflow/core/framework/local_rendezvous.cc:421] Local rendezvous recv item cancelled. Key hash: 2316493296872010628\n"
     ]
    },
    {
     "name": "stdout",
     "output_type": "stream",
     "text": [
      "21/21 [==============================] - 1s 31ms/step - loss: 6193.2671\n",
      "Epoch 196/250\n",
      " 4/21 [====>.........................] - ETA: 0s - loss: 6190.0923"
     ]
    },
    {
     "name": "stderr",
     "output_type": "stream",
     "text": [
      "2023-12-15 20:47:40.229436: I tensorflow/core/framework/local_rendezvous.cc:421] Local rendezvous recv item cancelled. Key hash: 2316493296872010628\n"
     ]
    },
    {
     "name": "stdout",
     "output_type": "stream",
     "text": [
      "21/21 [==============================] - 1s 30ms/step - loss: 6171.5845\n",
      "Epoch 197/250\n",
      " 4/21 [====>.........................] - ETA: 0s - loss: 6168.4375"
     ]
    },
    {
     "name": "stderr",
     "output_type": "stream",
     "text": [
      "2023-12-15 20:47:40.914266: I tensorflow/core/framework/local_rendezvous.cc:421] Local rendezvous recv item cancelled. Key hash: 2316493296872010628\n"
     ]
    },
    {
     "name": "stdout",
     "output_type": "stream",
     "text": [
      "21/21 [==============================] - 1s 30ms/step - loss: 6150.0596\n",
      "Epoch 198/250\n",
      " 4/21 [====>.........................] - ETA: 0s - loss: 6146.9331"
     ]
    },
    {
     "name": "stderr",
     "output_type": "stream",
     "text": [
      "2023-12-15 20:47:41.592283: I tensorflow/core/framework/local_rendezvous.cc:421] Local rendezvous recv item cancelled. Key hash: 2316493296872010628\n"
     ]
    },
    {
     "name": "stdout",
     "output_type": "stream",
     "text": [
      "21/21 [==============================] - 1s 31ms/step - loss: 6128.6855\n",
      "Epoch 199/250\n",
      " 4/21 [====>.........................] - ETA: 0s - loss: 6125.5737"
     ]
    },
    {
     "name": "stderr",
     "output_type": "stream",
     "text": [
      "2023-12-15 20:47:42.272890: I tensorflow/core/framework/local_rendezvous.cc:421] Local rendezvous recv item cancelled. Key hash: 2316493296872010628\n"
     ]
    },
    {
     "name": "stdout",
     "output_type": "stream",
     "text": [
      "21/21 [==============================] - 1s 30ms/step - loss: 6107.4873\n",
      "Epoch 200/250\n",
      "21/21 [==============================] - 1s 31ms/step - loss: 6086.4434\n",
      "Epoch 201/250\n",
      " 6/21 [=======>......................] - ETA: 0s - loss: 6081.3081"
     ]
    },
    {
     "name": "stderr",
     "output_type": "stream",
     "text": [
      "2023-12-15 20:47:43.625771: I tensorflow/core/framework/local_rendezvous.cc:421] Local rendezvous recv item cancelled. Key hash: 2316493296872010628\n"
     ]
    },
    {
     "name": "stdout",
     "output_type": "stream",
     "text": [
      "21/21 [==============================] - 1s 31ms/step - loss: 6065.5259\n",
      "Epoch 202/250\n",
      " 6/21 [=======>......................] - ETA: 0s - loss: 6060.4478"
     ]
    },
    {
     "name": "stderr",
     "output_type": "stream",
     "text": [
      "2023-12-15 20:47:44.296342: I tensorflow/core/framework/local_rendezvous.cc:421] Local rendezvous recv item cancelled. Key hash: 2316493296872010628\n"
     ]
    },
    {
     "name": "stdout",
     "output_type": "stream",
     "text": [
      "21/21 [==============================] - 1s 31ms/step - loss: 6044.7998\n",
      "Epoch 203/250\n",
      " 6/21 [=======>......................] - ETA: 0s - loss: 6039.7544"
     ]
    },
    {
     "name": "stderr",
     "output_type": "stream",
     "text": [
      "2023-12-15 20:47:44.972214: I tensorflow/core/framework/local_rendezvous.cc:421] Local rendezvous recv item cancelled. Key hash: 2316493296872010628\n"
     ]
    },
    {
     "name": "stdout",
     "output_type": "stream",
     "text": [
      "21/21 [==============================] - 1s 31ms/step - loss: 6024.2046\n",
      "Epoch 204/250\n",
      " 6/21 [=======>......................] - ETA: 0s - loss: 6019.1860"
     ]
    },
    {
     "name": "stderr",
     "output_type": "stream",
     "text": [
      "2023-12-15 20:47:45.649124: I tensorflow/core/framework/local_rendezvous.cc:421] Local rendezvous recv item cancelled. Key hash: 2316493296872010628\n"
     ]
    },
    {
     "name": "stdout",
     "output_type": "stream",
     "text": [
      "21/21 [==============================] - 1s 31ms/step - loss: 6003.7754\n",
      "Epoch 205/250\n",
      " 6/21 [=======>......................] - ETA: 0s - loss: 5998.7964"
     ]
    },
    {
     "name": "stderr",
     "output_type": "stream",
     "text": [
      "2023-12-15 20:47:46.323497: I tensorflow/core/framework/local_rendezvous.cc:421] Local rendezvous recv item cancelled. Key hash: 2316493296872010628\n"
     ]
    },
    {
     "name": "stdout",
     "output_type": "stream",
     "text": [
      "21/21 [==============================] - 1s 31ms/step - loss: 5983.4663\n",
      "Epoch 206/250\n",
      " 6/21 [=======>......................] - ETA: 0s - loss: 5978.5327"
     ]
    },
    {
     "name": "stderr",
     "output_type": "stream",
     "text": [
      "2023-12-15 20:47:47.006072: I tensorflow/core/framework/local_rendezvous.cc:421] Local rendezvous recv item cancelled. Key hash: 2316493296872010628\n"
     ]
    },
    {
     "name": "stdout",
     "output_type": "stream",
     "text": [
      "21/21 [==============================] - 1s 31ms/step - loss: 5963.3345\n",
      "Epoch 207/250\n",
      " 6/21 [=======>......................] - ETA: 0s - loss: 5958.4331"
     ]
    },
    {
     "name": "stderr",
     "output_type": "stream",
     "text": [
      "2023-12-15 20:47:47.688507: I tensorflow/core/framework/local_rendezvous.cc:421] Local rendezvous recv item cancelled. Key hash: 2316493296872010628\n"
     ]
    },
    {
     "name": "stdout",
     "output_type": "stream",
     "text": [
      "21/21 [==============================] - 1s 31ms/step - loss: 5943.3936\n",
      "Epoch 208/250\n",
      " 6/21 [=======>......................] - ETA: 0s - loss: 5938.5068"
     ]
    },
    {
     "name": "stderr",
     "output_type": "stream",
     "text": [
      "2023-12-15 20:47:48.366596: I tensorflow/core/framework/local_rendezvous.cc:421] Local rendezvous recv item cancelled. Key hash: 2316493296872010628\n"
     ]
    },
    {
     "name": "stdout",
     "output_type": "stream",
     "text": [
      "21/21 [==============================] - 1s 30ms/step - loss: 5923.5132\n",
      "Epoch 209/250\n",
      " 6/21 [=======>......................] - ETA: 0s - loss: 5918.6982"
     ]
    },
    {
     "name": "stderr",
     "output_type": "stream",
     "text": [
      "2023-12-15 20:47:49.036730: I tensorflow/core/framework/local_rendezvous.cc:421] Local rendezvous recv item cancelled. Key hash: 2316493296872010628\n"
     ]
    },
    {
     "name": "stdout",
     "output_type": "stream",
     "text": [
      "21/21 [==============================] - 1s 31ms/step - loss: 5903.8013\n",
      "Epoch 210/250\n",
      " 6/21 [=======>......................] - ETA: 0s - loss: 5899.0254"
     ]
    },
    {
     "name": "stderr",
     "output_type": "stream",
     "text": [
      "2023-12-15 20:47:49.718385: I tensorflow/core/framework/local_rendezvous.cc:421] Local rendezvous recv item cancelled. Key hash: 2316493296872010628\n"
     ]
    },
    {
     "name": "stdout",
     "output_type": "stream",
     "text": [
      "21/21 [==============================] - 1s 31ms/step - loss: 5884.2690\n",
      "Epoch 211/250\n",
      " 6/21 [=======>......................] - ETA: 0s - loss: 5879.4888"
     ]
    },
    {
     "name": "stderr",
     "output_type": "stream",
     "text": [
      "2023-12-15 20:47:50.399192: I tensorflow/core/framework/local_rendezvous.cc:421] Local rendezvous recv item cancelled. Key hash: 2316493296872010628\n"
     ]
    },
    {
     "name": "stdout",
     "output_type": "stream",
     "text": [
      "21/21 [==============================] - 1s 31ms/step - loss: 5864.8403\n",
      "Epoch 212/250\n",
      "21/21 [==============================] - 1s 31ms/step - loss: 5845.5869\n",
      "Epoch 213/250\n",
      " 6/21 [=======>......................] - ETA: 0s - loss: 5840.9077"
     ]
    },
    {
     "name": "stderr",
     "output_type": "stream",
     "text": [
      "2023-12-15 20:47:51.748313: I tensorflow/core/framework/local_rendezvous.cc:421] Local rendezvous recv item cancelled. Key hash: 2316493296872010628\n"
     ]
    },
    {
     "name": "stdout",
     "output_type": "stream",
     "text": [
      "21/21 [==============================] - 1s 31ms/step - loss: 5826.4834\n",
      "Epoch 214/250\n",
      " 6/21 [=======>......................] - ETA: 0s - loss: 5821.8257"
     ]
    },
    {
     "name": "stderr",
     "output_type": "stream",
     "text": [
      "2023-12-15 20:47:52.415090: I tensorflow/core/framework/local_rendezvous.cc:421] Local rendezvous recv item cancelled. Key hash: 2316493296872010628\n"
     ]
    },
    {
     "name": "stdout",
     "output_type": "stream",
     "text": [
      "21/21 [==============================] - 1s 30ms/step - loss: 5807.4673\n",
      "Epoch 215/250\n",
      " 6/21 [=======>......................] - ETA: 0s - loss: 5802.8496"
     ]
    },
    {
     "name": "stderr",
     "output_type": "stream",
     "text": [
      "2023-12-15 20:47:53.081012: I tensorflow/core/framework/local_rendezvous.cc:421] Local rendezvous recv item cancelled. Key hash: 2316493296872010628\n"
     ]
    },
    {
     "name": "stdout",
     "output_type": "stream",
     "text": [
      "21/21 [==============================] - 1s 31ms/step - loss: 5788.6260\n",
      "Epoch 216/250\n",
      " 6/21 [=======>......................] - ETA: 0s - loss: 5784.0420"
     ]
    },
    {
     "name": "stderr",
     "output_type": "stream",
     "text": [
      "2023-12-15 20:47:53.752427: I tensorflow/core/framework/local_rendezvous.cc:421] Local rendezvous recv item cancelled. Key hash: 2316493296872010628\n"
     ]
    },
    {
     "name": "stdout",
     "output_type": "stream",
     "text": [
      "21/21 [==============================] - 1s 31ms/step - loss: 5769.9072\n",
      "Epoch 217/250\n",
      " 6/21 [=======>......................] - ETA: 0s - loss: 5765.3452"
     ]
    },
    {
     "name": "stderr",
     "output_type": "stream",
     "text": [
      "2023-12-15 20:47:54.427120: I tensorflow/core/framework/local_rendezvous.cc:421] Local rendezvous recv item cancelled. Key hash: 2316493296872010628\n"
     ]
    },
    {
     "name": "stdout",
     "output_type": "stream",
     "text": [
      "21/21 [==============================] - 1s 30ms/step - loss: 5751.3115\n",
      "Epoch 218/250\n",
      " 6/21 [=======>......................] - ETA: 0s - loss: 5746.7808"
     ]
    },
    {
     "name": "stderr",
     "output_type": "stream",
     "text": [
      "2023-12-15 20:47:55.093697: I tensorflow/core/framework/local_rendezvous.cc:421] Local rendezvous recv item cancelled. Key hash: 2316493296872010628\n"
     ]
    },
    {
     "name": "stdout",
     "output_type": "stream",
     "text": [
      "21/21 [==============================] - 1s 30ms/step - loss: 5732.8608\n",
      "Epoch 219/250\n",
      " 6/21 [=======>......................] - ETA: 0s - loss: 5728.3574"
     ]
    },
    {
     "name": "stderr",
     "output_type": "stream",
     "text": [
      "2023-12-15 20:47:55.758233: I tensorflow/core/framework/local_rendezvous.cc:421] Local rendezvous recv item cancelled. Key hash: 2316493296872010628\n"
     ]
    },
    {
     "name": "stdout",
     "output_type": "stream",
     "text": [
      "21/21 [==============================] - 1s 31ms/step - loss: 5714.5435\n",
      "Epoch 220/250\n",
      " 6/21 [=======>......................] - ETA: 0s - loss: 5710.0752"
     ]
    },
    {
     "name": "stderr",
     "output_type": "stream",
     "text": [
      "2023-12-15 20:47:56.427582: I tensorflow/core/framework/local_rendezvous.cc:421] Local rendezvous recv item cancelled. Key hash: 2316493296872010628\n"
     ]
    },
    {
     "name": "stdout",
     "output_type": "stream",
     "text": [
      "21/21 [==============================] - 1s 31ms/step - loss: 5696.3169\n",
      "Epoch 221/250\n",
      " 4/21 [====>.........................] - ETA: 0s - loss: 5693.6675"
     ]
    },
    {
     "name": "stderr",
     "output_type": "stream",
     "text": [
      "2023-12-15 20:47:57.098698: I tensorflow/core/framework/local_rendezvous.cc:421] Local rendezvous recv item cancelled. Key hash: 2316493296872010628\n"
     ]
    },
    {
     "name": "stdout",
     "output_type": "stream",
     "text": [
      "21/21 [==============================] - 1s 31ms/step - loss: 5678.1885\n",
      "Epoch 222/250\n",
      " 6/21 [=======>......................] - ETA: 0s - loss: 5673.7856"
     ]
    },
    {
     "name": "stderr",
     "output_type": "stream",
     "text": [
      "2023-12-15 20:47:57.781370: I tensorflow/core/framework/local_rendezvous.cc:421] Local rendezvous recv item cancelled. Key hash: 2316493296872010628\n"
     ]
    },
    {
     "name": "stdout",
     "output_type": "stream",
     "text": [
      "21/21 [==============================] - 1s 31ms/step - loss: 5660.2568\n",
      "Epoch 223/250\n",
      " 6/21 [=======>......................] - ETA: 0s - loss: 5655.8916"
     ]
    },
    {
     "name": "stderr",
     "output_type": "stream",
     "text": [
      "2023-12-15 20:47:58.447402: I tensorflow/core/framework/local_rendezvous.cc:421] Local rendezvous recv item cancelled. Key hash: 2316493296872010628\n"
     ]
    },
    {
     "name": "stdout",
     "output_type": "stream",
     "text": [
      "21/21 [==============================] - 1s 31ms/step - loss: 5642.4365\n",
      "Epoch 224/250\n",
      " 6/21 [=======>......................] - ETA: 0s - loss: 5638.0762"
     ]
    },
    {
     "name": "stderr",
     "output_type": "stream",
     "text": [
      "2023-12-15 20:47:59.120930: I tensorflow/core/framework/local_rendezvous.cc:421] Local rendezvous recv item cancelled. Key hash: 2316493296872010628\n"
     ]
    },
    {
     "name": "stdout",
     "output_type": "stream",
     "text": [
      "21/21 [==============================] - 1s 31ms/step - loss: 5624.7007\n",
      "Epoch 225/250\n",
      " 6/21 [=======>......................] - ETA: 0s - loss: 5620.3804"
     ]
    },
    {
     "name": "stderr",
     "output_type": "stream",
     "text": [
      "2023-12-15 20:47:59.797605: I tensorflow/core/framework/local_rendezvous.cc:421] Local rendezvous recv item cancelled. Key hash: 2316493296872010628\n"
     ]
    },
    {
     "name": "stdout",
     "output_type": "stream",
     "text": [
      "21/21 [==============================] - 1s 31ms/step - loss: 5607.1455\n",
      "Epoch 226/250\n",
      " 6/21 [=======>......................] - ETA: 0s - loss: 5602.8496"
     ]
    },
    {
     "name": "stderr",
     "output_type": "stream",
     "text": [
      "2023-12-15 20:48:00.463633: I tensorflow/core/framework/local_rendezvous.cc:421] Local rendezvous recv item cancelled. Key hash: 2316493296872010628\n"
     ]
    },
    {
     "name": "stdout",
     "output_type": "stream",
     "text": [
      "21/21 [==============================] - 1s 31ms/step - loss: 5589.6475\n",
      "Epoch 227/250\n",
      " 6/21 [=======>......................] - ETA: 0s - loss: 5585.3872"
     ]
    },
    {
     "name": "stderr",
     "output_type": "stream",
     "text": [
      "2023-12-15 20:48:01.138714: I tensorflow/core/framework/local_rendezvous.cc:421] Local rendezvous recv item cancelled. Key hash: 2316493296872010628\n"
     ]
    },
    {
     "name": "stdout",
     "output_type": "stream",
     "text": [
      "21/21 [==============================] - 1s 31ms/step - loss: 5572.3047\n",
      "Epoch 228/250\n",
      " 6/21 [=======>......................] - ETA: 0s - loss: 5568.0703"
     ]
    },
    {
     "name": "stderr",
     "output_type": "stream",
     "text": [
      "2023-12-15 20:48:01.809492: I tensorflow/core/framework/local_rendezvous.cc:421] Local rendezvous recv item cancelled. Key hash: 2316493296872010628\n"
     ]
    },
    {
     "name": "stdout",
     "output_type": "stream",
     "text": [
      "21/21 [==============================] - 1s 30ms/step - loss: 5555.0957\n",
      "Epoch 229/250\n",
      " 6/21 [=======>......................] - ETA: 0s - loss: 5550.8896"
     ]
    },
    {
     "name": "stderr",
     "output_type": "stream",
     "text": [
      "2023-12-15 20:48:02.478413: I tensorflow/core/framework/local_rendezvous.cc:421] Local rendezvous recv item cancelled. Key hash: 2316493296872010628\n"
     ]
    },
    {
     "name": "stdout",
     "output_type": "stream",
     "text": [
      "21/21 [==============================] - 1s 31ms/step - loss: 5537.9814\n",
      "Epoch 230/250\n",
      " 6/21 [=======>......................] - ETA: 0s - loss: 5533.7959"
     ]
    },
    {
     "name": "stderr",
     "output_type": "stream",
     "text": [
      "2023-12-15 20:48:03.148236: I tensorflow/core/framework/local_rendezvous.cc:421] Local rendezvous recv item cancelled. Key hash: 2316493296872010628\n"
     ]
    },
    {
     "name": "stdout",
     "output_type": "stream",
     "text": [
      "21/21 [==============================] - 1s 31ms/step - loss: 5520.9961\n",
      "Epoch 231/250\n",
      " 6/21 [=======>......................] - ETA: 0s - loss: 5516.8599"
     ]
    },
    {
     "name": "stderr",
     "output_type": "stream",
     "text": [
      "2023-12-15 20:48:03.818214: I tensorflow/core/framework/local_rendezvous.cc:421] Local rendezvous recv item cancelled. Key hash: 2316493296872010628\n"
     ]
    },
    {
     "name": "stdout",
     "output_type": "stream",
     "text": [
      "21/21 [==============================] - 1s 31ms/step - loss: 5504.1284\n",
      "Epoch 232/250\n",
      " 6/21 [=======>......................] - ETA: 0s - loss: 5500.0229"
     ]
    },
    {
     "name": "stderr",
     "output_type": "stream",
     "text": [
      "2023-12-15 20:48:04.492331: I tensorflow/core/framework/local_rendezvous.cc:421] Local rendezvous recv item cancelled. Key hash: 2316493296872010628\n"
     ]
    },
    {
     "name": "stdout",
     "output_type": "stream",
     "text": [
      "21/21 [==============================] - 1s 31ms/step - loss: 5487.3589\n",
      "Epoch 233/250\n",
      " 6/21 [=======>......................] - ETA: 0s - loss: 5483.2583"
     ]
    },
    {
     "name": "stderr",
     "output_type": "stream",
     "text": [
      "2023-12-15 20:48:05.164359: I tensorflow/core/framework/local_rendezvous.cc:421] Local rendezvous recv item cancelled. Key hash: 2316493296872010628\n"
     ]
    },
    {
     "name": "stdout",
     "output_type": "stream",
     "text": [
      "21/21 [==============================] - 1s 31ms/step - loss: 5470.6870\n",
      "Epoch 234/250\n",
      " 6/21 [=======>......................] - ETA: 0s - loss: 5466.6050"
     ]
    },
    {
     "name": "stderr",
     "output_type": "stream",
     "text": [
      "2023-12-15 20:48:05.837602: I tensorflow/core/framework/local_rendezvous.cc:421] Local rendezvous recv item cancelled. Key hash: 2316493296872010628\n"
     ]
    },
    {
     "name": "stdout",
     "output_type": "stream",
     "text": [
      "21/21 [==============================] - 1s 31ms/step - loss: 5454.1406\n",
      "Epoch 235/250\n",
      " 6/21 [=======>......................] - ETA: 0s - loss: 5450.1152"
     ]
    },
    {
     "name": "stderr",
     "output_type": "stream",
     "text": [
      "2023-12-15 20:48:06.515424: I tensorflow/core/framework/local_rendezvous.cc:421] Local rendezvous recv item cancelled. Key hash: 2316493296872010628\n"
     ]
    },
    {
     "name": "stdout",
     "output_type": "stream",
     "text": [
      "21/21 [==============================] - 1s 31ms/step - loss: 5437.7432\n",
      "Epoch 236/250\n",
      " 6/21 [=======>......................] - ETA: 0s - loss: 5433.7417"
     ]
    },
    {
     "name": "stderr",
     "output_type": "stream",
     "text": [
      "2023-12-15 20:48:07.185788: I tensorflow/core/framework/local_rendezvous.cc:421] Local rendezvous recv item cancelled. Key hash: 2316493296872010628\n"
     ]
    },
    {
     "name": "stdout",
     "output_type": "stream",
     "text": [
      "21/21 [==============================] - 1s 31ms/step - loss: 5421.4385\n",
      "Epoch 237/250\n",
      " 6/21 [=======>......................] - ETA: 0s - loss: 5417.4692"
     ]
    },
    {
     "name": "stderr",
     "output_type": "stream",
     "text": [
      "2023-12-15 20:48:07.850797: I tensorflow/core/framework/local_rendezvous.cc:421] Local rendezvous recv item cancelled. Key hash: 2316493296872010628\n"
     ]
    },
    {
     "name": "stdout",
     "output_type": "stream",
     "text": [
      "21/21 [==============================] - 1s 31ms/step - loss: 5405.2427\n",
      "Epoch 238/250\n",
      " 6/21 [=======>......................] - ETA: 0s - loss: 5401.2871"
     ]
    },
    {
     "name": "stderr",
     "output_type": "stream",
     "text": [
      "2023-12-15 20:48:08.524530: I tensorflow/core/framework/local_rendezvous.cc:421] Local rendezvous recv item cancelled. Key hash: 2316493296872010628\n"
     ]
    },
    {
     "name": "stdout",
     "output_type": "stream",
     "text": [
      "21/21 [==============================] - 1s 31ms/step - loss: 5389.1455\n",
      "Epoch 239/250\n",
      " 6/21 [=======>......................] - ETA: 0s - loss: 5385.2124"
     ]
    },
    {
     "name": "stderr",
     "output_type": "stream",
     "text": [
      "2023-12-15 20:48:09.200159: I tensorflow/core/framework/local_rendezvous.cc:421] Local rendezvous recv item cancelled. Key hash: 2316493296872010628\n"
     ]
    },
    {
     "name": "stdout",
     "output_type": "stream",
     "text": [
      "21/21 [==============================] - 1s 31ms/step - loss: 5373.1680\n",
      "Epoch 240/250\n",
      " 6/21 [=======>......................] - ETA: 0s - loss: 5369.2817"
     ]
    },
    {
     "name": "stderr",
     "output_type": "stream",
     "text": [
      "2023-12-15 20:48:09.874172: I tensorflow/core/framework/local_rendezvous.cc:421] Local rendezvous recv item cancelled. Key hash: 2316493296872010628\n"
     ]
    },
    {
     "name": "stdout",
     "output_type": "stream",
     "text": [
      "21/21 [==============================] - 1s 31ms/step - loss: 5357.3052\n",
      "Epoch 241/250\n",
      " 6/21 [=======>......................] - ETA: 0s - loss: 5353.4204"
     ]
    },
    {
     "name": "stderr",
     "output_type": "stream",
     "text": [
      "2023-12-15 20:48:10.549198: I tensorflow/core/framework/local_rendezvous.cc:421] Local rendezvous recv item cancelled. Key hash: 2316493296872010628\n"
     ]
    },
    {
     "name": "stdout",
     "output_type": "stream",
     "text": [
      "21/21 [==============================] - 1s 30ms/step - loss: 5341.4990\n",
      "Epoch 242/250\n",
      " 6/21 [=======>......................] - ETA: 0s - loss: 5337.6631"
     ]
    },
    {
     "name": "stderr",
     "output_type": "stream",
     "text": [
      "2023-12-15 20:48:11.222475: I tensorflow/core/framework/local_rendezvous.cc:421] Local rendezvous recv item cancelled. Key hash: 2316493296872010628\n"
     ]
    },
    {
     "name": "stdout",
     "output_type": "stream",
     "text": [
      "21/21 [==============================] - 1s 31ms/step - loss: 5325.8364\n",
      "Epoch 243/250\n",
      " 4/21 [====>.........................] - ETA: 0s - loss: 5323.5327"
     ]
    },
    {
     "name": "stderr",
     "output_type": "stream",
     "text": [
      "2023-12-15 20:48:11.897758: I tensorflow/core/framework/local_rendezvous.cc:421] Local rendezvous recv item cancelled. Key hash: 2316493296872010628\n"
     ]
    },
    {
     "name": "stdout",
     "output_type": "stream",
     "text": [
      "21/21 [==============================] - 1s 31ms/step - loss: 5310.2310\n",
      "Epoch 244/250\n",
      " 6/21 [=======>......................] - ETA: 0s - loss: 5306.4194"
     ]
    },
    {
     "name": "stderr",
     "output_type": "stream",
     "text": [
      "2023-12-15 20:48:12.577500: I tensorflow/core/framework/local_rendezvous.cc:421] Local rendezvous recv item cancelled. Key hash: 2316493296872010628\n"
     ]
    },
    {
     "name": "stdout",
     "output_type": "stream",
     "text": [
      "21/21 [==============================] - 1s 30ms/step - loss: 5294.7412\n",
      "Epoch 245/250\n",
      " 6/21 [=======>......................] - ETA: 0s - loss: 5290.9619"
     ]
    },
    {
     "name": "stderr",
     "output_type": "stream",
     "text": [
      "2023-12-15 20:48:13.245485: I tensorflow/core/framework/local_rendezvous.cc:421] Local rendezvous recv item cancelled. Key hash: 2316493296872010628\n"
     ]
    },
    {
     "name": "stdout",
     "output_type": "stream",
     "text": [
      "21/21 [==============================] - 1s 31ms/step - loss: 5279.3730\n",
      "Epoch 246/250\n",
      " 6/21 [=======>......................] - ETA: 0s - loss: 5275.6040"
     ]
    },
    {
     "name": "stderr",
     "output_type": "stream",
     "text": [
      "2023-12-15 20:48:13.915406: I tensorflow/core/framework/local_rendezvous.cc:421] Local rendezvous recv item cancelled. Key hash: 2316493296872010628\n"
     ]
    },
    {
     "name": "stdout",
     "output_type": "stream",
     "text": [
      "21/21 [==============================] - 1s 30ms/step - loss: 5264.0889\n",
      "Epoch 247/250\n",
      " 6/21 [=======>......................] - ETA: 0s - loss: 5260.3774"
     ]
    },
    {
     "name": "stderr",
     "output_type": "stream",
     "text": [
      "2023-12-15 20:48:14.577473: I tensorflow/core/framework/local_rendezvous.cc:421] Local rendezvous recv item cancelled. Key hash: 2316493296872010628\n"
     ]
    },
    {
     "name": "stdout",
     "output_type": "stream",
     "text": [
      "21/21 [==============================] - 1s 30ms/step - loss: 5248.9106\n",
      "Epoch 248/250\n",
      " 6/21 [=======>......................] - ETA: 0s - loss: 5245.2061"
     ]
    },
    {
     "name": "stderr",
     "output_type": "stream",
     "text": [
      "2023-12-15 20:48:15.243640: I tensorflow/core/framework/local_rendezvous.cc:421] Local rendezvous recv item cancelled. Key hash: 2316493296872010628\n"
     ]
    },
    {
     "name": "stdout",
     "output_type": "stream",
     "text": [
      "21/21 [==============================] - 1s 30ms/step - loss: 5233.8672\n",
      "Epoch 249/250\n",
      " 6/21 [=======>......................] - ETA: 0s - loss: 5230.1821"
     ]
    },
    {
     "name": "stderr",
     "output_type": "stream",
     "text": [
      "2023-12-15 20:48:15.916633: I tensorflow/core/framework/local_rendezvous.cc:421] Local rendezvous recv item cancelled. Key hash: 2316493296872010628\n"
     ]
    },
    {
     "name": "stdout",
     "output_type": "stream",
     "text": [
      "21/21 [==============================] - 1s 31ms/step - loss: 5218.8921\n",
      "Epoch 250/250\n",
      " 4/21 [====>.........................] - ETA: 0s - loss: 5216.6855"
     ]
    },
    {
     "name": "stderr",
     "output_type": "stream",
     "text": [
      "2023-12-15 20:48:16.592847: I tensorflow/core/framework/local_rendezvous.cc:421] Local rendezvous recv item cancelled. Key hash: 2316493296872010628\n"
     ]
    },
    {
     "name": "stdout",
     "output_type": "stream",
     "text": [
      "21/21 [==============================] - 1s 31ms/step - loss: 5203.9648\n"
     ]
    },
    {
     "name": "stderr",
     "output_type": "stream",
     "text": [
      "2023-12-15 20:48:17.278801: I tensorflow/core/framework/local_rendezvous.cc:421] Local rendezvous recv item cancelled. Key hash: 2316493296872010628\n"
     ]
    },
    {
     "data": {
      "text/plain": [
       "<tensorflow.python.keras.callbacks.History at 0x7fb18c6911b0>"
      ]
     },
     "execution_count": 28,
     "metadata": {},
     "output_type": "execute_result"
    }
   ],
   "source": [
    "# Fit the model\n",
    "model.fit(\n",
    "    X_train,\n",
    "    batch_size=32768, # int(X_train.shape[0] / 50),\n",
    "    epochs=250,  # Number of training epochs\n",
    "    verbose=True  # Enable stdout messages\n",
    ")"
   ]
  },
  {
   "cell_type": "code",
   "execution_count": 29,
   "metadata": {},
   "outputs": [],
   "source": [
    "model_filename = \"../kg_embedding_model\""
   ]
  },
  {
   "cell_type": "code",
   "execution_count": 30,
   "metadata": {},
   "outputs": [],
   "source": [
    "save_model(model, model_filename)"
   ]
  },
  {
   "cell_type": "code",
   "execution_count": 31,
   "metadata": {},
   "outputs": [
    {
     "name": "stdout",
     "output_type": "stream",
     "text": [
      "Saved model does not include a db file. Skipping.\n"
     ]
    }
   ],
   "source": [
    "model = restore_model(model_filename)"
   ]
  },
  {
   "cell_type": "code",
   "execution_count": 32,
   "metadata": {},
   "outputs": [
    {
     "name": "stdout",
     "output_type": "stream",
     "text": [
      "314/314 [==============================] - 139s 442ms/step\n"
     ]
    },
    {
     "name": "stderr",
     "output_type": "stream",
     "text": [
      "2023-12-15 20:50:51.292682: I tensorflow/core/framework/local_rendezvous.cc:421] Local rendezvous recv item cancelled. Key hash: 14338896086897455289\n",
      "2023-12-15 20:50:51.292714: I tensorflow/core/framework/local_rendezvous.cc:421] Local rendezvous recv item cancelled. Key hash: 2711285106312024443\n",
      "2023-12-15 20:50:51.292723: I tensorflow/core/framework/local_rendezvous.cc:425] Local rendezvous send item cancelled. Key hash: 1510735857913000203\n",
      "2023-12-15 20:50:51.292730: I tensorflow/core/framework/local_rendezvous.cc:421] Local rendezvous recv item cancelled. Key hash: 12038143092803506841\n",
      "2023-12-15 20:50:51.292741: I tensorflow/core/framework/local_rendezvous.cc:421] Local rendezvous recv item cancelled. Key hash: 4961210773088016675\n",
      "2023-12-15 20:50:51.292750: I tensorflow/core/framework/local_rendezvous.cc:425] Local rendezvous send item cancelled. Key hash: 14745103191221545607\n",
      "2023-12-15 20:50:51.292762: I tensorflow/core/framework/local_rendezvous.cc:421] Local rendezvous recv item cancelled. Key hash: 1629563074643029801\n",
      "2023-12-15 20:50:51.292800: I tensorflow/core/framework/local_rendezvous.cc:421] Local rendezvous recv item cancelled. Key hash: 16647122861760475554\n",
      "2023-12-15 20:50:51.292814: I tensorflow/core/framework/local_rendezvous.cc:421] Local rendezvous recv item cancelled. Key hash: 1866504606450004472\n",
      "2023-12-15 20:50:51.292824: I tensorflow/core/framework/local_rendezvous.cc:425] Local rendezvous send item cancelled. Key hash: 8203079241073322776\n",
      "2023-12-15 20:50:51.292834: I tensorflow/core/framework/local_rendezvous.cc:425] Local rendezvous send item cancelled. Key hash: 1465259073063887726\n",
      "2023-12-15 20:50:51.292846: I tensorflow/core/framework/local_rendezvous.cc:421] Local rendezvous recv item cancelled. Key hash: 827772517248278970\n"
     ]
    }
   ],
   "source": [
    "filter_triples = {'test': np.concatenate((X_train, X_valid))}\n",
    "ranks = model.evaluate(\n",
    "    X_valid, use_filter=filter_triples, verbose=True\n",
    ")"
   ]
  },
  {
   "cell_type": "code",
   "execution_count": 33,
   "metadata": {},
   "outputs": [
    {
     "name": "stdout",
     "output_type": "stream",
     "text": [
      "MRR: 0.13\n",
      "MR: 13652.61\n"
     ]
    }
   ],
   "source": [
    "mr = mr_score(ranks)\n",
    "mrr = mrr_score(ranks)\n",
    "print(f\"MRR: {mrr:.2f}\")\n",
    "print(f\"MR: {mr:.2f}\")"
   ]
  },
  {
   "cell_type": "code",
   "execution_count": 34,
   "metadata": {},
   "outputs": [
    {
     "name": "stdout",
     "output_type": "stream",
     "text": [
      "Hits@10: 0.16\n",
      "Hits@3: 0.13\n",
      "Hits@1: 0.11\n"
     ]
    }
   ],
   "source": [
    "hits_10 = hits_at_n_score(ranks, n=10)\n",
    "hits_3 = hits_at_n_score(ranks, n=3)\n",
    "hits_1 = hits_at_n_score(ranks, n=1)\n",
    "print(f\"Hits@10: {hits_10:.2f}\")\n",
    "print(f\"Hits@3: {hits_3:.2f}\")\n",
    "print(f\"Hits@1: {hits_1:.2f}\")"
   ]
  },
  {
   "cell_type": "code",
   "execution_count": 35,
   "metadata": {},
   "outputs": [
    {
     "data": {
      "text/html": [
       "<div>\n",
       "<style scoped>\n",
       "    .dataframe tbody tr th:only-of-type {\n",
       "        vertical-align: middle;\n",
       "    }\n",
       "\n",
       "    .dataframe tbody tr th {\n",
       "        vertical-align: top;\n",
       "    }\n",
       "\n",
       "    .dataframe thead th {\n",
       "        text-align: right;\n",
       "    }\n",
       "</style>\n",
       "<table border=\"1\" class=\"dataframe\">\n",
       "  <thead>\n",
       "    <tr style=\"text-align: right;\">\n",
       "      <th></th>\n",
       "      <th>subject</th>\n",
       "      <th>predicate</th>\n",
       "      <th>object</th>\n",
       "    </tr>\n",
       "  </thead>\n",
       "  <tbody>\n",
       "    <tr>\n",
       "      <th>14</th>\n",
       "      <td>track_1t69D7JG0sLnDC8K0djcYp</td>\n",
       "      <td>name</td>\n",
       "      <td>Hermoðr á Helferð</td>\n",
       "    </tr>\n",
       "    <tr>\n",
       "      <th>19</th>\n",
       "      <td>track_3468bBObKa4GWbrDmTZr1n</td>\n",
       "      <td>name</td>\n",
       "      <td>I Don't Feel Very Receptive Today</td>\n",
       "    </tr>\n",
       "    <tr>\n",
       "      <th>203</th>\n",
       "      <td>track_26xoMNdst0xb40gojN9IKa</td>\n",
       "      <td>name</td>\n",
       "      <td>Insekter</td>\n",
       "    </tr>\n",
       "    <tr>\n",
       "      <th>239</th>\n",
       "      <td>track_0pVxR2gyRnEOz8xbZAqoYE</td>\n",
       "      <td>name</td>\n",
       "      <td>Love In Plaster</td>\n",
       "    </tr>\n",
       "    <tr>\n",
       "      <th>251</th>\n",
       "      <td>track_0IdeF8Sta8uDzB4pxnIPu5</td>\n",
       "      <td>name</td>\n",
       "      <td>The Slumber of Yesteryears</td>\n",
       "    </tr>\n",
       "    <tr>\n",
       "      <th>...</th>\n",
       "      <td>...</td>\n",
       "      <td>...</td>\n",
       "      <td>...</td>\n",
       "    </tr>\n",
       "    <tr>\n",
       "      <th>795243</th>\n",
       "      <td>track_0HDWhbFlU3QPPFjTCGWk2m</td>\n",
       "      <td>name</td>\n",
       "      <td>I Want You</td>\n",
       "    </tr>\n",
       "    <tr>\n",
       "      <th>795308</th>\n",
       "      <td>track_02kAucMDgjKBsnaJHynSUi</td>\n",
       "      <td>name</td>\n",
       "      <td>My Sacrifice</td>\n",
       "    </tr>\n",
       "    <tr>\n",
       "      <th>795309</th>\n",
       "      <td>track_6NJx8WlRthw0q99SdKjT0T</td>\n",
       "      <td>name</td>\n",
       "      <td>According to Columbus</td>\n",
       "    </tr>\n",
       "    <tr>\n",
       "      <th>795324</th>\n",
       "      <td>track_6OzNUyileilgx2xvUs0d4H</td>\n",
       "      <td>name</td>\n",
       "      <td>Slave Machinery</td>\n",
       "    </tr>\n",
       "    <tr>\n",
       "      <th>795325</th>\n",
       "      <td>track_3E0ojNxrCXTB2ry8G4mPPL</td>\n",
       "      <td>name</td>\n",
       "      <td>The Land</td>\n",
       "    </tr>\n",
       "  </tbody>\n",
       "</table>\n",
       "<p>28757 rows × 3 columns</p>\n",
       "</div>"
      ],
      "text/plain": [
       "                             subject predicate  \\\n",
       "14      track_1t69D7JG0sLnDC8K0djcYp      name   \n",
       "19      track_3468bBObKa4GWbrDmTZr1n      name   \n",
       "203     track_26xoMNdst0xb40gojN9IKa      name   \n",
       "239     track_0pVxR2gyRnEOz8xbZAqoYE      name   \n",
       "251     track_0IdeF8Sta8uDzB4pxnIPu5      name   \n",
       "...                              ...       ...   \n",
       "795243  track_0HDWhbFlU3QPPFjTCGWk2m      name   \n",
       "795308  track_02kAucMDgjKBsnaJHynSUi      name   \n",
       "795309  track_6NJx8WlRthw0q99SdKjT0T      name   \n",
       "795324  track_6OzNUyileilgx2xvUs0d4H      name   \n",
       "795325  track_3E0ojNxrCXTB2ry8G4mPPL      name   \n",
       "\n",
       "                                   object  \n",
       "14                      Hermoðr á Helferð  \n",
       "19      I Don't Feel Very Receptive Today  \n",
       "203                              Insekter  \n",
       "239                       Love In Plaster  \n",
       "251            The Slumber of Yesteryears  \n",
       "...                                   ...  \n",
       "795243                         I Want You  \n",
       "795308                       My Sacrifice  \n",
       "795309              According to Columbus  \n",
       "795324                    Slave Machinery  \n",
       "795325                           The Land  \n",
       "\n",
       "[28757 rows x 3 columns]"
      ]
     },
     "execution_count": 35,
     "metadata": {},
     "output_type": "execute_result"
    }
   ],
   "source": [
    "triples_df[(triples_df[\"predicate\"] == \"name\") & triples_df[\"subject\"].str.startswith(\"track\")]"
   ]
  },
  {
   "cell_type": "code",
   "execution_count": 251,
   "metadata": {},
   "outputs": [],
   "source": [
    "df = pd.read_csv(\n",
    "    '../data/final_df.csv', \n",
    "    usecols=['name', 'artist', 'track_id', 'spotify_id', 'genre', 'year']\n",
    ")"
   ]
  },
  {
   "cell_type": "code",
   "execution_count": 252,
   "metadata": {},
   "outputs": [],
   "source": [
    "data_test = data_test[data_test['predicate']=='danceability']\n",
    "test_tracks = set(data_test.map(lambda x: str(x).lstrip('track_'))['subject'].values)"
   ]
  },
  {
   "cell_type": "code",
   "execution_count": 253,
   "metadata": {},
   "outputs": [],
   "source": [
    "df.dropna(subset=['genre', 'year'], inplace=True)\n",
    "df.drop_duplicates(inplace=True)"
   ]
  },
  {
   "cell_type": "code",
   "execution_count": 254,
   "metadata": {},
   "outputs": [],
   "source": [
    "df = df[df['spotify_id'].isin(list(test_tracks))]"
   ]
  },
  {
   "cell_type": "code",
   "execution_count": 278,
   "metadata": {},
   "outputs": [
    {
     "name": "stdout",
     "output_type": "stream",
     "text": [
      "\n",
      "1 entities with invalid keys skipped!\n",
      "\n",
      "1 entities with invalid keys skipped!\n",
      "\n",
      "1 entities with invalid keys skipped!\n",
      "\n",
      "1 entities with invalid keys skipped!\n",
      "\n",
      "1 entities with invalid keys skipped!\n",
      "\n",
      "1 entities with invalid keys skipped!\n"
     ]
    }
   ],
   "source": [
    "tracks = df['name'].values\n",
    "genres = df['genre'].values\n",
    "tracks_names = []\n",
    "genre_names = []\n",
    "track_embeddings = []\n",
    "for i, t in enumerate(tracks):\n",
    "    try:\n",
    "        emb = model.get_embeddings([t])[0]\n",
    "        track_embeddings.append(emb)\n",
    "        genre_names.append(genres[i])\n",
    "        tracks_names.append(t)\n",
    "    except:\n",
    "        pass\n",
    "track_embeddings = dict(zip(tracks_names, track_embeddings))\n",
    "embeddings_2d = PCA(n_components=2).fit_transform(np.array([i for i in track_embeddings.values()]))\n",
    "clustering_algorithm = KMeans(n_clusters=6, n_init=50, max_iter=500, random_state=0)\n",
    "clusters = find_clusters(np.array(tracks_names), model, clustering_algorithm, mode='e')"
   ]
  },
  {
   "cell_type": "code",
   "execution_count": 280,
   "metadata": {},
   "outputs": [],
   "source": [
    "plot_df = pd.DataFrame({\n",
    "    \"tracks\": np.array(tracks_names),\n",
    "    \"embedding1\": embeddings_2d[:, 0],\n",
    "    \"embedding2\": embeddings_2d[:, 1],\n",
    "    \"genre\": genre_names,\n",
    "    \"cluster\": \"cluster\" + pd.Series(clusters).astype(str)\n",
    "})"
   ]
  },
  {
   "cell_type": "code",
   "execution_count": 282,
   "metadata": {},
   "outputs": [],
   "source": [
    "def plot_clusters(hue):\n",
    "    np.random.seed(0)\n",
    "    plt.figure(figsize=(12, 12))\n",
    "    plt.title(\"{} embeddings\".format(hue).capitalize())\n",
    "    ax = sns.scatterplot(data=plot_df, x=\"embedding1\", y=\"embedding2\", hue=hue)"
   ]
  },
  {
   "cell_type": "code",
   "execution_count": 283,
   "metadata": {},
   "outputs": [
    {
     "data": {
      "image/png": "[encoded data removed]",
      "text/plain": [
       "<Figure size 1200x1200 with 1 Axes>"
      ]
     },
     "metadata": {},
     "output_type": "display_data"
    }
   ],
   "source": [
    "plot_clusters(\"genre\")"
   ]
  },
  {
   "cell_type": "code",
   "execution_count": 284,
   "metadata": {},
   "outputs": [
    {
     "data": {
      "image/png": "[encoded data removed]",
      "text/plain": [
       "<Figure size 1200x1200 with 1 Axes>"
      ]
     },
     "metadata": {},
     "output_type": "display_data"
    }
   ],
   "source": [
    "plot_clusters(\"cluster\")"
   ]
  },
  {
   "cell_type": "code",
   "execution_count": 229,
   "metadata": {},
   "outputs": [
    {
     "data": {
      "text/plain": [
       "0.0013272650481271945"
      ]
     },
     "execution_count": 229,
     "metadata": {},
     "output_type": "execute_result"
    }
   ],
   "source": [
    "metrics.adjusted_rand_score(plot_df.genre, plot_df.cluster)"
   ]
  }
 ],
 "metadata": {
  "kernelspec": {
   "display_name": "venv",
   "language": "python",
   "name": "python3"
  },
  "language_info": {
   "codemirror_mode": {
    "name": "ipython",
    "version": 3
   },
   "file_extension": ".py",
   "mimetype": "text/x-python",
   "name": "python",
   "nbconvert_exporter": "python",
   "pygments_lexer": "ipython3",
   "version": "3.10.12"
  }
 },
 "nbformat": 4,
 "nbformat_minor": 2
}
