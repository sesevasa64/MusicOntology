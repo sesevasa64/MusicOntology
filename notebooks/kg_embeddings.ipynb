{
 "cells": [
  {
   "cell_type": "code",
   "execution_count": 24,
   "metadata": {},
   "outputs": [],
   "source": [
    "import numpy as np\n",
    "import pandas as pd\n",
    "import tensorflow as tf\n",
    "from rdflib import Graph\n",
    "from ampligraph.utils import save_model, restore_model\n",
    "from ampligraph.evaluation import train_test_split_no_unseen\n",
    "from ampligraph.latent_features import ScoringBasedEmbeddingModel\n",
    "from ampligraph.latent_features.loss_functions import get as get_loss\n",
    "from ampligraph.latent_features.regularizers import get as get_regularizer\n",
    "from ampligraph.evaluation import mr_score, mrr_score, hits_at_n_score"
   ]
  },
  {
   "cell_type": "code",
   "execution_count": 6,
   "metadata": {},
   "outputs": [
    {
     "name": "stderr",
     "output_type": "stream",
     "text": [
      "2023-12-14 23:26:09.593676: I tensorflow/compiler/xla/stream_executor/cuda/cuda_gpu_executor.cc:894] successful NUMA node read from SysFS had negative value (-1), but there must be at least one NUMA node, so returning NUMA node zero. See more at https://github.com/torvalds/linux/blob/v6.0/Documentation/ABI/testing/sysfs-bus-pci#L344-L355\n",
      "2023-12-14 23:26:09.593874: I tensorflow/compiler/xla/stream_executor/cuda/cuda_gpu_executor.cc:894] successful NUMA node read from SysFS had negative value (-1), but there must be at least one NUMA node, so returning NUMA node zero. See more at https://github.com/torvalds/linux/blob/v6.0/Documentation/ABI/testing/sysfs-bus-pci#L344-L355\n",
      "2023-12-14 23:26:09.594267: I tensorflow/compiler/xla/stream_executor/cuda/cuda_gpu_executor.cc:894] successful NUMA node read from SysFS had negative value (-1), but there must be at least one NUMA node, so returning NUMA node zero. See more at https://github.com/torvalds/linux/blob/v6.0/Documentation/ABI/testing/sysfs-bus-pci#L344-L355\n",
      "2023-12-14 23:26:09.594506: I tensorflow/compiler/xla/stream_executor/cuda/cuda_gpu_executor.cc:894] successful NUMA node read from SysFS had negative value (-1), but there must be at least one NUMA node, so returning NUMA node zero. See more at https://github.com/torvalds/linux/blob/v6.0/Documentation/ABI/testing/sysfs-bus-pci#L344-L355\n",
      "2023-12-14 23:26:09.594660: I tensorflow/compiler/xla/stream_executor/cuda/cuda_gpu_executor.cc:894] successful NUMA node read from SysFS had negative value (-1), but there must be at least one NUMA node, so returning NUMA node zero. See more at https://github.com/torvalds/linux/blob/v6.0/Documentation/ABI/testing/sysfs-bus-pci#L344-L355\n",
      "2023-12-14 23:26:09.594783: I tensorflow/core/common_runtime/gpu/gpu_device.cc:1886] Created device /device:GPU:0 with 4901 MB memory:  -> device: 0, name: NVIDIA GeForce GTX 1060 6GB, pci bus id: 0000:05:00.0, compute capability: 6.1\n"
     ]
    },
    {
     "data": {
      "text/plain": [
       "True"
      ]
     },
     "execution_count": 6,
     "metadata": {},
     "output_type": "execute_result"
    }
   ],
   "source": [
    "tf.test.is_gpu_available()"
   ]
  },
  {
   "cell_type": "code",
   "execution_count": 7,
   "metadata": {},
   "outputs": [],
   "source": [
    "g = Graph()\n",
    "g.parse(\"../data/music_graph.ttl\");"
   ]
  },
  {
   "cell_type": "code",
   "execution_count": 9,
   "metadata": {},
   "outputs": [
    {
     "data": {
      "text/plain": [
       "795348"
      ]
     },
     "execution_count": 9,
     "metadata": {},
     "output_type": "execute_result"
    }
   ],
   "source": [
    "data =  [triplet for triplet in g]\n",
    "len(data)"
   ]
  },
  {
   "cell_type": "code",
   "execution_count": 11,
   "metadata": {},
   "outputs": [
    {
     "data": {
      "text/html": [
       "<div>\n",
       "<style scoped>\n",
       "    .dataframe tbody tr th:only-of-type {\n",
       "        vertical-align: middle;\n",
       "    }\n",
       "\n",
       "    .dataframe tbody tr th {\n",
       "        vertical-align: top;\n",
       "    }\n",
       "\n",
       "    .dataframe thead th {\n",
       "        text-align: right;\n",
       "    }\n",
       "</style>\n",
       "<table border=\"1\" class=\"dataframe\">\n",
       "  <thead>\n",
       "    <tr style=\"text-align: right;\">\n",
       "      <th></th>\n",
       "      <th>subject</th>\n",
       "      <th>predicate</th>\n",
       "      <th>object</th>\n",
       "    </tr>\n",
       "  </thead>\n",
       "  <tbody>\n",
       "    <tr>\n",
       "      <th>0</th>\n",
       "      <td>http://www.semanticweb.org/music_ontology#trac...</td>\n",
       "      <td>http://www.semanticweb.org/music_ontology#name</td>\n",
       "      <td>Bad Dreams</td>\n",
       "    </tr>\n",
       "    <tr>\n",
       "      <th>1</th>\n",
       "      <td>http://www.semanticweb.org/music_ontology#trac...</td>\n",
       "      <td>http://www.semanticweb.org/music_ontology#danc...</td>\n",
       "      <td>0.181</td>\n",
       "    </tr>\n",
       "    <tr>\n",
       "      <th>2</th>\n",
       "      <td>http://www.semanticweb.org/music_ontology#even...</td>\n",
       "      <td>http://www.w3.org/1999/02/22-rdf-syntax-ns#type</td>\n",
       "      <td>http://www.semanticweb.org/music_ontology#Event</td>\n",
       "    </tr>\n",
       "    <tr>\n",
       "      <th>3</th>\n",
       "      <td>http://www.semanticweb.org/music_ontology#arti...</td>\n",
       "      <td>http://www.semanticweb.org/music_ontology#gender</td>\n",
       "      <td>Male</td>\n",
       "    </tr>\n",
       "    <tr>\n",
       "      <th>4</th>\n",
       "      <td>http://www.semanticweb.org/music_ontology#trac...</td>\n",
       "      <td>http://www.semanticweb.org/music_ontology#partOf</td>\n",
       "      <td>http://www.semanticweb.org/music_ontology#albu...</td>\n",
       "    </tr>\n",
       "    <tr>\n",
       "      <th>...</th>\n",
       "      <td>...</td>\n",
       "      <td>...</td>\n",
       "      <td>...</td>\n",
       "    </tr>\n",
       "    <tr>\n",
       "      <th>795343</th>\n",
       "      <td>http://www.semanticweb.org/music_ontology#trac...</td>\n",
       "      <td>http://www.semanticweb.org/music_ontology#perf...</td>\n",
       "      <td>http://www.semanticweb.org/music_ontology#perf...</td>\n",
       "    </tr>\n",
       "    <tr>\n",
       "      <th>795344</th>\n",
       "      <td>http://www.semanticweb.org/music_ontology#trac...</td>\n",
       "      <td>http://www.semanticweb.org/music_ontology#spee...</td>\n",
       "      <td>0.0274</td>\n",
       "    </tr>\n",
       "    <tr>\n",
       "      <th>795345</th>\n",
       "      <td>http://www.semanticweb.org/music_ontology#even...</td>\n",
       "      <td>http://www.semanticweb.org/music_ontology#lati...</td>\n",
       "      <td>50.3701</td>\n",
       "    </tr>\n",
       "    <tr>\n",
       "      <th>795346</th>\n",
       "      <td>http://www.semanticweb.org/music_ontology#trac...</td>\n",
       "      <td>http://www.semanticweb.org/music_ontology#partOf</td>\n",
       "      <td>http://www.semanticweb.org/music_ontology#albu...</td>\n",
       "    </tr>\n",
       "    <tr>\n",
       "      <th>795347</th>\n",
       "      <td>http://www.semanticweb.org/music_ontology#even...</td>\n",
       "      <td>http://www.semanticweb.org/music_ontology#endDate</td>\n",
       "      <td>2015-02-01</td>\n",
       "    </tr>\n",
       "  </tbody>\n",
       "</table>\n",
       "<p>795348 rows × 3 columns</p>\n",
       "</div>"
      ],
      "text/plain": [
       "                                                  subject  \\\n",
       "0       http://www.semanticweb.org/music_ontology#trac...   \n",
       "1       http://www.semanticweb.org/music_ontology#trac...   \n",
       "2       http://www.semanticweb.org/music_ontology#even...   \n",
       "3       http://www.semanticweb.org/music_ontology#arti...   \n",
       "4       http://www.semanticweb.org/music_ontology#trac...   \n",
       "...                                                   ...   \n",
       "795343  http://www.semanticweb.org/music_ontology#trac...   \n",
       "795344  http://www.semanticweb.org/music_ontology#trac...   \n",
       "795345  http://www.semanticweb.org/music_ontology#even...   \n",
       "795346  http://www.semanticweb.org/music_ontology#trac...   \n",
       "795347  http://www.semanticweb.org/music_ontology#even...   \n",
       "\n",
       "                                                predicate  \\\n",
       "0          http://www.semanticweb.org/music_ontology#name   \n",
       "1       http://www.semanticweb.org/music_ontology#danc...   \n",
       "2         http://www.w3.org/1999/02/22-rdf-syntax-ns#type   \n",
       "3        http://www.semanticweb.org/music_ontology#gender   \n",
       "4        http://www.semanticweb.org/music_ontology#partOf   \n",
       "...                                                   ...   \n",
       "795343  http://www.semanticweb.org/music_ontology#perf...   \n",
       "795344  http://www.semanticweb.org/music_ontology#spee...   \n",
       "795345  http://www.semanticweb.org/music_ontology#lati...   \n",
       "795346   http://www.semanticweb.org/music_ontology#partOf   \n",
       "795347  http://www.semanticweb.org/music_ontology#endDate   \n",
       "\n",
       "                                                   object  \n",
       "0                                              Bad Dreams  \n",
       "1                                                   0.181  \n",
       "2         http://www.semanticweb.org/music_ontology#Event  \n",
       "3                                                    Male  \n",
       "4       http://www.semanticweb.org/music_ontology#albu...  \n",
       "...                                                   ...  \n",
       "795343  http://www.semanticweb.org/music_ontology#perf...  \n",
       "795344                                             0.0274  \n",
       "795345                                            50.3701  \n",
       "795346  http://www.semanticweb.org/music_ontology#albu...  \n",
       "795347                                         2015-02-01  \n",
       "\n",
       "[795348 rows x 3 columns]"
      ]
     },
     "execution_count": 11,
     "metadata": {},
     "output_type": "execute_result"
    }
   ],
   "source": [
    "cols = [\"subject\", \"predicate\", \"object\"]\n",
    "triples_df = pd.DataFrame(data, columns=cols)\n",
    "for c in cols:\n",
    "    triples_df[c] = triples_df[c].apply(lambda x: x.toPython())\n",
    "triples_df"
   ]
  },
  {
   "cell_type": "code",
   "execution_count": 12,
   "metadata": {},
   "outputs": [
    {
     "name": "stdout",
     "output_type": "stream",
     "text": [
      "Train set size:  (785348, 3)\n",
      "Test set size:  (10000, 3)\n"
     ]
    }
   ],
   "source": [
    "X_train, X_valid = train_test_split_no_unseen(np.array(data), test_size=10000)\n",
    "print('Train set size: ', X_train.shape)\n",
    "print('Test set size: ', X_valid.shape)"
   ]
  },
  {
   "cell_type": "code",
   "execution_count": 13,
   "metadata": {},
   "outputs": [
    {
     "name": "stderr",
     "output_type": "stream",
     "text": [
      "2023-12-14 23:29:45.664240: I tensorflow/compiler/xla/stream_executor/cuda/cuda_gpu_executor.cc:894] successful NUMA node read from SysFS had negative value (-1), but there must be at least one NUMA node, so returning NUMA node zero. See more at https://github.com/torvalds/linux/blob/v6.0/Documentation/ABI/testing/sysfs-bus-pci#L344-L355\n",
      "2023-12-14 23:29:45.664844: I tensorflow/compiler/xla/stream_executor/cuda/cuda_gpu_executor.cc:894] successful NUMA node read from SysFS had negative value (-1), but there must be at least one NUMA node, so returning NUMA node zero. See more at https://github.com/torvalds/linux/blob/v6.0/Documentation/ABI/testing/sysfs-bus-pci#L344-L355\n",
      "2023-12-14 23:29:45.664973: I tensorflow/compiler/xla/stream_executor/cuda/cuda_gpu_executor.cc:894] successful NUMA node read from SysFS had negative value (-1), but there must be at least one NUMA node, so returning NUMA node zero. See more at https://github.com/torvalds/linux/blob/v6.0/Documentation/ABI/testing/sysfs-bus-pci#L344-L355\n",
      "2023-12-14 23:29:45.666401: I tensorflow/compiler/xla/stream_executor/cuda/cuda_gpu_executor.cc:894] successful NUMA node read from SysFS had negative value (-1), but there must be at least one NUMA node, so returning NUMA node zero. See more at https://github.com/torvalds/linux/blob/v6.0/Documentation/ABI/testing/sysfs-bus-pci#L344-L355\n",
      "2023-12-14 23:29:45.666535: I tensorflow/compiler/xla/stream_executor/cuda/cuda_gpu_executor.cc:894] successful NUMA node read from SysFS had negative value (-1), but there must be at least one NUMA node, so returning NUMA node zero. See more at https://github.com/torvalds/linux/blob/v6.0/Documentation/ABI/testing/sysfs-bus-pci#L344-L355\n",
      "2023-12-14 23:29:45.666663: I tensorflow/compiler/xla/stream_executor/cuda/cuda_gpu_executor.cc:894] successful NUMA node read from SysFS had negative value (-1), but there must be at least one NUMA node, so returning NUMA node zero. See more at https://github.com/torvalds/linux/blob/v6.0/Documentation/ABI/testing/sysfs-bus-pci#L344-L355\n",
      "2023-12-14 23:29:45.668125: I tensorflow/compiler/xla/stream_executor/cuda/cuda_gpu_executor.cc:894] successful NUMA node read from SysFS had negative value (-1), but there must be at least one NUMA node, so returning NUMA node zero. See more at https://github.com/torvalds/linux/blob/v6.0/Documentation/ABI/testing/sysfs-bus-pci#L344-L355\n",
      "2023-12-14 23:29:45.668261: I tensorflow/compiler/xla/stream_executor/cuda/cuda_gpu_executor.cc:894] successful NUMA node read from SysFS had negative value (-1), but there must be at least one NUMA node, so returning NUMA node zero. See more at https://github.com/torvalds/linux/blob/v6.0/Documentation/ABI/testing/sysfs-bus-pci#L344-L355\n",
      "2023-12-14 23:29:45.668366: I tensorflow/core/common_runtime/gpu/gpu_device.cc:1886] Created device /job:localhost/replica:0/task:0/device:GPU:0 with 4901 MB memory:  -> device: 0, name: NVIDIA GeForce GTX 1060 6GB, pci bus id: 0000:05:00.0, compute capability: 6.1\n"
     ]
    }
   ],
   "source": [
    "model = ScoringBasedEmbeddingModel(\n",
    "    k=100, eta=1, scoring_type='TransE'\n",
    ")"
   ]
  },
  {
   "cell_type": "code",
   "execution_count": 14,
   "metadata": {},
   "outputs": [],
   "source": [
    "optim = tf.keras.optimizers.Adam(learning_rate=1e-4)\n",
    "loss = get_loss('multiclass_nll')\n",
    "regularizer = get_regularizer('LP', {'p': 3, 'lambda': 1e-5})"
   ]
  },
  {
   "cell_type": "code",
   "execution_count": 15,
   "metadata": {},
   "outputs": [],
   "source": [
    "model.compile(\n",
    "    optimizer=optim, loss=loss, entity_relation_regularizer=regularizer\n",
    ")"
   ]
  },
  {
   "cell_type": "code",
   "execution_count": 16,
   "metadata": {},
   "outputs": [
    {
     "name": "stdout",
     "output_type": "stream",
     "text": [
      "Epoch 1/1000\n"
     ]
    },
    {
     "name": "stderr",
     "output_type": "stream",
     "text": [
      "2023-12-14 23:29:55.876677: I tensorflow/compiler/xla/service/service.cc:168] XLA service 0x7fcb983a41e0 initialized for platform CUDA (this does not guarantee that XLA will be used). Devices:\n",
      "2023-12-14 23:29:55.876695: I tensorflow/compiler/xla/service/service.cc:176]   StreamExecutor device (0): NVIDIA GeForce GTX 1060 6GB, Compute Capability 6.1\n",
      "2023-12-14 23:29:55.884289: I tensorflow/compiler/mlir/tensorflow/utils/dump_mlir_util.cc:269] disabling MLIR crash reproducer, set env var `MLIR_CRASH_REPRODUCER_DIRECTORY` to enable.\n"
     ]
    },
    {
     "name": "stdout",
     "output_type": "stream",
     "text": [
      "      2/Unknown - 3s 2s/step - loss: 22717.9688"
     ]
    },
    {
     "name": "stderr",
     "output_type": "stream",
     "text": [
      "2023-12-14 23:29:56.428719: I tensorflow/compiler/xla/stream_executor/cuda/cuda_dnn.cc:442] Loaded cuDNN version 8700\n",
      "2023-12-14 23:29:56.518764: I ./tensorflow/compiler/jit/device_compiler.h:186] Compiled cluster using XLA!  This line is logged at most once for the lifetime of the process.\n"
     ]
    },
    {
     "name": "stdout",
     "output_type": "stream",
     "text": [
      "25/25 [==============================] - 4s 156ms/step - loss: 22317.8594\n",
      "Epoch 2/1000\n",
      " 6/25 [======>.......................] - ETA: 0s - loss: 22216.6719"
     ]
    },
    {
     "name": "stderr",
     "output_type": "stream",
     "text": [
      "2023-12-14 23:29:57.355643: I tensorflow/core/framework/local_rendezvous.cc:421] Local rendezvous recv item cancelled. Key hash: 5640187878637657889\n"
     ]
    },
    {
     "name": "stdout",
     "output_type": "stream",
     "text": [
      "25/25 [==============================] - 1s 30ms/step - loss: 21894.2012\n",
      "Epoch 3/1000\n",
      " 6/25 [======>.......................] - ETA: 0s - loss: 21806.5840"
     ]
    },
    {
     "name": "stderr",
     "output_type": "stream",
     "text": [
      "2023-12-14 23:29:58.155412: I tensorflow/core/framework/local_rendezvous.cc:421] Local rendezvous recv item cancelled. Key hash: 5640187878637657889\n"
     ]
    },
    {
     "name": "stdout",
     "output_type": "stream",
     "text": [
      "25/25 [==============================] - 1s 30ms/step - loss: 21508.6465\n",
      "Epoch 4/1000\n",
      " 6/25 [======>.......................] - ETA: 0s - loss: 21429.9102"
     ]
    },
    {
     "name": "stderr",
     "output_type": "stream",
     "text": [
      "2023-12-14 23:29:58.950217: I tensorflow/core/framework/local_rendezvous.cc:421] Local rendezvous recv item cancelled. Key hash: 5640187878637657889\n"
     ]
    },
    {
     "name": "stdout",
     "output_type": "stream",
     "text": [
      "25/25 [==============================] - 1s 30ms/step - loss: 21155.5195\n",
      "Epoch 5/1000\n",
      " 6/25 [======>.......................] - ETA: 0s - loss: 21082.7969"
     ]
    },
    {
     "name": "stderr",
     "output_type": "stream",
     "text": [
      "2023-12-14 23:29:59.741892: I tensorflow/core/framework/local_rendezvous.cc:421] Local rendezvous recv item cancelled. Key hash: 5640187878637657889\n"
     ]
    },
    {
     "name": "stdout",
     "output_type": "stream",
     "text": [
      "25/25 [==============================] - 1s 30ms/step - loss: 20826.3184\n",
      "Epoch 6/1000\n",
      " 6/25 [======>.......................] - ETA: 0s - loss: 20759.7363"
     ]
    },
    {
     "name": "stderr",
     "output_type": "stream",
     "text": [
      "2023-12-14 23:30:00.533556: I tensorflow/core/framework/local_rendezvous.cc:421] Local rendezvous recv item cancelled. Key hash: 5640187878637657889\n"
     ]
    },
    {
     "name": "stdout",
     "output_type": "stream",
     "text": [
      "25/25 [==============================] - 1s 30ms/step - loss: 20521.4492\n",
      "Epoch 7/1000\n",
      " 6/25 [======>.......................] - ETA: 0s - loss: 20459.3203"
     ]
    },
    {
     "name": "stderr",
     "output_type": "stream",
     "text": [
      "2023-12-14 23:30:01.322034: I tensorflow/core/framework/local_rendezvous.cc:421] Local rendezvous recv item cancelled. Key hash: 5640187878637657889\n"
     ]
    },
    {
     "name": "stdout",
     "output_type": "stream",
     "text": [
      "25/25 [==============================] - 1s 31ms/step - loss: 20237.9902\n",
      "Epoch 8/1000\n",
      " 6/25 [======>.......................] - ETA: 0s - loss: 20180.8555"
     ]
    },
    {
     "name": "stderr",
     "output_type": "stream",
     "text": [
      "2023-12-14 23:30:02.113925: I tensorflow/core/framework/local_rendezvous.cc:421] Local rendezvous recv item cancelled. Key hash: 5640187878637657889\n"
     ]
    },
    {
     "name": "stdout",
     "output_type": "stream",
     "text": [
      "25/25 [==============================] - 1s 31ms/step - loss: 19972.2773\n",
      "Epoch 9/1000\n",
      " 6/25 [======>.......................] - ETA: 0s - loss: 19918.1172"
     ]
    },
    {
     "name": "stderr",
     "output_type": "stream",
     "text": [
      "2023-12-14 23:30:02.908662: I tensorflow/core/framework/local_rendezvous.cc:421] Local rendezvous recv item cancelled. Key hash: 5640187878637657889\n"
     ]
    },
    {
     "name": "stdout",
     "output_type": "stream",
     "text": [
      "25/25 [==============================] - 1s 31ms/step - loss: 19721.6328\n",
      "Epoch 10/1000\n",
      " 6/25 [======>.......................] - ETA: 0s - loss: 19670.5820"
     ]
    },
    {
     "name": "stderr",
     "output_type": "stream",
     "text": [
      "2023-12-14 23:30:03.703177: I tensorflow/core/framework/local_rendezvous.cc:421] Local rendezvous recv item cancelled. Key hash: 5640187878637657889\n"
     ]
    },
    {
     "name": "stdout",
     "output_type": "stream",
     "text": [
      "25/25 [==============================] - 1s 30ms/step - loss: 19485.5586\n",
      "Epoch 11/1000\n",
      " 6/25 [======>.......................] - ETA: 0s - loss: 19437.2793"
     ]
    },
    {
     "name": "stderr",
     "output_type": "stream",
     "text": [
      "2023-12-14 23:30:04.489511: I tensorflow/core/framework/local_rendezvous.cc:421] Local rendezvous recv item cancelled. Key hash: 5640187878637657889\n"
     ]
    },
    {
     "name": "stdout",
     "output_type": "stream",
     "text": [
      "25/25 [==============================] - 1s 31ms/step - loss: 19260.1348\n",
      "Epoch 12/1000\n",
      " 6/25 [======>.......................] - ETA: 0s - loss: 19213.9551"
     ]
    },
    {
     "name": "stderr",
     "output_type": "stream",
     "text": [
      "2023-12-14 23:30:05.281370: I tensorflow/core/framework/local_rendezvous.cc:421] Local rendezvous recv item cancelled. Key hash: 5640187878637657889\n"
     ]
    },
    {
     "name": "stdout",
     "output_type": "stream",
     "text": [
      "25/25 [==============================] - 1s 31ms/step - loss: 19044.2441\n",
      "Epoch 13/1000\n",
      " 6/25 [======>.......................] - ETA: 0s - loss: 18999.9629"
     ]
    },
    {
     "name": "stderr",
     "output_type": "stream",
     "text": [
      "2023-12-14 23:30:06.070503: I tensorflow/core/framework/local_rendezvous.cc:421] Local rendezvous recv item cancelled. Key hash: 5640187878637657889\n"
     ]
    },
    {
     "name": "stdout",
     "output_type": "stream",
     "text": [
      "25/25 [==============================] - 1s 30ms/step - loss: 18837.4004\n",
      "Epoch 14/1000\n",
      " 6/25 [======>.......................] - ETA: 0s - loss: 18794.9688"
     ]
    },
    {
     "name": "stderr",
     "output_type": "stream",
     "text": [
      "2023-12-14 23:30:06.855109: I tensorflow/core/framework/local_rendezvous.cc:421] Local rendezvous recv item cancelled. Key hash: 5640187878637657889\n"
     ]
    },
    {
     "name": "stdout",
     "output_type": "stream",
     "text": [
      "25/25 [==============================] - 1s 30ms/step - loss: 18638.3652\n",
      "Epoch 15/1000\n",
      " 6/25 [======>.......................] - ETA: 0s - loss: 18597.6914"
     ]
    },
    {
     "name": "stderr",
     "output_type": "stream",
     "text": [
      "2023-12-14 23:30:07.639196: I tensorflow/core/framework/local_rendezvous.cc:421] Local rendezvous recv item cancelled. Key hash: 5640187878637657889\n"
     ]
    },
    {
     "name": "stdout",
     "output_type": "stream",
     "text": [
      "25/25 [==============================] - 1s 30ms/step - loss: 18446.5898\n",
      "Epoch 16/1000\n",
      " 6/25 [======>.......................] - ETA: 0s - loss: 18406.7793"
     ]
    },
    {
     "name": "stderr",
     "output_type": "stream",
     "text": [
      "2023-12-14 23:30:08.421693: I tensorflow/core/framework/local_rendezvous.cc:421] Local rendezvous recv item cancelled. Key hash: 5640187878637657889\n"
     ]
    },
    {
     "name": "stdout",
     "output_type": "stream",
     "text": [
      "25/25 [==============================] - 1s 30ms/step - loss: 18261.0527\n",
      "Epoch 17/1000\n",
      " 6/25 [======>.......................] - ETA: 0s - loss: 18222.7637"
     ]
    },
    {
     "name": "stderr",
     "output_type": "stream",
     "text": [
      "2023-12-14 23:30:09.208275: I tensorflow/core/framework/local_rendezvous.cc:421] Local rendezvous recv item cancelled. Key hash: 5640187878637657889\n"
     ]
    },
    {
     "name": "stdout",
     "output_type": "stream",
     "text": [
      "25/25 [==============================] - 1s 30ms/step - loss: 18081.5273\n",
      "Epoch 18/1000\n",
      " 6/25 [======>.......................] - ETA: 0s - loss: 18044.5918"
     ]
    },
    {
     "name": "stderr",
     "output_type": "stream",
     "text": [
      "2023-12-14 23:30:09.992522: I tensorflow/core/framework/local_rendezvous.cc:421] Local rendezvous recv item cancelled. Key hash: 5640187878637657889\n"
     ]
    },
    {
     "name": "stdout",
     "output_type": "stream",
     "text": [
      "25/25 [==============================] - 1s 30ms/step - loss: 17907.0664\n",
      "Epoch 19/1000\n",
      " 6/25 [======>.......................] - ETA: 0s - loss: 17871.2500"
     ]
    },
    {
     "name": "stderr",
     "output_type": "stream",
     "text": [
      "2023-12-14 23:30:10.781539: I tensorflow/core/framework/local_rendezvous.cc:421] Local rendezvous recv item cancelled. Key hash: 5640187878637657889\n"
     ]
    },
    {
     "name": "stdout",
     "output_type": "stream",
     "text": [
      "25/25 [==============================] - 1s 30ms/step - loss: 17736.7910\n",
      "Epoch 20/1000\n",
      " 6/25 [======>.......................] - ETA: 0s - loss: 17701.5215"
     ]
    },
    {
     "name": "stderr",
     "output_type": "stream",
     "text": [
      "2023-12-14 23:30:11.560841: I tensorflow/core/framework/local_rendezvous.cc:421] Local rendezvous recv item cancelled. Key hash: 5640187878637657889\n"
     ]
    },
    {
     "name": "stdout",
     "output_type": "stream",
     "text": [
      "25/25 [==============================] - 1s 31ms/step - loss: 17570.0820\n",
      "Epoch 21/1000\n",
      " 6/25 [======>.......................] - ETA: 0s - loss: 17535.7773"
     ]
    },
    {
     "name": "stderr",
     "output_type": "stream",
     "text": [
      "2023-12-14 23:30:12.350631: I tensorflow/core/framework/local_rendezvous.cc:421] Local rendezvous recv item cancelled. Key hash: 5640187878637657889\n"
     ]
    },
    {
     "name": "stdout",
     "output_type": "stream",
     "text": [
      "25/25 [==============================] - 1s 31ms/step - loss: 17407.5781\n",
      "Epoch 22/1000\n",
      " 6/25 [======>.......................] - ETA: 0s - loss: 17374.0996"
     ]
    },
    {
     "name": "stderr",
     "output_type": "stream",
     "text": [
      "2023-12-14 23:30:13.136567: I tensorflow/core/framework/local_rendezvous.cc:421] Local rendezvous recv item cancelled. Key hash: 5640187878637657889\n"
     ]
    },
    {
     "name": "stdout",
     "output_type": "stream",
     "text": [
      "25/25 [==============================] - 1s 30ms/step - loss: 17248.3281\n",
      "Epoch 23/1000\n",
      " 6/25 [======>.......................] - ETA: 0s - loss: 17215.5215"
     ]
    },
    {
     "name": "stderr",
     "output_type": "stream",
     "text": [
      "2023-12-14 23:30:13.923421: I tensorflow/core/framework/local_rendezvous.cc:421] Local rendezvous recv item cancelled. Key hash: 5640187878637657889\n"
     ]
    },
    {
     "name": "stdout",
     "output_type": "stream",
     "text": [
      "25/25 [==============================] - 1s 30ms/step - loss: 17092.4531\n",
      "Epoch 24/1000\n",
      " 6/25 [======>.......................] - ETA: 0s - loss: 17060.4023"
     ]
    },
    {
     "name": "stderr",
     "output_type": "stream",
     "text": [
      "2023-12-14 23:30:14.706059: I tensorflow/core/framework/local_rendezvous.cc:421] Local rendezvous recv item cancelled. Key hash: 5640187878637657889\n"
     ]
    },
    {
     "name": "stdout",
     "output_type": "stream",
     "text": [
      "25/25 [==============================] - 1s 30ms/step - loss: 16939.3828\n",
      "Epoch 25/1000\n",
      " 6/25 [======>.......................] - ETA: 0s - loss: 16907.7793"
     ]
    },
    {
     "name": "stderr",
     "output_type": "stream",
     "text": [
      "2023-12-14 23:30:15.492452: I tensorflow/core/framework/local_rendezvous.cc:421] Local rendezvous recv item cancelled. Key hash: 5640187878637657889\n"
     ]
    },
    {
     "name": "stdout",
     "output_type": "stream",
     "text": [
      "25/25 [==============================] - 1s 31ms/step - loss: 16789.2793\n",
      "Epoch 26/1000\n",
      " 6/25 [======>.......................] - ETA: 0s - loss: 16758.3203"
     ]
    },
    {
     "name": "stderr",
     "output_type": "stream",
     "text": [
      "2023-12-14 23:30:16.282901: I tensorflow/core/framework/local_rendezvous.cc:421] Local rendezvous recv item cancelled. Key hash: 5640187878637657889\n"
     ]
    },
    {
     "name": "stdout",
     "output_type": "stream",
     "text": [
      "25/25 [==============================] - 1s 31ms/step - loss: 16641.7031\n",
      "Epoch 27/1000\n",
      " 6/25 [======>.......................] - ETA: 0s - loss: 16611.3613"
     ]
    },
    {
     "name": "stderr",
     "output_type": "stream",
     "text": [
      "2023-12-14 23:30:17.073260: I tensorflow/core/framework/local_rendezvous.cc:421] Local rendezvous recv item cancelled. Key hash: 5640187878637657889\n"
     ]
    },
    {
     "name": "stdout",
     "output_type": "stream",
     "text": [
      "25/25 [==============================] - 1s 30ms/step - loss: 16497.1953\n",
      "Epoch 28/1000\n",
      " 6/25 [======>.......................] - ETA: 0s - loss: 16467.3418"
     ]
    },
    {
     "name": "stderr",
     "output_type": "stream",
     "text": [
      "2023-12-14 23:30:17.859633: I tensorflow/core/framework/local_rendezvous.cc:421] Local rendezvous recv item cancelled. Key hash: 5640187878637657889\n"
     ]
    },
    {
     "name": "stdout",
     "output_type": "stream",
     "text": [
      "25/25 [==============================] - 1s 31ms/step - loss: 16354.7529\n",
      "Epoch 29/1000\n",
      " 6/25 [======>.......................] - ETA: 0s - loss: 16325.1699"
     ]
    },
    {
     "name": "stderr",
     "output_type": "stream",
     "text": [
      "2023-12-14 23:30:18.654974: I tensorflow/core/framework/local_rendezvous.cc:421] Local rendezvous recv item cancelled. Key hash: 5640187878637657889\n"
     ]
    },
    {
     "name": "stdout",
     "output_type": "stream",
     "text": [
      "25/25 [==============================] - 1s 31ms/step - loss: 16214.1748\n",
      "Epoch 30/1000\n",
      " 6/25 [======>.......................] - ETA: 0s - loss: 16185.1357"
     ]
    },
    {
     "name": "stderr",
     "output_type": "stream",
     "text": [
      "2023-12-14 23:30:19.451440: I tensorflow/core/framework/local_rendezvous.cc:421] Local rendezvous recv item cancelled. Key hash: 5640187878637657889\n"
     ]
    },
    {
     "name": "stdout",
     "output_type": "stream",
     "text": [
      "25/25 [==============================] - 1s 31ms/step - loss: 16075.4512\n",
      "Epoch 31/1000\n",
      " 6/25 [======>.......................] - ETA: 0s - loss: 16046.7900"
     ]
    },
    {
     "name": "stderr",
     "output_type": "stream",
     "text": [
      "2023-12-14 23:30:20.251445: I tensorflow/core/framework/local_rendezvous.cc:421] Local rendezvous recv item cancelled. Key hash: 5640187878637657889\n"
     ]
    },
    {
     "name": "stdout",
     "output_type": "stream",
     "text": [
      "25/25 [==============================] - 1s 30ms/step - loss: 15939.4023\n",
      "Epoch 32/1000\n",
      " 6/25 [======>.......................] - ETA: 0s - loss: 15911.2432"
     ]
    },
    {
     "name": "stderr",
     "output_type": "stream",
     "text": [
      "2023-12-14 23:30:21.039928: I tensorflow/core/framework/local_rendezvous.cc:421] Local rendezvous recv item cancelled. Key hash: 5640187878637657889\n"
     ]
    },
    {
     "name": "stdout",
     "output_type": "stream",
     "text": [
      "25/25 [==============================] - 1s 30ms/step - loss: 15805.2178\n",
      "Epoch 33/1000\n",
      " 6/25 [======>.......................] - ETA: 0s - loss: 15777.5352"
     ]
    },
    {
     "name": "stderr",
     "output_type": "stream",
     "text": [
      "2023-12-14 23:30:21.834925: I tensorflow/core/framework/local_rendezvous.cc:421] Local rendezvous recv item cancelled. Key hash: 5640187878637657889\n"
     ]
    },
    {
     "name": "stdout",
     "output_type": "stream",
     "text": [
      "25/25 [==============================] - 1s 31ms/step - loss: 15673.3271\n",
      "Epoch 34/1000\n",
      " 6/25 [======>.......................] - ETA: 0s - loss: 15645.9834"
     ]
    },
    {
     "name": "stderr",
     "output_type": "stream",
     "text": [
      "2023-12-14 23:30:22.624546: I tensorflow/core/framework/local_rendezvous.cc:421] Local rendezvous recv item cancelled. Key hash: 5640187878637657889\n"
     ]
    },
    {
     "name": "stdout",
     "output_type": "stream",
     "text": [
      "25/25 [==============================] - 1s 31ms/step - loss: 15543.9727\n",
      "Epoch 35/1000\n",
      " 6/25 [======>.......................] - ETA: 0s - loss: 15517.2100"
     ]
    },
    {
     "name": "stderr",
     "output_type": "stream",
     "text": [
      "2023-12-14 23:30:23.423423: I tensorflow/core/framework/local_rendezvous.cc:421] Local rendezvous recv item cancelled. Key hash: 5640187878637657889\n"
     ]
    },
    {
     "name": "stdout",
     "output_type": "stream",
     "text": [
      "25/25 [==============================] - 1s 31ms/step - loss: 15416.0908\n",
      "Epoch 36/1000\n",
      " 6/25 [======>.......................] - ETA: 0s - loss: 15389.7021"
     ]
    },
    {
     "name": "stderr",
     "output_type": "stream",
     "text": [
      "2023-12-14 23:30:24.224402: I tensorflow/core/framework/local_rendezvous.cc:421] Local rendezvous recv item cancelled. Key hash: 5640187878637657889\n"
     ]
    },
    {
     "name": "stdout",
     "output_type": "stream",
     "text": [
      "25/25 [==============================] - 1s 31ms/step - loss: 15290.0889\n",
      "Epoch 37/1000\n",
      " 6/25 [======>.......................] - ETA: 0s - loss: 15264.0283"
     ]
    },
    {
     "name": "stderr",
     "output_type": "stream",
     "text": [
      "2023-12-14 23:30:25.026034: I tensorflow/core/framework/local_rendezvous.cc:421] Local rendezvous recv item cancelled. Key hash: 5640187878637657889\n"
     ]
    },
    {
     "name": "stdout",
     "output_type": "stream",
     "text": [
      "25/25 [==============================] - 1s 32ms/step - loss: 15165.8301\n",
      "Epoch 38/1000\n",
      " 6/25 [======>.......................] - ETA: 0s - loss: 15140.0449"
     ]
    },
    {
     "name": "stderr",
     "output_type": "stream",
     "text": [
      "2023-12-14 23:30:25.835294: I tensorflow/core/framework/local_rendezvous.cc:421] Local rendezvous recv item cancelled. Key hash: 5640187878637657889\n"
     ]
    },
    {
     "name": "stdout",
     "output_type": "stream",
     "text": [
      "25/25 [==============================] - 1s 31ms/step - loss: 15042.9697\n",
      "Epoch 39/1000\n",
      " 6/25 [======>.......................] - ETA: 0s - loss: 15017.5244"
     ]
    },
    {
     "name": "stderr",
     "output_type": "stream",
     "text": [
      "2023-12-14 23:30:26.640946: I tensorflow/core/framework/local_rendezvous.cc:421] Local rendezvous recv item cancelled. Key hash: 5640187878637657889\n"
     ]
    },
    {
     "name": "stdout",
     "output_type": "stream",
     "text": [
      "25/25 [==============================] - 1s 32ms/step - loss: 14921.6816\n",
      "Epoch 40/1000\n",
      " 6/25 [======>.......................] - ETA: 0s - loss: 14896.8701"
     ]
    },
    {
     "name": "stderr",
     "output_type": "stream",
     "text": [
      "2023-12-14 23:30:27.460233: I tensorflow/core/framework/local_rendezvous.cc:421] Local rendezvous recv item cancelled. Key hash: 5640187878637657889\n"
     ]
    },
    {
     "name": "stdout",
     "output_type": "stream",
     "text": [
      "25/25 [==============================] - 1s 32ms/step - loss: 14802.6318\n",
      "Epoch 41/1000\n",
      " 6/25 [======>.......................] - ETA: 0s - loss: 14778.0908"
     ]
    },
    {
     "name": "stderr",
     "output_type": "stream",
     "text": [
      "2023-12-14 23:30:28.284615: I tensorflow/core/framework/local_rendezvous.cc:421] Local rendezvous recv item cancelled. Key hash: 5640187878637657889\n"
     ]
    },
    {
     "name": "stdout",
     "output_type": "stream",
     "text": [
      "25/25 [==============================] - 1s 32ms/step - loss: 14684.8926\n",
      "Epoch 42/1000\n",
      " 6/25 [======>.......................] - ETA: 0s - loss: 14660.5371"
     ]
    },
    {
     "name": "stderr",
     "output_type": "stream",
     "text": [
      "2023-12-14 23:30:29.104510: I tensorflow/core/framework/local_rendezvous.cc:421] Local rendezvous recv item cancelled. Key hash: 5640187878637657889\n"
     ]
    },
    {
     "name": "stdout",
     "output_type": "stream",
     "text": [
      "25/25 [==============================] - 1s 32ms/step - loss: 14568.9639\n",
      "Epoch 43/1000\n",
      " 6/25 [======>.......................] - ETA: 0s - loss: 14545.0000"
     ]
    },
    {
     "name": "stderr",
     "output_type": "stream",
     "text": [
      "2023-12-14 23:30:29.920453: I tensorflow/core/framework/local_rendezvous.cc:421] Local rendezvous recv item cancelled. Key hash: 5640187878637657889\n"
     ]
    },
    {
     "name": "stdout",
     "output_type": "stream",
     "text": [
      "25/25 [==============================] - 1s 32ms/step - loss: 14454.3945\n",
      "Epoch 44/1000\n",
      " 6/25 [======>.......................] - ETA: 0s - loss: 14430.8428"
     ]
    },
    {
     "name": "stderr",
     "output_type": "stream",
     "text": [
      "2023-12-14 23:30:30.739489: I tensorflow/core/framework/local_rendezvous.cc:421] Local rendezvous recv item cancelled. Key hash: 5640187878637657889\n"
     ]
    },
    {
     "name": "stdout",
     "output_type": "stream",
     "text": [
      "25/25 [==============================] - 1s 32ms/step - loss: 14341.5967\n",
      "Epoch 45/1000\n",
      " 6/25 [======>.......................] - ETA: 0s - loss: 14318.2812"
     ]
    },
    {
     "name": "stderr",
     "output_type": "stream",
     "text": [
      "2023-12-14 23:30:31.560987: I tensorflow/core/framework/local_rendezvous.cc:421] Local rendezvous recv item cancelled. Key hash: 5640187878637657889\n"
     ]
    },
    {
     "name": "stdout",
     "output_type": "stream",
     "text": [
      "25/25 [==============================] - 1s 32ms/step - loss: 14230.0020\n",
      "Epoch 46/1000\n",
      " 6/25 [======>.......................] - ETA: 0s - loss: 14206.9736"
     ]
    },
    {
     "name": "stderr",
     "output_type": "stream",
     "text": [
      "2023-12-14 23:30:32.392866: I tensorflow/core/framework/local_rendezvous.cc:421] Local rendezvous recv item cancelled. Key hash: 5640187878637657889\n"
     ]
    },
    {
     "name": "stdout",
     "output_type": "stream",
     "text": [
      "25/25 [==============================] - 1s 33ms/step - loss: 14119.7803\n",
      "Epoch 47/1000\n",
      " 6/25 [======>.......................] - ETA: 0s - loss: 14097.1514"
     ]
    },
    {
     "name": "stderr",
     "output_type": "stream",
     "text": [
      "2023-12-14 23:30:33.241611: I tensorflow/core/framework/local_rendezvous.cc:421] Local rendezvous recv item cancelled. Key hash: 5640187878637657889\n"
     ]
    },
    {
     "name": "stdout",
     "output_type": "stream",
     "text": [
      "25/25 [==============================] - 1s 32ms/step - loss: 14011.7402\n",
      "Epoch 48/1000\n",
      " 6/25 [======>.......................] - ETA: 0s - loss: 13989.4473"
     ]
    },
    {
     "name": "stderr",
     "output_type": "stream",
     "text": [
      "2023-12-14 23:30:34.071953: I tensorflow/core/framework/local_rendezvous.cc:421] Local rendezvous recv item cancelled. Key hash: 5640187878637657889\n"
     ]
    },
    {
     "name": "stdout",
     "output_type": "stream",
     "text": [
      "25/25 [==============================] - 1s 32ms/step - loss: 13905.0088\n",
      "Epoch 49/1000\n",
      " 6/25 [======>.......................] - ETA: 0s - loss: 13883.0322"
     ]
    },
    {
     "name": "stderr",
     "output_type": "stream",
     "text": [
      "2023-12-14 23:30:34.891850: I tensorflow/core/framework/local_rendezvous.cc:421] Local rendezvous recv item cancelled. Key hash: 5640187878637657889\n"
     ]
    },
    {
     "name": "stdout",
     "output_type": "stream",
     "text": [
      "25/25 [==============================] - 1s 32ms/step - loss: 13800.0459\n",
      "Epoch 50/1000\n",
      " 6/25 [======>.......................] - ETA: 0s - loss: 13778.5146"
     ]
    },
    {
     "name": "stderr",
     "output_type": "stream",
     "text": [
      "2023-12-14 23:30:35.708266: I tensorflow/core/framework/local_rendezvous.cc:421] Local rendezvous recv item cancelled. Key hash: 5640187878637657889\n"
     ]
    },
    {
     "name": "stdout",
     "output_type": "stream",
     "text": [
      "25/25 [==============================] - 1s 32ms/step - loss: 13696.5713\n",
      "Epoch 51/1000\n",
      " 4/25 [===>..........................] - ETA: 0s - loss: 13683.6406"
     ]
    },
    {
     "name": "stderr",
     "output_type": "stream",
     "text": [
      "2023-12-14 23:30:36.526014: I tensorflow/core/framework/local_rendezvous.cc:421] Local rendezvous recv item cancelled. Key hash: 5640187878637657889\n"
     ]
    },
    {
     "name": "stdout",
     "output_type": "stream",
     "text": [
      "25/25 [==============================] - 1s 32ms/step - loss: 13594.2451\n",
      "Epoch 52/1000\n",
      " 6/25 [======>.......................] - ETA: 0s - loss: 13573.0928"
     ]
    },
    {
     "name": "stderr",
     "output_type": "stream",
     "text": [
      "2023-12-14 23:30:37.356081: I tensorflow/core/framework/local_rendezvous.cc:421] Local rendezvous recv item cancelled. Key hash: 5640187878637657889\n"
     ]
    },
    {
     "name": "stdout",
     "output_type": "stream",
     "text": [
      "25/25 [==============================] - 1s 32ms/step - loss: 13493.2422\n",
      "Epoch 53/1000\n",
      " 4/25 [===>..........................] - ETA: 0s - loss: 13480.7471"
     ]
    },
    {
     "name": "stderr",
     "output_type": "stream",
     "text": [
      "2023-12-14 23:30:38.191376: I tensorflow/core/framework/local_rendezvous.cc:421] Local rendezvous recv item cancelled. Key hash: 5640187878637657889\n"
     ]
    },
    {
     "name": "stdout",
     "output_type": "stream",
     "text": [
      "25/25 [==============================] - 1s 32ms/step - loss: 13393.5361\n",
      "Epoch 54/1000\n",
      " 4/25 [===>..........................] - ETA: 0s - loss: 13381.1455"
     ]
    },
    {
     "name": "stderr",
     "output_type": "stream",
     "text": [
      "2023-12-14 23:30:39.028199: I tensorflow/core/framework/local_rendezvous.cc:421] Local rendezvous recv item cancelled. Key hash: 5640187878637657889\n"
     ]
    },
    {
     "name": "stdout",
     "output_type": "stream",
     "text": [
      "25/25 [==============================] - 1s 32ms/step - loss: 13294.8193\n",
      "Epoch 55/1000\n",
      " 4/25 [===>..........................] - ETA: 0s - loss: 13282.5293"
     ]
    },
    {
     "name": "stderr",
     "output_type": "stream",
     "text": [
      "2023-12-14 23:30:39.864056: I tensorflow/core/framework/local_rendezvous.cc:421] Local rendezvous recv item cancelled. Key hash: 5640187878637657889\n"
     ]
    },
    {
     "name": "stdout",
     "output_type": "stream",
     "text": [
      "25/25 [==============================] - 1s 32ms/step - loss: 13197.4814\n",
      "Epoch 56/1000\n",
      " 4/25 [===>..........................] - ETA: 0s - loss: 13185.3193"
     ]
    },
    {
     "name": "stderr",
     "output_type": "stream",
     "text": [
      "2023-12-14 23:30:40.694910: I tensorflow/core/framework/local_rendezvous.cc:421] Local rendezvous recv item cancelled. Key hash: 5640187878637657889\n"
     ]
    },
    {
     "name": "stdout",
     "output_type": "stream",
     "text": [
      "25/25 [==============================] - 1s 33ms/step - loss: 13101.0117\n",
      "Epoch 57/1000\n",
      " 6/25 [======>.......................] - ETA: 0s - loss: 13081.1211"
     ]
    },
    {
     "name": "stderr",
     "output_type": "stream",
     "text": [
      "2023-12-14 23:30:41.545639: I tensorflow/core/framework/local_rendezvous.cc:421] Local rendezvous recv item cancelled. Key hash: 5640187878637657889\n"
     ]
    },
    {
     "name": "stdout",
     "output_type": "stream",
     "text": [
      "25/25 [==============================] - 1s 32ms/step - loss: 13005.9004\n",
      "Epoch 58/1000\n",
      " 6/25 [======>.......................] - ETA: 0s - loss: 12986.3047"
     ]
    },
    {
     "name": "stderr",
     "output_type": "stream",
     "text": [
      "2023-12-14 23:30:42.367928: I tensorflow/core/framework/local_rendezvous.cc:421] Local rendezvous recv item cancelled. Key hash: 5640187878637657889\n"
     ]
    },
    {
     "name": "stdout",
     "output_type": "stream",
     "text": [
      "25/25 [==============================] - 1s 32ms/step - loss: 12912.0557\n",
      "Epoch 59/1000\n",
      " 6/25 [======>.......................] - ETA: 0s - loss: 12892.6455"
     ]
    },
    {
     "name": "stderr",
     "output_type": "stream",
     "text": [
      "2023-12-14 23:30:43.185770: I tensorflow/core/framework/local_rendezvous.cc:421] Local rendezvous recv item cancelled. Key hash: 5640187878637657889\n"
     ]
    },
    {
     "name": "stdout",
     "output_type": "stream",
     "text": [
      "25/25 [==============================] - 1s 31ms/step - loss: 12819.3027\n",
      "Epoch 60/1000\n",
      " 6/25 [======>.......................] - ETA: 0s - loss: 12800.1777"
     ]
    },
    {
     "name": "stderr",
     "output_type": "stream",
     "text": [
      "2023-12-14 23:30:43.991968: I tensorflow/core/framework/local_rendezvous.cc:421] Local rendezvous recv item cancelled. Key hash: 5640187878637657889\n"
     ]
    },
    {
     "name": "stdout",
     "output_type": "stream",
     "text": [
      "25/25 [==============================] - 1s 32ms/step - loss: 12727.6719\n",
      "Epoch 61/1000\n",
      " 6/25 [======>.......................] - ETA: 0s - loss: 12708.6279"
     ]
    },
    {
     "name": "stderr",
     "output_type": "stream",
     "text": [
      "2023-12-14 23:30:44.815992: I tensorflow/core/framework/local_rendezvous.cc:421] Local rendezvous recv item cancelled. Key hash: 5640187878637657889\n"
     ]
    },
    {
     "name": "stdout",
     "output_type": "stream",
     "text": [
      "25/25 [==============================] - 1s 32ms/step - loss: 12637.0000\n",
      "Epoch 62/1000\n",
      " 6/25 [======>.......................] - ETA: 0s - loss: 12618.3350"
     ]
    },
    {
     "name": "stderr",
     "output_type": "stream",
     "text": [
      "2023-12-14 23:30:45.636882: I tensorflow/core/framework/local_rendezvous.cc:421] Local rendezvous recv item cancelled. Key hash: 5640187878637657889\n"
     ]
    },
    {
     "name": "stdout",
     "output_type": "stream",
     "text": [
      "25/25 [==============================] - 1s 32ms/step - loss: 12547.6904\n",
      "Epoch 63/1000\n",
      " 6/25 [======>.......................] - ETA: 0s - loss: 12529.2314"
     ]
    },
    {
     "name": "stderr",
     "output_type": "stream",
     "text": [
      "2023-12-14 23:30:46.468149: I tensorflow/core/framework/local_rendezvous.cc:421] Local rendezvous recv item cancelled. Key hash: 5640187878637657889\n"
     ]
    },
    {
     "name": "stdout",
     "output_type": "stream",
     "text": [
      "25/25 [==============================] - 1s 32ms/step - loss: 12459.4600\n",
      "Epoch 64/1000\n",
      " 6/25 [======>.......................] - ETA: 0s - loss: 12441.2383"
     ]
    },
    {
     "name": "stderr",
     "output_type": "stream",
     "text": [
      "2023-12-14 23:30:47.293243: I tensorflow/core/framework/local_rendezvous.cc:421] Local rendezvous recv item cancelled. Key hash: 5640187878637657889\n"
     ]
    },
    {
     "name": "stdout",
     "output_type": "stream",
     "text": [
      "25/25 [==============================] - 1s 32ms/step - loss: 12372.4248\n",
      "Epoch 65/1000\n",
      " 4/25 [===>..........................] - ETA: 0s - loss: 12361.6045"
     ]
    },
    {
     "name": "stderr",
     "output_type": "stream",
     "text": [
      "2023-12-14 23:30:48.117857: I tensorflow/core/framework/local_rendezvous.cc:421] Local rendezvous recv item cancelled. Key hash: 5640187878637657889\n"
     ]
    },
    {
     "name": "stdout",
     "output_type": "stream",
     "text": [
      "25/25 [==============================] - 1s 32ms/step - loss: 12286.5645\n",
      "Epoch 66/1000\n",
      " 6/25 [======>.......................] - ETA: 0s - loss: 12268.7998"
     ]
    },
    {
     "name": "stderr",
     "output_type": "stream",
     "text": [
      "2023-12-14 23:30:48.951814: I tensorflow/core/framework/local_rendezvous.cc:421] Local rendezvous recv item cancelled. Key hash: 5640187878637657889\n"
     ]
    },
    {
     "name": "stdout",
     "output_type": "stream",
     "text": [
      "25/25 [==============================] - 1s 32ms/step - loss: 12201.5176\n",
      "Epoch 67/1000\n",
      " 6/25 [======>.......................] - ETA: 0s - loss: 12183.9639"
     ]
    },
    {
     "name": "stderr",
     "output_type": "stream",
     "text": [
      "2023-12-14 23:30:49.784212: I tensorflow/core/framework/local_rendezvous.cc:421] Local rendezvous recv item cancelled. Key hash: 5640187878637657889\n"
     ]
    },
    {
     "name": "stdout",
     "output_type": "stream",
     "text": [
      "25/25 [==============================] - 1s 33ms/step - loss: 12117.5801\n",
      "Epoch 68/1000\n",
      " 6/25 [======>.......................] - ETA: 0s - loss: 12100.2568"
     ]
    },
    {
     "name": "stderr",
     "output_type": "stream",
     "text": [
      "2023-12-14 23:30:50.626405: I tensorflow/core/framework/local_rendezvous.cc:421] Local rendezvous recv item cancelled. Key hash: 5640187878637657889\n"
     ]
    },
    {
     "name": "stdout",
     "output_type": "stream",
     "text": [
      "25/25 [==============================] - 1s 32ms/step - loss: 12034.6641\n",
      "Epoch 69/1000\n",
      " 6/25 [======>.......................] - ETA: 0s - loss: 12017.5732"
     ]
    },
    {
     "name": "stderr",
     "output_type": "stream",
     "text": [
      "2023-12-14 23:30:51.451364: I tensorflow/core/framework/local_rendezvous.cc:421] Local rendezvous recv item cancelled. Key hash: 5640187878637657889\n"
     ]
    },
    {
     "name": "stdout",
     "output_type": "stream",
     "text": [
      "25/25 [==============================] - 1s 32ms/step - loss: 11952.8672\n",
      "Epoch 70/1000\n",
      " 6/25 [======>.......................] - ETA: 0s - loss: 11936.0312"
     ]
    },
    {
     "name": "stderr",
     "output_type": "stream",
     "text": [
      "2023-12-14 23:30:52.283982: I tensorflow/core/framework/local_rendezvous.cc:421] Local rendezvous recv item cancelled. Key hash: 5640187878637657889\n"
     ]
    },
    {
     "name": "stdout",
     "output_type": "stream",
     "text": [
      "25/25 [==============================] - 1s 32ms/step - loss: 11872.1533\n",
      "Epoch 71/1000\n",
      " 6/25 [======>.......................] - ETA: 0s - loss: 11855.5107"
     ]
    },
    {
     "name": "stderr",
     "output_type": "stream",
     "text": [
      "2023-12-14 23:30:53.107397: I tensorflow/core/framework/local_rendezvous.cc:421] Local rendezvous recv item cancelled. Key hash: 5640187878637657889\n"
     ]
    },
    {
     "name": "stdout",
     "output_type": "stream",
     "text": [
      "25/25 [==============================] - 1s 32ms/step - loss: 11792.3125\n",
      "Epoch 72/1000\n",
      " 6/25 [======>.......................] - ETA: 0s - loss: 11775.8193"
     ]
    },
    {
     "name": "stderr",
     "output_type": "stream",
     "text": [
      "2023-12-14 23:30:53.934238: I tensorflow/core/framework/local_rendezvous.cc:421] Local rendezvous recv item cancelled. Key hash: 5640187878637657889\n"
     ]
    },
    {
     "name": "stdout",
     "output_type": "stream",
     "text": [
      "25/25 [==============================] - 1s 33ms/step - loss: 11713.5078\n",
      "Epoch 73/1000\n",
      "25/25 [==============================] - 1s 32ms/step - loss: 11635.9150\n",
      "Epoch 74/1000\n",
      " 4/25 [===>..........................] - ETA: 0s - loss: 11626.2324"
     ]
    },
    {
     "name": "stderr",
     "output_type": "stream",
     "text": [
      "2023-12-14 23:30:55.609706: I tensorflow/core/framework/local_rendezvous.cc:421] Local rendezvous recv item cancelled. Key hash: 5640187878637657889\n"
     ]
    },
    {
     "name": "stdout",
     "output_type": "stream",
     "text": [
      "25/25 [==============================] - 1s 32ms/step - loss: 11559.3721\n",
      "Epoch 75/1000\n",
      " 6/25 [======>.......................] - ETA: 0s - loss: 11543.5723"
     ]
    },
    {
     "name": "stderr",
     "output_type": "stream",
     "text": [
      "2023-12-14 23:30:56.444054: I tensorflow/core/framework/local_rendezvous.cc:421] Local rendezvous recv item cancelled. Key hash: 5640187878637657889\n"
     ]
    },
    {
     "name": "stdout",
     "output_type": "stream",
     "text": [
      "25/25 [==============================] - 1s 32ms/step - loss: 11483.8145\n",
      "Epoch 76/1000\n",
      " 6/25 [======>.......................] - ETA: 0s - loss: 11468.2148"
     ]
    },
    {
     "name": "stderr",
     "output_type": "stream",
     "text": [
      "2023-12-14 23:30:57.276373: I tensorflow/core/framework/local_rendezvous.cc:421] Local rendezvous recv item cancelled. Key hash: 5640187878637657889\n"
     ]
    },
    {
     "name": "stdout",
     "output_type": "stream",
     "text": [
      "25/25 [==============================] - 1s 32ms/step - loss: 11409.2471\n",
      "Epoch 77/1000\n",
      "25/25 [==============================] - 1s 32ms/step - loss: 11335.6104\n",
      "Epoch 78/1000\n",
      " 6/25 [======>.......................] - ETA: 0s - loss: 11320.4219"
     ]
    },
    {
     "name": "stderr",
     "output_type": "stream",
     "text": [
      "2023-12-14 23:30:58.937388: I tensorflow/core/framework/local_rendezvous.cc:421] Local rendezvous recv item cancelled. Key hash: 5640187878637657889\n"
     ]
    },
    {
     "name": "stdout",
     "output_type": "stream",
     "text": [
      "25/25 [==============================] - 1s 32ms/step - loss: 11263.0361\n",
      "Epoch 79/1000\n",
      " 6/25 [======>.......................] - ETA: 0s - loss: 11248.0225"
     ]
    },
    {
     "name": "stderr",
     "output_type": "stream",
     "text": [
      "2023-12-14 23:30:59.770415: I tensorflow/core/framework/local_rendezvous.cc:421] Local rendezvous recv item cancelled. Key hash: 5640187878637657889\n"
     ]
    },
    {
     "name": "stdout",
     "output_type": "stream",
     "text": [
      "25/25 [==============================] - 1s 32ms/step - loss: 11191.5098\n",
      "Epoch 80/1000\n",
      " 6/25 [======>.......................] - ETA: 0s - loss: 11176.7324"
     ]
    },
    {
     "name": "stderr",
     "output_type": "stream",
     "text": [
      "2023-12-14 23:31:00.602640: I tensorflow/core/framework/local_rendezvous.cc:421] Local rendezvous recv item cancelled. Key hash: 5640187878637657889\n"
     ]
    },
    {
     "name": "stdout",
     "output_type": "stream",
     "text": [
      "25/25 [==============================] - 1s 33ms/step - loss: 11120.7617\n",
      "Epoch 81/1000\n",
      " 4/25 [===>..........................] - ETA: 0s - loss: 11111.9512"
     ]
    },
    {
     "name": "stderr",
     "output_type": "stream",
     "text": [
      "2023-12-14 23:31:01.442638: I tensorflow/core/framework/local_rendezvous.cc:421] Local rendezvous recv item cancelled. Key hash: 5640187878637657889\n"
     ]
    },
    {
     "name": "stdout",
     "output_type": "stream",
     "text": [
      "25/25 [==============================] - 1s 33ms/step - loss: 11050.9717\n",
      "Epoch 82/1000\n",
      " 6/25 [======>.......................] - ETA: 0s - loss: 11036.5674"
     ]
    },
    {
     "name": "stderr",
     "output_type": "stream",
     "text": [
      "2023-12-14 23:31:02.291337: I tensorflow/core/framework/local_rendezvous.cc:421] Local rendezvous recv item cancelled. Key hash: 5640187878637657889\n"
     ]
    },
    {
     "name": "stdout",
     "output_type": "stream",
     "text": [
      "25/25 [==============================] - 1s 32ms/step - loss: 10982.0850\n",
      "Epoch 83/1000\n",
      " 4/25 [===>..........................] - ETA: 0s - loss: 10973.5010"
     ]
    },
    {
     "name": "stderr",
     "output_type": "stream",
     "text": [
      "2023-12-14 23:31:03.128522: I tensorflow/core/framework/local_rendezvous.cc:421] Local rendezvous recv item cancelled. Key hash: 5640187878637657889\n"
     ]
    },
    {
     "name": "stdout",
     "output_type": "stream",
     "text": [
      "25/25 [==============================] - 1s 33ms/step - loss: 10913.9482\n",
      "Epoch 84/1000\n",
      " 4/25 [===>..........................] - ETA: 0s - loss: 10905.4805"
     ]
    },
    {
     "name": "stderr",
     "output_type": "stream",
     "text": [
      "2023-12-14 23:31:03.978122: I tensorflow/core/framework/local_rendezvous.cc:421] Local rendezvous recv item cancelled. Key hash: 5640187878637657889\n"
     ]
    },
    {
     "name": "stdout",
     "output_type": "stream",
     "text": [
      "25/25 [==============================] - 1s 32ms/step - loss: 10846.7393\n",
      "Epoch 85/1000\n",
      " 6/25 [======>.......................] - ETA: 0s - loss: 10832.8799"
     ]
    },
    {
     "name": "stderr",
     "output_type": "stream",
     "text": [
      "2023-12-14 23:31:04.826567: I tensorflow/core/framework/local_rendezvous.cc:421] Local rendezvous recv item cancelled. Key hash: 5640187878637657889\n"
     ]
    },
    {
     "name": "stdout",
     "output_type": "stream",
     "text": [
      "25/25 [==============================] - 1s 32ms/step - loss: 10780.5645\n",
      "Epoch 86/1000\n",
      " 6/25 [======>.......................] - ETA: 0s - loss: 10766.8418"
     ]
    },
    {
     "name": "stderr",
     "output_type": "stream",
     "text": [
      "2023-12-14 23:31:05.660511: I tensorflow/core/framework/local_rendezvous.cc:421] Local rendezvous recv item cancelled. Key hash: 5640187878637657889\n"
     ]
    },
    {
     "name": "stdout",
     "output_type": "stream",
     "text": [
      "25/25 [==============================] - 1s 32ms/step - loss: 10715.1064\n",
      "Epoch 87/1000\n",
      " 4/25 [===>..........................] - ETA: 0s - loss: 10707.0146"
     ]
    },
    {
     "name": "stderr",
     "output_type": "stream",
     "text": [
      "2023-12-14 23:31:06.493857: I tensorflow/core/framework/local_rendezvous.cc:421] Local rendezvous recv item cancelled. Key hash: 5640187878637657889\n"
     ]
    },
    {
     "name": "stdout",
     "output_type": "stream",
     "text": [
      "25/25 [==============================] - 1s 33ms/step - loss: 10650.3340\n",
      "Epoch 88/1000\n",
      " 4/25 [===>..........................] - ETA: 0s - loss: 10642.3203"
     ]
    },
    {
     "name": "stderr",
     "output_type": "stream",
     "text": [
      "2023-12-14 23:31:07.343663: I tensorflow/core/framework/local_rendezvous.cc:421] Local rendezvous recv item cancelled. Key hash: 5640187878637657889\n"
     ]
    },
    {
     "name": "stdout",
     "output_type": "stream",
     "text": [
      "25/25 [==============================] - 1s 33ms/step - loss: 10586.4648\n",
      "Epoch 89/1000\n",
      " 4/25 [===>..........................] - ETA: 0s - loss: 10578.4932"
     ]
    },
    {
     "name": "stderr",
     "output_type": "stream",
     "text": [
      "2023-12-14 23:31:08.192938: I tensorflow/core/framework/local_rendezvous.cc:421] Local rendezvous recv item cancelled. Key hash: 5640187878637657889\n"
     ]
    },
    {
     "name": "stdout",
     "output_type": "stream",
     "text": [
      "25/25 [==============================] - 1s 33ms/step - loss: 10523.4775\n",
      "Epoch 90/1000\n",
      " 4/25 [===>..........................] - ETA: 0s - loss: 10515.6162"
     ]
    },
    {
     "name": "stderr",
     "output_type": "stream",
     "text": [
      "2023-12-14 23:31:09.043553: I tensorflow/core/framework/local_rendezvous.cc:421] Local rendezvous recv item cancelled. Key hash: 5640187878637657889\n"
     ]
    },
    {
     "name": "stdout",
     "output_type": "stream",
     "text": [
      "25/25 [==============================] - 1s 33ms/step - loss: 10461.3105\n",
      "Epoch 91/1000\n",
      "25/25 [==============================] - 1s 33ms/step - loss: 10399.9131\n",
      "Epoch 92/1000\n",
      " 4/25 [===>..........................] - ETA: 0s - loss: 10392.2363"
     ]
    },
    {
     "name": "stderr",
     "output_type": "stream",
     "text": [
      "2023-12-14 23:31:10.749559: I tensorflow/core/framework/local_rendezvous.cc:421] Local rendezvous recv item cancelled. Key hash: 5640187878637657889\n"
     ]
    },
    {
     "name": "stdout",
     "output_type": "stream",
     "text": [
      "25/25 [==============================] - 1s 33ms/step - loss: 10339.1865\n",
      "Epoch 93/1000\n",
      " 4/25 [===>..........................] - ETA: 0s - loss: 10331.7100"
     ]
    },
    {
     "name": "stderr",
     "output_type": "stream",
     "text": [
      "2023-12-14 23:31:11.597148: I tensorflow/core/framework/local_rendezvous.cc:421] Local rendezvous recv item cancelled. Key hash: 5640187878637657889\n"
     ]
    },
    {
     "name": "stdout",
     "output_type": "stream",
     "text": [
      "25/25 [==============================] - 1s 33ms/step - loss: 10279.3311\n",
      "Epoch 94/1000\n",
      " 4/25 [===>..........................] - ETA: 0s - loss: 10271.8564"
     ]
    },
    {
     "name": "stderr",
     "output_type": "stream",
     "text": [
      "2023-12-14 23:31:12.444304: I tensorflow/core/framework/local_rendezvous.cc:421] Local rendezvous recv item cancelled. Key hash: 5640187878637657889\n"
     ]
    },
    {
     "name": "stdout",
     "output_type": "stream",
     "text": [
      "25/25 [==============================] - 1s 33ms/step - loss: 10220.0283\n",
      "Epoch 95/1000\n",
      " 6/25 [======>.......................] - ETA: 0s - loss: 10207.8066"
     ]
    },
    {
     "name": "stderr",
     "output_type": "stream",
     "text": [
      "2023-12-14 23:31:13.293801: I tensorflow/core/framework/local_rendezvous.cc:421] Local rendezvous recv item cancelled. Key hash: 5640187878637657889\n"
     ]
    },
    {
     "name": "stdout",
     "output_type": "stream",
     "text": [
      "25/25 [==============================] - 1s 32ms/step - loss: 10161.5938\n",
      "Epoch 96/1000\n",
      " 4/25 [===>..........................] - ETA: 0s - loss: 10154.3506"
     ]
    },
    {
     "name": "stderr",
     "output_type": "stream",
     "text": [
      "2023-12-14 23:31:14.127377: I tensorflow/core/framework/local_rendezvous.cc:421] Local rendezvous recv item cancelled. Key hash: 5640187878637657889\n"
     ]
    },
    {
     "name": "stdout",
     "output_type": "stream",
     "text": [
      "25/25 [==============================] - 1s 33ms/step - loss: 10103.8633\n",
      "Epoch 97/1000\n",
      " 6/25 [======>.......................] - ETA: 0s - loss: 10091.8975"
     ]
    },
    {
     "name": "stderr",
     "output_type": "stream",
     "text": [
      "2023-12-14 23:31:14.976884: I tensorflow/core/framework/local_rendezvous.cc:421] Local rendezvous recv item cancelled. Key hash: 5640187878637657889\n"
     ]
    },
    {
     "name": "stdout",
     "output_type": "stream",
     "text": [
      "25/25 [==============================] - 1s 33ms/step - loss: 10046.6094\n",
      "Epoch 98/1000\n",
      " 6/25 [======>.......................] - ETA: 0s - loss: 10034.8252"
     ]
    },
    {
     "name": "stderr",
     "output_type": "stream",
     "text": [
      "2023-12-14 23:31:15.823275: I tensorflow/core/framework/local_rendezvous.cc:421] Local rendezvous recv item cancelled. Key hash: 5640187878637657889\n"
     ]
    },
    {
     "name": "stdout",
     "output_type": "stream",
     "text": [
      "25/25 [==============================] - 1s 32ms/step - loss: 9990.1152\n",
      "Epoch 99/1000\n",
      " 4/25 [===>..........................] - ETA: 0s - loss: 9983.0859"
     ]
    },
    {
     "name": "stderr",
     "output_type": "stream",
     "text": [
      "2023-12-14 23:31:16.660339: I tensorflow/core/framework/local_rendezvous.cc:421] Local rendezvous recv item cancelled. Key hash: 5640187878637657889\n"
     ]
    },
    {
     "name": "stdout",
     "output_type": "stream",
     "text": [
      "25/25 [==============================] - 1s 33ms/step - loss: 9934.2959\n",
      "Epoch 100/1000\n",
      " 4/25 [===>..........................] - ETA: 0s - loss: 9927.3760"
     ]
    },
    {
     "name": "stderr",
     "output_type": "stream",
     "text": [
      "2023-12-14 23:31:17.510446: I tensorflow/core/framework/local_rendezvous.cc:421] Local rendezvous recv item cancelled. Key hash: 5640187878637657889\n"
     ]
    },
    {
     "name": "stdout",
     "output_type": "stream",
     "text": [
      "25/25 [==============================] - 1s 33ms/step - loss: 9879.1289\n",
      "Epoch 101/1000\n",
      " 4/25 [===>..........................] - ETA: 0s - loss: 9872.2910"
     ]
    },
    {
     "name": "stderr",
     "output_type": "stream",
     "text": [
      "2023-12-14 23:31:18.371913: I tensorflow/core/framework/local_rendezvous.cc:421] Local rendezvous recv item cancelled. Key hash: 5640187878637657889\n"
     ]
    },
    {
     "name": "stdout",
     "output_type": "stream",
     "text": [
      "25/25 [==============================] - 1s 32ms/step - loss: 9824.5986\n",
      "Epoch 102/1000\n",
      " 6/25 [======>.......................] - ETA: 0s - loss: 9813.3574"
     ]
    },
    {
     "name": "stderr",
     "output_type": "stream",
     "text": [
      "2023-12-14 23:31:19.213963: I tensorflow/core/framework/local_rendezvous.cc:421] Local rendezvous recv item cancelled. Key hash: 5640187878637657889\n"
     ]
    },
    {
     "name": "stdout",
     "output_type": "stream",
     "text": [
      "25/25 [==============================] - 1s 33ms/step - loss: 9770.7568\n",
      "Epoch 103/1000\n",
      " 4/25 [===>..........................] - ETA: 0s - loss: 9764.1035"
     ]
    },
    {
     "name": "stderr",
     "output_type": "stream",
     "text": [
      "2023-12-14 23:31:20.065921: I tensorflow/core/framework/local_rendezvous.cc:421] Local rendezvous recv item cancelled. Key hash: 5640187878637657889\n"
     ]
    },
    {
     "name": "stdout",
     "output_type": "stream",
     "text": [
      "25/25 [==============================] - 1s 33ms/step - loss: 9717.4658\n"
     ]
    },
    {
     "name": "stderr",
     "output_type": "stream",
     "text": [
      "2023-12-14 23:31:20.920004: I tensorflow/core/framework/local_rendezvous.cc:421] Local rendezvous recv item cancelled. Key hash: 5640187878637657889\n"
     ]
    },
    {
     "name": "stdout",
     "output_type": "stream",
     "text": [
      "Epoch 104/1000\n",
      "25/25 [==============================] - 1s 32ms/step - loss: 9664.8955\n",
      "Epoch 105/1000\n",
      " 4/25 [===>..........................] - ETA: 0s - loss: 9658.3281"
     ]
    },
    {
     "name": "stderr",
     "output_type": "stream",
     "text": [
      "2023-12-14 23:31:22.164696: I tensorflow/core/framework/local_rendezvous.cc:421] Local rendezvous recv item cancelled. Key hash: 5640187878637657889\n"
     ]
    },
    {
     "name": "stdout",
     "output_type": "stream",
     "text": [
      "25/25 [==============================] - 1s 33ms/step - loss: 9612.7812\n",
      "Epoch 106/1000\n",
      " 6/25 [======>.......................] - ETA: 0s - loss: 9602.0615"
     ]
    },
    {
     "name": "stderr",
     "output_type": "stream",
     "text": [
      "2023-12-14 23:31:23.027246: I tensorflow/core/framework/local_rendezvous.cc:421] Local rendezvous recv item cancelled. Key hash: 5640187878637657889\n"
     ]
    },
    {
     "name": "stdout",
     "output_type": "stream",
     "text": [
      "25/25 [==============================] - 1s 32ms/step - loss: 9561.4053\n",
      "Epoch 107/1000\n",
      " 4/25 [===>..........................] - ETA: 0s - loss: 9555.0381"
     ]
    },
    {
     "name": "stderr",
     "output_type": "stream",
     "text": [
      "2023-12-14 23:31:23.863413: I tensorflow/core/framework/local_rendezvous.cc:421] Local rendezvous recv item cancelled. Key hash: 5640187878637657889\n"
     ]
    },
    {
     "name": "stdout",
     "output_type": "stream",
     "text": [
      "25/25 [==============================] - 1s 33ms/step - loss: 9510.5684\n",
      "Epoch 108/1000\n",
      " 6/25 [======>.......................] - ETA: 0s - loss: 9500.1006"
     ]
    },
    {
     "name": "stderr",
     "output_type": "stream",
     "text": [
      "2023-12-14 23:31:24.709771: I tensorflow/core/framework/local_rendezvous.cc:421] Local rendezvous recv item cancelled. Key hash: 5640187878637657889\n"
     ]
    },
    {
     "name": "stdout",
     "output_type": "stream",
     "text": [
      "25/25 [==============================] - 1s 32ms/step - loss: 9460.3789\n",
      "Epoch 109/1000\n",
      " 6/25 [======>.......................] - ETA: 0s - loss: 9449.9375"
     ]
    },
    {
     "name": "stderr",
     "output_type": "stream",
     "text": [
      "2023-12-14 23:31:25.542964: I tensorflow/core/framework/local_rendezvous.cc:421] Local rendezvous recv item cancelled. Key hash: 5640187878637657889\n"
     ]
    },
    {
     "name": "stdout",
     "output_type": "stream",
     "text": [
      "25/25 [==============================] - 1s 32ms/step - loss: 9410.6465\n",
      "Epoch 110/1000\n",
      " 4/25 [===>..........................] - ETA: 0s - loss: 9404.4531"
     ]
    },
    {
     "name": "stderr",
     "output_type": "stream",
     "text": [
      "2023-12-14 23:31:26.376412: I tensorflow/core/framework/local_rendezvous.cc:421] Local rendezvous recv item cancelled. Key hash: 5640187878637657889\n"
     ]
    },
    {
     "name": "stdout",
     "output_type": "stream",
     "text": [
      "25/25 [==============================] - 1s 33ms/step - loss: 9361.4629\n",
      "Epoch 111/1000\n",
      " 6/25 [======>.......................] - ETA: 0s - loss: 9351.2637"
     ]
    },
    {
     "name": "stderr",
     "output_type": "stream",
     "text": [
      "2023-12-14 23:31:27.225392: I tensorflow/core/framework/local_rendezvous.cc:421] Local rendezvous recv item cancelled. Key hash: 5640187878637657889\n"
     ]
    },
    {
     "name": "stdout",
     "output_type": "stream",
     "text": [
      "25/25 [==============================] - 1s 32ms/step - loss: 9312.7656\n",
      "Epoch 112/1000\n",
      " 4/25 [===>..........................] - ETA: 0s - loss: 9306.7402"
     ]
    },
    {
     "name": "stderr",
     "output_type": "stream",
     "text": [
      "2023-12-14 23:31:28.060638: I tensorflow/core/framework/local_rendezvous.cc:421] Local rendezvous recv item cancelled. Key hash: 5640187878637657889\n"
     ]
    },
    {
     "name": "stdout",
     "output_type": "stream",
     "text": [
      "25/25 [==============================] - 1s 33ms/step - loss: 9264.6514\n",
      "Epoch 113/1000\n",
      " 6/25 [======>.......................] - ETA: 0s - loss: 9254.7422"
     ]
    },
    {
     "name": "stderr",
     "output_type": "stream",
     "text": [
      "2023-12-14 23:31:28.906671: I tensorflow/core/framework/local_rendezvous.cc:421] Local rendezvous recv item cancelled. Key hash: 5640187878637657889\n"
     ]
    },
    {
     "name": "stdout",
     "output_type": "stream",
     "text": [
      "25/25 [==============================] - 1s 32ms/step - loss: 9217.1523\n",
      "Epoch 114/1000\n",
      " 6/25 [======>.......................] - ETA: 0s - loss: 9207.3408"
     ]
    },
    {
     "name": "stderr",
     "output_type": "stream",
     "text": [
      "2023-12-14 23:31:29.743828: I tensorflow/core/framework/local_rendezvous.cc:421] Local rendezvous recv item cancelled. Key hash: 5640187878637657889\n"
     ]
    },
    {
     "name": "stdout",
     "output_type": "stream",
     "text": [
      "25/25 [==============================] - 1s 33ms/step - loss: 9170.0918\n",
      "Epoch 115/1000\n",
      " 4/25 [===>..........................] - ETA: 0s - loss: 9164.2266"
     ]
    },
    {
     "name": "stderr",
     "output_type": "stream",
     "text": [
      "2023-12-14 23:31:30.588670: I tensorflow/core/framework/local_rendezvous.cc:421] Local rendezvous recv item cancelled. Key hash: 5640187878637657889\n"
     ]
    },
    {
     "name": "stdout",
     "output_type": "stream",
     "text": [
      "25/25 [==============================] - 1s 33ms/step - loss: 9123.5957\n",
      "Epoch 116/1000\n",
      " 4/25 [===>..........................] - ETA: 0s - loss: 9117.8008"
     ]
    },
    {
     "name": "stderr",
     "output_type": "stream",
     "text": [
      "2023-12-14 23:31:31.436321: I tensorflow/core/framework/local_rendezvous.cc:421] Local rendezvous recv item cancelled. Key hash: 5640187878637657889\n"
     ]
    },
    {
     "name": "stdout",
     "output_type": "stream",
     "text": [
      "25/25 [==============================] - 1s 32ms/step - loss: 9077.5518\n",
      "Epoch 117/1000\n",
      " 4/25 [===>..........................] - ETA: 0s - loss: 9071.8008"
     ]
    },
    {
     "name": "stderr",
     "output_type": "stream",
     "text": [
      "2023-12-14 23:31:32.282340: I tensorflow/core/framework/local_rendezvous.cc:421] Local rendezvous recv item cancelled. Key hash: 5640187878637657889\n"
     ]
    },
    {
     "name": "stdout",
     "output_type": "stream",
     "text": [
      "25/25 [==============================] - 1s 32ms/step - loss: 9032.0957\n",
      "Epoch 118/1000\n",
      " 6/25 [======>.......................] - ETA: 0s - loss: 9022.7129"
     ]
    },
    {
     "name": "stderr",
     "output_type": "stream",
     "text": [
      "2023-12-14 23:31:33.126765: I tensorflow/core/framework/local_rendezvous.cc:421] Local rendezvous recv item cancelled. Key hash: 5640187878637657889\n"
     ]
    },
    {
     "name": "stdout",
     "output_type": "stream",
     "text": [
      "25/25 [==============================] - 1s 32ms/step - loss: 8987.1270\n",
      "Epoch 119/1000\n",
      " 6/25 [======>.......................] - ETA: 0s - loss: 8977.7920"
     ]
    },
    {
     "name": "stderr",
     "output_type": "stream",
     "text": [
      "2023-12-14 23:31:33.959534: I tensorflow/core/framework/local_rendezvous.cc:421] Local rendezvous recv item cancelled. Key hash: 5640187878637657889\n"
     ]
    },
    {
     "name": "stdout",
     "output_type": "stream",
     "text": [
      "25/25 [==============================] - 1s 32ms/step - loss: 8942.6738\n",
      "Epoch 120/1000\n",
      " 6/25 [======>.......................] - ETA: 0s - loss: 8933.4883"
     ]
    },
    {
     "name": "stderr",
     "output_type": "stream",
     "text": [
      "2023-12-14 23:31:34.793663: I tensorflow/core/framework/local_rendezvous.cc:421] Local rendezvous recv item cancelled. Key hash: 5640187878637657889\n"
     ]
    },
    {
     "name": "stdout",
     "output_type": "stream",
     "text": [
      "25/25 [==============================] - 1s 33ms/step - loss: 8898.7393\n",
      "Epoch 121/1000\n",
      " 4/25 [===>..........................] - ETA: 0s - loss: 8893.2822"
     ]
    },
    {
     "name": "stderr",
     "output_type": "stream",
     "text": [
      "2023-12-14 23:31:35.644035: I tensorflow/core/framework/local_rendezvous.cc:421] Local rendezvous recv item cancelled. Key hash: 5640187878637657889\n"
     ]
    },
    {
     "name": "stdout",
     "output_type": "stream",
     "text": [
      "25/25 [==============================] - 1s 33ms/step - loss: 8855.2900\n",
      "Epoch 122/1000\n",
      "25/25 [==============================] - 1s 33ms/step - loss: 8812.2559\n",
      "Epoch 123/1000\n",
      " 4/25 [===>..........................] - ETA: 0s - loss: 8806.8984"
     ]
    },
    {
     "name": "stderr",
     "output_type": "stream",
     "text": [
      "2023-12-14 23:31:37.344071: I tensorflow/core/framework/local_rendezvous.cc:421] Local rendezvous recv item cancelled. Key hash: 5640187878637657889\n"
     ]
    },
    {
     "name": "stdout",
     "output_type": "stream",
     "text": [
      "25/25 [==============================] - 1s 33ms/step - loss: 8769.6670\n",
      "Epoch 124/1000\n",
      " 4/25 [===>..........................] - ETA: 0s - loss: 8764.3828"
     ]
    },
    {
     "name": "stderr",
     "output_type": "stream",
     "text": [
      "2023-12-14 23:31:38.200223: I tensorflow/core/framework/local_rendezvous.cc:421] Local rendezvous recv item cancelled. Key hash: 5640187878637657889\n"
     ]
    },
    {
     "name": "stdout",
     "output_type": "stream",
     "text": [
      "25/25 [==============================] - 1s 33ms/step - loss: 8727.5547\n",
      "Epoch 125/1000\n",
      " 4/25 [===>..........................] - ETA: 0s - loss: 8722.3428"
     ]
    },
    {
     "name": "stderr",
     "output_type": "stream",
     "text": [
      "2023-12-14 23:31:39.061245: I tensorflow/core/framework/local_rendezvous.cc:421] Local rendezvous recv item cancelled. Key hash: 5640187878637657889\n"
     ]
    },
    {
     "name": "stdout",
     "output_type": "stream",
     "text": [
      "25/25 [==============================] - 1s 33ms/step - loss: 8685.9658\n",
      "Epoch 126/1000\n",
      " 6/25 [======>.......................] - ETA: 0s - loss: 8677.3516"
     ]
    },
    {
     "name": "stderr",
     "output_type": "stream",
     "text": [
      "2023-12-14 23:31:39.913047: I tensorflow/core/framework/local_rendezvous.cc:421] Local rendezvous recv item cancelled. Key hash: 5640187878637657889\n"
     ]
    },
    {
     "name": "stdout",
     "output_type": "stream",
     "text": [
      "25/25 [==============================] - 1s 33ms/step - loss: 8644.6934\n",
      "Epoch 127/1000\n",
      " 4/25 [===>..........................] - ETA: 0s - loss: 8639.5479"
     ]
    },
    {
     "name": "stderr",
     "output_type": "stream",
     "text": [
      "2023-12-14 23:31:40.765224: I tensorflow/core/framework/local_rendezvous.cc:421] Local rendezvous recv item cancelled. Key hash: 5640187878637657889\n"
     ]
    },
    {
     "name": "stdout",
     "output_type": "stream",
     "text": [
      "25/25 [==============================] - 1s 33ms/step - loss: 8603.8252\n",
      "Epoch 128/1000\n",
      " 4/25 [===>..........................] - ETA: 0s - loss: 8598.7764"
     ]
    },
    {
     "name": "stderr",
     "output_type": "stream",
     "text": [
      "2023-12-14 23:31:41.619388: I tensorflow/core/framework/local_rendezvous.cc:421] Local rendezvous recv item cancelled. Key hash: 5640187878637657889\n"
     ]
    },
    {
     "name": "stdout",
     "output_type": "stream",
     "text": [
      "25/25 [==============================] - 1s 33ms/step - loss: 8563.4590\n",
      "Epoch 129/1000\n",
      " 6/25 [======>.......................] - ETA: 0s - loss: 8555.0684"
     ]
    },
    {
     "name": "stderr",
     "output_type": "stream",
     "text": [
      "2023-12-14 23:31:42.476320: I tensorflow/core/framework/local_rendezvous.cc:421] Local rendezvous recv item cancelled. Key hash: 5640187878637657889\n"
     ]
    },
    {
     "name": "stdout",
     "output_type": "stream",
     "text": [
      "25/25 [==============================] - 1s 32ms/step - loss: 8523.3721\n",
      "Epoch 130/1000\n",
      "25/25 [==============================] - 1s 33ms/step - loss: 8483.7158\n",
      "Epoch 131/1000\n",
      " 4/25 [===>..........................] - ETA: 0s - loss: 8478.7803"
     ]
    },
    {
     "name": "stderr",
     "output_type": "stream",
     "text": [
      "2023-12-14 23:31:44.164725: I tensorflow/core/framework/local_rendezvous.cc:421] Local rendezvous recv item cancelled. Key hash: 5640187878637657889\n"
     ]
    },
    {
     "name": "stdout",
     "output_type": "stream",
     "text": [
      "25/25 [==============================] - 1s 33ms/step - loss: 8444.5137\n",
      "Epoch 132/1000\n",
      " 4/25 [===>..........................] - ETA: 0s - loss: 8439.6533"
     ]
    },
    {
     "name": "stderr",
     "output_type": "stream",
     "text": [
      "2023-12-14 23:31:45.027610: I tensorflow/core/framework/local_rendezvous.cc:421] Local rendezvous recv item cancelled. Key hash: 5640187878637657889\n"
     ]
    },
    {
     "name": "stdout",
     "output_type": "stream",
     "text": [
      "25/25 [==============================] - 1s 33ms/step - loss: 8405.7598\n",
      "Epoch 133/1000\n",
      " 4/25 [===>..........................] - ETA: 0s - loss: 8400.9121"
     ]
    },
    {
     "name": "stderr",
     "output_type": "stream",
     "text": [
      "2023-12-14 23:31:45.886693: I tensorflow/core/framework/local_rendezvous.cc:421] Local rendezvous recv item cancelled. Key hash: 5640187878637657889\n"
     ]
    },
    {
     "name": "stdout",
     "output_type": "stream",
     "text": [
      "25/25 [==============================] - 1s 34ms/step - loss: 8367.3018\n",
      "Epoch 134/1000\n",
      " 4/25 [===>..........................] - ETA: 0s - loss: 8362.5078"
     ]
    },
    {
     "name": "stderr",
     "output_type": "stream",
     "text": [
      "2023-12-14 23:31:46.754181: I tensorflow/core/framework/local_rendezvous.cc:421] Local rendezvous recv item cancelled. Key hash: 5640187878637657889\n"
     ]
    },
    {
     "name": "stdout",
     "output_type": "stream",
     "text": [
      "25/25 [==============================] - 1s 34ms/step - loss: 8329.3916\n",
      "Epoch 135/1000\n",
      " 4/25 [===>..........................] - ETA: 0s - loss: 8324.6602"
     ]
    },
    {
     "name": "stderr",
     "output_type": "stream",
     "text": [
      "2023-12-14 23:31:47.643205: I tensorflow/core/framework/local_rendezvous.cc:421] Local rendezvous recv item cancelled. Key hash: 5640187878637657889\n"
     ]
    },
    {
     "name": "stdout",
     "output_type": "stream",
     "text": [
      "25/25 [==============================] - 1s 33ms/step - loss: 8291.7998\n",
      "Epoch 136/1000\n",
      " 4/25 [===>..........................] - ETA: 0s - loss: 8287.1377"
     ]
    },
    {
     "name": "stderr",
     "output_type": "stream",
     "text": [
      "2023-12-14 23:31:48.503237: I tensorflow/core/framework/local_rendezvous.cc:421] Local rendezvous recv item cancelled. Key hash: 5640187878637657889\n"
     ]
    },
    {
     "name": "stdout",
     "output_type": "stream",
     "text": [
      "25/25 [==============================] - 1s 33ms/step - loss: 8254.6357\n",
      "Epoch 137/1000\n",
      " 4/25 [===>..........................] - ETA: 0s - loss: 8250.0205"
     ]
    },
    {
     "name": "stderr",
     "output_type": "stream",
     "text": [
      "2023-12-14 23:31:49.369597: I tensorflow/core/framework/local_rendezvous.cc:421] Local rendezvous recv item cancelled. Key hash: 5640187878637657889\n"
     ]
    },
    {
     "name": "stdout",
     "output_type": "stream",
     "text": [
      "25/25 [==============================] - 1s 33ms/step - loss: 8217.7129\n",
      "Epoch 138/1000\n",
      " 4/25 [===>..........................] - ETA: 0s - loss: 8213.1299"
     ]
    },
    {
     "name": "stderr",
     "output_type": "stream",
     "text": [
      "2023-12-14 23:31:50.242343: I tensorflow/core/framework/local_rendezvous.cc:421] Local rendezvous recv item cancelled. Key hash: 5640187878637657889\n"
     ]
    },
    {
     "name": "stdout",
     "output_type": "stream",
     "text": [
      "25/25 [==============================] - 1s 34ms/step - loss: 8181.1860\n",
      "Epoch 139/1000\n",
      " 6/25 [======>.......................] - ETA: 0s - loss: 8173.6465"
     ]
    },
    {
     "name": "stderr",
     "output_type": "stream",
     "text": [
      "2023-12-14 23:31:51.110307: I tensorflow/core/framework/local_rendezvous.cc:421] Local rendezvous recv item cancelled. Key hash: 5640187878637657889\n"
     ]
    },
    {
     "name": "stdout",
     "output_type": "stream",
     "text": [
      "25/25 [==============================] - 1s 33ms/step - loss: 8145.0879\n",
      "Epoch 140/1000\n",
      " 4/25 [===>..........................] - ETA: 0s - loss: 8140.6177"
     ]
    },
    {
     "name": "stderr",
     "output_type": "stream",
     "text": [
      "2023-12-14 23:31:51.962004: I tensorflow/core/framework/local_rendezvous.cc:421] Local rendezvous recv item cancelled. Key hash: 5640187878637657889\n"
     ]
    },
    {
     "name": "stdout",
     "output_type": "stream",
     "text": [
      "25/25 [==============================] - 1s 33ms/step - loss: 8109.3169\n",
      "Epoch 141/1000\n",
      "25/25 [==============================] - 1s 33ms/step - loss: 8073.8599\n",
      "Epoch 142/1000\n",
      " 6/25 [======>.......................] - ETA: 0s - loss: 8066.5312"
     ]
    },
    {
     "name": "stderr",
     "output_type": "stream",
     "text": [
      "2023-12-14 23:31:53.669943: I tensorflow/core/framework/local_rendezvous.cc:421] Local rendezvous recv item cancelled. Key hash: 5640187878637657889\n"
     ]
    },
    {
     "name": "stdout",
     "output_type": "stream",
     "text": [
      "25/25 [==============================] - 1s 33ms/step - loss: 8038.7969\n",
      "Epoch 143/1000\n",
      " 6/25 [======>.......................] - ETA: 0s - loss: 8031.5469"
     ]
    },
    {
     "name": "stderr",
     "output_type": "stream",
     "text": [
      "2023-12-14 23:31:54.511945: I tensorflow/core/framework/local_rendezvous.cc:421] Local rendezvous recv item cancelled. Key hash: 5640187878637657889\n"
     ]
    },
    {
     "name": "stdout",
     "output_type": "stream",
     "text": [
      "25/25 [==============================] - 1s 33ms/step - loss: 8003.9990\n",
      "Epoch 144/1000\n",
      " 4/25 [===>..........................] - ETA: 0s - loss: 7999.6904"
     ]
    },
    {
     "name": "stderr",
     "output_type": "stream",
     "text": [
      "2023-12-14 23:31:55.374797: I tensorflow/core/framework/local_rendezvous.cc:421] Local rendezvous recv item cancelled. Key hash: 5640187878637657889\n"
     ]
    },
    {
     "name": "stdout",
     "output_type": "stream",
     "text": [
      "25/25 [==============================] - 1s 34ms/step - loss: 7969.6099\n",
      "Epoch 145/1000\n",
      " 4/25 [===>..........................] - ETA: 0s - loss: 7965.3530"
     ]
    },
    {
     "name": "stderr",
     "output_type": "stream",
     "text": [
      "2023-12-14 23:31:56.236705: I tensorflow/core/framework/local_rendezvous.cc:421] Local rendezvous recv item cancelled. Key hash: 5640187878637657889\n"
     ]
    },
    {
     "name": "stdout",
     "output_type": "stream",
     "text": [
      "25/25 [==============================] - 1s 34ms/step - loss: 7935.5605\n",
      "Epoch 146/1000\n",
      "25/25 [==============================] - 1s 34ms/step - loss: 7901.8149\n",
      "Epoch 147/1000\n",
      " 4/25 [===>..........................] - ETA: 0s - loss: 7897.6597"
     ]
    },
    {
     "name": "stderr",
     "output_type": "stream",
     "text": [
      "2023-12-14 23:31:58.040279: I tensorflow/core/framework/local_rendezvous.cc:421] Local rendezvous recv item cancelled. Key hash: 5640187878637657889\n"
     ]
    },
    {
     "name": "stdout",
     "output_type": "stream",
     "text": [
      "25/25 [==============================] - 1s 33ms/step - loss: 7868.4941\n",
      "Epoch 148/1000\n",
      " 4/25 [===>..........................] - ETA: 0s - loss: 7864.3535"
     ]
    },
    {
     "name": "stderr",
     "output_type": "stream",
     "text": [
      "2023-12-14 23:31:58.927906: I tensorflow/core/framework/local_rendezvous.cc:421] Local rendezvous recv item cancelled. Key hash: 5640187878637657889\n"
     ]
    },
    {
     "name": "stdout",
     "output_type": "stream",
     "text": [
      "25/25 [==============================] - 1s 34ms/step - loss: 7835.3496\n",
      "Epoch 149/1000\n",
      " 4/25 [===>..........................] - ETA: 0s - loss: 7831.2495"
     ]
    },
    {
     "name": "stderr",
     "output_type": "stream",
     "text": [
      "2023-12-14 23:31:59.820810: I tensorflow/core/framework/local_rendezvous.cc:421] Local rendezvous recv item cancelled. Key hash: 5640187878637657889\n"
     ]
    },
    {
     "name": "stdout",
     "output_type": "stream",
     "text": [
      "25/25 [==============================] - 1s 33ms/step - loss: 7802.6191\n",
      "Epoch 150/1000\n",
      " 4/25 [===>..........................] - ETA: 0s - loss: 7798.5405"
     ]
    },
    {
     "name": "stderr",
     "output_type": "stream",
     "text": [
      "2023-12-14 23:32:00.710206: I tensorflow/core/framework/local_rendezvous.cc:421] Local rendezvous recv item cancelled. Key hash: 5640187878637657889\n"
     ]
    },
    {
     "name": "stdout",
     "output_type": "stream",
     "text": [
      "25/25 [==============================] - 1s 34ms/step - loss: 7770.0918\n",
      "Epoch 151/1000\n",
      " 4/25 [===>..........................] - ETA: 0s - loss: 7766.0703"
     ]
    },
    {
     "name": "stderr",
     "output_type": "stream",
     "text": [
      "2023-12-14 23:32:01.603302: I tensorflow/core/framework/local_rendezvous.cc:421] Local rendezvous recv item cancelled. Key hash: 5640187878637657889\n"
     ]
    },
    {
     "name": "stdout",
     "output_type": "stream",
     "text": [
      "25/25 [==============================] - 1s 33ms/step - loss: 7737.9331\n",
      "Epoch 152/1000\n",
      " 4/25 [===>..........................] - ETA: 0s - loss: 7733.9409"
     ]
    },
    {
     "name": "stderr",
     "output_type": "stream",
     "text": [
      "2023-12-14 23:32:02.491417: I tensorflow/core/framework/local_rendezvous.cc:421] Local rendezvous recv item cancelled. Key hash: 5640187878637657889\n"
     ]
    },
    {
     "name": "stdout",
     "output_type": "stream",
     "text": [
      "25/25 [==============================] - 1s 33ms/step - loss: 7706.0957\n",
      "Epoch 153/1000\n",
      " 4/25 [===>..........................] - ETA: 0s - loss: 7702.1333"
     ]
    },
    {
     "name": "stderr",
     "output_type": "stream",
     "text": [
      "2023-12-14 23:32:03.375883: I tensorflow/core/framework/local_rendezvous.cc:421] Local rendezvous recv item cancelled. Key hash: 5640187878637657889\n"
     ]
    },
    {
     "name": "stdout",
     "output_type": "stream",
     "text": [
      "25/25 [==============================] - 1s 33ms/step - loss: 7674.6748\n",
      "Epoch 154/1000\n",
      " 6/25 [======>.......................] - ETA: 0s - loss: 7668.1763"
     ]
    },
    {
     "name": "stderr",
     "output_type": "stream",
     "text": [
      "2023-12-14 23:32:04.230492: I tensorflow/core/framework/local_rendezvous.cc:421] Local rendezvous recv item cancelled. Key hash: 5640187878637657889\n"
     ]
    },
    {
     "name": "stdout",
     "output_type": "stream",
     "text": [
      "25/25 [==============================] - 1s 34ms/step - loss: 7643.4780\n",
      "Epoch 155/1000\n",
      " 4/25 [===>..........................] - ETA: 0s - loss: 7639.5776"
     ]
    },
    {
     "name": "stderr",
     "output_type": "stream",
     "text": [
      "2023-12-14 23:32:05.092994: I tensorflow/core/framework/local_rendezvous.cc:421] Local rendezvous recv item cancelled. Key hash: 5640187878637657889\n"
     ]
    },
    {
     "name": "stdout",
     "output_type": "stream",
     "text": [
      "25/25 [==============================] - 1s 33ms/step - loss: 7612.5669\n",
      "Epoch 156/1000\n",
      " 4/25 [===>..........................] - ETA: 0s - loss: 7608.7397"
     ]
    },
    {
     "name": "stderr",
     "output_type": "stream",
     "text": [
      "2023-12-14 23:32:05.959160: I tensorflow/core/framework/local_rendezvous.cc:421] Local rendezvous recv item cancelled. Key hash: 5640187878637657889\n"
     ]
    },
    {
     "name": "stdout",
     "output_type": "stream",
     "text": [
      "25/25 [==============================] - 1s 34ms/step - loss: 7581.8818\n",
      "Epoch 157/1000\n",
      " 4/25 [===>..........................] - ETA: 0s - loss: 7578.0620"
     ]
    },
    {
     "name": "stderr",
     "output_type": "stream",
     "text": [
      "2023-12-14 23:32:06.829600: I tensorflow/core/framework/local_rendezvous.cc:421] Local rendezvous recv item cancelled. Key hash: 5640187878637657889\n"
     ]
    },
    {
     "name": "stdout",
     "output_type": "stream",
     "text": [
      "25/25 [==============================] - 1s 34ms/step - loss: 7551.4395\n",
      "Epoch 158/1000\n",
      " 4/25 [===>..........................] - ETA: 0s - loss: 7547.6572"
     ]
    },
    {
     "name": "stderr",
     "output_type": "stream",
     "text": [
      "2023-12-14 23:32:07.701005: I tensorflow/core/framework/local_rendezvous.cc:421] Local rendezvous recv item cancelled. Key hash: 5640187878637657889\n"
     ]
    },
    {
     "name": "stdout",
     "output_type": "stream",
     "text": [
      "25/25 [==============================] - 1s 33ms/step - loss: 7521.3037\n",
      "Epoch 159/1000\n",
      " 4/25 [===>..........................] - ETA: 0s - loss: 7517.5791"
     ]
    },
    {
     "name": "stderr",
     "output_type": "stream",
     "text": [
      "2023-12-14 23:32:08.556318: I tensorflow/core/framework/local_rendezvous.cc:421] Local rendezvous recv item cancelled. Key hash: 5640187878637657889\n"
     ]
    },
    {
     "name": "stdout",
     "output_type": "stream",
     "text": [
      "25/25 [==============================] - 1s 33ms/step - loss: 7491.5015\n",
      "Epoch 160/1000\n",
      " 6/25 [======>.......................] - ETA: 0s - loss: 7485.3145"
     ]
    },
    {
     "name": "stderr",
     "output_type": "stream",
     "text": [
      "2023-12-14 23:32:09.406492: I tensorflow/core/framework/local_rendezvous.cc:421] Local rendezvous recv item cancelled. Key hash: 5640187878637657889\n"
     ]
    },
    {
     "name": "stdout",
     "output_type": "stream",
     "text": [
      "25/25 [==============================] - 1s 33ms/step - loss: 7461.9443\n",
      "Epoch 161/1000\n",
      " 4/25 [===>..........................] - ETA: 0s - loss: 7458.2642"
     ]
    },
    {
     "name": "stderr",
     "output_type": "stream",
     "text": [
      "2023-12-14 23:32:10.252001: I tensorflow/core/framework/local_rendezvous.cc:421] Local rendezvous recv item cancelled. Key hash: 5640187878637657889\n"
     ]
    },
    {
     "name": "stdout",
     "output_type": "stream",
     "text": [
      "25/25 [==============================] - 1s 33ms/step - loss: 7432.6274\n",
      "Epoch 162/1000\n",
      " 4/25 [===>..........................] - ETA: 0s - loss: 7428.9800"
     ]
    },
    {
     "name": "stderr",
     "output_type": "stream",
     "text": [
      "2023-12-14 23:32:11.098767: I tensorflow/core/framework/local_rendezvous.cc:421] Local rendezvous recv item cancelled. Key hash: 5640187878637657889\n"
     ]
    },
    {
     "name": "stdout",
     "output_type": "stream",
     "text": [
      "25/25 [==============================] - 1s 33ms/step - loss: 7403.5737\n",
      "Epoch 163/1000\n",
      " 6/25 [======>.......................] - ETA: 0s - loss: 7397.5728"
     ]
    },
    {
     "name": "stderr",
     "output_type": "stream",
     "text": [
      "2023-12-14 23:32:11.959960: I tensorflow/core/framework/local_rendezvous.cc:421] Local rendezvous recv item cancelled. Key hash: 5640187878637657889\n"
     ]
    },
    {
     "name": "stdout",
     "output_type": "stream",
     "text": [
      "25/25 [==============================] - 1s 33ms/step - loss: 7374.8247\n",
      "Epoch 164/1000\n",
      " 4/25 [===>..........................] - ETA: 0s - loss: 7371.2344"
     ]
    },
    {
     "name": "stderr",
     "output_type": "stream",
     "text": [
      "2023-12-14 23:32:12.820580: I tensorflow/core/framework/local_rendezvous.cc:421] Local rendezvous recv item cancelled. Key hash: 5640187878637657889\n"
     ]
    },
    {
     "name": "stdout",
     "output_type": "stream",
     "text": [
      "25/25 [==============================] - 1s 32ms/step - loss: 7346.3066\n",
      "Epoch 165/1000\n",
      " 6/25 [======>.......................] - ETA: 0s - loss: 7340.3916"
     ]
    },
    {
     "name": "stderr",
     "output_type": "stream",
     "text": [
      "2023-12-14 23:32:13.657616: I tensorflow/core/framework/local_rendezvous.cc:421] Local rendezvous recv item cancelled. Key hash: 5640187878637657889\n"
     ]
    },
    {
     "name": "stdout",
     "output_type": "stream",
     "text": [
      "25/25 [==============================] - 1s 33ms/step - loss: 7317.9878\n",
      "Epoch 166/1000\n",
      " 4/25 [===>..........................] - ETA: 0s - loss: 7314.4746"
     ]
    },
    {
     "name": "stderr",
     "output_type": "stream",
     "text": [
      "2023-12-14 23:32:14.499469: I tensorflow/core/framework/local_rendezvous.cc:421] Local rendezvous recv item cancelled. Key hash: 5640187878637657889\n"
     ]
    },
    {
     "name": "stdout",
     "output_type": "stream",
     "text": [
      "25/25 [==============================] - 1s 32ms/step - loss: 7290.0029\n",
      "Epoch 167/1000\n",
      " 4/25 [===>..........................] - ETA: 0s - loss: 7286.5259"
     ]
    },
    {
     "name": "stderr",
     "output_type": "stream",
     "text": [
      "2023-12-14 23:32:15.335382: I tensorflow/core/framework/local_rendezvous.cc:421] Local rendezvous recv item cancelled. Key hash: 5640187878637657889\n"
     ]
    },
    {
     "name": "stdout",
     "output_type": "stream",
     "text": [
      "25/25 [==============================] - 1s 33ms/step - loss: 7262.2383\n",
      "Epoch 168/1000\n",
      " 4/25 [===>..........................] - ETA: 0s - loss: 7258.7939"
     ]
    },
    {
     "name": "stderr",
     "output_type": "stream",
     "text": [
      "2023-12-14 23:32:16.178775: I tensorflow/core/framework/local_rendezvous.cc:421] Local rendezvous recv item cancelled. Key hash: 5640187878637657889\n"
     ]
    },
    {
     "name": "stdout",
     "output_type": "stream",
     "text": [
      "25/25 [==============================] - 1s 33ms/step - loss: 7234.6855\n",
      "Epoch 169/1000\n",
      " 4/25 [===>..........................] - ETA: 0s - loss: 7231.2710"
     ]
    },
    {
     "name": "stderr",
     "output_type": "stream",
     "text": [
      "2023-12-14 23:32:17.019717: I tensorflow/core/framework/local_rendezvous.cc:421] Local rendezvous recv item cancelled. Key hash: 5640187878637657889\n"
     ]
    },
    {
     "name": "stdout",
     "output_type": "stream",
     "text": [
      "25/25 [==============================] - 1s 32ms/step - loss: 7207.4214\n",
      "Epoch 170/1000\n",
      " 6/25 [======>.......................] - ETA: 0s - loss: 7201.7974"
     ]
    },
    {
     "name": "stderr",
     "output_type": "stream",
     "text": [
      "2023-12-14 23:32:17.854561: I tensorflow/core/framework/local_rendezvous.cc:421] Local rendezvous recv item cancelled. Key hash: 5640187878637657889\n"
     ]
    },
    {
     "name": "stdout",
     "output_type": "stream",
     "text": [
      "25/25 [==============================] - 1s 32ms/step - loss: 7180.3867\n",
      "Epoch 171/1000\n",
      " 4/25 [===>..........................] - ETA: 0s - loss: 7177.0337"
     ]
    },
    {
     "name": "stderr",
     "output_type": "stream",
     "text": [
      "2023-12-14 23:32:18.686044: I tensorflow/core/framework/local_rendezvous.cc:421] Local rendezvous recv item cancelled. Key hash: 5640187878637657889\n"
     ]
    },
    {
     "name": "stdout",
     "output_type": "stream",
     "text": [
      "25/25 [==============================] - 1s 32ms/step - loss: 7153.5312\n",
      "Epoch 172/1000\n",
      " 4/25 [===>..........................] - ETA: 0s - loss: 7150.2085"
     ]
    },
    {
     "name": "stderr",
     "output_type": "stream",
     "text": [
      "2023-12-14 23:32:19.519361: I tensorflow/core/framework/local_rendezvous.cc:421] Local rendezvous recv item cancelled. Key hash: 5640187878637657889\n"
     ]
    },
    {
     "name": "stdout",
     "output_type": "stream",
     "text": [
      "25/25 [==============================] - 1s 32ms/step - loss: 7127.0156\n",
      "Epoch 173/1000\n",
      " 4/25 [===>..........................] - ETA: 0s - loss: 7123.7002"
     ]
    },
    {
     "name": "stderr",
     "output_type": "stream",
     "text": [
      "2023-12-14 23:32:20.358724: I tensorflow/core/framework/local_rendezvous.cc:421] Local rendezvous recv item cancelled. Key hash: 5640187878637657889\n"
     ]
    },
    {
     "name": "stdout",
     "output_type": "stream",
     "text": [
      "25/25 [==============================] - 1s 32ms/step - loss: 7100.7236\n",
      "Epoch 174/1000\n",
      " 6/25 [======>.......................] - ETA: 0s - loss: 7095.2627"
     ]
    },
    {
     "name": "stderr",
     "output_type": "stream",
     "text": [
      "2023-12-14 23:32:21.202279: I tensorflow/core/framework/local_rendezvous.cc:421] Local rendezvous recv item cancelled. Key hash: 5640187878637657889\n"
     ]
    },
    {
     "name": "stdout",
     "output_type": "stream",
     "text": [
      "25/25 [==============================] - 1s 32ms/step - loss: 7074.6055\n",
      "Epoch 175/1000\n",
      " 6/25 [======>.......................] - ETA: 0s - loss: 7069.1899"
     ]
    },
    {
     "name": "stderr",
     "output_type": "stream",
     "text": [
      "2023-12-14 23:32:22.036962: I tensorflow/core/framework/local_rendezvous.cc:421] Local rendezvous recv item cancelled. Key hash: 5640187878637657889\n"
     ]
    },
    {
     "name": "stdout",
     "output_type": "stream",
     "text": [
      "25/25 [==============================] - 1s 32ms/step - loss: 7048.6929\n",
      "Epoch 176/1000\n",
      " 4/25 [===>..........................] - ETA: 0s - loss: 7045.4951"
     ]
    },
    {
     "name": "stderr",
     "output_type": "stream",
     "text": [
      "2023-12-14 23:32:22.873895: I tensorflow/core/framework/local_rendezvous.cc:421] Local rendezvous recv item cancelled. Key hash: 5640187878637657889\n"
     ]
    },
    {
     "name": "stdout",
     "output_type": "stream",
     "text": [
      "25/25 [==============================] - 1s 33ms/step - loss: 7023.0747\n",
      "Epoch 177/1000\n",
      " 4/25 [===>..........................] - ETA: 0s - loss: 7019.8770"
     ]
    },
    {
     "name": "stderr",
     "output_type": "stream",
     "text": [
      "2023-12-14 23:32:23.721203: I tensorflow/core/framework/local_rendezvous.cc:421] Local rendezvous recv item cancelled. Key hash: 5640187878637657889\n"
     ]
    },
    {
     "name": "stdout",
     "output_type": "stream",
     "text": [
      "25/25 [==============================] - 1s 33ms/step - loss: 6997.5815\n",
      "Epoch 178/1000\n",
      " 4/25 [===>..........................] - ETA: 0s - loss: 6994.4116"
     ]
    },
    {
     "name": "stderr",
     "output_type": "stream",
     "text": [
      "2023-12-14 23:32:24.569574: I tensorflow/core/framework/local_rendezvous.cc:421] Local rendezvous recv item cancelled. Key hash: 5640187878637657889\n"
     ]
    },
    {
     "name": "stdout",
     "output_type": "stream",
     "text": [
      "25/25 [==============================] - 1s 32ms/step - loss: 6972.3501\n",
      "Epoch 179/1000\n",
      " 6/25 [======>.......................] - ETA: 0s - loss: 6967.1528"
     ]
    },
    {
     "name": "stderr",
     "output_type": "stream",
     "text": [
      "2023-12-14 23:32:25.409774: I tensorflow/core/framework/local_rendezvous.cc:421] Local rendezvous recv item cancelled. Key hash: 5640187878637657889\n"
     ]
    },
    {
     "name": "stdout",
     "output_type": "stream",
     "text": [
      "25/25 [==============================] - 1s 32ms/step - loss: 6947.3569\n",
      "Epoch 180/1000\n",
      " 4/25 [===>..........................] - ETA: 0s - loss: 6944.2607"
     ]
    },
    {
     "name": "stderr",
     "output_type": "stream",
     "text": [
      "2023-12-14 23:32:26.236988: I tensorflow/core/framework/local_rendezvous.cc:421] Local rendezvous recv item cancelled. Key hash: 5640187878637657889\n"
     ]
    },
    {
     "name": "stdout",
     "output_type": "stream",
     "text": [
      "25/25 [==============================] - 1s 32ms/step - loss: 6922.5547\n",
      "Epoch 181/1000\n",
      " 4/25 [===>..........................] - ETA: 0s - loss: 6919.4839"
     ]
    },
    {
     "name": "stderr",
     "output_type": "stream",
     "text": [
      "2023-12-14 23:32:27.076397: I tensorflow/core/framework/local_rendezvous.cc:421] Local rendezvous recv item cancelled. Key hash: 5640187878637657889\n"
     ]
    },
    {
     "name": "stdout",
     "output_type": "stream",
     "text": [
      "25/25 [==============================] - 1s 33ms/step - loss: 6897.9492\n",
      "Epoch 182/1000\n",
      " 4/25 [===>..........................] - ETA: 0s - loss: 6894.9019"
     ]
    },
    {
     "name": "stderr",
     "output_type": "stream",
     "text": [
      "2023-12-14 23:32:27.920616: I tensorflow/core/framework/local_rendezvous.cc:421] Local rendezvous recv item cancelled. Key hash: 5640187878637657889\n"
     ]
    },
    {
     "name": "stdout",
     "output_type": "stream",
     "text": [
      "25/25 [==============================] - 1s 32ms/step - loss: 6873.5469\n",
      "Epoch 183/1000\n",
      " 6/25 [======>.......................] - ETA: 0s - loss: 6868.4658"
     ]
    },
    {
     "name": "stderr",
     "output_type": "stream",
     "text": [
      "2023-12-14 23:32:28.759114: I tensorflow/core/framework/local_rendezvous.cc:421] Local rendezvous recv item cancelled. Key hash: 5640187878637657889\n"
     ]
    },
    {
     "name": "stdout",
     "output_type": "stream",
     "text": [
      "25/25 [==============================] - 1s 32ms/step - loss: 6849.3311\n",
      "Epoch 184/1000\n",
      " 6/25 [======>.......................] - ETA: 0s - loss: 6844.3267"
     ]
    },
    {
     "name": "stderr",
     "output_type": "stream",
     "text": [
      "2023-12-14 23:32:29.587289: I tensorflow/core/framework/local_rendezvous.cc:421] Local rendezvous recv item cancelled. Key hash: 5640187878637657889\n"
     ]
    },
    {
     "name": "stdout",
     "output_type": "stream",
     "text": [
      "25/25 [==============================] - 1s 32ms/step - loss: 6825.3530\n",
      "Epoch 185/1000\n",
      " 4/25 [===>..........................] - ETA: 0s - loss: 6822.3809"
     ]
    },
    {
     "name": "stderr",
     "output_type": "stream",
     "text": [
      "2023-12-14 23:32:30.425734: I tensorflow/core/framework/local_rendezvous.cc:421] Local rendezvous recv item cancelled. Key hash: 5640187878637657889\n"
     ]
    },
    {
     "name": "stdout",
     "output_type": "stream",
     "text": [
      "25/25 [==============================] - 1s 33ms/step - loss: 6801.5459\n",
      "Epoch 186/1000\n",
      " 4/25 [===>..........................] - ETA: 0s - loss: 6798.5703"
     ]
    },
    {
     "name": "stderr",
     "output_type": "stream",
     "text": [
      "2023-12-14 23:32:31.270153: I tensorflow/core/framework/local_rendezvous.cc:421] Local rendezvous recv item cancelled. Key hash: 5640187878637657889\n"
     ]
    },
    {
     "name": "stdout",
     "output_type": "stream",
     "text": [
      "25/25 [==============================] - 1s 32ms/step - loss: 6777.8594\n",
      "Epoch 187/1000\n",
      " 6/25 [======>.......................] - ETA: 0s - loss: 6772.9648"
     ]
    },
    {
     "name": "stderr",
     "output_type": "stream",
     "text": [
      "2023-12-14 23:32:32.109590: I tensorflow/core/framework/local_rendezvous.cc:421] Local rendezvous recv item cancelled. Key hash: 5640187878637657889\n"
     ]
    },
    {
     "name": "stdout",
     "output_type": "stream",
     "text": [
      "25/25 [==============================] - 1s 32ms/step - loss: 6754.3667\n",
      "Epoch 188/1000\n",
      " 6/25 [======>.......................] - ETA: 0s - loss: 6749.5186"
     ]
    },
    {
     "name": "stderr",
     "output_type": "stream",
     "text": [
      "2023-12-14 23:32:32.940470: I tensorflow/core/framework/local_rendezvous.cc:421] Local rendezvous recv item cancelled. Key hash: 5640187878637657889\n"
     ]
    },
    {
     "name": "stdout",
     "output_type": "stream",
     "text": [
      "25/25 [==============================] - 1s 32ms/step - loss: 6731.1343\n",
      "Epoch 189/1000\n",
      " 4/25 [===>..........................] - ETA: 0s - loss: 6728.2432"
     ]
    },
    {
     "name": "stderr",
     "output_type": "stream",
     "text": [
      "2023-12-14 23:32:33.770100: I tensorflow/core/framework/local_rendezvous.cc:421] Local rendezvous recv item cancelled. Key hash: 5640187878637657889\n"
     ]
    },
    {
     "name": "stdout",
     "output_type": "stream",
     "text": [
      "25/25 [==============================] - 1s 33ms/step - loss: 6708.0264\n",
      "Epoch 190/1000\n",
      " 4/25 [===>..........................] - ETA: 0s - loss: 6705.1670"
     ]
    },
    {
     "name": "stderr",
     "output_type": "stream",
     "text": [
      "2023-12-14 23:32:34.621254: I tensorflow/core/framework/local_rendezvous.cc:421] Local rendezvous recv item cancelled. Key hash: 5640187878637657889\n"
     ]
    },
    {
     "name": "stdout",
     "output_type": "stream",
     "text": [
      "25/25 [==============================] - 1s 32ms/step - loss: 6685.1753\n",
      "Epoch 191/1000\n",
      " 4/25 [===>..........................] - ETA: 0s - loss: 6682.3179"
     ]
    },
    {
     "name": "stderr",
     "output_type": "stream",
     "text": [
      "2023-12-14 23:32:35.461473: I tensorflow/core/framework/local_rendezvous.cc:421] Local rendezvous recv item cancelled. Key hash: 5640187878637657889\n"
     ]
    },
    {
     "name": "stdout",
     "output_type": "stream",
     "text": [
      "25/25 [==============================] - 1s 32ms/step - loss: 6662.4556\n",
      "Epoch 192/1000\n",
      " 4/25 [===>..........................] - ETA: 0s - loss: 6659.6309"
     ]
    },
    {
     "name": "stderr",
     "output_type": "stream",
     "text": [
      "2023-12-14 23:32:36.302711: I tensorflow/core/framework/local_rendezvous.cc:421] Local rendezvous recv item cancelled. Key hash: 5640187878637657889\n"
     ]
    },
    {
     "name": "stdout",
     "output_type": "stream",
     "text": [
      "25/25 [==============================] - 1s 33ms/step - loss: 6639.9048\n",
      "Epoch 193/1000\n",
      " 6/25 [======>.......................] - ETA: 0s - loss: 6635.2568"
     ]
    },
    {
     "name": "stderr",
     "output_type": "stream",
     "text": [
      "2023-12-14 23:32:37.156114: I tensorflow/core/framework/local_rendezvous.cc:421] Local rendezvous recv item cancelled. Key hash: 5640187878637657889\n"
     ]
    },
    {
     "name": "stdout",
     "output_type": "stream",
     "text": [
      "25/25 [==============================] - 1s 32ms/step - loss: 6617.5688\n",
      "Epoch 194/1000\n",
      " 6/25 [======>.......................] - ETA: 0s - loss: 6612.9390"
     ]
    },
    {
     "name": "stderr",
     "output_type": "stream",
     "text": [
      "2023-12-14 23:32:37.991656: I tensorflow/core/framework/local_rendezvous.cc:421] Local rendezvous recv item cancelled. Key hash: 5640187878637657889\n"
     ]
    },
    {
     "name": "stdout",
     "output_type": "stream",
     "text": [
      "25/25 [==============================] - 1s 32ms/step - loss: 6595.3677\n",
      "Epoch 195/1000\n",
      " 4/25 [===>..........................] - ETA: 0s - loss: 6592.6123"
     ]
    },
    {
     "name": "stderr",
     "output_type": "stream",
     "text": [
      "2023-12-14 23:32:38.824589: I tensorflow/core/framework/local_rendezvous.cc:421] Local rendezvous recv item cancelled. Key hash: 5640187878637657889\n"
     ]
    },
    {
     "name": "stdout",
     "output_type": "stream",
     "text": [
      "25/25 [==============================] - 1s 32ms/step - loss: 6573.3965\n",
      "Epoch 196/1000\n",
      " 4/25 [===>..........................] - ETA: 0s - loss: 6570.6553"
     ]
    },
    {
     "name": "stderr",
     "output_type": "stream",
     "text": [
      "2023-12-14 23:32:39.659636: I tensorflow/core/framework/local_rendezvous.cc:421] Local rendezvous recv item cancelled. Key hash: 5640187878637657889\n"
     ]
    },
    {
     "name": "stdout",
     "output_type": "stream",
     "text": [
      "25/25 [==============================] - 1s 33ms/step - loss: 6551.5918\n",
      "Epoch 197/1000\n",
      " 6/25 [======>.......................] - ETA: 0s - loss: 6547.0781"
     ]
    },
    {
     "name": "stderr",
     "output_type": "stream",
     "text": [
      "2023-12-14 23:32:40.508698: I tensorflow/core/framework/local_rendezvous.cc:421] Local rendezvous recv item cancelled. Key hash: 5640187878637657889\n"
     ]
    },
    {
     "name": "stdout",
     "output_type": "stream",
     "text": [
      "25/25 [==============================] - 1s 32ms/step - loss: 6529.9160\n",
      "Epoch 198/1000\n",
      " 4/25 [===>..........................] - ETA: 0s - loss: 6527.2036"
     ]
    },
    {
     "name": "stderr",
     "output_type": "stream",
     "text": [
      "2023-12-14 23:32:41.342252: I tensorflow/core/framework/local_rendezvous.cc:421] Local rendezvous recv item cancelled. Key hash: 5640187878637657889\n"
     ]
    },
    {
     "name": "stdout",
     "output_type": "stream",
     "text": [
      "25/25 [==============================] - 1s 32ms/step - loss: 6508.4185\n",
      "Epoch 199/1000\n",
      " 4/25 [===>..........................] - ETA: 0s - loss: 6505.7588"
     ]
    },
    {
     "name": "stderr",
     "output_type": "stream",
     "text": [
      "2023-12-14 23:32:42.174396: I tensorflow/core/framework/local_rendezvous.cc:421] Local rendezvous recv item cancelled. Key hash: 5640187878637657889\n"
     ]
    },
    {
     "name": "stdout",
     "output_type": "stream",
     "text": [
      "25/25 [==============================] - 1s 32ms/step - loss: 6487.1162\n",
      "Epoch 200/1000\n",
      " 6/25 [======>.......................] - ETA: 0s - loss: 6482.6885"
     ]
    },
    {
     "name": "stderr",
     "output_type": "stream",
     "text": [
      "2023-12-14 23:32:43.022654: I tensorflow/core/framework/local_rendezvous.cc:421] Local rendezvous recv item cancelled. Key hash: 5640187878637657889\n"
     ]
    },
    {
     "name": "stdout",
     "output_type": "stream",
     "text": [
      "25/25 [==============================] - 1s 32ms/step - loss: 6465.9458\n",
      "Epoch 201/1000\n",
      " 6/25 [======>.......................] - ETA: 0s - loss: 6461.5654"
     ]
    },
    {
     "name": "stderr",
     "output_type": "stream",
     "text": [
      "2023-12-14 23:32:43.856904: I tensorflow/core/framework/local_rendezvous.cc:421] Local rendezvous recv item cancelled. Key hash: 5640187878637657889\n"
     ]
    },
    {
     "name": "stdout",
     "output_type": "stream",
     "text": [
      "25/25 [==============================] - 1s 32ms/step - loss: 6444.9902\n",
      "Epoch 202/1000\n",
      " 4/25 [===>..........................] - ETA: 0s - loss: 6442.3862"
     ]
    },
    {
     "name": "stderr",
     "output_type": "stream",
     "text": [
      "2023-12-14 23:32:44.687073: I tensorflow/core/framework/local_rendezvous.cc:421] Local rendezvous recv item cancelled. Key hash: 5640187878637657889\n"
     ]
    },
    {
     "name": "stdout",
     "output_type": "stream",
     "text": [
      "25/25 [==============================] - 1s 32ms/step - loss: 6424.1934\n",
      "Epoch 203/1000\n",
      " 6/25 [======>.......................] - ETA: 0s - loss: 6419.8774"
     ]
    },
    {
     "name": "stderr",
     "output_type": "stream",
     "text": [
      "2023-12-14 23:32:45.525612: I tensorflow/core/framework/local_rendezvous.cc:421] Local rendezvous recv item cancelled. Key hash: 5640187878637657889\n"
     ]
    },
    {
     "name": "stdout",
     "output_type": "stream",
     "text": [
      "25/25 [==============================] - 1s 32ms/step - loss: 6403.4858\n",
      "Epoch 204/1000\n",
      " 6/25 [======>.......................] - ETA: 0s - loss: 6399.2090"
     ]
    },
    {
     "name": "stderr",
     "output_type": "stream",
     "text": [
      "2023-12-14 23:32:46.357814: I tensorflow/core/framework/local_rendezvous.cc:421] Local rendezvous recv item cancelled. Key hash: 5640187878637657889\n"
     ]
    },
    {
     "name": "stdout",
     "output_type": "stream",
     "text": [
      "25/25 [==============================] - 1s 32ms/step - loss: 6382.9912\n",
      "Epoch 205/1000\n",
      " 6/25 [======>.......................] - ETA: 0s - loss: 6378.7544"
     ]
    },
    {
     "name": "stderr",
     "output_type": "stream",
     "text": [
      "2023-12-14 23:32:47.189893: I tensorflow/core/framework/local_rendezvous.cc:421] Local rendezvous recv item cancelled. Key hash: 5640187878637657889\n"
     ]
    },
    {
     "name": "stdout",
     "output_type": "stream",
     "text": [
      "25/25 [==============================] - 1s 32ms/step - loss: 6362.6465\n",
      "Epoch 206/1000\n",
      " 6/25 [======>.......................] - ETA: 0s - loss: 6358.4116"
     ]
    },
    {
     "name": "stderr",
     "output_type": "stream",
     "text": [
      "2023-12-14 23:32:48.024332: I tensorflow/core/framework/local_rendezvous.cc:421] Local rendezvous recv item cancelled. Key hash: 5640187878637657889\n"
     ]
    },
    {
     "name": "stdout",
     "output_type": "stream",
     "text": [
      "25/25 [==============================] - 1s 32ms/step - loss: 6342.4775\n",
      "Epoch 207/1000\n",
      " 4/25 [===>..........................] - ETA: 0s - loss: 6339.9658"
     ]
    },
    {
     "name": "stderr",
     "output_type": "stream",
     "text": [
      "2023-12-14 23:32:48.858983: I tensorflow/core/framework/local_rendezvous.cc:421] Local rendezvous recv item cancelled. Key hash: 5640187878637657889\n"
     ]
    },
    {
     "name": "stdout",
     "output_type": "stream",
     "text": [
      "25/25 [==============================] - 1s 32ms/step - loss: 6322.4526\n",
      "Epoch 208/1000\n",
      " 4/25 [===>..........................] - ETA: 0s - loss: 6319.9644"
     ]
    },
    {
     "name": "stderr",
     "output_type": "stream",
     "text": [
      "2023-12-14 23:32:49.709191: I tensorflow/core/framework/local_rendezvous.cc:425] Local rendezvous send item cancelled. Key hash: 7472141119732702058\n",
      "2023-12-14 23:32:49.709225: I tensorflow/core/framework/local_rendezvous.cc:421] Local rendezvous recv item cancelled. Key hash: 5640187878637657889\n"
     ]
    },
    {
     "name": "stdout",
     "output_type": "stream",
     "text": [
      "25/25 [==============================] - 1s 33ms/step - loss: 6302.6172\n",
      "Epoch 209/1000\n",
      " 4/25 [===>..........................] - ETA: 0s - loss: 6300.1479"
     ]
    },
    {
     "name": "stderr",
     "output_type": "stream",
     "text": [
      "2023-12-14 23:32:50.559658: I tensorflow/core/framework/local_rendezvous.cc:421] Local rendezvous recv item cancelled. Key hash: 5640187878637657889\n"
     ]
    },
    {
     "name": "stdout",
     "output_type": "stream",
     "text": [
      "25/25 [==============================] - 1s 33ms/step - loss: 6282.8574\n",
      "Epoch 210/1000\n",
      " 4/25 [===>..........................] - ETA: 0s - loss: 6280.4131"
     ]
    },
    {
     "name": "stderr",
     "output_type": "stream",
     "text": [
      "2023-12-14 23:32:51.408690: I tensorflow/core/framework/local_rendezvous.cc:421] Local rendezvous recv item cancelled. Key hash: 5640187878637657889\n"
     ]
    },
    {
     "name": "stdout",
     "output_type": "stream",
     "text": [
      "25/25 [==============================] - 1s 33ms/step - loss: 6263.2803\n",
      "Epoch 211/1000\n",
      " 6/25 [======>.......................] - ETA: 0s - loss: 6259.2329"
     ]
    },
    {
     "name": "stderr",
     "output_type": "stream",
     "text": [
      "2023-12-14 23:32:52.258411: I tensorflow/core/framework/local_rendezvous.cc:421] Local rendezvous recv item cancelled. Key hash: 5640187878637657889\n"
     ]
    },
    {
     "name": "stdout",
     "output_type": "stream",
     "text": [
      "25/25 [==============================] - 1s 32ms/step - loss: 6243.8315\n",
      "Epoch 212/1000\n",
      " 6/25 [======>.......................] - ETA: 0s - loss: 6239.7964"
     ]
    },
    {
     "name": "stderr",
     "output_type": "stream",
     "text": [
      "2023-12-14 23:32:53.092487: I tensorflow/core/framework/local_rendezvous.cc:421] Local rendezvous recv item cancelled. Key hash: 5640187878637657889\n"
     ]
    },
    {
     "name": "stdout",
     "output_type": "stream",
     "text": [
      "25/25 [==============================] - 1s 32ms/step - loss: 6224.5132\n",
      "Epoch 213/1000\n",
      " 6/25 [======>.......................] - ETA: 0s - loss: 6220.5132"
     ]
    },
    {
     "name": "stderr",
     "output_type": "stream",
     "text": [
      "2023-12-14 23:32:53.926401: I tensorflow/core/framework/local_rendezvous.cc:421] Local rendezvous recv item cancelled. Key hash: 5640187878637657889\n"
     ]
    },
    {
     "name": "stdout",
     "output_type": "stream",
     "text": [
      "25/25 [==============================] - 1s 32ms/step - loss: 6205.3350\n",
      "Epoch 214/1000\n",
      " 6/25 [======>.......................] - ETA: 0s - loss: 6201.3726"
     ]
    },
    {
     "name": "stderr",
     "output_type": "stream",
     "text": [
      "2023-12-14 23:32:54.758970: I tensorflow/core/framework/local_rendezvous.cc:421] Local rendezvous recv item cancelled. Key hash: 5640187878637657889\n"
     ]
    },
    {
     "name": "stdout",
     "output_type": "stream",
     "text": [
      "25/25 [==============================] - 1s 32ms/step - loss: 6186.3315\n",
      "Epoch 215/1000\n",
      " 6/25 [======>.......................] - ETA: 0s - loss: 6182.3979"
     ]
    },
    {
     "name": "stderr",
     "output_type": "stream",
     "text": [
      "2023-12-14 23:32:55.592394: I tensorflow/core/framework/local_rendezvous.cc:421] Local rendezvous recv item cancelled. Key hash: 5640187878637657889\n"
     ]
    },
    {
     "name": "stdout",
     "output_type": "stream",
     "text": [
      "25/25 [==============================] - 1s 32ms/step - loss: 6167.4512\n",
      "Epoch 216/1000\n",
      " 6/25 [======>.......................] - ETA: 0s - loss: 6163.5264"
     ]
    },
    {
     "name": "stderr",
     "output_type": "stream",
     "text": [
      "2023-12-14 23:32:56.424873: I tensorflow/core/framework/local_rendezvous.cc:421] Local rendezvous recv item cancelled. Key hash: 5640187878637657889\n"
     ]
    },
    {
     "name": "stdout",
     "output_type": "stream",
     "text": [
      "25/25 [==============================] - 1s 32ms/step - loss: 6148.6743\n",
      "Epoch 217/1000\n",
      " 6/25 [======>.......................] - ETA: 0s - loss: 6144.7949"
     ]
    },
    {
     "name": "stderr",
     "output_type": "stream",
     "text": [
      "2023-12-14 23:32:57.254501: I tensorflow/core/framework/local_rendezvous.cc:421] Local rendezvous recv item cancelled. Key hash: 5640187878637657889\n"
     ]
    },
    {
     "name": "stdout",
     "output_type": "stream",
     "text": [
      "25/25 [==============================] - 1s 32ms/step - loss: 6130.0312\n",
      "Epoch 218/1000\n",
      " 4/25 [===>..........................] - ETA: 0s - loss: 6127.7134"
     ]
    },
    {
     "name": "stderr",
     "output_type": "stream",
     "text": [
      "2023-12-14 23:32:58.087660: I tensorflow/core/framework/local_rendezvous.cc:421] Local rendezvous recv item cancelled. Key hash: 5640187878637657889\n"
     ]
    },
    {
     "name": "stdout",
     "output_type": "stream",
     "text": [
      "25/25 [==============================] - 1s 33ms/step - loss: 6111.4736\n",
      "Epoch 219/1000\n",
      " 4/25 [===>..........................] - ETA: 0s - loss: 6109.1631"
     ]
    },
    {
     "name": "stderr",
     "output_type": "stream",
     "text": [
      "2023-12-14 23:32:58.937295: I tensorflow/core/framework/local_rendezvous.cc:421] Local rendezvous recv item cancelled. Key hash: 5640187878637657889\n"
     ]
    },
    {
     "name": "stdout",
     "output_type": "stream",
     "text": [
      "25/25 [==============================] - 1s 33ms/step - loss: 6093.1338\n",
      "Epoch 220/1000\n",
      " 4/25 [===>..........................] - ETA: 0s - loss: 6090.8364"
     ]
    },
    {
     "name": "stderr",
     "output_type": "stream",
     "text": [
      "2023-12-14 23:32:59.788935: I tensorflow/core/framework/local_rendezvous.cc:421] Local rendezvous recv item cancelled. Key hash: 5640187878637657889\n"
     ]
    },
    {
     "name": "stdout",
     "output_type": "stream",
     "text": [
      "25/25 [==============================] - 1s 32ms/step - loss: 6074.8916\n",
      "Epoch 221/1000\n",
      " 4/25 [===>..........................] - ETA: 0s - loss: 6072.6191"
     ]
    },
    {
     "name": "stderr",
     "output_type": "stream",
     "text": [
      "2023-12-14 23:33:00.638074: I tensorflow/core/framework/local_rendezvous.cc:421] Local rendezvous recv item cancelled. Key hash: 5640187878637657889\n"
     ]
    },
    {
     "name": "stdout",
     "output_type": "stream",
     "text": [
      "25/25 [==============================] - 1s 32ms/step - loss: 6056.8540\n",
      "Epoch 222/1000\n",
      " 4/25 [===>..........................] - ETA: 0s - loss: 6054.6021"
     ]
    },
    {
     "name": "stderr",
     "output_type": "stream",
     "text": [
      "2023-12-14 23:33:01.487404: I tensorflow/core/framework/local_rendezvous.cc:421] Local rendezvous recv item cancelled. Key hash: 5640187878637657889\n"
     ]
    },
    {
     "name": "stdout",
     "output_type": "stream",
     "text": [
      "25/25 [==============================] - 1s 32ms/step - loss: 6038.9014\n",
      "Epoch 223/1000\n",
      " 4/25 [===>..........................] - ETA: 0s - loss: 6036.6519"
     ]
    },
    {
     "name": "stderr",
     "output_type": "stream",
     "text": [
      "2023-12-14 23:33:02.336683: I tensorflow/core/framework/local_rendezvous.cc:421] Local rendezvous recv item cancelled. Key hash: 5640187878637657889\n"
     ]
    },
    {
     "name": "stdout",
     "output_type": "stream",
     "text": [
      "25/25 [==============================] - 1s 33ms/step - loss: 6021.0195\n",
      "Epoch 224/1000\n",
      " 4/25 [===>..........................] - ETA: 0s - loss: 6018.7983"
     ]
    },
    {
     "name": "stderr",
     "output_type": "stream",
     "text": [
      "2023-12-14 23:33:03.191674: I tensorflow/core/framework/local_rendezvous.cc:421] Local rendezvous recv item cancelled. Key hash: 5640187878637657889\n"
     ]
    },
    {
     "name": "stdout",
     "output_type": "stream",
     "text": [
      "25/25 [==============================] - 1s 33ms/step - loss: 6003.2896\n",
      "Epoch 225/1000\n",
      " 4/25 [===>..........................] - ETA: 0s - loss: 6001.0942"
     ]
    },
    {
     "name": "stderr",
     "output_type": "stream",
     "text": [
      "2023-12-14 23:33:04.047072: I tensorflow/core/framework/local_rendezvous.cc:421] Local rendezvous recv item cancelled. Key hash: 5640187878637657889\n"
     ]
    },
    {
     "name": "stdout",
     "output_type": "stream",
     "text": [
      "25/25 [==============================] - 1s 33ms/step - loss: 5985.6958\n",
      "Epoch 226/1000\n",
      " 4/25 [===>..........................] - ETA: 0s - loss: 5983.4839"
     ]
    },
    {
     "name": "stderr",
     "output_type": "stream",
     "text": [
      "2023-12-14 23:33:04.891435: I tensorflow/core/framework/local_rendezvous.cc:421] Local rendezvous recv item cancelled. Key hash: 5640187878637657889\n"
     ]
    },
    {
     "name": "stdout",
     "output_type": "stream",
     "text": [
      "25/25 [==============================] - 1s 33ms/step - loss: 5968.2192\n",
      "Epoch 227/1000\n",
      " 4/25 [===>..........................] - ETA: 0s - loss: 5966.0352"
     ]
    },
    {
     "name": "stderr",
     "output_type": "stream",
     "text": [
      "2023-12-14 23:33:05.742722: I tensorflow/core/framework/local_rendezvous.cc:421] Local rendezvous recv item cancelled. Key hash: 5640187878637657889\n"
     ]
    },
    {
     "name": "stdout",
     "output_type": "stream",
     "text": [
      "25/25 [==============================] - 1s 32ms/step - loss: 5950.8188\n",
      "Epoch 228/1000\n",
      " 4/25 [===>..........................] - ETA: 0s - loss: 5948.6665"
     ]
    },
    {
     "name": "stderr",
     "output_type": "stream",
     "text": [
      "2023-12-14 23:33:06.589649: I tensorflow/core/framework/local_rendezvous.cc:421] Local rendezvous recv item cancelled. Key hash: 5640187878637657889\n"
     ]
    },
    {
     "name": "stdout",
     "output_type": "stream",
     "text": [
      "25/25 [==============================] - 1s 32ms/step - loss: 5933.5576\n",
      "Epoch 229/1000\n",
      " 6/25 [======>.......................] - ETA: 0s - loss: 5929.9907"
     ]
    },
    {
     "name": "stderr",
     "output_type": "stream",
     "text": [
      "2023-12-14 23:33:07.424569: I tensorflow/core/framework/local_rendezvous.cc:421] Local rendezvous recv item cancelled. Key hash: 5640187878637657889\n"
     ]
    },
    {
     "name": "stdout",
     "output_type": "stream",
     "text": [
      "25/25 [==============================] - 1s 32ms/step - loss: 5916.4980\n",
      "Epoch 230/1000\n",
      " 6/25 [======>.......................] - ETA: 0s - loss: 5912.9497"
     ]
    },
    {
     "name": "stderr",
     "output_type": "stream",
     "text": [
      "2023-12-14 23:33:08.256444: I tensorflow/core/framework/local_rendezvous.cc:421] Local rendezvous recv item cancelled. Key hash: 5640187878637657889\n"
     ]
    },
    {
     "name": "stdout",
     "output_type": "stream",
     "text": [
      "25/25 [==============================] - 1s 32ms/step - loss: 5899.4746\n",
      "Epoch 231/1000\n",
      " 6/25 [======>.......................] - ETA: 0s - loss: 5895.9556"
     ]
    },
    {
     "name": "stderr",
     "output_type": "stream",
     "text": [
      "2023-12-14 23:33:09.091734: I tensorflow/core/framework/local_rendezvous.cc:421] Local rendezvous recv item cancelled. Key hash: 5640187878637657889\n"
     ]
    },
    {
     "name": "stdout",
     "output_type": "stream",
     "text": [
      "25/25 [==============================] - 1s 32ms/step - loss: 5882.5947\n",
      "Epoch 232/1000\n",
      " 4/25 [===>..........................] - ETA: 0s - loss: 5880.5054"
     ]
    },
    {
     "name": "stderr",
     "output_type": "stream",
     "text": [
      "2023-12-14 23:33:09.926254: I tensorflow/core/framework/local_rendezvous.cc:421] Local rendezvous recv item cancelled. Key hash: 5640187878637657889\n"
     ]
    },
    {
     "name": "stdout",
     "output_type": "stream",
     "text": [
      "25/25 [==============================] - 1s 33ms/step - loss: 5865.8174\n",
      "Epoch 233/1000\n",
      " 6/25 [======>.......................] - ETA: 0s - loss: 5862.3306"
     ]
    },
    {
     "name": "stderr",
     "output_type": "stream",
     "text": [
      "2023-12-14 23:33:10.774515: I tensorflow/core/framework/local_rendezvous.cc:421] Local rendezvous recv item cancelled. Key hash: 5640187878637657889\n"
     ]
    },
    {
     "name": "stdout",
     "output_type": "stream",
     "text": [
      "25/25 [==============================] - 1s 32ms/step - loss: 5849.1440\n",
      "Epoch 234/1000\n",
      " 4/25 [===>..........................] - ETA: 0s - loss: 5847.0708"
     ]
    },
    {
     "name": "stderr",
     "output_type": "stream",
     "text": [
      "2023-12-14 23:33:11.607842: I tensorflow/core/framework/local_rendezvous.cc:421] Local rendezvous recv item cancelled. Key hash: 5640187878637657889\n"
     ]
    },
    {
     "name": "stdout",
     "output_type": "stream",
     "text": [
      "25/25 [==============================] - 1s 32ms/step - loss: 5832.5518\n",
      "Epoch 235/1000\n",
      " 6/25 [======>.......................] - ETA: 0s - loss: 5829.1260"
     ]
    },
    {
     "name": "stderr",
     "output_type": "stream",
     "text": [
      "2023-12-14 23:33:12.442905: I tensorflow/core/framework/local_rendezvous.cc:421] Local rendezvous recv item cancelled. Key hash: 5640187878637657889\n"
     ]
    },
    {
     "name": "stdout",
     "output_type": "stream",
     "text": [
      "25/25 [==============================] - 1s 32ms/step - loss: 5816.1104\n",
      "Epoch 236/1000\n",
      " 6/25 [======>.......................] - ETA: 0s - loss: 5812.7031"
     ]
    },
    {
     "name": "stderr",
     "output_type": "stream",
     "text": [
      "2023-12-14 23:33:13.276594: I tensorflow/core/framework/local_rendezvous.cc:421] Local rendezvous recv item cancelled. Key hash: 5640187878637657889\n"
     ]
    },
    {
     "name": "stdout",
     "output_type": "stream",
     "text": [
      "25/25 [==============================] - 1s 32ms/step - loss: 5799.8267\n",
      "Epoch 237/1000\n",
      " 6/25 [======>.......................] - ETA: 0s - loss: 5796.4531"
     ]
    },
    {
     "name": "stderr",
     "output_type": "stream",
     "text": [
      "2023-12-14 23:33:14.105217: I tensorflow/core/framework/local_rendezvous.cc:421] Local rendezvous recv item cancelled. Key hash: 5640187878637657889\n"
     ]
    },
    {
     "name": "stdout",
     "output_type": "stream",
     "text": [
      "25/25 [==============================] - 1s 32ms/step - loss: 5783.6440\n",
      "Epoch 238/1000\n",
      " 4/25 [===>..........................] - ETA: 0s - loss: 5781.6143"
     ]
    },
    {
     "name": "stderr",
     "output_type": "stream",
     "text": [
      "2023-12-14 23:33:14.942043: I tensorflow/core/framework/local_rendezvous.cc:421] Local rendezvous recv item cancelled. Key hash: 5640187878637657889\n"
     ]
    },
    {
     "name": "stdout",
     "output_type": "stream",
     "text": [
      "25/25 [==============================] - 1s 32ms/step - loss: 5767.5229\n",
      "Epoch 239/1000\n",
      " 6/25 [======>.......................] - ETA: 0s - loss: 5764.1748"
     ]
    },
    {
     "name": "stderr",
     "output_type": "stream",
     "text": [
      "2023-12-14 23:33:15.787436: I tensorflow/core/framework/local_rendezvous.cc:421] Local rendezvous recv item cancelled. Key hash: 5640187878637657889\n"
     ]
    },
    {
     "name": "stdout",
     "output_type": "stream",
     "text": [
      "25/25 [==============================] - 1s 32ms/step - loss: 5751.5522\n",
      "Epoch 240/1000\n",
      " 6/25 [======>.......................] - ETA: 0s - loss: 5748.2383"
     ]
    },
    {
     "name": "stderr",
     "output_type": "stream",
     "text": [
      "2023-12-14 23:33:16.621232: I tensorflow/core/framework/local_rendezvous.cc:421] Local rendezvous recv item cancelled. Key hash: 5640187878637657889\n"
     ]
    },
    {
     "name": "stdout",
     "output_type": "stream",
     "text": [
      "25/25 [==============================] - 1s 32ms/step - loss: 5735.6650\n",
      "Epoch 241/1000\n",
      " 6/25 [======>.......................] - ETA: 0s - loss: 5732.3540"
     ]
    },
    {
     "name": "stderr",
     "output_type": "stream",
     "text": [
      "2023-12-14 23:33:17.458999: I tensorflow/core/framework/local_rendezvous.cc:421] Local rendezvous recv item cancelled. Key hash: 5640187878637657889\n"
     ]
    },
    {
     "name": "stdout",
     "output_type": "stream",
     "text": [
      "25/25 [==============================] - 1s 32ms/step - loss: 5719.8315\n",
      "Epoch 242/1000\n",
      " 6/25 [======>.......................] - ETA: 0s - loss: 5716.5474"
     ]
    },
    {
     "name": "stderr",
     "output_type": "stream",
     "text": [
      "2023-12-14 23:33:18.292142: I tensorflow/core/framework/local_rendezvous.cc:421] Local rendezvous recv item cancelled. Key hash: 5640187878637657889\n"
     ]
    },
    {
     "name": "stdout",
     "output_type": "stream",
     "text": [
      "25/25 [==============================] - 1s 32ms/step - loss: 5704.1382\n",
      "Epoch 243/1000\n",
      " 6/25 [======>.......................] - ETA: 0s - loss: 5700.8804"
     ]
    },
    {
     "name": "stderr",
     "output_type": "stream",
     "text": [
      "2023-12-14 23:33:19.123877: I tensorflow/core/framework/local_rendezvous.cc:421] Local rendezvous recv item cancelled. Key hash: 5640187878637657889\n"
     ]
    },
    {
     "name": "stdout",
     "output_type": "stream",
     "text": [
      "25/25 [==============================] - 1s 32ms/step - loss: 5688.5571\n",
      "Epoch 244/1000\n",
      " 4/25 [===>..........................] - ETA: 0s - loss: 5686.6172"
     ]
    },
    {
     "name": "stderr",
     "output_type": "stream",
     "text": [
      "2023-12-14 23:33:19.957088: I tensorflow/core/framework/local_rendezvous.cc:421] Local rendezvous recv item cancelled. Key hash: 5640187878637657889\n"
     ]
    },
    {
     "name": "stdout",
     "output_type": "stream",
     "text": [
      "25/25 [==============================] - 1s 32ms/step - loss: 5673.0850\n",
      "Epoch 245/1000\n",
      " 4/25 [===>..........................] - ETA: 0s - loss: 5671.1680"
     ]
    },
    {
     "name": "stderr",
     "output_type": "stream",
     "text": [
      "2023-12-14 23:33:20.791826: I tensorflow/core/framework/local_rendezvous.cc:421] Local rendezvous recv item cancelled. Key hash: 5640187878637657889\n"
     ]
    },
    {
     "name": "stdout",
     "output_type": "stream",
     "text": [
      "25/25 [==============================] - 1s 32ms/step - loss: 5657.7202\n",
      "Epoch 246/1000\n",
      " 6/25 [======>.......................] - ETA: 0s - loss: 5654.5464"
     ]
    },
    {
     "name": "stderr",
     "output_type": "stream",
     "text": [
      "2023-12-14 23:33:21.639155: I tensorflow/core/framework/local_rendezvous.cc:421] Local rendezvous recv item cancelled. Key hash: 5640187878637657889\n"
     ]
    },
    {
     "name": "stdout",
     "output_type": "stream",
     "text": [
      "25/25 [==============================] - 1s 32ms/step - loss: 5642.4424\n",
      "Epoch 247/1000\n",
      " 4/25 [===>..........................] - ETA: 0s - loss: 5640.5454"
     ]
    },
    {
     "name": "stderr",
     "output_type": "stream",
     "text": [
      "2023-12-14 23:33:22.470453: I tensorflow/core/framework/local_rendezvous.cc:421] Local rendezvous recv item cancelled. Key hash: 5640187878637657889\n"
     ]
    },
    {
     "name": "stdout",
     "output_type": "stream",
     "text": [
      "25/25 [==============================] - 1s 32ms/step - loss: 5627.2656\n",
      "Epoch 248/1000\n",
      " 6/25 [======>.......................] - ETA: 0s - loss: 5624.1157"
     ]
    },
    {
     "name": "stderr",
     "output_type": "stream",
     "text": [
      "2023-12-14 23:33:23.308415: I tensorflow/core/framework/local_rendezvous.cc:421] Local rendezvous recv item cancelled. Key hash: 5640187878637657889\n"
     ]
    },
    {
     "name": "stdout",
     "output_type": "stream",
     "text": [
      "25/25 [==============================] - 1s 32ms/step - loss: 5612.2173\n",
      "Epoch 249/1000\n",
      " 6/25 [======>.......................] - ETA: 0s - loss: 5609.0947"
     ]
    },
    {
     "name": "stderr",
     "output_type": "stream",
     "text": [
      "2023-12-14 23:33:24.141942: I tensorflow/core/framework/local_rendezvous.cc:421] Local rendezvous recv item cancelled. Key hash: 5640187878637657889\n"
     ]
    },
    {
     "name": "stdout",
     "output_type": "stream",
     "text": [
      "25/25 [==============================] - 1s 32ms/step - loss: 5597.2612\n",
      "Epoch 250/1000\n",
      " 6/25 [======>.......................] - ETA: 0s - loss: 5594.1553"
     ]
    },
    {
     "name": "stderr",
     "output_type": "stream",
     "text": [
      "2023-12-14 23:33:24.975199: I tensorflow/core/framework/local_rendezvous.cc:421] Local rendezvous recv item cancelled. Key hash: 5640187878637657889\n"
     ]
    },
    {
     "name": "stdout",
     "output_type": "stream",
     "text": [
      "25/25 [==============================] - 1s 32ms/step - loss: 5582.3711\n",
      "Epoch 251/1000\n",
      " 4/25 [===>..........................] - ETA: 0s - loss: 5580.5293"
     ]
    },
    {
     "name": "stderr",
     "output_type": "stream",
     "text": [
      "2023-12-14 23:33:25.808420: I tensorflow/core/framework/local_rendezvous.cc:425] Local rendezvous send item cancelled. Key hash: 7472141119732702058\n",
      "2023-12-14 23:33:25.808449: I tensorflow/core/framework/local_rendezvous.cc:421] Local rendezvous recv item cancelled. Key hash: 5640187878637657889\n"
     ]
    },
    {
     "name": "stdout",
     "output_type": "stream",
     "text": [
      "25/25 [==============================] - 1s 32ms/step - loss: 5567.5815\n",
      "Epoch 252/1000\n",
      " 4/25 [===>..........................] - ETA: 0s - loss: 5565.7363"
     ]
    },
    {
     "name": "stderr",
     "output_type": "stream",
     "text": [
      "2023-12-14 23:33:26.655555: I tensorflow/core/framework/local_rendezvous.cc:421] Local rendezvous recv item cancelled. Key hash: 5640187878637657889\n"
     ]
    },
    {
     "name": "stdout",
     "output_type": "stream",
     "text": [
      "25/25 [==============================] - 1s 32ms/step - loss: 5552.8750\n",
      "Epoch 253/1000\n",
      " 6/25 [======>.......................] - ETA: 0s - loss: 5549.8237"
     ]
    },
    {
     "name": "stderr",
     "output_type": "stream",
     "text": [
      "2023-12-14 23:33:27.491679: I tensorflow/core/framework/local_rendezvous.cc:421] Local rendezvous recv item cancelled. Key hash: 5640187878637657889\n"
     ]
    },
    {
     "name": "stdout",
     "output_type": "stream",
     "text": [
      "25/25 [==============================] - 1s 32ms/step - loss: 5538.2505\n",
      "Epoch 254/1000\n",
      " 4/25 [===>..........................] - ETA: 0s - loss: 5536.4326"
     ]
    },
    {
     "name": "stderr",
     "output_type": "stream",
     "text": [
      "2023-12-14 23:33:28.322425: I tensorflow/core/framework/local_rendezvous.cc:421] Local rendezvous recv item cancelled. Key hash: 5640187878637657889\n"
     ]
    },
    {
     "name": "stdout",
     "output_type": "stream",
     "text": [
      "25/25 [==============================] - 1s 32ms/step - loss: 5523.7134\n",
      "Epoch 255/1000\n",
      " 4/25 [===>..........................] - ETA: 0s - loss: 5521.9097"
     ]
    },
    {
     "name": "stderr",
     "output_type": "stream",
     "text": [
      "2023-12-14 23:33:29.155059: I tensorflow/core/framework/local_rendezvous.cc:421] Local rendezvous recv item cancelled. Key hash: 5640187878637657889\n"
     ]
    },
    {
     "name": "stdout",
     "output_type": "stream",
     "text": [
      "25/25 [==============================] - 1s 32ms/step - loss: 5509.3125\n",
      "Epoch 256/1000\n",
      " 6/25 [======>.......................] - ETA: 0s - loss: 5506.3179"
     ]
    },
    {
     "name": "stderr",
     "output_type": "stream",
     "text": [
      "2023-12-14 23:33:29.991147: I tensorflow/core/framework/local_rendezvous.cc:421] Local rendezvous recv item cancelled. Key hash: 5640187878637657889\n"
     ]
    },
    {
     "name": "stdout",
     "output_type": "stream",
     "text": [
      "25/25 [==============================] - 1s 32ms/step - loss: 5494.9458\n",
      "Epoch 257/1000\n",
      " 4/25 [===>..........................] - ETA: 0s - loss: 5493.1680"
     ]
    },
    {
     "name": "stderr",
     "output_type": "stream",
     "text": [
      "2023-12-14 23:33:30.823595: I tensorflow/core/framework/local_rendezvous.cc:421] Local rendezvous recv item cancelled. Key hash: 5640187878637657889\n"
     ]
    },
    {
     "name": "stdout",
     "output_type": "stream",
     "text": [
      "25/25 [==============================] - 1s 33ms/step - loss: 5480.7129\n",
      "Epoch 258/1000\n",
      " 4/25 [===>..........................] - ETA: 0s - loss: 5478.9551"
     ]
    },
    {
     "name": "stderr",
     "output_type": "stream",
     "text": [
      "2023-12-14 23:33:31.671610: I tensorflow/core/framework/local_rendezvous.cc:421] Local rendezvous recv item cancelled. Key hash: 5640187878637657889\n"
     ]
    },
    {
     "name": "stdout",
     "output_type": "stream",
     "text": [
      "25/25 [==============================] - 1s 32ms/step - loss: 5466.5840\n",
      "Epoch 259/1000\n",
      " 6/25 [======>.......................] - ETA: 0s - loss: 5463.6445"
     ]
    },
    {
     "name": "stderr",
     "output_type": "stream",
     "text": [
      "2023-12-14 23:33:32.504641: I tensorflow/core/framework/local_rendezvous.cc:421] Local rendezvous recv item cancelled. Key hash: 5640187878637657889\n"
     ]
    },
    {
     "name": "stdout",
     "output_type": "stream",
     "text": [
      "25/25 [==============================] - 1s 32ms/step - loss: 5452.5327\n",
      "Epoch 260/1000\n",
      " 4/25 [===>..........................] - ETA: 0s - loss: 5450.7749"
     ]
    },
    {
     "name": "stderr",
     "output_type": "stream",
     "text": [
      "2023-12-14 23:33:33.341098: I tensorflow/core/framework/local_rendezvous.cc:421] Local rendezvous recv item cancelled. Key hash: 5640187878637657889\n"
     ]
    },
    {
     "name": "stdout",
     "output_type": "stream",
     "text": [
      "25/25 [==============================] - 1s 33ms/step - loss: 5438.5479\n",
      "Epoch 261/1000\n",
      " 4/25 [===>..........................] - ETA: 0s - loss: 5436.7949"
     ]
    },
    {
     "name": "stderr",
     "output_type": "stream",
     "text": [
      "2023-12-14 23:33:34.191504: I tensorflow/core/framework/local_rendezvous.cc:421] Local rendezvous recv item cancelled. Key hash: 5640187878637657889\n"
     ]
    },
    {
     "name": "stdout",
     "output_type": "stream",
     "text": [
      "25/25 [==============================] - 1s 33ms/step - loss: 5424.6411\n",
      "Epoch 262/1000\n",
      " 6/25 [======>.......................] - ETA: 0s - loss: 5421.7612"
     ]
    },
    {
     "name": "stderr",
     "output_type": "stream",
     "text": [
      "2023-12-14 23:33:35.042210: I tensorflow/core/framework/local_rendezvous.cc:421] Local rendezvous recv item cancelled. Key hash: 5640187878637657889\n"
     ]
    },
    {
     "name": "stdout",
     "output_type": "stream",
     "text": [
      "25/25 [==============================] - 1s 32ms/step - loss: 5410.8354\n",
      "Epoch 263/1000\n",
      " 6/25 [======>.......................] - ETA: 0s - loss: 5407.9858"
     ]
    },
    {
     "name": "stderr",
     "output_type": "stream",
     "text": [
      "2023-12-14 23:33:35.875362: I tensorflow/core/framework/local_rendezvous.cc:421] Local rendezvous recv item cancelled. Key hash: 5640187878637657889\n"
     ]
    },
    {
     "name": "stdout",
     "output_type": "stream",
     "text": [
      "25/25 [==============================] - 1s 32ms/step - loss: 5397.1279\n",
      "Epoch 264/1000\n",
      " 6/25 [======>.......................] - ETA: 0s - loss: 5394.2642"
     ]
    },
    {
     "name": "stderr",
     "output_type": "stream",
     "text": [
      "2023-12-14 23:33:36.708472: I tensorflow/core/framework/local_rendezvous.cc:421] Local rendezvous recv item cancelled. Key hash: 5640187878637657889\n"
     ]
    },
    {
     "name": "stdout",
     "output_type": "stream",
     "text": [
      "25/25 [==============================] - 1s 32ms/step - loss: 5383.4248\n",
      "Epoch 265/1000\n",
      " 4/25 [===>..........................] - ETA: 0s - loss: 5381.7305"
     ]
    },
    {
     "name": "stderr",
     "output_type": "stream",
     "text": [
      "2023-12-14 23:33:37.540885: I tensorflow/core/framework/local_rendezvous.cc:421] Local rendezvous recv item cancelled. Key hash: 5640187878637657889\n"
     ]
    },
    {
     "name": "stdout",
     "output_type": "stream",
     "text": [
      "25/25 [==============================] - 1s 32ms/step - loss: 5369.8916\n",
      "Epoch 266/1000\n",
      " 4/25 [===>..........................] - ETA: 0s - loss: 5368.2017"
     ]
    },
    {
     "name": "stderr",
     "output_type": "stream",
     "text": [
      "2023-12-14 23:33:38.378317: I tensorflow/core/framework/local_rendezvous.cc:421] Local rendezvous recv item cancelled. Key hash: 5640187878637657889\n"
     ]
    },
    {
     "name": "stdout",
     "output_type": "stream",
     "text": [
      "25/25 [==============================] - 1s 33ms/step - loss: 5356.4609\n",
      "Epoch 267/1000\n",
      " 6/25 [======>.......................] - ETA: 0s - loss: 5353.6602"
     ]
    },
    {
     "name": "stderr",
     "output_type": "stream",
     "text": [
      "2023-12-14 23:33:39.224567: I tensorflow/core/framework/local_rendezvous.cc:421] Local rendezvous recv item cancelled. Key hash: 5640187878637657889\n"
     ]
    },
    {
     "name": "stdout",
     "output_type": "stream",
     "text": [
      "25/25 [==============================] - 1s 32ms/step - loss: 5343.0420\n",
      "Epoch 268/1000\n",
      " 6/25 [======>.......................] - ETA: 0s - loss: 5340.2607"
     ]
    },
    {
     "name": "stderr",
     "output_type": "stream",
     "text": [
      "2023-12-14 23:33:40.057416: I tensorflow/core/framework/local_rendezvous.cc:421] Local rendezvous recv item cancelled. Key hash: 5640187878637657889\n"
     ]
    },
    {
     "name": "stdout",
     "output_type": "stream",
     "text": [
      "25/25 [==============================] - 1s 32ms/step - loss: 5329.7222\n",
      "Epoch 269/1000\n",
      " 6/25 [======>.......................] - ETA: 0s - loss: 5326.9507"
     ]
    },
    {
     "name": "stderr",
     "output_type": "stream",
     "text": [
      "2023-12-14 23:33:40.889452: I tensorflow/core/framework/local_rendezvous.cc:421] Local rendezvous recv item cancelled. Key hash: 5640187878637657889\n"
     ]
    },
    {
     "name": "stdout",
     "output_type": "stream",
     "text": [
      "25/25 [==============================] - 1s 32ms/step - loss: 5316.4771\n",
      "Epoch 270/1000\n",
      " 4/25 [===>..........................] - ETA: 0s - loss: 5314.8306"
     ]
    },
    {
     "name": "stderr",
     "output_type": "stream",
     "text": [
      "2023-12-14 23:33:41.721910: I tensorflow/core/framework/local_rendezvous.cc:421] Local rendezvous recv item cancelled. Key hash: 5640187878637657889\n"
     ]
    },
    {
     "name": "stdout",
     "output_type": "stream",
     "text": [
      "25/25 [==============================] - 1s 32ms/step - loss: 5303.2642\n",
      "Epoch 271/1000\n",
      " 6/25 [======>.......................] - ETA: 0s - loss: 5300.5288"
     ]
    },
    {
     "name": "stderr",
     "output_type": "stream",
     "text": [
      "2023-12-14 23:33:42.557999: I tensorflow/core/framework/local_rendezvous.cc:421] Local rendezvous recv item cancelled. Key hash: 5640187878637657889\n"
     ]
    },
    {
     "name": "stdout",
     "output_type": "stream",
     "text": [
      "25/25 [==============================] - 1s 32ms/step - loss: 5290.2036\n",
      "Epoch 272/1000\n",
      " 6/25 [======>.......................] - ETA: 0s - loss: 5287.4883"
     ]
    },
    {
     "name": "stderr",
     "output_type": "stream",
     "text": [
      "2023-12-14 23:33:43.392312: I tensorflow/core/framework/local_rendezvous.cc:421] Local rendezvous recv item cancelled. Key hash: 5640187878637657889\n"
     ]
    },
    {
     "name": "stdout",
     "output_type": "stream",
     "text": [
      "25/25 [==============================] - 1s 32ms/step - loss: 5277.2212\n",
      "Epoch 273/1000\n",
      " 6/25 [======>.......................] - ETA: 0s - loss: 5274.5347"
     ]
    },
    {
     "name": "stderr",
     "output_type": "stream",
     "text": [
      "2023-12-14 23:33:44.224695: I tensorflow/core/framework/local_rendezvous.cc:421] Local rendezvous recv item cancelled. Key hash: 5640187878637657889\n"
     ]
    },
    {
     "name": "stdout",
     "output_type": "stream",
     "text": [
      "25/25 [==============================] - 1s 33ms/step - loss: 5264.3081\n",
      "Epoch 274/1000\n",
      " 4/25 [===>..........................] - ETA: 0s - loss: 5262.7021"
     ]
    },
    {
     "name": "stderr",
     "output_type": "stream",
     "text": [
      "2023-12-14 23:33:45.065678: I tensorflow/core/framework/local_rendezvous.cc:421] Local rendezvous recv item cancelled. Key hash: 5640187878637657889\n"
     ]
    },
    {
     "name": "stdout",
     "output_type": "stream",
     "text": [
      "25/25 [==============================] - 1s 33ms/step - loss: 5251.4341\n",
      "Epoch 275/1000\n",
      " 4/25 [===>..........................] - ETA: 0s - loss: 5249.8311"
     ]
    },
    {
     "name": "stderr",
     "output_type": "stream",
     "text": [
      "2023-12-14 23:33:45.913042: I tensorflow/core/framework/local_rendezvous.cc:421] Local rendezvous recv item cancelled. Key hash: 5640187878637657889\n"
     ]
    },
    {
     "name": "stdout",
     "output_type": "stream",
     "text": [
      "25/25 [==============================] - 1s 32ms/step - loss: 5238.6587\n",
      "Epoch 276/1000\n",
      " 4/25 [===>..........................] - ETA: 0s - loss: 5237.0664"
     ]
    },
    {
     "name": "stderr",
     "output_type": "stream",
     "text": [
      "2023-12-14 23:33:46.755484: I tensorflow/core/framework/local_rendezvous.cc:421] Local rendezvous recv item cancelled. Key hash: 5640187878637657889\n"
     ]
    },
    {
     "name": "stdout",
     "output_type": "stream",
     "text": [
      "25/25 [==============================] - 1s 33ms/step - loss: 5225.9268\n",
      "Epoch 277/1000\n",
      " 4/25 [===>..........................] - ETA: 0s - loss: 5224.3403"
     ]
    },
    {
     "name": "stderr",
     "output_type": "stream",
     "text": [
      "2023-12-14 23:33:47.605147: I tensorflow/core/framework/local_rendezvous.cc:421] Local rendezvous recv item cancelled. Key hash: 5640187878637657889\n"
     ]
    },
    {
     "name": "stdout",
     "output_type": "stream",
     "text": [
      "25/25 [==============================] - 1s 32ms/step - loss: 5213.2749\n",
      "Epoch 278/1000\n",
      " 6/25 [======>.......................] - ETA: 0s - loss: 5210.6460"
     ]
    },
    {
     "name": "stderr",
     "output_type": "stream",
     "text": [
      "2023-12-14 23:33:48.441852: I tensorflow/core/framework/local_rendezvous.cc:421] Local rendezvous recv item cancelled. Key hash: 5640187878637657889\n"
     ]
    },
    {
     "name": "stdout",
     "output_type": "stream",
     "text": [
      "25/25 [==============================] - 1s 32ms/step - loss: 5200.6914\n",
      "Epoch 279/1000\n",
      " 4/25 [===>..........................] - ETA: 0s - loss: 5199.1377"
     ]
    },
    {
     "name": "stderr",
     "output_type": "stream",
     "text": [
      "2023-12-14 23:33:49.274755: I tensorflow/core/framework/local_rendezvous.cc:421] Local rendezvous recv item cancelled. Key hash: 5640187878637657889\n"
     ]
    },
    {
     "name": "stdout",
     "output_type": "stream",
     "text": [
      "25/25 [==============================] - 1s 33ms/step - loss: 5188.2065\n",
      "Epoch 280/1000\n",
      " 4/25 [===>..........................] - ETA: 0s - loss: 5186.6636"
     ]
    },
    {
     "name": "stderr",
     "output_type": "stream",
     "text": [
      "2023-12-14 23:33:50.120758: I tensorflow/core/framework/local_rendezvous.cc:421] Local rendezvous recv item cancelled. Key hash: 5640187878637657889\n"
     ]
    },
    {
     "name": "stdout",
     "output_type": "stream",
     "text": [
      "25/25 [==============================] - 1s 32ms/step - loss: 5175.7827\n",
      "Epoch 281/1000\n",
      " 4/25 [===>..........................] - ETA: 0s - loss: 5174.2339"
     ]
    },
    {
     "name": "stderr",
     "output_type": "stream",
     "text": [
      "2023-12-14 23:33:50.961257: I tensorflow/core/framework/local_rendezvous.cc:421] Local rendezvous recv item cancelled. Key hash: 5640187878637657889\n"
     ]
    },
    {
     "name": "stdout",
     "output_type": "stream",
     "text": [
      "25/25 [==============================] - 1s 33ms/step - loss: 5163.3906\n",
      "Epoch 282/1000\n",
      " 4/25 [===>..........................] - ETA: 0s - loss: 5161.8604"
     ]
    },
    {
     "name": "stderr",
     "output_type": "stream",
     "text": [
      "2023-12-14 23:33:51.809347: I tensorflow/core/framework/local_rendezvous.cc:421] Local rendezvous recv item cancelled. Key hash: 5640187878637657889\n"
     ]
    },
    {
     "name": "stdout",
     "output_type": "stream",
     "text": [
      "25/25 [==============================] - 1s 33ms/step - loss: 5151.1431\n",
      "Epoch 283/1000\n",
      " 4/25 [===>..........................] - ETA: 0s - loss: 5149.6099"
     ]
    },
    {
     "name": "stderr",
     "output_type": "stream",
     "text": [
      "2023-12-14 23:33:52.658661: I tensorflow/core/framework/local_rendezvous.cc:421] Local rendezvous recv item cancelled. Key hash: 5640187878637657889\n"
     ]
    },
    {
     "name": "stdout",
     "output_type": "stream",
     "text": [
      "25/25 [==============================] - 1s 33ms/step - loss: 5138.9268\n",
      "Epoch 284/1000\n",
      " 4/25 [===>..........................] - ETA: 0s - loss: 5137.4116"
     ]
    },
    {
     "name": "stderr",
     "output_type": "stream",
     "text": [
      "2023-12-14 23:33:53.503760: I tensorflow/core/framework/local_rendezvous.cc:421] Local rendezvous recv item cancelled. Key hash: 5640187878637657889\n"
     ]
    },
    {
     "name": "stdout",
     "output_type": "stream",
     "text": [
      "25/25 [==============================] - 1s 32ms/step - loss: 5126.8110\n",
      "Epoch 285/1000\n",
      " 6/25 [======>.......................] - ETA: 0s - loss: 5124.3066"
     ]
    },
    {
     "name": "stderr",
     "output_type": "stream",
     "text": [
      "2023-12-14 23:33:54.340302: I tensorflow/core/framework/local_rendezvous.cc:421] Local rendezvous recv item cancelled. Key hash: 5640187878637657889\n"
     ]
    },
    {
     "name": "stdout",
     "output_type": "stream",
     "text": [
      "25/25 [==============================] - 1s 32ms/step - loss: 5114.7456\n",
      "Epoch 286/1000\n",
      " 6/25 [======>.......................] - ETA: 0s - loss: 5112.2559"
     ]
    },
    {
     "name": "stderr",
     "output_type": "stream",
     "text": [
      "2023-12-14 23:33:55.174453: I tensorflow/core/framework/local_rendezvous.cc:421] Local rendezvous recv item cancelled. Key hash: 5640187878637657889\n"
     ]
    },
    {
     "name": "stdout",
     "output_type": "stream",
     "text": [
      "25/25 [==============================] - 1s 32ms/step - loss: 5102.7520\n",
      "Epoch 287/1000\n",
      " 4/25 [===>..........................] - ETA: 0s - loss: 5101.2529"
     ]
    },
    {
     "name": "stderr",
     "output_type": "stream",
     "text": [
      "2023-12-14 23:33:56.008033: I tensorflow/core/framework/local_rendezvous.cc:421] Local rendezvous recv item cancelled. Key hash: 5640187878637657889\n"
     ]
    },
    {
     "name": "stdout",
     "output_type": "stream",
     "text": [
      "25/25 [==============================] - 1s 32ms/step - loss: 5090.8198\n",
      "Epoch 288/1000\n",
      " 6/25 [======>.......................] - ETA: 0s - loss: 5088.3481"
     ]
    },
    {
     "name": "stderr",
     "output_type": "stream",
     "text": [
      "2023-12-14 23:33:56.840548: I tensorflow/core/framework/local_rendezvous.cc:421] Local rendezvous recv item cancelled. Key hash: 5640187878637657889\n"
     ]
    },
    {
     "name": "stdout",
     "output_type": "stream",
     "text": [
      "25/25 [==============================] - 1s 32ms/step - loss: 5078.9365\n",
      "Epoch 289/1000\n",
      " 4/25 [===>..........................] - ETA: 0s - loss: 5077.4531"
     ]
    },
    {
     "name": "stderr",
     "output_type": "stream",
     "text": [
      "2023-12-14 23:33:57.675587: I tensorflow/core/framework/local_rendezvous.cc:421] Local rendezvous recv item cancelled. Key hash: 5640187878637657889\n"
     ]
    },
    {
     "name": "stdout",
     "output_type": "stream",
     "text": [
      "25/25 [==============================] - 1s 33ms/step - loss: 5067.1504\n",
      "Epoch 290/1000\n",
      " 4/25 [===>..........................] - ETA: 0s - loss: 5065.6772"
     ]
    },
    {
     "name": "stderr",
     "output_type": "stream",
     "text": [
      "2023-12-14 23:33:58.544887: I tensorflow/core/framework/local_rendezvous.cc:421] Local rendezvous recv item cancelled. Key hash: 5640187878637657889\n"
     ]
    },
    {
     "name": "stdout",
     "output_type": "stream",
     "text": [
      "25/25 [==============================] - 1s 34ms/step - loss: 5055.4155\n",
      "Epoch 291/1000\n",
      " 4/25 [===>..........................] - ETA: 0s - loss: 5053.9604"
     ]
    },
    {
     "name": "stderr",
     "output_type": "stream",
     "text": [
      "2023-12-14 23:33:59.442279: I tensorflow/core/framework/local_rendezvous.cc:421] Local rendezvous recv item cancelled. Key hash: 5640187878637657889\n"
     ]
    },
    {
     "name": "stdout",
     "output_type": "stream",
     "text": [
      "25/25 [==============================] - 1s 33ms/step - loss: 5043.7515\n",
      "Epoch 292/1000\n",
      " 4/25 [===>..........................] - ETA: 0s - loss: 5042.2930"
     ]
    },
    {
     "name": "stderr",
     "output_type": "stream",
     "text": [
      "2023-12-14 23:34:00.325306: I tensorflow/core/framework/local_rendezvous.cc:421] Local rendezvous recv item cancelled. Key hash: 5640187878637657889\n"
     ]
    },
    {
     "name": "stdout",
     "output_type": "stream",
     "text": [
      "25/25 [==============================] - 1s 33ms/step - loss: 5032.1318\n",
      "Epoch 293/1000\n",
      " 4/25 [===>..........................] - ETA: 0s - loss: 5030.6914"
     ]
    },
    {
     "name": "stderr",
     "output_type": "stream",
     "text": [
      "2023-12-14 23:34:01.206836: I tensorflow/core/framework/local_rendezvous.cc:421] Local rendezvous recv item cancelled. Key hash: 5640187878637657889\n"
     ]
    },
    {
     "name": "stdout",
     "output_type": "stream",
     "text": [
      "25/25 [==============================] - 1s 33ms/step - loss: 5020.6094\n",
      "Epoch 294/1000\n",
      " 4/25 [===>..........................] - ETA: 0s - loss: 5019.1733"
     ]
    },
    {
     "name": "stderr",
     "output_type": "stream",
     "text": [
      "2023-12-14 23:34:02.106186: I tensorflow/core/framework/local_rendezvous.cc:421] Local rendezvous recv item cancelled. Key hash: 5640187878637657889\n"
     ]
    },
    {
     "name": "stdout",
     "output_type": "stream",
     "text": [
      "25/25 [==============================] - 1s 33ms/step - loss: 5009.1162\n",
      "Epoch 295/1000\n",
      " 4/25 [===>..........................] - ETA: 0s - loss: 5007.6929"
     ]
    },
    {
     "name": "stderr",
     "output_type": "stream",
     "text": [
      "2023-12-14 23:34:02.991359: I tensorflow/core/framework/local_rendezvous.cc:421] Local rendezvous recv item cancelled. Key hash: 5640187878637657889\n"
     ]
    },
    {
     "name": "stdout",
     "output_type": "stream",
     "text": [
      "25/25 [==============================] - 1s 32ms/step - loss: 4997.7017\n",
      "Epoch 296/1000\n",
      " 6/25 [======>.......................] - ETA: 0s - loss: 4995.3354"
     ]
    },
    {
     "name": "stderr",
     "output_type": "stream",
     "text": [
      "2023-12-14 23:34:03.858593: I tensorflow/core/framework/local_rendezvous.cc:421] Local rendezvous recv item cancelled. Key hash: 5640187878637657889\n"
     ]
    },
    {
     "name": "stdout",
     "output_type": "stream",
     "text": [
      "25/25 [==============================] - 1s 32ms/step - loss: 4986.3481\n",
      "Epoch 297/1000\n",
      " 4/25 [===>..........................] - ETA: 0s - loss: 4984.9380"
     ]
    },
    {
     "name": "stderr",
     "output_type": "stream",
     "text": [
      "2023-12-14 23:34:04.690302: I tensorflow/core/framework/local_rendezvous.cc:421] Local rendezvous recv item cancelled. Key hash: 5640187878637657889\n"
     ]
    },
    {
     "name": "stdout",
     "output_type": "stream",
     "text": [
      "25/25 [==============================] - 1s 33ms/step - loss: 4975.0532\n",
      "Epoch 298/1000\n",
      " 6/25 [======>.......................] - ETA: 0s - loss: 4972.7212"
     ]
    },
    {
     "name": "stderr",
     "output_type": "stream",
     "text": [
      "2023-12-14 23:34:05.537979: I tensorflow/core/framework/local_rendezvous.cc:421] Local rendezvous recv item cancelled. Key hash: 5640187878637657889\n"
     ]
    },
    {
     "name": "stdout",
     "output_type": "stream",
     "text": [
      "25/25 [==============================] - 1s 32ms/step - loss: 4963.8203\n",
      "Epoch 299/1000\n",
      " 6/25 [======>.......................] - ETA: 0s - loss: 4961.4966"
     ]
    },
    {
     "name": "stderr",
     "output_type": "stream",
     "text": [
      "2023-12-14 23:34:06.372651: I tensorflow/core/framework/local_rendezvous.cc:421] Local rendezvous recv item cancelled. Key hash: 5640187878637657889\n"
     ]
    },
    {
     "name": "stdout",
     "output_type": "stream",
     "text": [
      "25/25 [==============================] - 1s 32ms/step - loss: 4952.6196\n",
      "Epoch 300/1000\n",
      " 6/25 [======>.......................] - ETA: 0s - loss: 4950.2974"
     ]
    },
    {
     "name": "stderr",
     "output_type": "stream",
     "text": [
      "2023-12-14 23:34:07.207371: I tensorflow/core/framework/local_rendezvous.cc:421] Local rendezvous recv item cancelled. Key hash: 5640187878637657889\n"
     ]
    },
    {
     "name": "stdout",
     "output_type": "stream",
     "text": [
      "25/25 [==============================] - 1s 32ms/step - loss: 4941.4878\n",
      "Epoch 301/1000\n",
      " 4/25 [===>..........................] - ETA: 0s - loss: 4940.1050"
     ]
    },
    {
     "name": "stderr",
     "output_type": "stream",
     "text": [
      "2023-12-14 23:34:08.039500: I tensorflow/core/framework/local_rendezvous.cc:421] Local rendezvous recv item cancelled. Key hash: 5640187878637657889\n"
     ]
    },
    {
     "name": "stdout",
     "output_type": "stream",
     "text": [
      "25/25 [==============================] - 1s 32ms/step - loss: 4930.4434\n",
      "Epoch 302/1000\n",
      " 6/25 [======>.......................] - ETA: 0s - loss: 4928.1411"
     ]
    },
    {
     "name": "stderr",
     "output_type": "stream",
     "text": [
      "2023-12-14 23:34:08.873116: I tensorflow/core/framework/local_rendezvous.cc:421] Local rendezvous recv item cancelled. Key hash: 5640187878637657889\n"
     ]
    },
    {
     "name": "stdout",
     "output_type": "stream",
     "text": [
      "25/25 [==============================] - 1s 33ms/step - loss: 4919.4482\n",
      "Epoch 303/1000\n",
      " 4/25 [===>..........................] - ETA: 0s - loss: 4918.0864"
     ]
    },
    {
     "name": "stderr",
     "output_type": "stream",
     "text": [
      "2023-12-14 23:34:09.715044: I tensorflow/core/framework/local_rendezvous.cc:421] Local rendezvous recv item cancelled. Key hash: 5640187878637657889\n"
     ]
    },
    {
     "name": "stdout",
     "output_type": "stream",
     "text": [
      "25/25 [==============================] - 1s 32ms/step - loss: 4908.4912\n",
      "Epoch 304/1000\n",
      " 4/25 [===>..........................] - ETA: 0s - loss: 4907.1328"
     ]
    },
    {
     "name": "stderr",
     "output_type": "stream",
     "text": [
      "2023-12-14 23:34:10.556978: I tensorflow/core/framework/local_rendezvous.cc:421] Local rendezvous recv item cancelled. Key hash: 5640187878637657889\n"
     ]
    },
    {
     "name": "stdout",
     "output_type": "stream",
     "text": [
      "25/25 [==============================] - 1s 32ms/step - loss: 4897.6299\n",
      "Epoch 305/1000\n",
      " 6/25 [======>.......................] - ETA: 0s - loss: 4895.3877"
     ]
    },
    {
     "name": "stderr",
     "output_type": "stream",
     "text": [
      "2023-12-14 23:34:11.391102: I tensorflow/core/framework/local_rendezvous.cc:421] Local rendezvous recv item cancelled. Key hash: 5640187878637657889\n"
     ]
    },
    {
     "name": "stdout",
     "output_type": "stream",
     "text": [
      "25/25 [==============================] - 1s 32ms/step - loss: 4886.8203\n",
      "Epoch 306/1000\n",
      " 4/25 [===>..........................] - ETA: 0s - loss: 4885.4688"
     ]
    },
    {
     "name": "stderr",
     "output_type": "stream",
     "text": [
      "2023-12-14 23:34:12.231244: I tensorflow/core/framework/local_rendezvous.cc:421] Local rendezvous recv item cancelled. Key hash: 5640187878637657889\n"
     ]
    },
    {
     "name": "stdout",
     "output_type": "stream",
     "text": [
      "25/25 [==============================] - 1s 32ms/step - loss: 4876.0747\n",
      "Epoch 307/1000\n",
      " 6/25 [======>.......................] - ETA: 0s - loss: 4873.8359"
     ]
    },
    {
     "name": "stderr",
     "output_type": "stream",
     "text": [
      "2023-12-14 23:34:13.073868: I tensorflow/core/framework/local_rendezvous.cc:421] Local rendezvous recv item cancelled. Key hash: 5640187878637657889\n"
     ]
    },
    {
     "name": "stdout",
     "output_type": "stream",
     "text": [
      "25/25 [==============================] - 1s 32ms/step - loss: 4865.3877\n",
      "Epoch 308/1000\n",
      " 6/25 [======>.......................] - ETA: 0s - loss: 4863.1680"
     ]
    },
    {
     "name": "stderr",
     "output_type": "stream",
     "text": [
      "2023-12-14 23:34:13.901728: I tensorflow/core/framework/local_rendezvous.cc:421] Local rendezvous recv item cancelled. Key hash: 5640187878637657889\n"
     ]
    },
    {
     "name": "stdout",
     "output_type": "stream",
     "text": [
      "25/25 [==============================] - 1s 33ms/step - loss: 4854.7515\n",
      "Epoch 309/1000\n",
      " 4/25 [===>..........................] - ETA: 0s - loss: 4853.4219"
     ]
    },
    {
     "name": "stderr",
     "output_type": "stream",
     "text": [
      "2023-12-14 23:34:14.740956: I tensorflow/core/framework/local_rendezvous.cc:421] Local rendezvous recv item cancelled. Key hash: 5640187878637657889\n"
     ]
    },
    {
     "name": "stdout",
     "output_type": "stream",
     "text": [
      "25/25 [==============================] - 1s 33ms/step - loss: 4844.1406\n",
      "Epoch 310/1000\n",
      " 4/25 [===>..........................] - ETA: 0s - loss: 4842.8208"
     ]
    },
    {
     "name": "stderr",
     "output_type": "stream",
     "text": [
      "2023-12-14 23:34:15.591372: I tensorflow/core/framework/local_rendezvous.cc:421] Local rendezvous recv item cancelled. Key hash: 5640187878637657889\n"
     ]
    },
    {
     "name": "stdout",
     "output_type": "stream",
     "text": [
      "25/25 [==============================] - 1s 33ms/step - loss: 4833.6157\n",
      "Epoch 311/1000\n",
      " 6/25 [======>.......................] - ETA: 0s - loss: 4831.4287"
     ]
    },
    {
     "name": "stderr",
     "output_type": "stream",
     "text": [
      "2023-12-14 23:34:16.439508: I tensorflow/core/framework/local_rendezvous.cc:421] Local rendezvous recv item cancelled. Key hash: 5640187878637657889\n"
     ]
    },
    {
     "name": "stdout",
     "output_type": "stream",
     "text": [
      "25/25 [==============================] - 1s 32ms/step - loss: 4823.1343\n",
      "Epoch 312/1000\n",
      " 6/25 [======>.......................] - ETA: 0s - loss: 4820.9609"
     ]
    },
    {
     "name": "stderr",
     "output_type": "stream",
     "text": [
      "2023-12-14 23:34:17.273467: I tensorflow/core/framework/local_rendezvous.cc:421] Local rendezvous recv item cancelled. Key hash: 5640187878637657889\n"
     ]
    },
    {
     "name": "stdout",
     "output_type": "stream",
     "text": [
      "25/25 [==============================] - 1s 32ms/step - loss: 4812.7222\n",
      "Epoch 313/1000\n",
      " 4/25 [===>..........................] - ETA: 0s - loss: 4811.4287"
     ]
    },
    {
     "name": "stderr",
     "output_type": "stream",
     "text": [
      "2023-12-14 23:34:18.107253: I tensorflow/core/framework/local_rendezvous.cc:421] Local rendezvous recv item cancelled. Key hash: 5640187878637657889\n"
     ]
    },
    {
     "name": "stdout",
     "output_type": "stream",
     "text": [
      "25/25 [==============================] - 1s 33ms/step - loss: 4802.3472\n",
      "Epoch 314/1000\n",
      " 6/25 [======>.......................] - ETA: 0s - loss: 4800.1929"
     ]
    },
    {
     "name": "stderr",
     "output_type": "stream",
     "text": [
      "2023-12-14 23:34:18.958511: I tensorflow/core/framework/local_rendezvous.cc:421] Local rendezvous recv item cancelled. Key hash: 5640187878637657889\n"
     ]
    },
    {
     "name": "stdout",
     "output_type": "stream",
     "text": [
      "25/25 [==============================] - 1s 32ms/step - loss: 4792.0190\n",
      "Epoch 315/1000\n",
      " 6/25 [======>.......................] - ETA: 0s - loss: 4789.8804"
     ]
    },
    {
     "name": "stderr",
     "output_type": "stream",
     "text": [
      "2023-12-14 23:34:19.787425: I tensorflow/core/framework/local_rendezvous.cc:421] Local rendezvous recv item cancelled. Key hash: 5640187878637657889\n"
     ]
    },
    {
     "name": "stdout",
     "output_type": "stream",
     "text": [
      "25/25 [==============================] - 1s 31ms/step - loss: 4781.7622\n",
      "Epoch 316/1000\n",
      " 6/25 [======>.......................] - ETA: 0s - loss: 4779.6309"
     ]
    },
    {
     "name": "stderr",
     "output_type": "stream",
     "text": [
      "2023-12-14 23:34:20.584773: I tensorflow/core/framework/local_rendezvous.cc:421] Local rendezvous recv item cancelled. Key hash: 5640187878637657889\n"
     ]
    },
    {
     "name": "stdout",
     "output_type": "stream",
     "text": [
      "25/25 [==============================] - 1s 31ms/step - loss: 4771.5483\n",
      "Epoch 317/1000\n",
      " 6/25 [======>.......................] - ETA: 0s - loss: 4769.4326"
     ]
    },
    {
     "name": "stderr",
     "output_type": "stream",
     "text": [
      "2023-12-14 23:34:21.390553: I tensorflow/core/framework/local_rendezvous.cc:421] Local rendezvous recv item cancelled. Key hash: 5640187878637657889\n"
     ]
    },
    {
     "name": "stdout",
     "output_type": "stream",
     "text": [
      "25/25 [==============================] - 1s 31ms/step - loss: 4761.3945\n",
      "Epoch 318/1000\n",
      " 4/25 [===>..........................] - ETA: 0s - loss: 4760.1235"
     ]
    },
    {
     "name": "stderr",
     "output_type": "stream",
     "text": [
      "2023-12-14 23:34:22.183109: I tensorflow/core/framework/local_rendezvous.cc:421] Local rendezvous recv item cancelled. Key hash: 5640187878637657889\n"
     ]
    },
    {
     "name": "stdout",
     "output_type": "stream",
     "text": [
      "25/25 [==============================] - 1s 31ms/step - loss: 4751.3066\n",
      "Epoch 319/1000\n",
      " 6/25 [======>.......................] - ETA: 0s - loss: 4749.2017"
     ]
    },
    {
     "name": "stderr",
     "output_type": "stream",
     "text": [
      "2023-12-14 23:34:22.987447: I tensorflow/core/framework/local_rendezvous.cc:421] Local rendezvous recv item cancelled. Key hash: 5640187878637657889\n"
     ]
    },
    {
     "name": "stdout",
     "output_type": "stream",
     "text": [
      "25/25 [==============================] - 1s 31ms/step - loss: 4741.2388\n",
      "Epoch 320/1000\n",
      " 6/25 [======>.......................] - ETA: 0s - loss: 4739.1606"
     ]
    },
    {
     "name": "stderr",
     "output_type": "stream",
     "text": [
      "2023-12-14 23:34:23.780378: I tensorflow/core/framework/local_rendezvous.cc:421] Local rendezvous recv item cancelled. Key hash: 5640187878637657889\n"
     ]
    },
    {
     "name": "stdout",
     "output_type": "stream",
     "text": [
      "25/25 [==============================] - 1s 30ms/step - loss: 4731.2334\n",
      "Epoch 321/1000\n",
      " 6/25 [======>.......................] - ETA: 0s - loss: 4729.1621"
     ]
    },
    {
     "name": "stderr",
     "output_type": "stream",
     "text": [
      "2023-12-14 23:34:24.564400: I tensorflow/core/framework/local_rendezvous.cc:421] Local rendezvous recv item cancelled. Key hash: 5640187878637657889\n"
     ]
    },
    {
     "name": "stdout",
     "output_type": "stream",
     "text": [
      "25/25 [==============================] - 1s 30ms/step - loss: 4721.2788\n",
      "Epoch 322/1000\n",
      " 6/25 [======>.......................] - ETA: 0s - loss: 4719.2061"
     ]
    },
    {
     "name": "stderr",
     "output_type": "stream",
     "text": [
      "2023-12-14 23:34:25.342500: I tensorflow/core/framework/local_rendezvous.cc:421] Local rendezvous recv item cancelled. Key hash: 5640187878637657889\n"
     ]
    },
    {
     "name": "stdout",
     "output_type": "stream",
     "text": [
      "25/25 [==============================] - 1s 30ms/step - loss: 4711.3936\n",
      "Epoch 323/1000\n",
      "25/25 [==============================] - 1s 31ms/step - loss: 4701.5225\n",
      "Epoch 324/1000\n",
      " 6/25 [======>.......................] - ETA: 0s - loss: 4699.4902"
     ]
    },
    {
     "name": "stderr",
     "output_type": "stream",
     "text": [
      "2023-12-14 23:34:26.923068: I tensorflow/core/framework/local_rendezvous.cc:421] Local rendezvous recv item cancelled. Key hash: 5640187878637657889\n"
     ]
    },
    {
     "name": "stdout",
     "output_type": "stream",
     "text": [
      "25/25 [==============================] - 1s 31ms/step - loss: 4691.7217\n",
      "Epoch 325/1000\n",
      " 6/25 [======>.......................] - ETA: 0s - loss: 4689.6934"
     ]
    },
    {
     "name": "stderr",
     "output_type": "stream",
     "text": [
      "2023-12-14 23:34:27.720389: I tensorflow/core/framework/local_rendezvous.cc:421] Local rendezvous recv item cancelled. Key hash: 5640187878637657889\n"
     ]
    },
    {
     "name": "stdout",
     "output_type": "stream",
     "text": [
      "25/25 [==============================] - 1s 30ms/step - loss: 4681.9761\n",
      "Epoch 326/1000\n",
      " 6/25 [======>.......................] - ETA: 0s - loss: 4679.9404"
     ]
    },
    {
     "name": "stderr",
     "output_type": "stream",
     "text": [
      "2023-12-14 23:34:28.508086: I tensorflow/core/framework/local_rendezvous.cc:421] Local rendezvous recv item cancelled. Key hash: 5640187878637657889\n"
     ]
    },
    {
     "name": "stdout",
     "output_type": "stream",
     "text": [
      "25/25 [==============================] - 1s 31ms/step - loss: 4672.2349\n",
      "Epoch 327/1000\n",
      " 6/25 [======>.......................] - ETA: 0s - loss: 4670.2173"
     ]
    },
    {
     "name": "stderr",
     "output_type": "stream",
     "text": [
      "2023-12-14 23:34:29.297428: I tensorflow/core/framework/local_rendezvous.cc:421] Local rendezvous recv item cancelled. Key hash: 5640187878637657889\n"
     ]
    },
    {
     "name": "stdout",
     "output_type": "stream",
     "text": [
      "25/25 [==============================] - 1s 32ms/step - loss: 4662.5732\n",
      "Epoch 328/1000\n",
      " 4/25 [===>..........................] - ETA: 0s - loss: 4661.3726"
     ]
    },
    {
     "name": "stderr",
     "output_type": "stream",
     "text": [
      "2023-12-14 23:34:30.118658: I tensorflow/core/framework/local_rendezvous.cc:421] Local rendezvous recv item cancelled. Key hash: 5640187878637657889\n"
     ]
    },
    {
     "name": "stdout",
     "output_type": "stream",
     "text": [
      "25/25 [==============================] - 1s 32ms/step - loss: 4652.9756\n",
      "Epoch 329/1000\n",
      " 6/25 [======>.......................] - ETA: 0s - loss: 4650.9873"
     ]
    },
    {
     "name": "stderr",
     "output_type": "stream",
     "text": [
      "2023-12-14 23:34:30.957050: I tensorflow/core/framework/local_rendezvous.cc:421] Local rendezvous recv item cancelled. Key hash: 5640187878637657889\n"
     ]
    },
    {
     "name": "stdout",
     "output_type": "stream",
     "text": [
      "25/25 [==============================] - 1s 32ms/step - loss: 4643.3901\n",
      "Epoch 330/1000\n",
      " 6/25 [======>.......................] - ETA: 0s - loss: 4641.4033"
     ]
    },
    {
     "name": "stderr",
     "output_type": "stream",
     "text": [
      "2023-12-14 23:34:31.790135: I tensorflow/core/framework/local_rendezvous.cc:421] Local rendezvous recv item cancelled. Key hash: 5640187878637657889\n"
     ]
    },
    {
     "name": "stdout",
     "output_type": "stream",
     "text": [
      "25/25 [==============================] - 1s 32ms/step - loss: 4633.8403\n",
      "Epoch 331/1000\n",
      " 4/25 [===>..........................] - ETA: 0s - loss: 4632.6597"
     ]
    },
    {
     "name": "stderr",
     "output_type": "stream",
     "text": [
      "2023-12-14 23:34:32.621056: I tensorflow/core/framework/local_rendezvous.cc:421] Local rendezvous recv item cancelled. Key hash: 5640187878637657889\n"
     ]
    },
    {
     "name": "stdout",
     "output_type": "stream",
     "text": [
      "25/25 [==============================] - 1s 32ms/step - loss: 4624.3735\n",
      "Epoch 332/1000\n",
      " 6/25 [======>.......................] - ETA: 0s - loss: 4622.3999"
     ]
    },
    {
     "name": "stderr",
     "output_type": "stream",
     "text": [
      "2023-12-14 23:34:33.457755: I tensorflow/core/framework/local_rendezvous.cc:421] Local rendezvous recv item cancelled. Key hash: 5640187878637657889\n"
     ]
    },
    {
     "name": "stdout",
     "output_type": "stream",
     "text": [
      "25/25 [==============================] - 1s 32ms/step - loss: 4614.9561\n",
      "Epoch 333/1000\n",
      " 4/25 [===>..........................] - ETA: 0s - loss: 4613.7837"
     ]
    },
    {
     "name": "stderr",
     "output_type": "stream",
     "text": [
      "2023-12-14 23:34:34.290251: I tensorflow/core/framework/local_rendezvous.cc:421] Local rendezvous recv item cancelled. Key hash: 5640187878637657889\n"
     ]
    },
    {
     "name": "stdout",
     "output_type": "stream",
     "text": [
      "25/25 [==============================] - 1s 32ms/step - loss: 4605.5718\n",
      "Epoch 334/1000\n",
      " 6/25 [======>.......................] - ETA: 0s - loss: 4603.6240"
     ]
    },
    {
     "name": "stderr",
     "output_type": "stream",
     "text": [
      "2023-12-14 23:34:35.123462: I tensorflow/core/framework/local_rendezvous.cc:421] Local rendezvous recv item cancelled. Key hash: 5640187878637657889\n"
     ]
    },
    {
     "name": "stdout",
     "output_type": "stream",
     "text": [
      "25/25 [==============================] - 1s 33ms/step - loss: 4596.2295\n",
      "Epoch 335/1000\n",
      " 4/25 [===>..........................] - ETA: 0s - loss: 4595.0747"
     ]
    },
    {
     "name": "stderr",
     "output_type": "stream",
     "text": [
      "2023-12-14 23:34:35.957978: I tensorflow/core/framework/local_rendezvous.cc:421] Local rendezvous recv item cancelled. Key hash: 5640187878637657889\n"
     ]
    },
    {
     "name": "stdout",
     "output_type": "stream",
     "text": [
      "25/25 [==============================] - 1s 33ms/step - loss: 4586.9277\n",
      "Epoch 336/1000\n",
      " 6/25 [======>.......................] - ETA: 0s - loss: 4585.0029"
     ]
    },
    {
     "name": "stderr",
     "output_type": "stream",
     "text": [
      "2023-12-14 23:34:36.807354: I tensorflow/core/framework/local_rendezvous.cc:421] Local rendezvous recv item cancelled. Key hash: 5640187878637657889\n"
     ]
    },
    {
     "name": "stdout",
     "output_type": "stream",
     "text": [
      "25/25 [==============================] - 1s 32ms/step - loss: 4577.6851\n",
      "Epoch 337/1000\n",
      " 6/25 [======>.......................] - ETA: 0s - loss: 4575.7617"
     ]
    },
    {
     "name": "stderr",
     "output_type": "stream",
     "text": [
      "2023-12-14 23:34:37.639769: I tensorflow/core/framework/local_rendezvous.cc:421] Local rendezvous recv item cancelled. Key hash: 5640187878637657889\n"
     ]
    },
    {
     "name": "stdout",
     "output_type": "stream",
     "text": [
      "25/25 [==============================] - 1s 32ms/step - loss: 4568.4834\n",
      "Epoch 338/1000\n",
      " 6/25 [======>.......................] - ETA: 0s - loss: 4566.5728"
     ]
    },
    {
     "name": "stderr",
     "output_type": "stream",
     "text": [
      "2023-12-14 23:34:38.473656: I tensorflow/core/framework/local_rendezvous.cc:421] Local rendezvous recv item cancelled. Key hash: 5640187878637657889\n"
     ]
    },
    {
     "name": "stdout",
     "output_type": "stream",
     "text": [
      "25/25 [==============================] - 1s 32ms/step - loss: 4559.3335\n",
      "Epoch 339/1000\n",
      " 6/25 [======>.......................] - ETA: 0s - loss: 4557.4253"
     ]
    },
    {
     "name": "stderr",
     "output_type": "stream",
     "text": [
      "2023-12-14 23:34:39.307165: I tensorflow/core/framework/local_rendezvous.cc:421] Local rendezvous recv item cancelled. Key hash: 5640187878637657889\n"
     ]
    },
    {
     "name": "stdout",
     "output_type": "stream",
     "text": [
      "25/25 [==============================] - 1s 32ms/step - loss: 4550.1973\n",
      "Epoch 340/1000\n",
      " 6/25 [======>.......................] - ETA: 0s - loss: 4548.2949"
     ]
    },
    {
     "name": "stderr",
     "output_type": "stream",
     "text": [
      "2023-12-14 23:34:40.140487: I tensorflow/core/framework/local_rendezvous.cc:421] Local rendezvous recv item cancelled. Key hash: 5640187878637657889\n"
     ]
    },
    {
     "name": "stdout",
     "output_type": "stream",
     "text": [
      "25/25 [==============================] - 1s 32ms/step - loss: 4541.1040\n",
      "Epoch 341/1000\n",
      " 6/25 [======>.......................] - ETA: 0s - loss: 4539.2222"
     ]
    },
    {
     "name": "stderr",
     "output_type": "stream",
     "text": [
      "2023-12-14 23:34:40.973964: I tensorflow/core/framework/local_rendezvous.cc:421] Local rendezvous recv item cancelled. Key hash: 5640187878637657889\n"
     ]
    },
    {
     "name": "stdout",
     "output_type": "stream",
     "text": [
      "25/25 [==============================] - 1s 32ms/step - loss: 4532.0732\n",
      "Epoch 342/1000\n",
      " 6/25 [======>.......................] - ETA: 0s - loss: 4530.1992"
     ]
    },
    {
     "name": "stderr",
     "output_type": "stream",
     "text": [
      "2023-12-14 23:34:41.806324: I tensorflow/core/framework/local_rendezvous.cc:421] Local rendezvous recv item cancelled. Key hash: 5640187878637657889\n"
     ]
    },
    {
     "name": "stdout",
     "output_type": "stream",
     "text": [
      "25/25 [==============================] - 1s 32ms/step - loss: 4523.0972\n",
      "Epoch 343/1000\n",
      " 4/25 [===>..........................] - ETA: 0s - loss: 4521.9814"
     ]
    },
    {
     "name": "stderr",
     "output_type": "stream",
     "text": [
      "2023-12-14 23:34:42.639827: I tensorflow/core/framework/local_rendezvous.cc:421] Local rendezvous recv item cancelled. Key hash: 5640187878637657889\n"
     ]
    },
    {
     "name": "stdout",
     "output_type": "stream",
     "text": [
      "25/25 [==============================] - 1s 32ms/step - loss: 4514.1616\n",
      "Epoch 344/1000\n",
      " 6/25 [======>.......................] - ETA: 0s - loss: 4512.3076"
     ]
    },
    {
     "name": "stderr",
     "output_type": "stream",
     "text": [
      "2023-12-14 23:34:43.474061: I tensorflow/core/framework/local_rendezvous.cc:421] Local rendezvous recv item cancelled. Key hash: 5640187878637657889\n"
     ]
    },
    {
     "name": "stdout",
     "output_type": "stream",
     "text": [
      "25/25 [==============================] - 1s 32ms/step - loss: 4505.2373\n",
      "Epoch 345/1000\n",
      " 6/25 [======>.......................] - ETA: 0s - loss: 4503.3877"
     ]
    },
    {
     "name": "stderr",
     "output_type": "stream",
     "text": [
      "2023-12-14 23:34:44.307234: I tensorflow/core/framework/local_rendezvous.cc:421] Local rendezvous recv item cancelled. Key hash: 5640187878637657889\n"
     ]
    },
    {
     "name": "stdout",
     "output_type": "stream",
     "text": [
      "25/25 [==============================] - 1s 32ms/step - loss: 4496.3789\n",
      "Epoch 346/1000\n",
      " 6/25 [======>.......................] - ETA: 0s - loss: 4494.5410"
     ]
    },
    {
     "name": "stderr",
     "output_type": "stream",
     "text": [
      "2023-12-14 23:34:45.141303: I tensorflow/core/framework/local_rendezvous.cc:421] Local rendezvous recv item cancelled. Key hash: 5640187878637657889\n"
     ]
    },
    {
     "name": "stdout",
     "output_type": "stream",
     "text": [
      "25/25 [==============================] - 1s 32ms/step - loss: 4487.5630\n",
      "Epoch 347/1000\n",
      " 6/25 [======>.......................] - ETA: 0s - loss: 4485.7412"
     ]
    },
    {
     "name": "stderr",
     "output_type": "stream",
     "text": [
      "2023-12-14 23:34:45.974733: I tensorflow/core/framework/local_rendezvous.cc:421] Local rendezvous recv item cancelled. Key hash: 5640187878637657889\n"
     ]
    },
    {
     "name": "stdout",
     "output_type": "stream",
     "text": [
      "25/25 [==============================] - 1s 32ms/step - loss: 4478.8013\n",
      "Epoch 348/1000\n",
      " 6/25 [======>.......................] - ETA: 0s - loss: 4476.9775"
     ]
    },
    {
     "name": "stderr",
     "output_type": "stream",
     "text": [
      "2023-12-14 23:34:46.807096: I tensorflow/core/framework/local_rendezvous.cc:421] Local rendezvous recv item cancelled. Key hash: 5640187878637657889\n"
     ]
    },
    {
     "name": "stdout",
     "output_type": "stream",
     "text": [
      "25/25 [==============================] - 1s 32ms/step - loss: 4470.0430\n",
      "Epoch 349/1000\n",
      " 6/25 [======>.......................] - ETA: 0s - loss: 4468.2319"
     ]
    },
    {
     "name": "stderr",
     "output_type": "stream",
     "text": [
      "2023-12-14 23:34:47.641024: I tensorflow/core/framework/local_rendezvous.cc:421] Local rendezvous recv item cancelled. Key hash: 5640187878637657889\n"
     ]
    },
    {
     "name": "stdout",
     "output_type": "stream",
     "text": [
      "25/25 [==============================] - 1s 33ms/step - loss: 4461.3462\n",
      "Epoch 350/1000\n",
      " 4/25 [===>..........................] - ETA: 0s - loss: 4460.2656"
     ]
    },
    {
     "name": "stderr",
     "output_type": "stream",
     "text": [
      "2023-12-14 23:34:48.486504: I tensorflow/core/framework/local_rendezvous.cc:421] Local rendezvous recv item cancelled. Key hash: 5640187878637657889\n"
     ]
    },
    {
     "name": "stdout",
     "output_type": "stream",
     "text": [
      "25/25 [==============================] - 1s 32ms/step - loss: 4452.6919\n",
      "Epoch 351/1000\n",
      " 6/25 [======>.......................] - ETA: 0s - loss: 4450.8843"
     ]
    },
    {
     "name": "stderr",
     "output_type": "stream",
     "text": [
      "2023-12-14 23:34:49.323615: I tensorflow/core/framework/local_rendezvous.cc:421] Local rendezvous recv item cancelled. Key hash: 5640187878637657889\n"
     ]
    },
    {
     "name": "stdout",
     "output_type": "stream",
     "text": [
      "25/25 [==============================] - 1s 32ms/step - loss: 4444.0703\n",
      "Epoch 352/1000\n",
      " 6/25 [======>.......................] - ETA: 0s - loss: 4442.2856"
     ]
    },
    {
     "name": "stderr",
     "output_type": "stream",
     "text": [
      "2023-12-14 23:34:50.157057: I tensorflow/core/framework/local_rendezvous.cc:421] Local rendezvous recv item cancelled. Key hash: 5640187878637657889\n"
     ]
    },
    {
     "name": "stdout",
     "output_type": "stream",
     "text": [
      "25/25 [==============================] - 1s 32ms/step - loss: 4435.4990\n",
      "Epoch 353/1000\n",
      " 6/25 [======>.......................] - ETA: 0s - loss: 4433.7212"
     ]
    },
    {
     "name": "stderr",
     "output_type": "stream",
     "text": [
      "2023-12-14 23:34:50.989527: I tensorflow/core/framework/local_rendezvous.cc:421] Local rendezvous recv item cancelled. Key hash: 5640187878637657889\n"
     ]
    },
    {
     "name": "stdout",
     "output_type": "stream",
     "text": [
      "25/25 [==============================] - 1s 32ms/step - loss: 4426.9614\n",
      "Epoch 354/1000\n",
      " 4/25 [===>..........................] - ETA: 0s - loss: 4425.9014"
     ]
    },
    {
     "name": "stderr",
     "output_type": "stream",
     "text": [
      "2023-12-14 23:34:51.823153: I tensorflow/core/framework/local_rendezvous.cc:421] Local rendezvous recv item cancelled. Key hash: 5640187878637657889\n"
     ]
    },
    {
     "name": "stdout",
     "output_type": "stream",
     "text": [
      "25/25 [==============================] - 1s 32ms/step - loss: 4418.4531\n",
      "Epoch 355/1000\n",
      " 4/25 [===>..........................] - ETA: 0s - loss: 4417.3975"
     ]
    },
    {
     "name": "stderr",
     "output_type": "stream",
     "text": [
      "2023-12-14 23:34:52.657339: I tensorflow/core/framework/local_rendezvous.cc:421] Local rendezvous recv item cancelled. Key hash: 5640187878637657889\n"
     ]
    },
    {
     "name": "stdout",
     "output_type": "stream",
     "text": [
      "25/25 [==============================] - 1s 32ms/step - loss: 4409.9858\n",
      "Epoch 356/1000\n",
      " 6/25 [======>.......................] - ETA: 0s - loss: 4408.2217"
     ]
    },
    {
     "name": "stderr",
     "output_type": "stream",
     "text": [
      "2023-12-14 23:34:53.507093: I tensorflow/core/framework/local_rendezvous.cc:421] Local rendezvous recv item cancelled. Key hash: 5640187878637657889\n"
     ]
    },
    {
     "name": "stdout",
     "output_type": "stream",
     "text": [
      "25/25 [==============================] - 1s 32ms/step - loss: 4401.5552\n",
      "Epoch 357/1000\n",
      " 6/25 [======>.......................] - ETA: 0s - loss: 4399.8096"
     ]
    },
    {
     "name": "stderr",
     "output_type": "stream",
     "text": [
      "2023-12-14 23:34:54.339939: I tensorflow/core/framework/local_rendezvous.cc:421] Local rendezvous recv item cancelled. Key hash: 5640187878637657889\n"
     ]
    },
    {
     "name": "stdout",
     "output_type": "stream",
     "text": [
      "25/25 [==============================] - 1s 32ms/step - loss: 4393.1709\n",
      "Epoch 358/1000\n",
      " 6/25 [======>.......................] - ETA: 0s - loss: 4391.4355"
     ]
    },
    {
     "name": "stderr",
     "output_type": "stream",
     "text": [
      "2023-12-14 23:34:55.172922: I tensorflow/core/framework/local_rendezvous.cc:421] Local rendezvous recv item cancelled. Key hash: 5640187878637657889\n"
     ]
    },
    {
     "name": "stdout",
     "output_type": "stream",
     "text": [
      "25/25 [==============================] - 1s 32ms/step - loss: 4384.8350\n",
      "Epoch 359/1000\n",
      " 6/25 [======>.......................] - ETA: 0s - loss: 4383.1040"
     ]
    },
    {
     "name": "stderr",
     "output_type": "stream",
     "text": [
      "2023-12-14 23:34:56.006743: I tensorflow/core/framework/local_rendezvous.cc:421] Local rendezvous recv item cancelled. Key hash: 5640187878637657889\n"
     ]
    },
    {
     "name": "stdout",
     "output_type": "stream",
     "text": [
      "25/25 [==============================] - 1s 32ms/step - loss: 4376.5234\n",
      "Epoch 360/1000\n",
      " 6/25 [======>.......................] - ETA: 0s - loss: 4374.7930"
     ]
    },
    {
     "name": "stderr",
     "output_type": "stream",
     "text": [
      "2023-12-14 23:34:56.839480: I tensorflow/core/framework/local_rendezvous.cc:421] Local rendezvous recv item cancelled. Key hash: 5640187878637657889\n"
     ]
    },
    {
     "name": "stdout",
     "output_type": "stream",
     "text": [
      "25/25 [==============================] - 1s 32ms/step - loss: 4368.2446\n",
      "Epoch 361/1000\n",
      " 4/25 [===>..........................] - ETA: 0s - loss: 4367.2158"
     ]
    },
    {
     "name": "stderr",
     "output_type": "stream",
     "text": [
      "2023-12-14 23:34:57.675872: I tensorflow/core/framework/local_rendezvous.cc:421] Local rendezvous recv item cancelled. Key hash: 5640187878637657889\n"
     ]
    },
    {
     "name": "stdout",
     "output_type": "stream",
     "text": [
      "25/25 [==============================] - 1s 33ms/step - loss: 4360.0059\n",
      "Epoch 362/1000\n",
      " 4/25 [===>..........................] - ETA: 0s - loss: 4358.9844"
     ]
    },
    {
     "name": "stderr",
     "output_type": "stream",
     "text": [
      "2023-12-14 23:34:58.560488: I tensorflow/core/framework/local_rendezvous.cc:421] Local rendezvous recv item cancelled. Key hash: 5640187878637657889\n"
     ]
    },
    {
     "name": "stdout",
     "output_type": "stream",
     "text": [
      "25/25 [==============================] - 1s 33ms/step - loss: 4351.7979\n",
      "Epoch 363/1000\n",
      " 4/25 [===>..........................] - ETA: 0s - loss: 4350.7656"
     ]
    },
    {
     "name": "stderr",
     "output_type": "stream",
     "text": [
      "2023-12-14 23:34:59.440522: I tensorflow/core/framework/local_rendezvous.cc:421] Local rendezvous recv item cancelled. Key hash: 5640187878637657889\n"
     ]
    },
    {
     "name": "stdout",
     "output_type": "stream",
     "text": [
      "25/25 [==============================] - 1s 33ms/step - loss: 4343.6187\n",
      "Epoch 364/1000\n",
      " 4/25 [===>..........................] - ETA: 0s - loss: 4342.6001"
     ]
    },
    {
     "name": "stderr",
     "output_type": "stream",
     "text": [
      "2023-12-14 23:35:00.307610: I tensorflow/core/framework/local_rendezvous.cc:421] Local rendezvous recv item cancelled. Key hash: 5640187878637657889\n"
     ]
    },
    {
     "name": "stdout",
     "output_type": "stream",
     "text": [
      "25/25 [==============================] - 1s 32ms/step - loss: 4335.4888\n",
      "Epoch 365/1000\n",
      " 4/25 [===>..........................] - ETA: 0s - loss: 4334.4751"
     ]
    },
    {
     "name": "stderr",
     "output_type": "stream",
     "text": [
      "2023-12-14 23:35:01.189967: I tensorflow/core/framework/local_rendezvous.cc:421] Local rendezvous recv item cancelled. Key hash: 5640187878637657889\n"
     ]
    },
    {
     "name": "stdout",
     "output_type": "stream",
     "text": [
      "25/25 [==============================] - 1s 33ms/step - loss: 4327.4082\n",
      "Epoch 366/1000\n",
      " 4/25 [===>..........................] - ETA: 0s - loss: 4326.3936"
     ]
    },
    {
     "name": "stderr",
     "output_type": "stream",
     "text": [
      "2023-12-14 23:35:02.075131: I tensorflow/core/framework/local_rendezvous.cc:421] Local rendezvous recv item cancelled. Key hash: 5640187878637657889\n"
     ]
    },
    {
     "name": "stdout",
     "output_type": "stream",
     "text": [
      "25/25 [==============================] - 1s 32ms/step - loss: 4319.3384\n",
      "Epoch 367/1000\n",
      " 4/25 [===>..........................] - ETA: 0s - loss: 4318.3369"
     ]
    },
    {
     "name": "stderr",
     "output_type": "stream",
     "text": [
      "2023-12-14 23:35:02.956511: I tensorflow/core/framework/local_rendezvous.cc:421] Local rendezvous recv item cancelled. Key hash: 5640187878637657889\n"
     ]
    },
    {
     "name": "stdout",
     "output_type": "stream",
     "text": [
      "25/25 [==============================] - 1s 32ms/step - loss: 4311.2998\n",
      "Epoch 368/1000\n",
      " 6/25 [======>.......................] - ETA: 0s - loss: 4309.6367"
     ]
    },
    {
     "name": "stderr",
     "output_type": "stream",
     "text": [
      "2023-12-14 23:35:03.823742: I tensorflow/core/framework/local_rendezvous.cc:421] Local rendezvous recv item cancelled. Key hash: 5640187878637657889\n"
     ]
    },
    {
     "name": "stdout",
     "output_type": "stream",
     "text": [
      "25/25 [==============================] - 1s 32ms/step - loss: 4303.3213\n",
      "Epoch 369/1000\n",
      " 6/25 [======>.......................] - ETA: 0s - loss: 4301.6650"
     ]
    },
    {
     "name": "stderr",
     "output_type": "stream",
     "text": [
      "2023-12-14 23:35:04.651227: I tensorflow/core/framework/local_rendezvous.cc:421] Local rendezvous recv item cancelled. Key hash: 5640187878637657889\n"
     ]
    },
    {
     "name": "stdout",
     "output_type": "stream",
     "text": [
      "25/25 [==============================] - 1s 31ms/step - loss: 4295.3672\n",
      "Epoch 370/1000\n",
      " 6/25 [======>.......................] - ETA: 0s - loss: 4293.7183"
     ]
    },
    {
     "name": "stderr",
     "output_type": "stream",
     "text": [
      "2023-12-14 23:35:05.449009: I tensorflow/core/framework/local_rendezvous.cc:421] Local rendezvous recv item cancelled. Key hash: 5640187878637657889\n"
     ]
    },
    {
     "name": "stdout",
     "output_type": "stream",
     "text": [
      "25/25 [==============================] - 1s 31ms/step - loss: 4287.4614\n",
      "Epoch 371/1000\n",
      " 6/25 [======>.......................] - ETA: 0s - loss: 4285.8125"
     ]
    },
    {
     "name": "stderr",
     "output_type": "stream",
     "text": [
      "2023-12-14 23:35:06.258234: I tensorflow/core/framework/local_rendezvous.cc:421] Local rendezvous recv item cancelled. Key hash: 5640187878637657889\n"
     ]
    },
    {
     "name": "stdout",
     "output_type": "stream",
     "text": [
      "25/25 [==============================] - 1s 31ms/step - loss: 4279.5752\n",
      "Epoch 372/1000\n",
      " 6/25 [======>.......................] - ETA: 0s - loss: 4277.9492"
     ]
    },
    {
     "name": "stderr",
     "output_type": "stream",
     "text": [
      "2023-12-14 23:35:07.072698: I tensorflow/core/framework/local_rendezvous.cc:421] Local rendezvous recv item cancelled. Key hash: 5640187878637657889\n"
     ]
    },
    {
     "name": "stdout",
     "output_type": "stream",
     "text": [
      "25/25 [==============================] - 1s 31ms/step - loss: 4271.7212\n",
      "Epoch 373/1000\n",
      " 6/25 [======>.......................] - ETA: 0s - loss: 4270.1001"
     ]
    },
    {
     "name": "stderr",
     "output_type": "stream",
     "text": [
      "2023-12-14 23:35:07.869124: I tensorflow/core/framework/local_rendezvous.cc:421] Local rendezvous recv item cancelled. Key hash: 5640187878637657889\n"
     ]
    },
    {
     "name": "stdout",
     "output_type": "stream",
     "text": [
      "25/25 [==============================] - 1s 31ms/step - loss: 4263.9321\n",
      "Epoch 374/1000\n",
      " 6/25 [======>.......................] - ETA: 0s - loss: 4262.3052"
     ]
    },
    {
     "name": "stderr",
     "output_type": "stream",
     "text": [
      "2023-12-14 23:35:08.668061: I tensorflow/core/framework/local_rendezvous.cc:421] Local rendezvous recv item cancelled. Key hash: 5640187878637657889\n"
     ]
    },
    {
     "name": "stdout",
     "output_type": "stream",
     "text": [
      "25/25 [==============================] - 1s 31ms/step - loss: 4256.1294\n",
      "Epoch 375/1000\n",
      " 6/25 [======>.......................] - ETA: 0s - loss: 4254.5171"
     ]
    },
    {
     "name": "stderr",
     "output_type": "stream",
     "text": [
      "2023-12-14 23:35:09.463863: I tensorflow/core/framework/local_rendezvous.cc:421] Local rendezvous recv item cancelled. Key hash: 5640187878637657889\n"
     ]
    },
    {
     "name": "stdout",
     "output_type": "stream",
     "text": [
      "25/25 [==============================] - 1s 31ms/step - loss: 4248.4038\n",
      "Epoch 376/1000\n",
      "25/25 [==============================] - 1s 31ms/step - loss: 4240.6714\n",
      "Epoch 377/1000\n",
      " 6/25 [======>.......................] - ETA: 0s - loss: 4239.0762"
     ]
    },
    {
     "name": "stderr",
     "output_type": "stream",
     "text": [
      "2023-12-14 23:35:11.061740: I tensorflow/core/framework/local_rendezvous.cc:421] Local rendezvous recv item cancelled. Key hash: 5640187878637657889\n"
     ]
    },
    {
     "name": "stdout",
     "output_type": "stream",
     "text": [
      "25/25 [==============================] - 1s 30ms/step - loss: 4232.9932\n",
      "Epoch 378/1000\n",
      " 6/25 [======>.......................] - ETA: 0s - loss: 4231.4023"
     ]
    },
    {
     "name": "stderr",
     "output_type": "stream",
     "text": [
      "2023-12-14 23:35:11.849892: I tensorflow/core/framework/local_rendezvous.cc:421] Local rendezvous recv item cancelled. Key hash: 5640187878637657889\n"
     ]
    },
    {
     "name": "stdout",
     "output_type": "stream",
     "text": [
      "25/25 [==============================] - 1s 31ms/step - loss: 4225.3550\n",
      "Epoch 379/1000\n",
      " 6/25 [======>.......................] - ETA: 0s - loss: 4223.7646"
     ]
    },
    {
     "name": "stderr",
     "output_type": "stream",
     "text": [
      "2023-12-14 23:35:12.652676: I tensorflow/core/framework/local_rendezvous.cc:421] Local rendezvous recv item cancelled. Key hash: 5640187878637657889\n"
     ]
    },
    {
     "name": "stdout",
     "output_type": "stream",
     "text": [
      "25/25 [==============================] - 1s 32ms/step - loss: 4217.7539\n",
      "Epoch 380/1000\n",
      " 4/25 [===>..........................] - ETA: 0s - loss: 4216.8037"
     ]
    },
    {
     "name": "stderr",
     "output_type": "stream",
     "text": [
      "2023-12-14 23:35:13.488994: I tensorflow/core/framework/local_rendezvous.cc:421] Local rendezvous recv item cancelled. Key hash: 5640187878637657889\n"
     ]
    },
    {
     "name": "stdout",
     "output_type": "stream",
     "text": [
      "25/25 [==============================] - 1s 32ms/step - loss: 4210.1841\n",
      "Epoch 381/1000\n",
      " 4/25 [===>..........................] - ETA: 0s - loss: 4209.2339"
     ]
    },
    {
     "name": "stderr",
     "output_type": "stream",
     "text": [
      "2023-12-14 23:35:14.324964: I tensorflow/core/framework/local_rendezvous.cc:421] Local rendezvous recv item cancelled. Key hash: 5640187878637657889\n"
     ]
    },
    {
     "name": "stdout",
     "output_type": "stream",
     "text": [
      "25/25 [==============================] - 1s 33ms/step - loss: 4202.6367\n",
      "Epoch 382/1000\n",
      " 6/25 [======>.......................] - ETA: 0s - loss: 4201.0601"
     ]
    },
    {
     "name": "stderr",
     "output_type": "stream",
     "text": [
      "2023-12-14 23:35:15.173438: I tensorflow/core/framework/local_rendezvous.cc:421] Local rendezvous recv item cancelled. Key hash: 5640187878637657889\n"
     ]
    },
    {
     "name": "stdout",
     "output_type": "stream",
     "text": [
      "25/25 [==============================] - 1s 32ms/step - loss: 4195.1289\n",
      "Epoch 383/1000\n",
      " 6/25 [======>.......................] - ETA: 0s - loss: 4193.5718"
     ]
    },
    {
     "name": "stderr",
     "output_type": "stream",
     "text": [
      "2023-12-14 23:35:16.007476: I tensorflow/core/framework/local_rendezvous.cc:421] Local rendezvous recv item cancelled. Key hash: 5640187878637657889\n"
     ]
    },
    {
     "name": "stdout",
     "output_type": "stream",
     "text": [
      "25/25 [==============================] - 1s 32ms/step - loss: 4187.6421\n",
      "Epoch 384/1000\n",
      " 4/25 [===>..........................] - ETA: 0s - loss: 4186.7041"
     ]
    },
    {
     "name": "stderr",
     "output_type": "stream",
     "text": [
      "2023-12-14 23:35:16.841713: I tensorflow/core/framework/local_rendezvous.cc:421] Local rendezvous recv item cancelled. Key hash: 5640187878637657889\n"
     ]
    },
    {
     "name": "stdout",
     "output_type": "stream",
     "text": [
      "25/25 [==============================] - 1s 32ms/step - loss: 4180.1958\n",
      "Epoch 385/1000\n",
      " 6/25 [======>.......................] - ETA: 0s - loss: 4178.6421"
     ]
    },
    {
     "name": "stderr",
     "output_type": "stream",
     "text": [
      "2023-12-14 23:35:17.680641: I tensorflow/core/framework/local_rendezvous.cc:421] Local rendezvous recv item cancelled. Key hash: 5640187878637657889\n"
     ]
    },
    {
     "name": "stdout",
     "output_type": "stream",
     "text": [
      "25/25 [==============================] - 1s 32ms/step - loss: 4172.7676\n",
      "Epoch 386/1000\n",
      " 6/25 [======>.......................] - ETA: 0s - loss: 4171.2344"
     ]
    },
    {
     "name": "stderr",
     "output_type": "stream",
     "text": [
      "2023-12-14 23:35:18.510086: I tensorflow/core/framework/local_rendezvous.cc:421] Local rendezvous recv item cancelled. Key hash: 5640187878637657889\n"
     ]
    },
    {
     "name": "stdout",
     "output_type": "stream",
     "text": [
      "25/25 [==============================] - 1s 33ms/step - loss: 4165.3896\n",
      "Epoch 387/1000\n",
      " 4/25 [===>..........................] - ETA: 0s - loss: 4164.4673"
     ]
    },
    {
     "name": "stderr",
     "output_type": "stream",
     "text": [
      "2023-12-14 23:35:19.354418: I tensorflow/core/framework/local_rendezvous.cc:421] Local rendezvous recv item cancelled. Key hash: 5640187878637657889\n"
     ]
    },
    {
     "name": "stdout",
     "output_type": "stream",
     "text": [
      "25/25 [==============================] - 1s 33ms/step - loss: 4158.0166\n",
      "Epoch 388/1000\n",
      " 6/25 [======>.......................] - ETA: 0s - loss: 4156.4814"
     ]
    },
    {
     "name": "stderr",
     "output_type": "stream",
     "text": [
      "2023-12-14 23:35:20.207569: I tensorflow/core/framework/local_rendezvous.cc:421] Local rendezvous recv item cancelled. Key hash: 5640187878637657889\n"
     ]
    },
    {
     "name": "stdout",
     "output_type": "stream",
     "text": [
      "25/25 [==============================] - 1s 33ms/step - loss: 4150.6694\n",
      "Epoch 389/1000\n",
      " 4/25 [===>..........................] - ETA: 0s - loss: 4149.7505"
     ]
    },
    {
     "name": "stderr",
     "output_type": "stream",
     "text": [
      "2023-12-14 23:35:21.051056: I tensorflow/core/framework/local_rendezvous.cc:421] Local rendezvous recv item cancelled. Key hash: 5640187878637657889\n"
     ]
    },
    {
     "name": "stdout",
     "output_type": "stream",
     "text": [
      "25/25 [==============================] - 1s 33ms/step - loss: 4143.3618\n",
      "Epoch 390/1000\n",
      " 6/25 [======>.......................] - ETA: 0s - loss: 4141.8452"
     ]
    },
    {
     "name": "stderr",
     "output_type": "stream",
     "text": [
      "2023-12-14 23:35:21.896689: I tensorflow/core/framework/local_rendezvous.cc:421] Local rendezvous recv item cancelled. Key hash: 5640187878637657889\n"
     ]
    },
    {
     "name": "stdout",
     "output_type": "stream",
     "text": [
      "25/25 [==============================] - 1s 33ms/step - loss: 4136.0918\n",
      "Epoch 391/1000\n",
      " 4/25 [===>..........................] - ETA: 0s - loss: 4135.1855"
     ]
    },
    {
     "name": "stderr",
     "output_type": "stream",
     "text": [
      "2023-12-14 23:35:22.741066: I tensorflow/core/framework/local_rendezvous.cc:421] Local rendezvous recv item cancelled. Key hash: 5640187878637657889\n"
     ]
    },
    {
     "name": "stdout",
     "output_type": "stream",
     "text": [
      "25/25 [==============================] - 1s 33ms/step - loss: 4128.8555\n",
      "Epoch 392/1000\n",
      " 4/25 [===>..........................] - ETA: 0s - loss: 4127.9541"
     ]
    },
    {
     "name": "stderr",
     "output_type": "stream",
     "text": [
      "2023-12-14 23:35:23.591396: I tensorflow/core/framework/local_rendezvous.cc:421] Local rendezvous recv item cancelled. Key hash: 5640187878637657889\n"
     ]
    },
    {
     "name": "stdout",
     "output_type": "stream",
     "text": [
      "25/25 [==============================] - 1s 32ms/step - loss: 4121.6357\n",
      "Epoch 393/1000\n",
      " 6/25 [======>.......................] - ETA: 0s - loss: 4120.1318"
     ]
    },
    {
     "name": "stderr",
     "output_type": "stream",
     "text": [
      "2023-12-14 23:35:24.427429: I tensorflow/core/framework/local_rendezvous.cc:421] Local rendezvous recv item cancelled. Key hash: 5640187878637657889\n"
     ]
    },
    {
     "name": "stdout",
     "output_type": "stream",
     "text": [
      "25/25 [==============================] - 1s 32ms/step - loss: 4114.4526\n",
      "Epoch 394/1000\n",
      " 4/25 [===>..........................] - ETA: 0s - loss: 4113.5503"
     ]
    },
    {
     "name": "stderr",
     "output_type": "stream",
     "text": [
      "2023-12-14 23:35:25.266294: I tensorflow/core/framework/local_rendezvous.cc:421] Local rendezvous recv item cancelled. Key hash: 5640187878637657889\n"
     ]
    },
    {
     "name": "stdout",
     "output_type": "stream",
     "text": [
      "25/25 [==============================] - 1s 33ms/step - loss: 4107.2759\n",
      "Epoch 395/1000\n",
      " 6/25 [======>.......................] - ETA: 0s - loss: 4105.7949"
     ]
    },
    {
     "name": "stderr",
     "output_type": "stream",
     "text": [
      "2023-12-14 23:35:26.112877: I tensorflow/core/framework/local_rendezvous.cc:421] Local rendezvous recv item cancelled. Key hash: 5640187878637657889\n"
     ]
    },
    {
     "name": "stdout",
     "output_type": "stream",
     "text": [
      "25/25 [==============================] - 1s 32ms/step - loss: 4100.1504\n",
      "Epoch 396/1000\n",
      " 4/25 [===>..........................] - ETA: 0s - loss: 4099.2646"
     ]
    },
    {
     "name": "stderr",
     "output_type": "stream",
     "text": [
      "2023-12-14 23:35:26.945289: I tensorflow/core/framework/local_rendezvous.cc:421] Local rendezvous recv item cancelled. Key hash: 5640187878637657889\n"
     ]
    },
    {
     "name": "stdout",
     "output_type": "stream",
     "text": [
      "25/25 [==============================] - 1s 33ms/step - loss: 4093.0496\n",
      "Epoch 397/1000\n",
      " 6/25 [======>.......................] - ETA: 0s - loss: 4091.5735"
     ]
    },
    {
     "name": "stderr",
     "output_type": "stream",
     "text": [
      "2023-12-14 23:35:27.794576: I tensorflow/core/framework/local_rendezvous.cc:421] Local rendezvous recv item cancelled. Key hash: 5640187878637657889\n"
     ]
    },
    {
     "name": "stdout",
     "output_type": "stream",
     "text": [
      "25/25 [==============================] - 1s 33ms/step - loss: 4085.9844\n",
      "Epoch 398/1000\n",
      " 6/25 [======>.......................] - ETA: 0s - loss: 4084.5156"
     ]
    },
    {
     "name": "stderr",
     "output_type": "stream",
     "text": [
      "2023-12-14 23:35:28.640319: I tensorflow/core/framework/local_rendezvous.cc:421] Local rendezvous recv item cancelled. Key hash: 5640187878637657889\n"
     ]
    },
    {
     "name": "stdout",
     "output_type": "stream",
     "text": [
      "25/25 [==============================] - 1s 33ms/step - loss: 4078.9539\n",
      "Epoch 399/1000\n",
      " 4/25 [===>..........................] - ETA: 0s - loss: 4078.0681"
     ]
    },
    {
     "name": "stderr",
     "output_type": "stream",
     "text": [
      "2023-12-14 23:35:29.481493: I tensorflow/core/framework/local_rendezvous.cc:421] Local rendezvous recv item cancelled. Key hash: 5640187878637657889\n"
     ]
    },
    {
     "name": "stdout",
     "output_type": "stream",
     "text": [
      "25/25 [==============================] - 1s 32ms/step - loss: 4071.9487\n",
      "Epoch 400/1000\n",
      " 4/25 [===>..........................] - ETA: 0s - loss: 4071.0801"
     ]
    },
    {
     "name": "stderr",
     "output_type": "stream",
     "text": [
      "2023-12-14 23:35:30.324423: I tensorflow/core/framework/local_rendezvous.cc:421] Local rendezvous recv item cancelled. Key hash: 5640187878637657889\n"
     ]
    },
    {
     "name": "stdout",
     "output_type": "stream",
     "text": [
      "25/25 [==============================] - 1s 32ms/step - loss: 4064.9705\n",
      "Epoch 401/1000\n",
      " 4/25 [===>..........................] - ETA: 0s - loss: 4064.1003"
     ]
    },
    {
     "name": "stderr",
     "output_type": "stream",
     "text": [
      "2023-12-14 23:35:31.162405: I tensorflow/core/framework/local_rendezvous.cc:421] Local rendezvous recv item cancelled. Key hash: 5640187878637657889\n"
     ]
    },
    {
     "name": "stdout",
     "output_type": "stream",
     "text": [
      "25/25 [==============================] - 1s 33ms/step - loss: 4058.0200\n",
      "Epoch 402/1000\n",
      " 6/25 [======>.......................] - ETA: 0s - loss: 4056.5852"
     ]
    },
    {
     "name": "stderr",
     "output_type": "stream",
     "text": [
      "2023-12-14 23:35:32.010907: I tensorflow/core/framework/local_rendezvous.cc:421] Local rendezvous recv item cancelled. Key hash: 5640187878637657889\n"
     ]
    },
    {
     "name": "stdout",
     "output_type": "stream",
     "text": [
      "25/25 [==============================] - 1s 32ms/step - loss: 4051.1082\n",
      "Epoch 403/1000\n",
      " 4/25 [===>..........................] - ETA: 0s - loss: 4050.2502"
     ]
    },
    {
     "name": "stderr",
     "output_type": "stream",
     "text": [
      "2023-12-14 23:35:32.849421: I tensorflow/core/framework/local_rendezvous.cc:421] Local rendezvous recv item cancelled. Key hash: 5640187878637657889\n"
     ]
    },
    {
     "name": "stdout",
     "output_type": "stream",
     "text": [
      "25/25 [==============================] - 1s 33ms/step - loss: 4044.2146\n",
      "Epoch 404/1000\n",
      " 4/25 [===>..........................] - ETA: 0s - loss: 4043.3508"
     ]
    },
    {
     "name": "stderr",
     "output_type": "stream",
     "text": [
      "2023-12-14 23:35:33.694714: I tensorflow/core/framework/local_rendezvous.cc:421] Local rendezvous recv item cancelled. Key hash: 5640187878637657889\n"
     ]
    },
    {
     "name": "stdout",
     "output_type": "stream",
     "text": [
      "25/25 [==============================] - 1s 33ms/step - loss: 4037.3284\n",
      "Epoch 405/1000\n",
      " 4/25 [===>..........................] - ETA: 0s - loss: 4036.4771"
     ]
    },
    {
     "name": "stderr",
     "output_type": "stream",
     "text": [
      "2023-12-14 23:35:34.541117: I tensorflow/core/framework/local_rendezvous.cc:421] Local rendezvous recv item cancelled. Key hash: 5640187878637657889\n"
     ]
    },
    {
     "name": "stdout",
     "output_type": "stream",
     "text": [
      "25/25 [==============================] - 1s 32ms/step - loss: 4030.4893\n",
      "Epoch 406/1000\n",
      " 4/25 [===>..........................] - ETA: 0s - loss: 4029.6299"
     ]
    },
    {
     "name": "stderr",
     "output_type": "stream",
     "text": [
      "2023-12-14 23:35:35.377862: I tensorflow/core/framework/local_rendezvous.cc:421] Local rendezvous recv item cancelled. Key hash: 5640187878637657889\n"
     ]
    },
    {
     "name": "stdout",
     "output_type": "stream",
     "text": [
      "25/25 [==============================] - 1s 33ms/step - loss: 4023.6675\n",
      "Epoch 407/1000\n",
      " 6/25 [======>.......................] - ETA: 0s - loss: 4022.2505"
     ]
    },
    {
     "name": "stderr",
     "output_type": "stream",
     "text": [
      "2023-12-14 23:35:36.223978: I tensorflow/core/framework/local_rendezvous.cc:421] Local rendezvous recv item cancelled. Key hash: 5640187878637657889\n"
     ]
    },
    {
     "name": "stdout",
     "output_type": "stream",
     "text": [
      "25/25 [==============================] - 1s 32ms/step - loss: 4016.8599\n",
      "Epoch 408/1000\n",
      " 4/25 [===>..........................] - ETA: 0s - loss: 4016.0164"
     ]
    },
    {
     "name": "stderr",
     "output_type": "stream",
     "text": [
      "2023-12-14 23:35:37.057118: I tensorflow/core/framework/local_rendezvous.cc:421] Local rendezvous recv item cancelled. Key hash: 5640187878637657889\n"
     ]
    },
    {
     "name": "stdout",
     "output_type": "stream",
     "text": [
      "25/25 [==============================] - 1s 32ms/step - loss: 4010.0874\n",
      "Epoch 409/1000\n",
      " 6/25 [======>.......................] - ETA: 0s - loss: 4008.6807"
     ]
    },
    {
     "name": "stderr",
     "output_type": "stream",
     "text": [
      "2023-12-14 23:35:37.893747: I tensorflow/core/framework/local_rendezvous.cc:421] Local rendezvous recv item cancelled. Key hash: 5640187878637657889\n"
     ]
    },
    {
     "name": "stdout",
     "output_type": "stream",
     "text": [
      "25/25 [==============================] - 1s 32ms/step - loss: 4003.3472\n",
      "Epoch 410/1000\n",
      " 6/25 [======>.......................] - ETA: 0s - loss: 4001.9453"
     ]
    },
    {
     "name": "stderr",
     "output_type": "stream",
     "text": [
      "2023-12-14 23:35:38.726267: I tensorflow/core/framework/local_rendezvous.cc:421] Local rendezvous recv item cancelled. Key hash: 5640187878637657889\n"
     ]
    },
    {
     "name": "stdout",
     "output_type": "stream",
     "text": [
      "25/25 [==============================] - 1s 32ms/step - loss: 3996.6450\n",
      "Epoch 411/1000\n",
      " 6/25 [======>.......................] - ETA: 0s - loss: 3995.2605"
     ]
    },
    {
     "name": "stderr",
     "output_type": "stream",
     "text": [
      "2023-12-14 23:35:39.560081: I tensorflow/core/framework/local_rendezvous.cc:421] Local rendezvous recv item cancelled. Key hash: 5640187878637657889\n"
     ]
    },
    {
     "name": "stdout",
     "output_type": "stream",
     "text": [
      "25/25 [==============================] - 1s 32ms/step - loss: 3989.9717\n",
      "Epoch 412/1000\n",
      " 4/25 [===>..........................] - ETA: 0s - loss: 3989.1350"
     ]
    },
    {
     "name": "stderr",
     "output_type": "stream",
     "text": [
      "2023-12-14 23:35:40.390992: I tensorflow/core/framework/local_rendezvous.cc:421] Local rendezvous recv item cancelled. Key hash: 5640187878637657889\n"
     ]
    },
    {
     "name": "stdout",
     "output_type": "stream",
     "text": [
      "25/25 [==============================] - 1s 32ms/step - loss: 3983.3022\n",
      "Epoch 413/1000\n",
      " 6/25 [======>.......................] - ETA: 0s - loss: 3981.9185"
     ]
    },
    {
     "name": "stderr",
     "output_type": "stream",
     "text": [
      "2023-12-14 23:35:41.225064: I tensorflow/core/framework/local_rendezvous.cc:421] Local rendezvous recv item cancelled. Key hash: 5640187878637657889\n"
     ]
    },
    {
     "name": "stdout",
     "output_type": "stream",
     "text": [
      "25/25 [==============================] - 1s 32ms/step - loss: 3976.6865\n",
      "Epoch 414/1000\n",
      " 6/25 [======>.......................] - ETA: 0s - loss: 3975.3059"
     ]
    },
    {
     "name": "stderr",
     "output_type": "stream",
     "text": [
      "2023-12-14 23:35:42.057423: I tensorflow/core/framework/local_rendezvous.cc:421] Local rendezvous recv item cancelled. Key hash: 5640187878637657889\n"
     ]
    },
    {
     "name": "stdout",
     "output_type": "stream",
     "text": [
      "25/25 [==============================] - 1s 32ms/step - loss: 3970.0793\n",
      "Epoch 415/1000\n",
      " 4/25 [===>..........................] - ETA: 0s - loss: 3969.2529"
     ]
    },
    {
     "name": "stderr",
     "output_type": "stream",
     "text": [
      "2023-12-14 23:35:42.889787: I tensorflow/core/framework/local_rendezvous.cc:421] Local rendezvous recv item cancelled. Key hash: 5640187878637657889\n"
     ]
    },
    {
     "name": "stdout",
     "output_type": "stream",
     "text": [
      "25/25 [==============================] - 1s 32ms/step - loss: 3963.4875\n",
      "Epoch 416/1000\n",
      " 4/25 [===>..........................] - ETA: 0s - loss: 3962.6619"
     ]
    },
    {
     "name": "stderr",
     "output_type": "stream",
     "text": [
      "2023-12-14 23:35:43.726543: I tensorflow/core/framework/local_rendezvous.cc:421] Local rendezvous recv item cancelled. Key hash: 5640187878637657889\n"
     ]
    },
    {
     "name": "stdout",
     "output_type": "stream",
     "text": [
      "25/25 [==============================] - 1s 32ms/step - loss: 3956.9219\n",
      "Epoch 417/1000\n",
      " 6/25 [======>.......................] - ETA: 0s - loss: 3955.5667"
     ]
    },
    {
     "name": "stderr",
     "output_type": "stream",
     "text": [
      "2023-12-14 23:35:44.556999: I tensorflow/core/framework/local_rendezvous.cc:421] Local rendezvous recv item cancelled. Key hash: 5640187878637657889\n"
     ]
    },
    {
     "name": "stdout",
     "output_type": "stream",
     "text": [
      "25/25 [==============================] - 1s 32ms/step - loss: 3950.3970\n",
      "Epoch 418/1000\n",
      " 4/25 [===>..........................] - ETA: 0s - loss: 3949.5879"
     ]
    },
    {
     "name": "stderr",
     "output_type": "stream",
     "text": [
      "2023-12-14 23:35:45.389251: I tensorflow/core/framework/local_rendezvous.cc:421] Local rendezvous recv item cancelled. Key hash: 5640187878637657889\n"
     ]
    },
    {
     "name": "stdout",
     "output_type": "stream",
     "text": [
      "25/25 [==============================] - 1s 32ms/step - loss: 3943.8943\n",
      "Epoch 419/1000\n",
      " 6/25 [======>.......................] - ETA: 0s - loss: 3942.5378"
     ]
    },
    {
     "name": "stderr",
     "output_type": "stream",
     "text": [
      "2023-12-14 23:35:46.240780: I tensorflow/core/framework/local_rendezvous.cc:421] Local rendezvous recv item cancelled. Key hash: 5640187878637657889\n"
     ]
    },
    {
     "name": "stdout",
     "output_type": "stream",
     "text": [
      "25/25 [==============================] - 1s 32ms/step - loss: 3937.3938\n",
      "Epoch 420/1000\n",
      " 4/25 [===>..........................] - ETA: 0s - loss: 3936.5901"
     ]
    },
    {
     "name": "stderr",
     "output_type": "stream",
     "text": [
      "2023-12-14 23:35:47.073360: I tensorflow/core/framework/local_rendezvous.cc:421] Local rendezvous recv item cancelled. Key hash: 5640187878637657889\n"
     ]
    },
    {
     "name": "stdout",
     "output_type": "stream",
     "text": [
      "25/25 [==============================] - 1s 32ms/step - loss: 3930.9348\n",
      "Epoch 421/1000\n",
      " 6/25 [======>.......................] - ETA: 0s - loss: 3929.5977"
     ]
    },
    {
     "name": "stderr",
     "output_type": "stream",
     "text": [
      "2023-12-14 23:35:47.907034: I tensorflow/core/framework/local_rendezvous.cc:421] Local rendezvous recv item cancelled. Key hash: 5640187878637657889\n"
     ]
    },
    {
     "name": "stdout",
     "output_type": "stream",
     "text": [
      "25/25 [==============================] - 1s 32ms/step - loss: 3924.5120\n",
      "Epoch 422/1000\n",
      " 6/25 [======>.......................] - ETA: 0s - loss: 3923.1802"
     ]
    },
    {
     "name": "stderr",
     "output_type": "stream",
     "text": [
      "2023-12-14 23:35:48.742370: I tensorflow/core/framework/local_rendezvous.cc:421] Local rendezvous recv item cancelled. Key hash: 5640187878637657889\n"
     ]
    },
    {
     "name": "stdout",
     "output_type": "stream",
     "text": [
      "25/25 [==============================] - 1s 32ms/step - loss: 3918.1150\n",
      "Epoch 423/1000\n",
      " 6/25 [======>.......................] - ETA: 0s - loss: 3916.7847"
     ]
    },
    {
     "name": "stderr",
     "output_type": "stream",
     "text": [
      "2023-12-14 23:35:49.573225: I tensorflow/core/framework/local_rendezvous.cc:421] Local rendezvous recv item cancelled. Key hash: 5640187878637657889\n"
     ]
    },
    {
     "name": "stdout",
     "output_type": "stream",
     "text": [
      "25/25 [==============================] - 1s 32ms/step - loss: 3911.7285\n",
      "Epoch 424/1000\n",
      " 4/25 [===>..........................] - ETA: 0s - loss: 3910.9309"
     ]
    },
    {
     "name": "stderr",
     "output_type": "stream",
     "text": [
      "2023-12-14 23:35:50.407348: I tensorflow/core/framework/local_rendezvous.cc:421] Local rendezvous recv item cancelled. Key hash: 5640187878637657889\n"
     ]
    },
    {
     "name": "stdout",
     "output_type": "stream",
     "text": [
      "25/25 [==============================] - 1s 33ms/step - loss: 3905.3706\n",
      "Epoch 425/1000\n",
      " 4/25 [===>..........................] - ETA: 0s - loss: 3904.5789"
     ]
    },
    {
     "name": "stderr",
     "output_type": "stream",
     "text": [
      "2023-12-14 23:35:51.253968: I tensorflow/core/framework/local_rendezvous.cc:421] Local rendezvous recv item cancelled. Key hash: 5640187878637657889\n"
     ]
    },
    {
     "name": "stdout",
     "output_type": "stream",
     "text": [
      "25/25 [==============================] - 1s 32ms/step - loss: 3899.0400\n",
      "Epoch 426/1000\n",
      " 6/25 [======>.......................] - ETA: 0s - loss: 3897.7278"
     ]
    },
    {
     "name": "stderr",
     "output_type": "stream",
     "text": [
      "2023-12-14 23:35:52.090313: I tensorflow/core/framework/local_rendezvous.cc:421] Local rendezvous recv item cancelled. Key hash: 5640187878637657889\n"
     ]
    },
    {
     "name": "stdout",
     "output_type": "stream",
     "text": [
      "25/25 [==============================] - 1s 32ms/step - loss: 3892.7222\n",
      "Epoch 427/1000\n",
      " 4/25 [===>..........................] - ETA: 0s - loss: 3891.9377"
     ]
    },
    {
     "name": "stderr",
     "output_type": "stream",
     "text": [
      "2023-12-14 23:35:52.923360: I tensorflow/core/framework/local_rendezvous.cc:421] Local rendezvous recv item cancelled. Key hash: 5640187878637657889\n"
     ]
    },
    {
     "name": "stdout",
     "output_type": "stream",
     "text": [
      "25/25 [==============================] - 1s 33ms/step - loss: 3886.4302\n",
      "Epoch 428/1000\n",
      " 4/25 [===>..........................] - ETA: 0s - loss: 3885.6443"
     ]
    },
    {
     "name": "stderr",
     "output_type": "stream",
     "text": [
      "2023-12-14 23:35:53.773399: I tensorflow/core/framework/local_rendezvous.cc:421] Local rendezvous recv item cancelled. Key hash: 5640187878637657889\n"
     ]
    },
    {
     "name": "stdout",
     "output_type": "stream",
     "text": [
      "25/25 [==============================] - 1s 32ms/step - loss: 3880.1453\n",
      "Epoch 429/1000\n",
      " 6/25 [======>.......................] - ETA: 0s - loss: 3878.8494"
     ]
    },
    {
     "name": "stderr",
     "output_type": "stream",
     "text": [
      "2023-12-14 23:35:54.611885: I tensorflow/core/framework/local_rendezvous.cc:421] Local rendezvous recv item cancelled. Key hash: 5640187878637657889\n"
     ]
    },
    {
     "name": "stdout",
     "output_type": "stream",
     "text": [
      "25/25 [==============================] - 1s 32ms/step - loss: 3873.9207\n",
      "Epoch 430/1000\n",
      " 4/25 [===>..........................] - ETA: 0s - loss: 3873.1399"
     ]
    },
    {
     "name": "stderr",
     "output_type": "stream",
     "text": [
      "2023-12-14 23:35:55.440286: I tensorflow/core/framework/local_rendezvous.cc:425] Local rendezvous send item cancelled. Key hash: 7472141119732702058\n",
      "2023-12-14 23:35:55.440311: I tensorflow/core/framework/local_rendezvous.cc:421] Local rendezvous recv item cancelled. Key hash: 5640187878637657889\n"
     ]
    },
    {
     "name": "stdout",
     "output_type": "stream",
     "text": [
      "25/25 [==============================] - 1s 32ms/step - loss: 3867.7197\n",
      "Epoch 431/1000\n",
      " 4/25 [===>..........................] - ETA: 0s - loss: 3866.9512"
     ]
    },
    {
     "name": "stderr",
     "output_type": "stream",
     "text": [
      "2023-12-14 23:35:56.278699: I tensorflow/core/framework/local_rendezvous.cc:421] Local rendezvous recv item cancelled. Key hash: 5640187878637657889\n"
     ]
    },
    {
     "name": "stdout",
     "output_type": "stream",
     "text": [
      "25/25 [==============================] - 1s 33ms/step - loss: 3861.5244\n",
      "Epoch 432/1000\n",
      " 6/25 [======>.......................] - ETA: 0s - loss: 3860.2412"
     ]
    },
    {
     "name": "stderr",
     "output_type": "stream",
     "text": [
      "2023-12-14 23:35:57.124304: I tensorflow/core/framework/local_rendezvous.cc:421] Local rendezvous recv item cancelled. Key hash: 5640187878637657889\n"
     ]
    },
    {
     "name": "stdout",
     "output_type": "stream",
     "text": [
      "25/25 [==============================] - 1s 32ms/step - loss: 3855.3691\n",
      "Epoch 433/1000\n",
      " 4/25 [===>..........................] - ETA: 0s - loss: 3854.6003"
     ]
    },
    {
     "name": "stderr",
     "output_type": "stream",
     "text": [
      "2023-12-14 23:35:57.956634: I tensorflow/core/framework/local_rendezvous.cc:421] Local rendezvous recv item cancelled. Key hash: 5640187878637657889\n"
     ]
    },
    {
     "name": "stdout",
     "output_type": "stream",
     "text": [
      "25/25 [==============================] - 1s 33ms/step - loss: 3849.2170\n",
      "Epoch 434/1000\n",
      " 4/25 [===>..........................] - ETA: 0s - loss: 3848.4456"
     ]
    },
    {
     "name": "stderr",
     "output_type": "stream",
     "text": [
      "2023-12-14 23:35:58.807373: I tensorflow/core/framework/local_rendezvous.cc:421] Local rendezvous recv item cancelled. Key hash: 5640187878637657889\n"
     ]
    },
    {
     "name": "stdout",
     "output_type": "stream",
     "text": [
      "25/25 [==============================] - 1s 32ms/step - loss: 3843.0896\n",
      "Epoch 435/1000\n",
      " 4/25 [===>..........................] - ETA: 0s - loss: 3842.3264"
     ]
    },
    {
     "name": "stderr",
     "output_type": "stream",
     "text": [
      "2023-12-14 23:35:59.644906: I tensorflow/core/framework/local_rendezvous.cc:421] Local rendezvous recv item cancelled. Key hash: 5640187878637657889\n"
     ]
    },
    {
     "name": "stdout",
     "output_type": "stream",
     "text": [
      "25/25 [==============================] - 1s 32ms/step - loss: 3836.9968\n",
      "Epoch 436/1000\n",
      " 6/25 [======>.......................] - ETA: 0s - loss: 3835.7300"
     ]
    },
    {
     "name": "stderr",
     "output_type": "stream",
     "text": [
      "2023-12-14 23:36:00.493279: I tensorflow/core/framework/local_rendezvous.cc:421] Local rendezvous recv item cancelled. Key hash: 5640187878637657889\n"
     ]
    },
    {
     "name": "stdout",
     "output_type": "stream",
     "text": [
      "25/25 [==============================] - 1s 33ms/step - loss: 3830.9224\n",
      "Epoch 437/1000\n",
      " 4/25 [===>..........................] - ETA: 0s - loss: 3830.1633"
     ]
    },
    {
     "name": "stderr",
     "output_type": "stream",
     "text": [
      "2023-12-14 23:36:01.336671: I tensorflow/core/framework/local_rendezvous.cc:421] Local rendezvous recv item cancelled. Key hash: 5640187878637657889\n"
     ]
    },
    {
     "name": "stdout",
     "output_type": "stream",
     "text": [
      "25/25 [==============================] - 1s 33ms/step - loss: 3824.8645\n",
      "Epoch 438/1000\n",
      " 4/25 [===>..........................] - ETA: 0s - loss: 3824.1101"
     ]
    },
    {
     "name": "stderr",
     "output_type": "stream",
     "text": [
      "2023-12-14 23:36:02.203122: I tensorflow/core/framework/local_rendezvous.cc:421] Local rendezvous recv item cancelled. Key hash: 5640187878637657889\n"
     ]
    },
    {
     "name": "stdout",
     "output_type": "stream",
     "text": [
      "25/25 [==============================] - 1s 32ms/step - loss: 3818.8372\n",
      "Epoch 439/1000\n",
      " 4/25 [===>..........................] - ETA: 0s - loss: 3818.0935"
     ]
    },
    {
     "name": "stderr",
     "output_type": "stream",
     "text": [
      "2023-12-14 23:36:03.055560: I tensorflow/core/framework/local_rendezvous.cc:421] Local rendezvous recv item cancelled. Key hash: 5640187878637657889\n"
     ]
    },
    {
     "name": "stdout",
     "output_type": "stream",
     "text": [
      "25/25 [==============================] - 1s 33ms/step - loss: 3812.8435\n",
      "Epoch 440/1000\n",
      " 6/25 [======>.......................] - ETA: 0s - loss: 3811.5967"
     ]
    },
    {
     "name": "stderr",
     "output_type": "stream",
     "text": [
      "2023-12-14 23:36:03.909628: I tensorflow/core/framework/local_rendezvous.cc:421] Local rendezvous recv item cancelled. Key hash: 5640187878637657889\n"
     ]
    },
    {
     "name": "stdout",
     "output_type": "stream",
     "text": [
      "25/25 [==============================] - 1s 32ms/step - loss: 3806.8591\n",
      "Epoch 441/1000\n",
      " 6/25 [======>.......................] - ETA: 0s - loss: 3805.6189"
     ]
    },
    {
     "name": "stderr",
     "output_type": "stream",
     "text": [
      "2023-12-14 23:36:04.744099: I tensorflow/core/framework/local_rendezvous.cc:421] Local rendezvous recv item cancelled. Key hash: 5640187878637657889\n"
     ]
    },
    {
     "name": "stdout",
     "output_type": "stream",
     "text": [
      "25/25 [==============================] - 1s 32ms/step - loss: 3800.9021\n",
      "Epoch 442/1000\n",
      " 4/25 [===>..........................] - ETA: 0s - loss: 3800.1594"
     ]
    },
    {
     "name": "stderr",
     "output_type": "stream",
     "text": [
      "2023-12-14 23:36:05.577785: I tensorflow/core/framework/local_rendezvous.cc:421] Local rendezvous recv item cancelled. Key hash: 5640187878637657889\n"
     ]
    },
    {
     "name": "stdout",
     "output_type": "stream",
     "text": [
      "25/25 [==============================] - 1s 33ms/step - loss: 3794.9812\n",
      "Epoch 443/1000\n",
      " 6/25 [======>.......................] - ETA: 0s - loss: 3793.7495"
     ]
    },
    {
     "name": "stderr",
     "output_type": "stream",
     "text": [
      "2023-12-14 23:36:06.423598: I tensorflow/core/framework/local_rendezvous.cc:421] Local rendezvous recv item cancelled. Key hash: 5640187878637657889\n"
     ]
    },
    {
     "name": "stdout",
     "output_type": "stream",
     "text": [
      "25/25 [==============================] - 1s 32ms/step - loss: 3789.0618\n",
      "Epoch 444/1000\n",
      " 6/25 [======>.......................] - ETA: 0s - loss: 3787.8352"
     ]
    },
    {
     "name": "stderr",
     "output_type": "stream",
     "text": [
      "2023-12-14 23:36:07.257154: I tensorflow/core/framework/local_rendezvous.cc:421] Local rendezvous recv item cancelled. Key hash: 5640187878637657889\n"
     ]
    },
    {
     "name": "stdout",
     "output_type": "stream",
     "text": [
      "25/25 [==============================] - 1s 32ms/step - loss: 3783.1516\n",
      "Epoch 445/1000\n",
      " 4/25 [===>..........................] - ETA: 0s - loss: 3782.4167"
     ]
    },
    {
     "name": "stderr",
     "output_type": "stream",
     "text": [
      "2023-12-14 23:36:08.090130: I tensorflow/core/framework/local_rendezvous.cc:421] Local rendezvous recv item cancelled. Key hash: 5640187878637657889\n"
     ]
    },
    {
     "name": "stdout",
     "output_type": "stream",
     "text": [
      "25/25 [==============================] - 1s 32ms/step - loss: 3777.2756\n",
      "Epoch 446/1000\n",
      " 6/25 [======>.......................] - ETA: 0s - loss: 3776.0540"
     ]
    },
    {
     "name": "stderr",
     "output_type": "stream",
     "text": [
      "2023-12-14 23:36:08.928386: I tensorflow/core/framework/local_rendezvous.cc:421] Local rendezvous recv item cancelled. Key hash: 5640187878637657889\n"
     ]
    },
    {
     "name": "stdout",
     "output_type": "stream",
     "text": [
      "25/25 [==============================] - 1s 33ms/step - loss: 3771.4255\n",
      "Epoch 447/1000\n",
      " 6/25 [======>.......................] - ETA: 0s - loss: 3770.2117"
     ]
    },
    {
     "name": "stderr",
     "output_type": "stream",
     "text": [
      "2023-12-14 23:36:09.771534: I tensorflow/core/framework/local_rendezvous.cc:421] Local rendezvous recv item cancelled. Key hash: 5640187878637657889\n"
     ]
    },
    {
     "name": "stdout",
     "output_type": "stream",
     "text": [
      "25/25 [==============================] - 1s 33ms/step - loss: 3765.6025\n",
      "Epoch 448/1000\n",
      " 4/25 [===>..........................] - ETA: 0s - loss: 3764.8726"
     ]
    },
    {
     "name": "stderr",
     "output_type": "stream",
     "text": [
      "2023-12-14 23:36:10.613373: I tensorflow/core/framework/local_rendezvous.cc:421] Local rendezvous recv item cancelled. Key hash: 5640187878637657889\n"
     ]
    },
    {
     "name": "stdout",
     "output_type": "stream",
     "text": [
      "25/25 [==============================] - 1s 33ms/step - loss: 3759.7847\n",
      "Epoch 449/1000\n",
      " 4/25 [===>..........................] - ETA: 0s - loss: 3759.0671"
     ]
    },
    {
     "name": "stderr",
     "output_type": "stream",
     "text": [
      "2023-12-14 23:36:11.462341: I tensorflow/core/framework/local_rendezvous.cc:421] Local rendezvous recv item cancelled. Key hash: 5640187878637657889\n"
     ]
    },
    {
     "name": "stdout",
     "output_type": "stream",
     "text": [
      "25/25 [==============================] - 1s 33ms/step - loss: 3753.9922\n",
      "Epoch 450/1000\n",
      " 6/25 [======>.......................] - ETA: 0s - loss: 3752.7944"
     ]
    },
    {
     "name": "stderr",
     "output_type": "stream",
     "text": [
      "2023-12-14 23:36:12.312247: I tensorflow/core/framework/local_rendezvous.cc:421] Local rendezvous recv item cancelled. Key hash: 5640187878637657889\n"
     ]
    },
    {
     "name": "stdout",
     "output_type": "stream",
     "text": [
      "25/25 [==============================] - 1s 32ms/step - loss: 3748.2266\n",
      "Epoch 451/1000\n",
      " 4/25 [===>..........................] - ETA: 0s - loss: 3747.5005"
     ]
    },
    {
     "name": "stderr",
     "output_type": "stream",
     "text": [
      "2023-12-14 23:36:13.154289: I tensorflow/core/framework/local_rendezvous.cc:421] Local rendezvous recv item cancelled. Key hash: 5640187878637657889\n"
     ]
    },
    {
     "name": "stdout",
     "output_type": "stream",
     "text": [
      "25/25 [==============================] - 1s 32ms/step - loss: 3742.4668\n",
      "Epoch 452/1000\n",
      " 6/25 [======>.......................] - ETA: 0s - loss: 3741.2673"
     ]
    },
    {
     "name": "stderr",
     "output_type": "stream",
     "text": [
      "2023-12-14 23:36:13.993516: I tensorflow/core/framework/local_rendezvous.cc:421] Local rendezvous recv item cancelled. Key hash: 5640187878637657889\n"
     ]
    },
    {
     "name": "stdout",
     "output_type": "stream",
     "text": [
      "25/25 [==============================] - 1s 32ms/step - loss: 3736.7297\n",
      "Epoch 453/1000\n",
      " 6/25 [======>.......................] - ETA: 0s - loss: 3735.5488"
     ]
    },
    {
     "name": "stderr",
     "output_type": "stream",
     "text": [
      "2023-12-14 23:36:14.828867: I tensorflow/core/framework/local_rendezvous.cc:421] Local rendezvous recv item cancelled. Key hash: 5640187878637657889\n"
     ]
    },
    {
     "name": "stdout",
     "output_type": "stream",
     "text": [
      "25/25 [==============================] - 1s 32ms/step - loss: 3731.0405\n",
      "Epoch 454/1000\n",
      " 4/25 [===>..........................] - ETA: 0s - loss: 3730.3208"
     ]
    },
    {
     "name": "stderr",
     "output_type": "stream",
     "text": [
      "2023-12-14 23:36:15.668390: I tensorflow/core/framework/local_rendezvous.cc:425] Local rendezvous send item cancelled. Key hash: 7472141119732702058\n",
      "2023-12-14 23:36:15.668420: I tensorflow/core/framework/local_rendezvous.cc:421] Local rendezvous recv item cancelled. Key hash: 5640187878637657889\n"
     ]
    },
    {
     "name": "stdout",
     "output_type": "stream",
     "text": [
      "25/25 [==============================] - 1s 32ms/step - loss: 3725.3396\n",
      "Epoch 455/1000\n",
      " 6/25 [======>.......................] - ETA: 0s - loss: 3724.1699"
     ]
    },
    {
     "name": "stderr",
     "output_type": "stream",
     "text": [
      "2023-12-14 23:36:16.507009: I tensorflow/core/framework/local_rendezvous.cc:421] Local rendezvous recv item cancelled. Key hash: 5640187878637657889\n"
     ]
    },
    {
     "name": "stdout",
     "output_type": "stream",
     "text": [
      "25/25 [==============================] - 1s 32ms/step - loss: 3719.7000\n",
      "Epoch 456/1000\n",
      " 4/25 [===>..........................] - ETA: 0s - loss: 3719.0015"
     ]
    },
    {
     "name": "stderr",
     "output_type": "stream",
     "text": [
      "2023-12-14 23:36:17.340360: I tensorflow/core/framework/local_rendezvous.cc:421] Local rendezvous recv item cancelled. Key hash: 5640187878637657889\n"
     ]
    },
    {
     "name": "stdout",
     "output_type": "stream",
     "text": [
      "25/25 [==============================] - 1s 32ms/step - loss: 3714.0771\n",
      "Epoch 457/1000\n",
      " 6/25 [======>.......................] - ETA: 0s - loss: 3712.9053"
     ]
    },
    {
     "name": "stderr",
     "output_type": "stream",
     "text": [
      "2023-12-14 23:36:18.182998: I tensorflow/core/framework/local_rendezvous.cc:421] Local rendezvous recv item cancelled. Key hash: 5640187878637657889\n"
     ]
    },
    {
     "name": "stdout",
     "output_type": "stream",
     "text": [
      "25/25 [==============================] - 1s 33ms/step - loss: 3708.4504\n",
      "Epoch 458/1000\n",
      "25/25 [==============================] - 1s 32ms/step - loss: 3702.8435\n",
      "Epoch 459/1000\n",
      " 4/25 [===>..........................] - ETA: 0s - loss: 3702.1382"
     ]
    },
    {
     "name": "stderr",
     "output_type": "stream",
     "text": [
      "2023-12-14 23:36:19.856845: I tensorflow/core/framework/local_rendezvous.cc:421] Local rendezvous recv item cancelled. Key hash: 5640187878637657889\n"
     ]
    },
    {
     "name": "stdout",
     "output_type": "stream",
     "text": [
      "25/25 [==============================] - 1s 33ms/step - loss: 3697.2390\n",
      "Epoch 460/1000\n",
      " 4/25 [===>..........................] - ETA: 0s - loss: 3696.5415"
     ]
    },
    {
     "name": "stderr",
     "output_type": "stream",
     "text": [
      "2023-12-14 23:36:20.710933: I tensorflow/core/framework/local_rendezvous.cc:421] Local rendezvous recv item cancelled. Key hash: 5640187878637657889\n"
     ]
    },
    {
     "name": "stdout",
     "output_type": "stream",
     "text": [
      "25/25 [==============================] - 1s 32ms/step - loss: 3691.6660\n",
      "Epoch 461/1000\n",
      " 4/25 [===>..........................] - ETA: 0s - loss: 3690.9756"
     ]
    },
    {
     "name": "stderr",
     "output_type": "stream",
     "text": [
      "2023-12-14 23:36:21.547101: I tensorflow/core/framework/local_rendezvous.cc:421] Local rendezvous recv item cancelled. Key hash: 5640187878637657889\n"
     ]
    },
    {
     "name": "stdout",
     "output_type": "stream",
     "text": [
      "25/25 [==============================] - 1s 32ms/step - loss: 3686.1172\n",
      "Epoch 462/1000\n",
      " 4/25 [===>..........................] - ETA: 0s - loss: 3685.4255"
     ]
    },
    {
     "name": "stderr",
     "output_type": "stream",
     "text": [
      "2023-12-14 23:36:22.390615: I tensorflow/core/framework/local_rendezvous.cc:421] Local rendezvous recv item cancelled. Key hash: 5640187878637657889\n"
     ]
    },
    {
     "name": "stdout",
     "output_type": "stream",
     "text": [
      "25/25 [==============================] - 1s 32ms/step - loss: 3680.5920\n",
      "Epoch 463/1000\n",
      " 4/25 [===>..........................] - ETA: 0s - loss: 3679.8994"
     ]
    },
    {
     "name": "stderr",
     "output_type": "stream",
     "text": [
      "2023-12-14 23:36:23.233202: I tensorflow/core/framework/local_rendezvous.cc:421] Local rendezvous recv item cancelled. Key hash: 5640187878637657889\n"
     ]
    },
    {
     "name": "stdout",
     "output_type": "stream",
     "text": [
      "25/25 [==============================] - 1s 32ms/step - loss: 3675.0918\n",
      "Epoch 464/1000\n",
      " 6/25 [======>.......................] - ETA: 0s - loss: 3673.9485"
     ]
    },
    {
     "name": "stderr",
     "output_type": "stream",
     "text": [
      "2023-12-14 23:36:24.073614: I tensorflow/core/framework/local_rendezvous.cc:421] Local rendezvous recv item cancelled. Key hash: 5640187878637657889\n"
     ]
    },
    {
     "name": "stdout",
     "output_type": "stream",
     "text": [
      "25/25 [==============================] - 1s 32ms/step - loss: 3669.6023\n",
      "Epoch 465/1000\n",
      " 4/25 [===>..........................] - ETA: 0s - loss: 3668.9182"
     ]
    },
    {
     "name": "stderr",
     "output_type": "stream",
     "text": [
      "2023-12-14 23:36:24.907507: I tensorflow/core/framework/local_rendezvous.cc:421] Local rendezvous recv item cancelled. Key hash: 5640187878637657889\n"
     ]
    },
    {
     "name": "stdout",
     "output_type": "stream",
     "text": [
      "25/25 [==============================] - 1s 32ms/step - loss: 3664.1387\n",
      "Epoch 466/1000\n",
      " 6/25 [======>.......................] - ETA: 0s - loss: 3663.0059"
     ]
    },
    {
     "name": "stderr",
     "output_type": "stream",
     "text": [
      "2023-12-14 23:36:25.746240: I tensorflow/core/framework/local_rendezvous.cc:421] Local rendezvous recv item cancelled. Key hash: 5640187878637657889\n"
     ]
    },
    {
     "name": "stdout",
     "output_type": "stream",
     "text": [
      "25/25 [==============================] - 1s 32ms/step - loss: 3658.6885\n",
      "Epoch 467/1000\n",
      " 6/25 [======>.......................] - ETA: 0s - loss: 3657.5615"
     ]
    },
    {
     "name": "stderr",
     "output_type": "stream",
     "text": [
      "2023-12-14 23:36:26.573000: I tensorflow/core/framework/local_rendezvous.cc:421] Local rendezvous recv item cancelled. Key hash: 5640187878637657889\n"
     ]
    },
    {
     "name": "stdout",
     "output_type": "stream",
     "text": [
      "25/25 [==============================] - 1s 32ms/step - loss: 3653.2537\n",
      "Epoch 468/1000\n",
      " 6/25 [======>.......................] - ETA: 0s - loss: 3652.1313"
     ]
    },
    {
     "name": "stderr",
     "output_type": "stream",
     "text": [
      "2023-12-14 23:36:27.406521: I tensorflow/core/framework/local_rendezvous.cc:421] Local rendezvous recv item cancelled. Key hash: 5640187878637657889\n"
     ]
    },
    {
     "name": "stdout",
     "output_type": "stream",
     "text": [
      "25/25 [==============================] - 1s 32ms/step - loss: 3647.8376\n",
      "Epoch 469/1000\n",
      " 6/25 [======>.......................] - ETA: 0s - loss: 3646.7209"
     ]
    },
    {
     "name": "stderr",
     "output_type": "stream",
     "text": [
      "2023-12-14 23:36:28.239771: I tensorflow/core/framework/local_rendezvous.cc:421] Local rendezvous recv item cancelled. Key hash: 5640187878637657889\n"
     ]
    },
    {
     "name": "stdout",
     "output_type": "stream",
     "text": [
      "25/25 [==============================] - 1s 32ms/step - loss: 3642.4417\n",
      "Epoch 470/1000\n",
      " 6/25 [======>.......................] - ETA: 0s - loss: 3641.3257"
     ]
    },
    {
     "name": "stderr",
     "output_type": "stream",
     "text": [
      "2023-12-14 23:36:29.075435: I tensorflow/core/framework/local_rendezvous.cc:421] Local rendezvous recv item cancelled. Key hash: 5640187878637657889\n"
     ]
    },
    {
     "name": "stdout",
     "output_type": "stream",
     "text": [
      "25/25 [==============================] - 1s 32ms/step - loss: 3637.0747\n",
      "Epoch 471/1000\n",
      " 6/25 [======>.......................] - ETA: 0s - loss: 3635.9529"
     ]
    },
    {
     "name": "stderr",
     "output_type": "stream",
     "text": [
      "2023-12-14 23:36:29.907125: I tensorflow/core/framework/local_rendezvous.cc:421] Local rendezvous recv item cancelled. Key hash: 5640187878637657889\n"
     ]
    },
    {
     "name": "stdout",
     "output_type": "stream",
     "text": [
      "25/25 [==============================] - 1s 32ms/step - loss: 3631.7141\n",
      "Epoch 472/1000\n",
      " 4/25 [===>..........................] - ETA: 0s - loss: 3631.0425"
     ]
    },
    {
     "name": "stderr",
     "output_type": "stream",
     "text": [
      "2023-12-14 23:36:30.746267: I tensorflow/core/framework/local_rendezvous.cc:421] Local rendezvous recv item cancelled. Key hash: 5640187878637657889\n"
     ]
    },
    {
     "name": "stdout",
     "output_type": "stream",
     "text": [
      "25/25 [==============================] - 1s 32ms/step - loss: 3626.3562\n",
      "Epoch 473/1000\n",
      " 4/25 [===>..........................] - ETA: 0s - loss: 3625.6868"
     ]
    },
    {
     "name": "stderr",
     "output_type": "stream",
     "text": [
      "2023-12-14 23:36:31.591063: I tensorflow/core/framework/local_rendezvous.cc:421] Local rendezvous recv item cancelled. Key hash: 5640187878637657889\n"
     ]
    },
    {
     "name": "stdout",
     "output_type": "stream",
     "text": [
      "25/25 [==============================] - 1s 33ms/step - loss: 3621.0300\n",
      "Epoch 474/1000\n",
      " 6/25 [======>.......................] - ETA: 0s - loss: 3619.9243"
     ]
    },
    {
     "name": "stderr",
     "output_type": "stream",
     "text": [
      "2023-12-14 23:36:32.440018: I tensorflow/core/framework/local_rendezvous.cc:421] Local rendezvous recv item cancelled. Key hash: 5640187878637657889\n"
     ]
    },
    {
     "name": "stdout",
     "output_type": "stream",
     "text": [
      "25/25 [==============================] - 1s 32ms/step - loss: 3615.7292\n",
      "Epoch 475/1000\n",
      " 4/25 [===>..........................] - ETA: 0s - loss: 3615.0691"
     ]
    },
    {
     "name": "stderr",
     "output_type": "stream",
     "text": [
      "2023-12-14 23:36:33.273863: I tensorflow/core/framework/local_rendezvous.cc:421] Local rendezvous recv item cancelled. Key hash: 5640187878637657889\n"
     ]
    },
    {
     "name": "stdout",
     "output_type": "stream",
     "text": [
      "25/25 [==============================] - 1s 33ms/step - loss: 3610.4524\n",
      "Epoch 476/1000\n",
      " 6/25 [======>.......................] - ETA: 0s - loss: 3609.3467"
     ]
    },
    {
     "name": "stderr",
     "output_type": "stream",
     "text": [
      "2023-12-14 23:36:34.124010: I tensorflow/core/framework/local_rendezvous.cc:421] Local rendezvous recv item cancelled. Key hash: 5640187878637657889\n"
     ]
    },
    {
     "name": "stdout",
     "output_type": "stream",
     "text": [
      "25/25 [==============================] - 1s 32ms/step - loss: 3605.1768\n",
      "Epoch 477/1000\n",
      " 6/25 [======>.......................] - ETA: 0s - loss: 3604.0806"
     ]
    },
    {
     "name": "stderr",
     "output_type": "stream",
     "text": [
      "2023-12-14 23:36:34.956370: I tensorflow/core/framework/local_rendezvous.cc:421] Local rendezvous recv item cancelled. Key hash: 5640187878637657889\n"
     ]
    },
    {
     "name": "stdout",
     "output_type": "stream",
     "text": [
      "25/25 [==============================] - 1s 32ms/step - loss: 3599.9326\n",
      "Epoch 478/1000\n",
      " 6/25 [======>.......................] - ETA: 0s - loss: 3598.8433"
     ]
    },
    {
     "name": "stderr",
     "output_type": "stream",
     "text": [
      "2023-12-14 23:36:35.790114: I tensorflow/core/framework/local_rendezvous.cc:421] Local rendezvous recv item cancelled. Key hash: 5640187878637657889\n"
     ]
    },
    {
     "name": "stdout",
     "output_type": "stream",
     "text": [
      "25/25 [==============================] - 1s 32ms/step - loss: 3594.6917\n",
      "Epoch 479/1000\n",
      " 6/25 [======>.......................] - ETA: 0s - loss: 3593.6001"
     ]
    },
    {
     "name": "stderr",
     "output_type": "stream",
     "text": [
      "2023-12-14 23:36:36.623960: I tensorflow/core/framework/local_rendezvous.cc:421] Local rendezvous recv item cancelled. Key hash: 5640187878637657889\n"
     ]
    },
    {
     "name": "stdout",
     "output_type": "stream",
     "text": [
      "25/25 [==============================] - 1s 32ms/step - loss: 3589.4600\n",
      "Epoch 480/1000\n",
      " 4/25 [===>..........................] - ETA: 0s - loss: 3588.8188"
     ]
    },
    {
     "name": "stderr",
     "output_type": "stream",
     "text": [
      "2023-12-14 23:36:37.457318: I tensorflow/core/framework/local_rendezvous.cc:421] Local rendezvous recv item cancelled. Key hash: 5640187878637657889\n"
     ]
    },
    {
     "name": "stdout",
     "output_type": "stream",
     "text": [
      "25/25 [==============================] - 1s 32ms/step - loss: 3584.2722\n",
      "Epoch 481/1000\n",
      " 4/25 [===>..........................] - ETA: 0s - loss: 3583.6292"
     ]
    },
    {
     "name": "stderr",
     "output_type": "stream",
     "text": [
      "2023-12-14 23:36:38.294621: I tensorflow/core/framework/local_rendezvous.cc:421] Local rendezvous recv item cancelled. Key hash: 5640187878637657889\n"
     ]
    },
    {
     "name": "stdout",
     "output_type": "stream",
     "text": [
      "25/25 [==============================] - 1s 32ms/step - loss: 3579.1060\n",
      "Epoch 482/1000\n",
      " 6/25 [======>.......................] - ETA: 0s - loss: 3578.0283"
     ]
    },
    {
     "name": "stderr",
     "output_type": "stream",
     "text": [
      "2023-12-14 23:36:39.129271: I tensorflow/core/framework/local_rendezvous.cc:421] Local rendezvous recv item cancelled. Key hash: 5640187878637657889\n"
     ]
    },
    {
     "name": "stdout",
     "output_type": "stream",
     "text": [
      "25/25 [==============================] - 1s 32ms/step - loss: 3573.9504\n",
      "Epoch 483/1000\n",
      " 6/25 [======>.......................] - ETA: 0s - loss: 3572.8806"
     ]
    },
    {
     "name": "stderr",
     "output_type": "stream",
     "text": [
      "2023-12-14 23:36:39.963054: I tensorflow/core/framework/local_rendezvous.cc:421] Local rendezvous recv item cancelled. Key hash: 5640187878637657889\n"
     ]
    },
    {
     "name": "stdout",
     "output_type": "stream",
     "text": [
      "25/25 [==============================] - 1s 33ms/step - loss: 3568.8074\n",
      "Epoch 484/1000\n",
      " 6/25 [======>.......................] - ETA: 0s - loss: 3567.7454"
     ]
    },
    {
     "name": "stderr",
     "output_type": "stream",
     "text": [
      "2023-12-14 23:36:40.806350: I tensorflow/core/framework/local_rendezvous.cc:421] Local rendezvous recv item cancelled. Key hash: 5640187878637657889\n"
     ]
    },
    {
     "name": "stdout",
     "output_type": "stream",
     "text": [
      "25/25 [==============================] - 1s 32ms/step - loss: 3563.6831\n",
      "Epoch 485/1000\n",
      " 4/25 [===>..........................] - ETA: 0s - loss: 3563.0439"
     ]
    },
    {
     "name": "stderr",
     "output_type": "stream",
     "text": [
      "2023-12-14 23:36:41.640202: I tensorflow/core/framework/local_rendezvous.cc:421] Local rendezvous recv item cancelled. Key hash: 5640187878637657889\n"
     ]
    },
    {
     "name": "stdout",
     "output_type": "stream",
     "text": [
      "25/25 [==============================] - 1s 32ms/step - loss: 3558.5728\n",
      "Epoch 486/1000\n",
      " 6/25 [======>.......................] - ETA: 0s - loss: 3557.5127"
     ]
    },
    {
     "name": "stderr",
     "output_type": "stream",
     "text": [
      "2023-12-14 23:36:42.477974: I tensorflow/core/framework/local_rendezvous.cc:421] Local rendezvous recv item cancelled. Key hash: 5640187878637657889\n"
     ]
    },
    {
     "name": "stdout",
     "output_type": "stream",
     "text": [
      "25/25 [==============================] - 1s 32ms/step - loss: 3553.4839\n",
      "Epoch 487/1000\n",
      " 6/25 [======>.......................] - ETA: 0s - loss: 3552.4233"
     ]
    },
    {
     "name": "stderr",
     "output_type": "stream",
     "text": [
      "2023-12-14 23:36:43.310991: I tensorflow/core/framework/local_rendezvous.cc:421] Local rendezvous recv item cancelled. Key hash: 5640187878637657889\n"
     ]
    },
    {
     "name": "stdout",
     "output_type": "stream",
     "text": [
      "25/25 [==============================] - 1s 32ms/step - loss: 3548.3970\n",
      "Epoch 488/1000\n",
      " 4/25 [===>..........................] - ETA: 0s - loss: 3547.7632"
     ]
    },
    {
     "name": "stderr",
     "output_type": "stream",
     "text": [
      "2023-12-14 23:36:44.140413: I tensorflow/core/framework/local_rendezvous.cc:421] Local rendezvous recv item cancelled. Key hash: 5640187878637657889\n"
     ]
    },
    {
     "name": "stdout",
     "output_type": "stream",
     "text": [
      "25/25 [==============================] - 1s 32ms/step - loss: 3543.3347\n",
      "Epoch 489/1000\n",
      " 6/25 [======>.......................] - ETA: 0s - loss: 3542.2935"
     ]
    },
    {
     "name": "stderr",
     "output_type": "stream",
     "text": [
      "2023-12-14 23:36:44.979298: I tensorflow/core/framework/local_rendezvous.cc:421] Local rendezvous recv item cancelled. Key hash: 5640187878637657889\n"
     ]
    },
    {
     "name": "stdout",
     "output_type": "stream",
     "text": [
      "25/25 [==============================] - 1s 32ms/step - loss: 3538.3235\n",
      "Epoch 490/1000\n",
      " 6/25 [======>.......................] - ETA: 0s - loss: 3537.2776"
     ]
    },
    {
     "name": "stderr",
     "output_type": "stream",
     "text": [
      "2023-12-14 23:36:45.813405: I tensorflow/core/framework/local_rendezvous.cc:421] Local rendezvous recv item cancelled. Key hash: 5640187878637657889\n"
     ]
    },
    {
     "name": "stdout",
     "output_type": "stream",
     "text": [
      "25/25 [==============================] - 1s 32ms/step - loss: 3533.3003\n",
      "Epoch 491/1000\n",
      " 6/25 [======>.......................] - ETA: 0s - loss: 3532.2612"
     ]
    },
    {
     "name": "stderr",
     "output_type": "stream",
     "text": [
      "2023-12-14 23:36:46.645106: I tensorflow/core/framework/local_rendezvous.cc:421] Local rendezvous recv item cancelled. Key hash: 5640187878637657889\n"
     ]
    },
    {
     "name": "stdout",
     "output_type": "stream",
     "text": [
      "25/25 [==============================] - 1s 32ms/step - loss: 3528.2837\n",
      "Epoch 492/1000\n",
      " 6/25 [======>.......................] - ETA: 0s - loss: 3527.2427"
     ]
    },
    {
     "name": "stderr",
     "output_type": "stream",
     "text": [
      "2023-12-14 23:36:47.473544: I tensorflow/core/framework/local_rendezvous.cc:421] Local rendezvous recv item cancelled. Key hash: 5640187878637657889\n"
     ]
    },
    {
     "name": "stdout",
     "output_type": "stream",
     "text": [
      "25/25 [==============================] - 1s 32ms/step - loss: 3523.2878\n",
      "Epoch 493/1000\n",
      " 6/25 [======>.......................] - ETA: 0s - loss: 3522.2527"
     ]
    },
    {
     "name": "stderr",
     "output_type": "stream",
     "text": [
      "2023-12-14 23:36:48.310340: I tensorflow/core/framework/local_rendezvous.cc:421] Local rendezvous recv item cancelled. Key hash: 5640187878637657889\n"
     ]
    },
    {
     "name": "stdout",
     "output_type": "stream",
     "text": [
      "25/25 [==============================] - 1s 33ms/step - loss: 3518.3198\n",
      "Epoch 494/1000\n",
      " 6/25 [======>.......................] - ETA: 0s - loss: 3517.2803"
     ]
    },
    {
     "name": "stderr",
     "output_type": "stream",
     "text": [
      "2023-12-14 23:36:49.156721: I tensorflow/core/framework/local_rendezvous.cc:421] Local rendezvous recv item cancelled. Key hash: 5640187878637657889\n"
     ]
    },
    {
     "name": "stdout",
     "output_type": "stream",
     "text": [
      "25/25 [==============================] - 1s 32ms/step - loss: 3513.3640\n",
      "Epoch 495/1000\n",
      " 6/25 [======>.......................] - ETA: 0s - loss: 3512.3386"
     ]
    },
    {
     "name": "stderr",
     "output_type": "stream",
     "text": [
      "2023-12-14 23:36:49.989863: I tensorflow/core/framework/local_rendezvous.cc:421] Local rendezvous recv item cancelled. Key hash: 5640187878637657889\n"
     ]
    },
    {
     "name": "stdout",
     "output_type": "stream",
     "text": [
      "25/25 [==============================] - 1s 32ms/step - loss: 3508.4299\n",
      "Epoch 496/1000\n",
      " 6/25 [======>.......................] - ETA: 0s - loss: 3507.3979"
     ]
    },
    {
     "name": "stderr",
     "output_type": "stream",
     "text": [
      "2023-12-14 23:36:50.823768: I tensorflow/core/framework/local_rendezvous.cc:421] Local rendezvous recv item cancelled. Key hash: 5640187878637657889\n"
     ]
    },
    {
     "name": "stdout",
     "output_type": "stream",
     "text": [
      "25/25 [==============================] - 1s 32ms/step - loss: 3503.4946\n",
      "Epoch 497/1000\n",
      " 4/25 [===>..........................] - ETA: 0s - loss: 3502.8799"
     ]
    },
    {
     "name": "stderr",
     "output_type": "stream",
     "text": [
      "2023-12-14 23:36:51.656858: I tensorflow/core/framework/local_rendezvous.cc:421] Local rendezvous recv item cancelled. Key hash: 5640187878637657889\n"
     ]
    },
    {
     "name": "stdout",
     "output_type": "stream",
     "text": [
      "25/25 [==============================] - 1s 32ms/step - loss: 3498.5850\n",
      "Epoch 498/1000\n",
      " 6/25 [======>.......................] - ETA: 0s - loss: 3497.5637"
     ]
    },
    {
     "name": "stderr",
     "output_type": "stream",
     "text": [
      "2023-12-14 23:36:52.496625: I tensorflow/core/framework/local_rendezvous.cc:421] Local rendezvous recv item cancelled. Key hash: 5640187878637657889\n"
     ]
    },
    {
     "name": "stdout",
     "output_type": "stream",
     "text": [
      "25/25 [==============================] - 1s 32ms/step - loss: 3493.6965\n",
      "Epoch 499/1000\n",
      " 6/25 [======>.......................] - ETA: 0s - loss: 3492.6785"
     ]
    },
    {
     "name": "stderr",
     "output_type": "stream",
     "text": [
      "2023-12-14 23:36:53.326203: I tensorflow/core/framework/local_rendezvous.cc:421] Local rendezvous recv item cancelled. Key hash: 5640187878637657889\n"
     ]
    },
    {
     "name": "stdout",
     "output_type": "stream",
     "text": [
      "25/25 [==============================] - 1s 32ms/step - loss: 3488.8230\n",
      "Epoch 500/1000\n",
      " 6/25 [======>.......................] - ETA: 0s - loss: 3487.8103"
     ]
    },
    {
     "name": "stderr",
     "output_type": "stream",
     "text": [
      "2023-12-14 23:36:54.156064: I tensorflow/core/framework/local_rendezvous.cc:421] Local rendezvous recv item cancelled. Key hash: 5640187878637657889\n"
     ]
    },
    {
     "name": "stdout",
     "output_type": "stream",
     "text": [
      "25/25 [==============================] - 1s 32ms/step - loss: 3483.9666\n",
      "Epoch 501/1000\n",
      " 6/25 [======>.......................] - ETA: 0s - loss: 3482.9521"
     ]
    },
    {
     "name": "stderr",
     "output_type": "stream",
     "text": [
      "2023-12-14 23:36:54.989302: I tensorflow/core/framework/local_rendezvous.cc:421] Local rendezvous recv item cancelled. Key hash: 5640187878637657889\n"
     ]
    },
    {
     "name": "stdout",
     "output_type": "stream",
     "text": [
      "25/25 [==============================] - 1s 32ms/step - loss: 3479.1292\n",
      "Epoch 502/1000\n",
      " 4/25 [===>..........................] - ETA: 0s - loss: 3478.5220"
     ]
    },
    {
     "name": "stderr",
     "output_type": "stream",
     "text": [
      "2023-12-14 23:36:55.821879: I tensorflow/core/framework/local_rendezvous.cc:421] Local rendezvous recv item cancelled. Key hash: 5640187878637657889\n"
     ]
    },
    {
     "name": "stdout",
     "output_type": "stream",
     "text": [
      "25/25 [==============================] - 1s 32ms/step - loss: 3474.3010\n",
      "Epoch 503/1000\n",
      " 6/25 [======>.......................] - ETA: 0s - loss: 3473.2959"
     ]
    },
    {
     "name": "stderr",
     "output_type": "stream",
     "text": [
      "2023-12-14 23:36:56.656276: I tensorflow/core/framework/local_rendezvous.cc:421] Local rendezvous recv item cancelled. Key hash: 5640187878637657889\n"
     ]
    },
    {
     "name": "stdout",
     "output_type": "stream",
     "text": [
      "25/25 [==============================] - 1s 32ms/step - loss: 3469.4827\n",
      "Epoch 504/1000\n",
      " 6/25 [======>.......................] - ETA: 0s - loss: 3468.4897"
     ]
    },
    {
     "name": "stderr",
     "output_type": "stream",
     "text": [
      "2023-12-14 23:36:57.489835: I tensorflow/core/framework/local_rendezvous.cc:421] Local rendezvous recv item cancelled. Key hash: 5640187878637657889\n"
     ]
    },
    {
     "name": "stdout",
     "output_type": "stream",
     "text": [
      "25/25 [==============================] - 1s 32ms/step - loss: 3464.6802\n",
      "Epoch 505/1000\n",
      " 4/25 [===>..........................] - ETA: 0s - loss: 3464.0793"
     ]
    },
    {
     "name": "stderr",
     "output_type": "stream",
     "text": [
      "2023-12-14 23:36:58.323027: I tensorflow/core/framework/local_rendezvous.cc:421] Local rendezvous recv item cancelled. Key hash: 5640187878637657889\n"
     ]
    },
    {
     "name": "stdout",
     "output_type": "stream",
     "text": [
      "25/25 [==============================] - 1s 32ms/step - loss: 3459.8887\n",
      "Epoch 506/1000\n",
      " 4/25 [===>..........................] - ETA: 0s - loss: 3459.2976"
     ]
    },
    {
     "name": "stderr",
     "output_type": "stream",
     "text": [
      "2023-12-14 23:36:59.176414: I tensorflow/core/framework/local_rendezvous.cc:421] Local rendezvous recv item cancelled. Key hash: 5640187878637657889\n"
     ]
    },
    {
     "name": "stdout",
     "output_type": "stream",
     "text": [
      "25/25 [==============================] - 1s 32ms/step - loss: 3455.1265\n",
      "Epoch 507/1000\n",
      " 4/25 [===>..........................] - ETA: 0s - loss: 3454.5310"
     ]
    },
    {
     "name": "stderr",
     "output_type": "stream",
     "text": [
      "2023-12-14 23:37:00.026365: I tensorflow/core/framework/local_rendezvous.cc:421] Local rendezvous recv item cancelled. Key hash: 5640187878637657889\n"
     ]
    },
    {
     "name": "stdout",
     "output_type": "stream",
     "text": [
      "25/25 [==============================] - 1s 33ms/step - loss: 3450.3901\n",
      "Epoch 508/1000\n",
      " 4/25 [===>..........................] - ETA: 0s - loss: 3449.8018"
     ]
    },
    {
     "name": "stderr",
     "output_type": "stream",
     "text": [
      "2023-12-14 23:37:00.890326: I tensorflow/core/framework/local_rendezvous.cc:421] Local rendezvous recv item cancelled. Key hash: 5640187878637657889\n"
     ]
    },
    {
     "name": "stdout",
     "output_type": "stream",
     "text": [
      "25/25 [==============================] - 1s 32ms/step - loss: 3445.6628\n",
      "Epoch 509/1000\n",
      " 4/25 [===>..........................] - ETA: 0s - loss: 3445.0762"
     ]
    },
    {
     "name": "stderr",
     "output_type": "stream",
     "text": [
      "2023-12-14 23:37:01.739723: I tensorflow/core/framework/local_rendezvous.cc:421] Local rendezvous recv item cancelled. Key hash: 5640187878637657889\n"
     ]
    },
    {
     "name": "stdout",
     "output_type": "stream",
     "text": [
      "25/25 [==============================] - 1s 32ms/step - loss: 3440.9604\n",
      "Epoch 510/1000\n",
      " 4/25 [===>..........................] - ETA: 0s - loss: 3440.3738"
     ]
    },
    {
     "name": "stderr",
     "output_type": "stream",
     "text": [
      "2023-12-14 23:37:02.590186: I tensorflow/core/framework/local_rendezvous.cc:421] Local rendezvous recv item cancelled. Key hash: 5640187878637657889\n"
     ]
    },
    {
     "name": "stdout",
     "output_type": "stream",
     "text": [
      "25/25 [==============================] - 1s 32ms/step - loss: 3436.2493\n",
      "Epoch 511/1000\n",
      " 6/25 [======>.......................] - ETA: 0s - loss: 3435.2754"
     ]
    },
    {
     "name": "stderr",
     "output_type": "stream",
     "text": [
      "2023-12-14 23:37:03.439732: I tensorflow/core/framework/local_rendezvous.cc:421] Local rendezvous recv item cancelled. Key hash: 5640187878637657889\n"
     ]
    },
    {
     "name": "stdout",
     "output_type": "stream",
     "text": [
      "25/25 [==============================] - 1s 32ms/step - loss: 3431.5691\n"
     ]
    },
    {
     "name": "stderr",
     "output_type": "stream",
     "text": [
      "2023-12-14 23:37:04.274775: I tensorflow/core/framework/local_rendezvous.cc:421] Local rendezvous recv item cancelled. Key hash: 5640187878637657889\n"
     ]
    },
    {
     "name": "stdout",
     "output_type": "stream",
     "text": [
      "Epoch 512/1000\n",
      "25/25 [==============================] - 1s 32ms/step - loss: 3426.8928\n",
      "Epoch 513/1000\n",
      " 6/25 [======>.......................] - ETA: 0s - loss: 3425.9172"
     ]
    },
    {
     "name": "stderr",
     "output_type": "stream",
     "text": [
      "2023-12-14 23:37:05.539850: I tensorflow/core/framework/local_rendezvous.cc:421] Local rendezvous recv item cancelled. Key hash: 5640187878637657889\n"
     ]
    },
    {
     "name": "stdout",
     "output_type": "stream",
     "text": [
      "25/25 [==============================] - 1s 32ms/step - loss: 3422.2385\n",
      "Epoch 514/1000\n",
      " 6/25 [======>.......................] - ETA: 0s - loss: 3421.2737"
     ]
    },
    {
     "name": "stderr",
     "output_type": "stream",
     "text": [
      "2023-12-14 23:37:06.377366: I tensorflow/core/framework/local_rendezvous.cc:421] Local rendezvous recv item cancelled. Key hash: 5640187878637657889\n"
     ]
    },
    {
     "name": "stdout",
     "output_type": "stream",
     "text": [
      "25/25 [==============================] - 1s 32ms/step - loss: 3417.5872\n",
      "Epoch 515/1000\n",
      " 4/25 [===>..........................] - ETA: 0s - loss: 3417.0078"
     ]
    },
    {
     "name": "stderr",
     "output_type": "stream",
     "text": [
      "2023-12-14 23:37:07.206798: I tensorflow/core/framework/local_rendezvous.cc:421] Local rendezvous recv item cancelled. Key hash: 5640187878637657889\n"
     ]
    },
    {
     "name": "stdout",
     "output_type": "stream",
     "text": [
      "25/25 [==============================] - 1s 32ms/step - loss: 3412.9473\n",
      "Epoch 516/1000\n",
      " 6/25 [======>.......................] - ETA: 0s - loss: 3411.9834"
     ]
    },
    {
     "name": "stderr",
     "output_type": "stream",
     "text": [
      "2023-12-14 23:37:08.049052: I tensorflow/core/framework/local_rendezvous.cc:421] Local rendezvous recv item cancelled. Key hash: 5640187878637657889\n"
     ]
    },
    {
     "name": "stdout",
     "output_type": "stream",
     "text": [
      "25/25 [==============================] - 1s 32ms/step - loss: 3408.3271\n",
      "Epoch 517/1000\n",
      " 4/25 [===>..........................] - ETA: 0s - loss: 3407.7546"
     ]
    },
    {
     "name": "stderr",
     "output_type": "stream",
     "text": [
      "2023-12-14 23:37:08.885683: I tensorflow/core/framework/local_rendezvous.cc:421] Local rendezvous recv item cancelled. Key hash: 5640187878637657889\n"
     ]
    },
    {
     "name": "stdout",
     "output_type": "stream",
     "text": [
      "25/25 [==============================] - 1s 32ms/step - loss: 3403.7241\n",
      "Epoch 518/1000\n",
      " 6/25 [======>.......................] - ETA: 0s - loss: 3402.7678"
     ]
    },
    {
     "name": "stderr",
     "output_type": "stream",
     "text": [
      "2023-12-14 23:37:09.728498: I tensorflow/core/framework/local_rendezvous.cc:421] Local rendezvous recv item cancelled. Key hash: 5640187878637657889\n"
     ]
    },
    {
     "name": "stdout",
     "output_type": "stream",
     "text": [
      "25/25 [==============================] - 1s 33ms/step - loss: 3399.1328\n",
      "Epoch 519/1000\n",
      " 6/25 [======>.......................] - ETA: 0s - loss: 3398.1819"
     ]
    },
    {
     "name": "stderr",
     "output_type": "stream",
     "text": [
      "2023-12-14 23:37:10.572258: I tensorflow/core/framework/local_rendezvous.cc:421] Local rendezvous recv item cancelled. Key hash: 5640187878637657889\n"
     ]
    },
    {
     "name": "stdout",
     "output_type": "stream",
     "text": [
      "25/25 [==============================] - 1s 32ms/step - loss: 3394.5640\n",
      "Epoch 520/1000\n",
      " 6/25 [======>.......................] - ETA: 0s - loss: 3393.6147"
     ]
    },
    {
     "name": "stderr",
     "output_type": "stream",
     "text": [
      "2023-12-14 23:37:11.405820: I tensorflow/core/framework/local_rendezvous.cc:421] Local rendezvous recv item cancelled. Key hash: 5640187878637657889\n"
     ]
    },
    {
     "name": "stdout",
     "output_type": "stream",
     "text": [
      "25/25 [==============================] - 1s 32ms/step - loss: 3390.0085\n",
      "Epoch 521/1000\n",
      " 4/25 [===>..........................] - ETA: 0s - loss: 3389.4390"
     ]
    },
    {
     "name": "stderr",
     "output_type": "stream",
     "text": [
      "2023-12-14 23:37:12.238548: I tensorflow/core/framework/local_rendezvous.cc:421] Local rendezvous recv item cancelled. Key hash: 5640187878637657889\n"
     ]
    },
    {
     "name": "stdout",
     "output_type": "stream",
     "text": [
      "25/25 [==============================] - 1s 32ms/step - loss: 3385.4565\n",
      "Epoch 522/1000\n",
      " 4/25 [===>..........................] - ETA: 0s - loss: 3384.8901"
     ]
    },
    {
     "name": "stderr",
     "output_type": "stream",
     "text": [
      "2023-12-14 23:37:13.073271: I tensorflow/core/framework/local_rendezvous.cc:421] Local rendezvous recv item cancelled. Key hash: 5640187878637657889\n"
     ]
    },
    {
     "name": "stdout",
     "output_type": "stream",
     "text": [
      "25/25 [==============================] - 1s 32ms/step - loss: 3380.9338\n",
      "Epoch 523/1000\n",
      " 4/25 [===>..........................] - ETA: 0s - loss: 3380.3682"
     ]
    },
    {
     "name": "stderr",
     "output_type": "stream",
     "text": [
      "2023-12-14 23:37:13.912188: I tensorflow/core/framework/local_rendezvous.cc:421] Local rendezvous recv item cancelled. Key hash: 5640187878637657889\n"
     ]
    },
    {
     "name": "stdout",
     "output_type": "stream",
     "text": [
      "25/25 [==============================] - 1s 32ms/step - loss: 3376.4143\n",
      "Epoch 524/1000\n",
      " 4/25 [===>..........................] - ETA: 0s - loss: 3375.8503"
     ]
    },
    {
     "name": "stderr",
     "output_type": "stream",
     "text": [
      "2023-12-14 23:37:14.755574: I tensorflow/core/framework/local_rendezvous.cc:421] Local rendezvous recv item cancelled. Key hash: 5640187878637657889\n"
     ]
    },
    {
     "name": "stdout",
     "output_type": "stream",
     "text": [
      "25/25 [==============================] - 1s 33ms/step - loss: 3371.9001\n",
      "Epoch 525/1000\n",
      " 4/25 [===>..........................] - ETA: 0s - loss: 3371.3357"
     ]
    },
    {
     "name": "stderr",
     "output_type": "stream",
     "text": [
      "2023-12-14 23:37:15.606671: I tensorflow/core/framework/local_rendezvous.cc:421] Local rendezvous recv item cancelled. Key hash: 5640187878637657889\n"
     ]
    },
    {
     "name": "stdout",
     "output_type": "stream",
     "text": [
      "25/25 [==============================] - 1s 33ms/step - loss: 3367.4070\n",
      "Epoch 526/1000\n",
      " 6/25 [======>.......................] - ETA: 0s - loss: 3366.4797"
     ]
    },
    {
     "name": "stderr",
     "output_type": "stream",
     "text": [
      "2023-12-14 23:37:16.456142: I tensorflow/core/framework/local_rendezvous.cc:421] Local rendezvous recv item cancelled. Key hash: 5640187878637657889\n"
     ]
    },
    {
     "name": "stdout",
     "output_type": "stream",
     "text": [
      "25/25 [==============================] - 1s 32ms/step - loss: 3362.9448\n",
      "Epoch 527/1000\n",
      " 6/25 [======>.......................] - ETA: 0s - loss: 3362.0164"
     ]
    },
    {
     "name": "stderr",
     "output_type": "stream",
     "text": [
      "2023-12-14 23:37:17.290597: I tensorflow/core/framework/local_rendezvous.cc:421] Local rendezvous recv item cancelled. Key hash: 5640187878637657889\n"
     ]
    },
    {
     "name": "stdout",
     "output_type": "stream",
     "text": [
      "25/25 [==============================] - 1s 32ms/step - loss: 3358.4880\n",
      "Epoch 528/1000\n",
      " 4/25 [===>..........................] - ETA: 0s - loss: 3357.9297"
     ]
    },
    {
     "name": "stderr",
     "output_type": "stream",
     "text": [
      "2023-12-14 23:37:18.127477: I tensorflow/core/framework/local_rendezvous.cc:421] Local rendezvous recv item cancelled. Key hash: 5640187878637657889\n"
     ]
    },
    {
     "name": "stdout",
     "output_type": "stream",
     "text": [
      "25/25 [==============================] - 1s 33ms/step - loss: 3354.0300\n",
      "Epoch 529/1000\n",
      " 6/25 [======>.......................] - ETA: 0s - loss: 3353.1062"
     ]
    },
    {
     "name": "stderr",
     "output_type": "stream",
     "text": [
      "2023-12-14 23:37:18.973310: I tensorflow/core/framework/local_rendezvous.cc:421] Local rendezvous recv item cancelled. Key hash: 5640187878637657889\n"
     ]
    },
    {
     "name": "stdout",
     "output_type": "stream",
     "text": [
      "25/25 [==============================] - 1s 32ms/step - loss: 3349.5835\n",
      "Epoch 530/1000\n",
      " 6/25 [======>.......................] - ETA: 0s - loss: 3348.6694"
     ]
    },
    {
     "name": "stderr",
     "output_type": "stream",
     "text": [
      "2023-12-14 23:37:19.806273: I tensorflow/core/framework/local_rendezvous.cc:421] Local rendezvous recv item cancelled. Key hash: 5640187878637657889\n"
     ]
    },
    {
     "name": "stdout",
     "output_type": "stream",
     "text": [
      "25/25 [==============================] - 1s 32ms/step - loss: 3345.1685\n",
      "Epoch 531/1000\n",
      " 6/25 [======>.......................] - ETA: 0s - loss: 3344.2539"
     ]
    },
    {
     "name": "stderr",
     "output_type": "stream",
     "text": [
      "2023-12-14 23:37:20.639945: I tensorflow/core/framework/local_rendezvous.cc:421] Local rendezvous recv item cancelled. Key hash: 5640187878637657889\n"
     ]
    },
    {
     "name": "stdout",
     "output_type": "stream",
     "text": [
      "25/25 [==============================] - 1s 32ms/step - loss: 3340.7671\n",
      "Epoch 532/1000\n",
      " 4/25 [===>..........................] - ETA: 0s - loss: 3340.2168"
     ]
    },
    {
     "name": "stderr",
     "output_type": "stream",
     "text": [
      "2023-12-14 23:37:21.473366: I tensorflow/core/framework/local_rendezvous.cc:421] Local rendezvous recv item cancelled. Key hash: 5640187878637657889\n"
     ]
    },
    {
     "name": "stdout",
     "output_type": "stream",
     "text": [
      "25/25 [==============================] - 1s 32ms/step - loss: 3336.3682\n",
      "Epoch 533/1000\n",
      " 4/25 [===>..........................] - ETA: 0s - loss: 3335.8242"
     ]
    },
    {
     "name": "stderr",
     "output_type": "stream",
     "text": [
      "2023-12-14 23:37:22.315804: I tensorflow/core/framework/local_rendezvous.cc:421] Local rendezvous recv item cancelled. Key hash: 5640187878637657889\n"
     ]
    },
    {
     "name": "stdout",
     "output_type": "stream",
     "text": [
      "25/25 [==============================] - 1s 32ms/step - loss: 3331.9966\n",
      "Epoch 534/1000\n",
      " 4/25 [===>..........................] - ETA: 0s - loss: 3331.4587"
     ]
    },
    {
     "name": "stderr",
     "output_type": "stream",
     "text": [
      "2023-12-14 23:37:23.156309: I tensorflow/core/framework/local_rendezvous.cc:421] Local rendezvous recv item cancelled. Key hash: 5640187878637657889\n"
     ]
    },
    {
     "name": "stdout",
     "output_type": "stream",
     "text": [
      "25/25 [==============================] - 1s 33ms/step - loss: 3327.6516\n",
      "Epoch 535/1000\n",
      " 4/25 [===>..........................] - ETA: 0s - loss: 3327.1082"
     ]
    },
    {
     "name": "stderr",
     "output_type": "stream",
     "text": [
      "2023-12-14 23:37:24.006090: I tensorflow/core/framework/local_rendezvous.cc:421] Local rendezvous recv item cancelled. Key hash: 5640187878637657889\n"
     ]
    },
    {
     "name": "stdout",
     "output_type": "stream",
     "text": [
      "25/25 [==============================] - 1s 33ms/step - loss: 3323.3047\n",
      "Epoch 536/1000\n",
      " 4/25 [===>..........................] - ETA: 0s - loss: 3322.7620"
     ]
    },
    {
     "name": "stderr",
     "output_type": "stream",
     "text": [
      "2023-12-14 23:37:24.866668: I tensorflow/core/framework/local_rendezvous.cc:421] Local rendezvous recv item cancelled. Key hash: 5640187878637657889\n"
     ]
    },
    {
     "name": "stdout",
     "output_type": "stream",
     "text": [
      "25/25 [==============================] - 1s 33ms/step - loss: 3318.9524\n",
      "Epoch 537/1000\n",
      " 4/25 [===>..........................] - ETA: 0s - loss: 3318.4080"
     ]
    },
    {
     "name": "stderr",
     "output_type": "stream",
     "text": [
      "2023-12-14 23:37:25.709965: I tensorflow/core/framework/local_rendezvous.cc:421] Local rendezvous recv item cancelled. Key hash: 5640187878637657889\n"
     ]
    },
    {
     "name": "stdout",
     "output_type": "stream",
     "text": [
      "25/25 [==============================] - 1s 33ms/step - loss: 3314.6182\n",
      "Epoch 538/1000\n",
      " 6/25 [======>.......................] - ETA: 0s - loss: 3313.7209"
     ]
    },
    {
     "name": "stderr",
     "output_type": "stream",
     "text": [
      "2023-12-14 23:37:26.555525: I tensorflow/core/framework/local_rendezvous.cc:421] Local rendezvous recv item cancelled. Key hash: 5640187878637657889\n"
     ]
    },
    {
     "name": "stdout",
     "output_type": "stream",
     "text": [
      "25/25 [==============================] - 1s 32ms/step - loss: 3310.3037\n",
      "Epoch 539/1000\n",
      " 6/25 [======>.......................] - ETA: 0s - loss: 3309.4031"
     ]
    },
    {
     "name": "stderr",
     "output_type": "stream",
     "text": [
      "2023-12-14 23:37:27.389862: I tensorflow/core/framework/local_rendezvous.cc:421] Local rendezvous recv item cancelled. Key hash: 5640187878637657889\n"
     ]
    },
    {
     "name": "stdout",
     "output_type": "stream",
     "text": [
      "25/25 [==============================] - 1s 32ms/step - loss: 3306.0007\n",
      "Epoch 540/1000\n",
      " 6/25 [======>.......................] - ETA: 0s - loss: 3305.1033"
     ]
    },
    {
     "name": "stderr",
     "output_type": "stream",
     "text": [
      "2023-12-14 23:37:28.222434: I tensorflow/core/framework/local_rendezvous.cc:421] Local rendezvous recv item cancelled. Key hash: 5640187878637657889\n"
     ]
    },
    {
     "name": "stdout",
     "output_type": "stream",
     "text": [
      "25/25 [==============================] - 1s 32ms/step - loss: 3301.7114\n",
      "Epoch 541/1000\n",
      " 6/25 [======>.......................] - ETA: 0s - loss: 3300.8130"
     ]
    },
    {
     "name": "stderr",
     "output_type": "stream",
     "text": [
      "2023-12-14 23:37:29.059717: I tensorflow/core/framework/local_rendezvous.cc:421] Local rendezvous recv item cancelled. Key hash: 5640187878637657889\n"
     ]
    },
    {
     "name": "stdout",
     "output_type": "stream",
     "text": [
      "25/25 [==============================] - 1s 32ms/step - loss: 3297.4248\n",
      "Epoch 542/1000\n",
      " 6/25 [======>.......................] - ETA: 0s - loss: 3296.5430"
     ]
    },
    {
     "name": "stderr",
     "output_type": "stream",
     "text": [
      "2023-12-14 23:37:29.889426: I tensorflow/core/framework/local_rendezvous.cc:421] Local rendezvous recv item cancelled. Key hash: 5640187878637657889\n"
     ]
    },
    {
     "name": "stdout",
     "output_type": "stream",
     "text": [
      "25/25 [==============================] - 1s 33ms/step - loss: 3293.1694\n",
      "Epoch 543/1000\n",
      " 6/25 [======>.......................] - ETA: 0s - loss: 3292.2859"
     ]
    },
    {
     "name": "stderr",
     "output_type": "stream",
     "text": [
      "2023-12-14 23:37:30.727660: I tensorflow/core/framework/local_rendezvous.cc:421] Local rendezvous recv item cancelled. Key hash: 5640187878637657889\n"
     ]
    },
    {
     "name": "stdout",
     "output_type": "stream",
     "text": [
      "25/25 [==============================] - 1s 32ms/step - loss: 3288.9246\n",
      "Epoch 544/1000\n",
      " 4/25 [===>..........................] - ETA: 0s - loss: 3288.3970"
     ]
    },
    {
     "name": "stderr",
     "output_type": "stream",
     "text": [
      "2023-12-14 23:37:31.561110: I tensorflow/core/framework/local_rendezvous.cc:421] Local rendezvous recv item cancelled. Key hash: 5640187878637657889\n"
     ]
    },
    {
     "name": "stdout",
     "output_type": "stream",
     "text": [
      "25/25 [==============================] - 1s 32ms/step - loss: 3284.6877\n",
      "Epoch 545/1000\n",
      " 4/25 [===>..........................] - ETA: 0s - loss: 3284.1567"
     ]
    },
    {
     "name": "stderr",
     "output_type": "stream",
     "text": [
      "2023-12-14 23:37:32.389497: I tensorflow/core/framework/local_rendezvous.cc:421] Local rendezvous recv item cancelled. Key hash: 5640187878637657889\n"
     ]
    },
    {
     "name": "stdout",
     "output_type": "stream",
     "text": [
      "25/25 [==============================] - 1s 32ms/step - loss: 3280.4663\n",
      "Epoch 546/1000\n",
      " 4/25 [===>..........................] - ETA: 0s - loss: 3279.9402"
     ]
    },
    {
     "name": "stderr",
     "output_type": "stream",
     "text": [
      "2023-12-14 23:37:33.219761: I tensorflow/core/framework/local_rendezvous.cc:421] Local rendezvous recv item cancelled. Key hash: 5640187878637657889\n"
     ]
    },
    {
     "name": "stdout",
     "output_type": "stream",
     "text": [
      "25/25 [==============================] - 1s 32ms/step - loss: 3276.2534\n",
      "Epoch 547/1000\n",
      " 6/25 [======>.......................] - ETA: 0s - loss: 3275.3757"
     ]
    },
    {
     "name": "stderr",
     "output_type": "stream",
     "text": [
      "2023-12-14 23:37:34.056890: I tensorflow/core/framework/local_rendezvous.cc:421] Local rendezvous recv item cancelled. Key hash: 5640187878637657889\n"
     ]
    },
    {
     "name": "stdout",
     "output_type": "stream",
     "text": [
      "25/25 [==============================] - 1s 32ms/step - loss: 3272.0435\n",
      "Epoch 548/1000\n",
      " 6/25 [======>.......................] - ETA: 0s - loss: 3271.1704"
     ]
    },
    {
     "name": "stderr",
     "output_type": "stream",
     "text": [
      "2023-12-14 23:37:34.894116: I tensorflow/core/framework/local_rendezvous.cc:421] Local rendezvous recv item cancelled. Key hash: 5640187878637657889\n"
     ]
    },
    {
     "name": "stdout",
     "output_type": "stream",
     "text": [
      "25/25 [==============================] - 1s 32ms/step - loss: 3267.8623\n",
      "Epoch 549/1000\n",
      " 6/25 [======>.......................] - ETA: 0s - loss: 3266.9912"
     ]
    },
    {
     "name": "stderr",
     "output_type": "stream",
     "text": [
      "2023-12-14 23:37:35.727716: I tensorflow/core/framework/local_rendezvous.cc:421] Local rendezvous recv item cancelled. Key hash: 5640187878637657889\n"
     ]
    },
    {
     "name": "stdout",
     "output_type": "stream",
     "text": [
      "25/25 [==============================] - 1s 32ms/step - loss: 3263.6792\n",
      "Epoch 550/1000\n",
      " 6/25 [======>.......................] - ETA: 0s - loss: 3262.8108"
     ]
    },
    {
     "name": "stderr",
     "output_type": "stream",
     "text": [
      "2023-12-14 23:37:36.561103: I tensorflow/core/framework/local_rendezvous.cc:421] Local rendezvous recv item cancelled. Key hash: 5640187878637657889\n"
     ]
    },
    {
     "name": "stdout",
     "output_type": "stream",
     "text": [
      "25/25 [==============================] - 1s 32ms/step - loss: 3259.5088\n",
      "Epoch 551/1000\n",
      " 4/25 [===>..........................] - ETA: 0s - loss: 3258.9895"
     ]
    },
    {
     "name": "stderr",
     "output_type": "stream",
     "text": [
      "2023-12-14 23:37:37.387167: I tensorflow/core/framework/local_rendezvous.cc:421] Local rendezvous recv item cancelled. Key hash: 5640187878637657889\n"
     ]
    },
    {
     "name": "stdout",
     "output_type": "stream",
     "text": [
      "25/25 [==============================] - 1s 32ms/step - loss: 3255.3555\n",
      "Epoch 552/1000\n",
      " 6/25 [======>.......................] - ETA: 0s - loss: 3254.4888"
     ]
    },
    {
     "name": "stderr",
     "output_type": "stream",
     "text": [
      "2023-12-14 23:37:38.221106: I tensorflow/core/framework/local_rendezvous.cc:421] Local rendezvous recv item cancelled. Key hash: 5640187878637657889\n"
     ]
    },
    {
     "name": "stdout",
     "output_type": "stream",
     "text": [
      "25/25 [==============================] - 1s 32ms/step - loss: 3251.2268\n",
      "Epoch 553/1000\n",
      " 6/25 [======>.......................] - ETA: 0s - loss: 3250.3708"
     ]
    },
    {
     "name": "stderr",
     "output_type": "stream",
     "text": [
      "2023-12-14 23:37:39.038170: I tensorflow/core/framework/local_rendezvous.cc:421] Local rendezvous recv item cancelled. Key hash: 5640187878637657889\n"
     ]
    },
    {
     "name": "stdout",
     "output_type": "stream",
     "text": [
      "25/25 [==============================] - 1s 32ms/step - loss: 3247.1128\n",
      "Epoch 554/1000\n",
      " 4/25 [===>..........................] - ETA: 0s - loss: 3246.6023"
     ]
    },
    {
     "name": "stderr",
     "output_type": "stream",
     "text": [
      "2023-12-14 23:37:39.878851: I tensorflow/core/framework/local_rendezvous.cc:421] Local rendezvous recv item cancelled. Key hash: 5640187878637657889\n"
     ]
    },
    {
     "name": "stdout",
     "output_type": "stream",
     "text": [
      "25/25 [==============================] - 1s 33ms/step - loss: 3243.0105\n",
      "Epoch 555/1000\n",
      " 4/25 [===>..........................] - ETA: 0s - loss: 3242.4990"
     ]
    },
    {
     "name": "stderr",
     "output_type": "stream",
     "text": [
      "2023-12-14 23:37:40.734535: I tensorflow/core/framework/local_rendezvous.cc:421] Local rendezvous recv item cancelled. Key hash: 5640187878637657889\n"
     ]
    },
    {
     "name": "stdout",
     "output_type": "stream",
     "text": [
      "25/25 [==============================] - 1s 32ms/step - loss: 3238.9065\n",
      "Epoch 556/1000\n",
      " 6/25 [======>.......................] - ETA: 0s - loss: 3238.0581"
     ]
    },
    {
     "name": "stderr",
     "output_type": "stream",
     "text": [
      "2023-12-14 23:37:41.572466: I tensorflow/core/framework/local_rendezvous.cc:421] Local rendezvous recv item cancelled. Key hash: 5640187878637657889\n"
     ]
    },
    {
     "name": "stdout",
     "output_type": "stream",
     "text": [
      "25/25 [==============================] - 1s 32ms/step - loss: 3234.8240\n",
      "Epoch 557/1000\n",
      " 6/25 [======>.......................] - ETA: 0s - loss: 3233.9778"
     ]
    },
    {
     "name": "stderr",
     "output_type": "stream",
     "text": [
      "2023-12-14 23:37:42.399968: I tensorflow/core/framework/local_rendezvous.cc:421] Local rendezvous recv item cancelled. Key hash: 5640187878637657889\n"
     ]
    },
    {
     "name": "stdout",
     "output_type": "stream",
     "text": [
      "25/25 [==============================] - 1s 32ms/step - loss: 3230.7507\n",
      "Epoch 558/1000\n",
      " 6/25 [======>.......................] - ETA: 0s - loss: 3229.9028"
     ]
    },
    {
     "name": "stderr",
     "output_type": "stream",
     "text": [
      "2023-12-14 23:37:43.238216: I tensorflow/core/framework/local_rendezvous.cc:421] Local rendezvous recv item cancelled. Key hash: 5640187878637657889\n"
     ]
    },
    {
     "name": "stdout",
     "output_type": "stream",
     "text": [
      "25/25 [==============================] - 1s 32ms/step - loss: 3226.6787\n",
      "Epoch 559/1000\n",
      " 4/25 [===>..........................] - ETA: 0s - loss: 3226.1724"
     ]
    },
    {
     "name": "stderr",
     "output_type": "stream",
     "text": [
      "2023-12-14 23:37:44.070814: I tensorflow/core/framework/local_rendezvous.cc:421] Local rendezvous recv item cancelled. Key hash: 5640187878637657889\n"
     ]
    },
    {
     "name": "stdout",
     "output_type": "stream",
     "text": [
      "25/25 [==============================] - 1s 32ms/step - loss: 3222.6318\n",
      "Epoch 560/1000\n",
      " 6/25 [======>.......................] - ETA: 0s - loss: 3221.7861"
     ]
    },
    {
     "name": "stderr",
     "output_type": "stream",
     "text": [
      "2023-12-14 23:37:44.893159: I tensorflow/core/framework/local_rendezvous.cc:421] Local rendezvous recv item cancelled. Key hash: 5640187878637657889\n"
     ]
    },
    {
     "name": "stdout",
     "output_type": "stream",
     "text": [
      "25/25 [==============================] - 1s 31ms/step - loss: 3218.5947\n",
      "Epoch 561/1000\n",
      " 6/25 [======>.......................] - ETA: 0s - loss: 3217.7532"
     ]
    },
    {
     "name": "stderr",
     "output_type": "stream",
     "text": [
      "2023-12-14 23:37:45.710539: I tensorflow/core/framework/local_rendezvous.cc:421] Local rendezvous recv item cancelled. Key hash: 5640187878637657889\n"
     ]
    },
    {
     "name": "stdout",
     "output_type": "stream",
     "text": [
      "25/25 [==============================] - 1s 32ms/step - loss: 3214.5603\n",
      "Epoch 562/1000\n",
      " 6/25 [======>.......................] - ETA: 0s - loss: 3213.7236"
     ]
    },
    {
     "name": "stderr",
     "output_type": "stream",
     "text": [
      "2023-12-14 23:37:46.531492: I tensorflow/core/framework/local_rendezvous.cc:421] Local rendezvous recv item cancelled. Key hash: 5640187878637657889\n"
     ]
    },
    {
     "name": "stdout",
     "output_type": "stream",
     "text": [
      "25/25 [==============================] - 1s 32ms/step - loss: 3210.5496\n",
      "Epoch 563/1000\n",
      " 6/25 [======>.......................] - ETA: 0s - loss: 3209.7170"
     ]
    },
    {
     "name": "stderr",
     "output_type": "stream",
     "text": [
      "2023-12-14 23:37:47.354345: I tensorflow/core/framework/local_rendezvous.cc:421] Local rendezvous recv item cancelled. Key hash: 5640187878637657889\n"
     ]
    },
    {
     "name": "stdout",
     "output_type": "stream",
     "text": [
      "25/25 [==============================] - 1s 32ms/step - loss: 3206.5469\n",
      "Epoch 564/1000\n",
      " 6/25 [======>.......................] - ETA: 0s - loss: 3205.7158"
     ]
    },
    {
     "name": "stderr",
     "output_type": "stream",
     "text": [
      "2023-12-14 23:37:48.171140: I tensorflow/core/framework/local_rendezvous.cc:421] Local rendezvous recv item cancelled. Key hash: 5640187878637657889\n"
     ]
    },
    {
     "name": "stdout",
     "output_type": "stream",
     "text": [
      "25/25 [==============================] - 1s 32ms/step - loss: 3202.5486\n",
      "Epoch 565/1000\n",
      " 6/25 [======>.......................] - ETA: 0s - loss: 3201.7239"
     ]
    },
    {
     "name": "stderr",
     "output_type": "stream",
     "text": [
      "2023-12-14 23:37:48.985735: I tensorflow/core/framework/local_rendezvous.cc:421] Local rendezvous recv item cancelled. Key hash: 5640187878637657889\n"
     ]
    },
    {
     "name": "stdout",
     "output_type": "stream",
     "text": [
      "25/25 [==============================] - 1s 32ms/step - loss: 3198.5522\n",
      "Epoch 566/1000\n",
      " 6/25 [======>.......................] - ETA: 0s - loss: 3197.7249"
     ]
    },
    {
     "name": "stderr",
     "output_type": "stream",
     "text": [
      "2023-12-14 23:37:49.803650: I tensorflow/core/framework/local_rendezvous.cc:421] Local rendezvous recv item cancelled. Key hash: 5640187878637657889\n"
     ]
    },
    {
     "name": "stdout",
     "output_type": "stream",
     "text": [
      "25/25 [==============================] - 1s 32ms/step - loss: 3194.5833\n",
      "Epoch 567/1000\n",
      " 6/25 [======>.......................] - ETA: 0s - loss: 3193.7612"
     ]
    },
    {
     "name": "stderr",
     "output_type": "stream",
     "text": [
      "2023-12-14 23:37:50.643259: I tensorflow/core/framework/local_rendezvous.cc:421] Local rendezvous recv item cancelled. Key hash: 5640187878637657889\n"
     ]
    },
    {
     "name": "stdout",
     "output_type": "stream",
     "text": [
      "25/25 [==============================] - 1s 32ms/step - loss: 3190.6250\n",
      "Epoch 568/1000\n",
      " 6/25 [======>.......................] - ETA: 0s - loss: 3189.8044"
     ]
    },
    {
     "name": "stderr",
     "output_type": "stream",
     "text": [
      "2023-12-14 23:37:51.462178: I tensorflow/core/framework/local_rendezvous.cc:421] Local rendezvous recv item cancelled. Key hash: 5640187878637657889\n"
     ]
    },
    {
     "name": "stdout",
     "output_type": "stream",
     "text": [
      "25/25 [==============================] - 1s 32ms/step - loss: 3186.6772\n",
      "Epoch 569/1000\n",
      " 4/25 [===>..........................] - ETA: 0s - loss: 3186.1868"
     ]
    },
    {
     "name": "stderr",
     "output_type": "stream",
     "text": [
      "2023-12-14 23:37:52.292950: I tensorflow/core/framework/local_rendezvous.cc:421] Local rendezvous recv item cancelled. Key hash: 5640187878637657889\n"
     ]
    },
    {
     "name": "stdout",
     "output_type": "stream",
     "text": [
      "25/25 [==============================] - 1s 32ms/step - loss: 3182.7393\n",
      "Epoch 570/1000\n",
      " 4/25 [===>..........................] - ETA: 0s - loss: 3182.2490"
     ]
    },
    {
     "name": "stderr",
     "output_type": "stream",
     "text": [
      "2023-12-14 23:37:53.117716: I tensorflow/core/framework/local_rendezvous.cc:421] Local rendezvous recv item cancelled. Key hash: 5640187878637657889\n"
     ]
    },
    {
     "name": "stdout",
     "output_type": "stream",
     "text": [
      "25/25 [==============================] - 1s 32ms/step - loss: 3178.8052\n",
      "Epoch 571/1000\n",
      " 6/25 [======>.......................] - ETA: 0s - loss: 3177.9888"
     ]
    },
    {
     "name": "stderr",
     "output_type": "stream",
     "text": [
      "2023-12-14 23:37:53.950977: I tensorflow/core/framework/local_rendezvous.cc:421] Local rendezvous recv item cancelled. Key hash: 5640187878637657889\n"
     ]
    },
    {
     "name": "stdout",
     "output_type": "stream",
     "text": [
      "25/25 [==============================] - 1s 32ms/step - loss: 3174.8921\n",
      "Epoch 572/1000\n",
      " 6/25 [======>.......................] - ETA: 0s - loss: 3174.0784"
     ]
    },
    {
     "name": "stderr",
     "output_type": "stream",
     "text": [
      "2023-12-14 23:37:54.769166: I tensorflow/core/framework/local_rendezvous.cc:421] Local rendezvous recv item cancelled. Key hash: 5640187878637657889\n"
     ]
    },
    {
     "name": "stdout",
     "output_type": "stream",
     "text": [
      "25/25 [==============================] - 1s 32ms/step - loss: 3170.9861\n",
      "Epoch 573/1000\n",
      " 6/25 [======>.......................] - ETA: 0s - loss: 3170.1711"
     ]
    },
    {
     "name": "stderr",
     "output_type": "stream",
     "text": [
      "2023-12-14 23:37:55.587988: I tensorflow/core/framework/local_rendezvous.cc:421] Local rendezvous recv item cancelled. Key hash: 5640187878637657889\n"
     ]
    },
    {
     "name": "stdout",
     "output_type": "stream",
     "text": [
      "25/25 [==============================] - 1s 32ms/step - loss: 3167.0769\n",
      "Epoch 574/1000\n",
      " 6/25 [======>.......................] - ETA: 0s - loss: 3166.2693"
     ]
    },
    {
     "name": "stderr",
     "output_type": "stream",
     "text": [
      "2023-12-14 23:37:56.419122: I tensorflow/core/framework/local_rendezvous.cc:421] Local rendezvous recv item cancelled. Key hash: 5640187878637657889\n"
     ]
    },
    {
     "name": "stdout",
     "output_type": "stream",
     "text": [
      "25/25 [==============================] - 1s 31ms/step - loss: 3163.1890\n",
      "Epoch 575/1000\n",
      " 4/25 [===>..........................] - ETA: 0s - loss: 3162.7061"
     ]
    },
    {
     "name": "stderr",
     "output_type": "stream",
     "text": [
      "2023-12-14 23:37:57.225867: I tensorflow/core/framework/local_rendezvous.cc:421] Local rendezvous recv item cancelled. Key hash: 5640187878637657889\n"
     ]
    },
    {
     "name": "stdout",
     "output_type": "stream",
     "text": [
      "25/25 [==============================] - 1s 33ms/step - loss: 3159.3125\n",
      "Epoch 576/1000\n",
      " 4/25 [===>..........................] - ETA: 0s - loss: 3158.8318"
     ]
    },
    {
     "name": "stderr",
     "output_type": "stream",
     "text": [
      "2023-12-14 23:37:58.087996: I tensorflow/core/framework/local_rendezvous.cc:421] Local rendezvous recv item cancelled. Key hash: 5640187878637657889\n"
     ]
    },
    {
     "name": "stdout",
     "output_type": "stream",
     "text": [
      "25/25 [==============================] - 1s 32ms/step - loss: 3155.4607\n",
      "Epoch 577/1000\n",
      " 4/25 [===>..........................] - ETA: 0s - loss: 3154.9834"
     ]
    },
    {
     "name": "stderr",
     "output_type": "stream",
     "text": [
      "2023-12-14 23:37:58.945088: I tensorflow/core/framework/local_rendezvous.cc:421] Local rendezvous recv item cancelled. Key hash: 5640187878637657889\n"
     ]
    },
    {
     "name": "stdout",
     "output_type": "stream",
     "text": [
      "25/25 [==============================] - 1s 32ms/step - loss: 3151.6125\n",
      "Epoch 578/1000\n",
      " 4/25 [===>..........................] - ETA: 0s - loss: 3151.1328"
     ]
    },
    {
     "name": "stderr",
     "output_type": "stream",
     "text": [
      "2023-12-14 23:37:59.791292: I tensorflow/core/framework/local_rendezvous.cc:421] Local rendezvous recv item cancelled. Key hash: 5640187878637657889\n"
     ]
    },
    {
     "name": "stdout",
     "output_type": "stream",
     "text": [
      "25/25 [==============================] - 1s 32ms/step - loss: 3147.7678\n",
      "Epoch 579/1000\n",
      " 4/25 [===>..........................] - ETA: 0s - loss: 3147.2886"
     ]
    },
    {
     "name": "stderr",
     "output_type": "stream",
     "text": [
      "2023-12-14 23:38:00.644522: I tensorflow/core/framework/local_rendezvous.cc:421] Local rendezvous recv item cancelled. Key hash: 5640187878637657889\n"
     ]
    },
    {
     "name": "stdout",
     "output_type": "stream",
     "text": [
      "25/25 [==============================] - 1s 32ms/step - loss: 3143.9360\n",
      "Epoch 580/1000\n",
      " 4/25 [===>..........................] - ETA: 0s - loss: 3143.4578"
     ]
    },
    {
     "name": "stderr",
     "output_type": "stream",
     "text": [
      "2023-12-14 23:38:01.490456: I tensorflow/core/framework/local_rendezvous.cc:421] Local rendezvous recv item cancelled. Key hash: 5640187878637657889\n"
     ]
    },
    {
     "name": "stdout",
     "output_type": "stream",
     "text": [
      "25/25 [==============================] - 1s 32ms/step - loss: 3140.1211\n",
      "Epoch 581/1000\n",
      " 4/25 [===>..........................] - ETA: 0s - loss: 3139.6479"
     ]
    },
    {
     "name": "stderr",
     "output_type": "stream",
     "text": [
      "2023-12-14 23:38:02.345983: I tensorflow/core/framework/local_rendezvous.cc:421] Local rendezvous recv item cancelled. Key hash: 5640187878637657889\n"
     ]
    },
    {
     "name": "stdout",
     "output_type": "stream",
     "text": [
      "25/25 [==============================] - 1s 32ms/step - loss: 3136.3164\n",
      "Epoch 582/1000\n",
      " 6/25 [======>.......................] - ETA: 0s - loss: 3135.5271"
     ]
    },
    {
     "name": "stderr",
     "output_type": "stream",
     "text": [
      "2023-12-14 23:38:03.188091: I tensorflow/core/framework/local_rendezvous.cc:421] Local rendezvous recv item cancelled. Key hash: 5640187878637657889\n"
     ]
    },
    {
     "name": "stdout",
     "output_type": "stream",
     "text": [
      "25/25 [==============================] - 1s 32ms/step - loss: 3132.5251\n",
      "Epoch 583/1000\n",
      " 6/25 [======>.......................] - ETA: 0s - loss: 3131.7334"
     ]
    },
    {
     "name": "stderr",
     "output_type": "stream",
     "text": [
      "2023-12-14 23:38:04.007879: I tensorflow/core/framework/local_rendezvous.cc:421] Local rendezvous recv item cancelled. Key hash: 5640187878637657889\n"
     ]
    },
    {
     "name": "stdout",
     "output_type": "stream",
     "text": [
      "25/25 [==============================] - 1s 31ms/step - loss: 3128.7439\n",
      "Epoch 584/1000\n",
      " 6/25 [======>.......................] - ETA: 0s - loss: 3127.9612"
     ]
    },
    {
     "name": "stderr",
     "output_type": "stream",
     "text": [
      "2023-12-14 23:38:04.818597: I tensorflow/core/framework/local_rendezvous.cc:421] Local rendezvous recv item cancelled. Key hash: 5640187878637657889\n"
     ]
    },
    {
     "name": "stdout",
     "output_type": "stream",
     "text": [
      "25/25 [==============================] - 1s 32ms/step - loss: 3124.9783\n",
      "Epoch 585/1000\n",
      " 6/25 [======>.......................] - ETA: 0s - loss: 3124.1963"
     ]
    },
    {
     "name": "stderr",
     "output_type": "stream",
     "text": [
      "2023-12-14 23:38:05.636799: I tensorflow/core/framework/local_rendezvous.cc:421] Local rendezvous recv item cancelled. Key hash: 5640187878637657889\n"
     ]
    },
    {
     "name": "stdout",
     "output_type": "stream",
     "text": [
      "25/25 [==============================] - 1s 31ms/step - loss: 3121.2195\n",
      "Epoch 586/1000\n",
      " 6/25 [======>.......................] - ETA: 0s - loss: 3120.4382"
     ]
    },
    {
     "name": "stderr",
     "output_type": "stream",
     "text": [
      "2023-12-14 23:38:06.450353: I tensorflow/core/framework/local_rendezvous.cc:421] Local rendezvous recv item cancelled. Key hash: 5640187878637657889\n"
     ]
    },
    {
     "name": "stdout",
     "output_type": "stream",
     "text": [
      "25/25 [==============================] - 1s 32ms/step - loss: 3117.4773\n",
      "Epoch 587/1000\n",
      " 6/25 [======>.......................] - ETA: 0s - loss: 3116.6897"
     ]
    },
    {
     "name": "stderr",
     "output_type": "stream",
     "text": [
      "2023-12-14 23:38:07.269335: I tensorflow/core/framework/local_rendezvous.cc:421] Local rendezvous recv item cancelled. Key hash: 5640187878637657889\n"
     ]
    },
    {
     "name": "stdout",
     "output_type": "stream",
     "text": [
      "25/25 [==============================] - 1s 32ms/step - loss: 3113.7227\n",
      "Epoch 588/1000\n",
      " 6/25 [======>.......................] - ETA: 0s - loss: 3112.9392"
     ]
    },
    {
     "name": "stderr",
     "output_type": "stream",
     "text": [
      "2023-12-14 23:38:08.088085: I tensorflow/core/framework/local_rendezvous.cc:421] Local rendezvous recv item cancelled. Key hash: 5640187878637657889\n"
     ]
    },
    {
     "name": "stdout",
     "output_type": "stream",
     "text": [
      "25/25 [==============================] - 1s 33ms/step - loss: 3109.9827\n",
      "Epoch 589/1000\n",
      " 6/25 [======>.......................] - ETA: 0s - loss: 3109.2117"
     ]
    },
    {
     "name": "stderr",
     "output_type": "stream",
     "text": [
      "2023-12-14 23:38:08.926950: I tensorflow/core/framework/local_rendezvous.cc:421] Local rendezvous recv item cancelled. Key hash: 5640187878637657889\n"
     ]
    },
    {
     "name": "stdout",
     "output_type": "stream",
     "text": [
      "25/25 [==============================] - 1s 31ms/step - loss: 3106.2720\n",
      "Epoch 590/1000\n",
      " 6/25 [======>.......................] - ETA: 0s - loss: 3105.5037"
     ]
    },
    {
     "name": "stderr",
     "output_type": "stream",
     "text": [
      "2023-12-14 23:38:09.743150: I tensorflow/core/framework/local_rendezvous.cc:421] Local rendezvous recv item cancelled. Key hash: 5640187878637657889\n"
     ]
    },
    {
     "name": "stdout",
     "output_type": "stream",
     "text": [
      "25/25 [==============================] - 1s 31ms/step - loss: 3102.5605\n",
      "Epoch 591/1000\n",
      " 6/25 [======>.......................] - ETA: 0s - loss: 3101.7930"
     ]
    },
    {
     "name": "stderr",
     "output_type": "stream",
     "text": [
      "2023-12-14 23:38:10.557290: I tensorflow/core/framework/local_rendezvous.cc:421] Local rendezvous recv item cancelled. Key hash: 5640187878637657889\n"
     ]
    },
    {
     "name": "stdout",
     "output_type": "stream",
     "text": [
      "25/25 [==============================] - 1s 32ms/step - loss: 3098.8767\n",
      "Epoch 592/1000\n",
      " 4/25 [===>..........................] - ETA: 0s - loss: 3098.4143"
     ]
    },
    {
     "name": "stderr",
     "output_type": "stream",
     "text": [
      "2023-12-14 23:38:11.391979: I tensorflow/core/framework/local_rendezvous.cc:421] Local rendezvous recv item cancelled. Key hash: 5640187878637657889\n"
     ]
    },
    {
     "name": "stdout",
     "output_type": "stream",
     "text": [
      "25/25 [==============================] - 1s 33ms/step - loss: 3095.1763\n",
      "Epoch 593/1000\n",
      " 4/25 [===>..........................] - ETA: 0s - loss: 3094.7192"
     ]
    },
    {
     "name": "stderr",
     "output_type": "stream",
     "text": [
      "2023-12-14 23:38:12.241448: I tensorflow/core/framework/local_rendezvous.cc:421] Local rendezvous recv item cancelled. Key hash: 5640187878637657889\n"
     ]
    },
    {
     "name": "stdout",
     "output_type": "stream",
     "text": [
      "25/25 [==============================] - 1s 33ms/step - loss: 3091.5132\n",
      "Epoch 594/1000\n",
      " 6/25 [======>.......................] - ETA: 0s - loss: 3090.7427"
     ]
    },
    {
     "name": "stderr",
     "output_type": "stream",
     "text": [
      "2023-12-14 23:38:13.087178: I tensorflow/core/framework/local_rendezvous.cc:421] Local rendezvous recv item cancelled. Key hash: 5640187878637657889\n"
     ]
    },
    {
     "name": "stdout",
     "output_type": "stream",
     "text": [
      "25/25 [==============================] - 1s 32ms/step - loss: 3087.8335\n",
      "Epoch 595/1000\n",
      " 6/25 [======>.......................] - ETA: 0s - loss: 3087.0730"
     ]
    },
    {
     "name": "stderr",
     "output_type": "stream",
     "text": [
      "2023-12-14 23:38:13.909069: I tensorflow/core/framework/local_rendezvous.cc:421] Local rendezvous recv item cancelled. Key hash: 5640187878637657889\n"
     ]
    },
    {
     "name": "stdout",
     "output_type": "stream",
     "text": [
      "25/25 [==============================] - 1s 31ms/step - loss: 3084.1670\n",
      "Epoch 596/1000\n",
      " 6/25 [======>.......................] - ETA: 0s - loss: 3083.4077"
     ]
    },
    {
     "name": "stderr",
     "output_type": "stream",
     "text": [
      "2023-12-14 23:38:14.723324: I tensorflow/core/framework/local_rendezvous.cc:421] Local rendezvous recv item cancelled. Key hash: 5640187878637657889\n"
     ]
    },
    {
     "name": "stdout",
     "output_type": "stream",
     "text": [
      "25/25 [==============================] - 1s 32ms/step - loss: 3080.5247\n",
      "Epoch 597/1000\n",
      " 6/25 [======>.......................] - ETA: 0s - loss: 3079.7712"
     ]
    },
    {
     "name": "stderr",
     "output_type": "stream",
     "text": [
      "2023-12-14 23:38:15.536170: I tensorflow/core/framework/local_rendezvous.cc:421] Local rendezvous recv item cancelled. Key hash: 5640187878637657889\n"
     ]
    },
    {
     "name": "stdout",
     "output_type": "stream",
     "text": [
      "25/25 [==============================] - 1s 32ms/step - loss: 3076.8931\n",
      "Epoch 598/1000\n",
      " 6/25 [======>.......................] - ETA: 0s - loss: 3076.1421"
     ]
    },
    {
     "name": "stderr",
     "output_type": "stream",
     "text": [
      "2023-12-14 23:38:16.361571: I tensorflow/core/framework/local_rendezvous.cc:421] Local rendezvous recv item cancelled. Key hash: 5640187878637657889\n"
     ]
    },
    {
     "name": "stdout",
     "output_type": "stream",
     "text": [
      "25/25 [==============================] - 1s 31ms/step - loss: 3073.2573\n",
      "Epoch 599/1000\n",
      " 6/25 [======>.......................] - ETA: 0s - loss: 3072.4973"
     ]
    },
    {
     "name": "stderr",
     "output_type": "stream",
     "text": [
      "2023-12-14 23:38:17.177872: I tensorflow/core/framework/local_rendezvous.cc:421] Local rendezvous recv item cancelled. Key hash: 5640187878637657889\n"
     ]
    },
    {
     "name": "stdout",
     "output_type": "stream",
     "text": [
      "25/25 [==============================] - 1s 31ms/step - loss: 3069.6299\n",
      "Epoch 600/1000\n",
      " 6/25 [======>.......................] - ETA: 0s - loss: 3068.8784"
     ]
    },
    {
     "name": "stderr",
     "output_type": "stream",
     "text": [
      "2023-12-14 23:38:17.994640: I tensorflow/core/framework/local_rendezvous.cc:421] Local rendezvous recv item cancelled. Key hash: 5640187878637657889\n"
     ]
    },
    {
     "name": "stdout",
     "output_type": "stream",
     "text": [
      "25/25 [==============================] - 1s 32ms/step - loss: 3066.0149\n",
      "Epoch 601/1000\n",
      " 4/25 [===>..........................] - ETA: 0s - loss: 3065.5625"
     ]
    },
    {
     "name": "stderr",
     "output_type": "stream",
     "text": [
      "2023-12-14 23:38:18.826007: I tensorflow/core/framework/local_rendezvous.cc:421] Local rendezvous recv item cancelled. Key hash: 5640187878637657889\n"
     ]
    },
    {
     "name": "stdout",
     "output_type": "stream",
     "text": [
      "25/25 [==============================] - 1s 32ms/step - loss: 3062.4141\n",
      "Epoch 602/1000\n",
      " 6/25 [======>.......................] - ETA: 0s - loss: 3061.6682"
     ]
    },
    {
     "name": "stderr",
     "output_type": "stream",
     "text": [
      "2023-12-14 23:38:19.648164: I tensorflow/core/framework/local_rendezvous.cc:421] Local rendezvous recv item cancelled. Key hash: 5640187878637657889\n"
     ]
    },
    {
     "name": "stdout",
     "output_type": "stream",
     "text": [
      "25/25 [==============================] - 1s 32ms/step - loss: 3058.8306\n",
      "Epoch 603/1000\n",
      " 6/25 [======>.......................] - ETA: 0s - loss: 3058.0950"
     ]
    },
    {
     "name": "stderr",
     "output_type": "stream",
     "text": [
      "2023-12-14 23:38:20.477443: I tensorflow/core/framework/local_rendezvous.cc:421] Local rendezvous recv item cancelled. Key hash: 5640187878637657889\n"
     ]
    },
    {
     "name": "stdout",
     "output_type": "stream",
     "text": [
      "25/25 [==============================] - 1s 32ms/step - loss: 3055.2610\n",
      "Epoch 604/1000\n",
      " 6/25 [======>.......................] - ETA: 0s - loss: 3054.5190"
     ]
    },
    {
     "name": "stderr",
     "output_type": "stream",
     "text": [
      "2023-12-14 23:38:21.306281: I tensorflow/core/framework/local_rendezvous.cc:421] Local rendezvous recv item cancelled. Key hash: 5640187878637657889\n"
     ]
    },
    {
     "name": "stdout",
     "output_type": "stream",
     "text": [
      "25/25 [==============================] - 1s 31ms/step - loss: 3051.7031\n",
      "Epoch 605/1000\n",
      " 6/25 [======>.......................] - ETA: 0s - loss: 3050.9631"
     ]
    },
    {
     "name": "stderr",
     "output_type": "stream",
     "text": [
      "2023-12-14 23:38:22.115737: I tensorflow/core/framework/local_rendezvous.cc:421] Local rendezvous recv item cancelled. Key hash: 5640187878637657889\n"
     ]
    },
    {
     "name": "stdout",
     "output_type": "stream",
     "text": [
      "25/25 [==============================] - 1s 32ms/step - loss: 3048.1494\n",
      "Epoch 606/1000\n",
      " 6/25 [======>.......................] - ETA: 0s - loss: 3047.4062"
     ]
    },
    {
     "name": "stderr",
     "output_type": "stream",
     "text": [
      "2023-12-14 23:38:22.943075: I tensorflow/core/framework/local_rendezvous.cc:421] Local rendezvous recv item cancelled. Key hash: 5640187878637657889\n"
     ]
    },
    {
     "name": "stdout",
     "output_type": "stream",
     "text": [
      "25/25 [==============================] - 1s 32ms/step - loss: 3044.5996\n",
      "Epoch 607/1000\n",
      " 6/25 [======>.......................] - ETA: 0s - loss: 3043.8606"
     ]
    },
    {
     "name": "stderr",
     "output_type": "stream",
     "text": [
      "2023-12-14 23:38:23.769207: I tensorflow/core/framework/local_rendezvous.cc:421] Local rendezvous recv item cancelled. Key hash: 5640187878637657889\n"
     ]
    },
    {
     "name": "stdout",
     "output_type": "stream",
     "text": [
      "25/25 [==============================] - 1s 32ms/step - loss: 3041.0535\n",
      "Epoch 608/1000\n",
      " 6/25 [======>.......................] - ETA: 0s - loss: 3040.3184"
     ]
    },
    {
     "name": "stderr",
     "output_type": "stream",
     "text": [
      "2023-12-14 23:38:24.591641: I tensorflow/core/framework/local_rendezvous.cc:421] Local rendezvous recv item cancelled. Key hash: 5640187878637657889\n"
     ]
    },
    {
     "name": "stdout",
     "output_type": "stream",
     "text": [
      "25/25 [==============================] - 1s 32ms/step - loss: 3037.5225\n",
      "Epoch 609/1000\n",
      " 6/25 [======>.......................] - ETA: 0s - loss: 3036.7886"
     ]
    },
    {
     "name": "stderr",
     "output_type": "stream",
     "text": [
      "2023-12-14 23:38:25.410597: I tensorflow/core/framework/local_rendezvous.cc:421] Local rendezvous recv item cancelled. Key hash: 5640187878637657889\n"
     ]
    },
    {
     "name": "stdout",
     "output_type": "stream",
     "text": [
      "25/25 [==============================] - 1s 32ms/step - loss: 3034.0039\n",
      "Epoch 610/1000\n",
      " 6/25 [======>.......................] - ETA: 0s - loss: 3033.2791"
     ]
    },
    {
     "name": "stderr",
     "output_type": "stream",
     "text": [
      "2023-12-14 23:38:26.245110: I tensorflow/core/framework/local_rendezvous.cc:421] Local rendezvous recv item cancelled. Key hash: 5640187878637657889\n"
     ]
    },
    {
     "name": "stdout",
     "output_type": "stream",
     "text": [
      "25/25 [==============================] - 1s 32ms/step - loss: 3030.5032\n",
      "Epoch 611/1000\n",
      " 4/25 [===>..........................] - ETA: 0s - loss: 3030.0654"
     ]
    },
    {
     "name": "stderr",
     "output_type": "stream",
     "text": [
      "2023-12-14 23:38:27.077904: I tensorflow/core/framework/local_rendezvous.cc:421] Local rendezvous recv item cancelled. Key hash: 5640187878637657889\n"
     ]
    },
    {
     "name": "stdout",
     "output_type": "stream",
     "text": [
      "25/25 [==============================] - 1s 32ms/step - loss: 3026.9958\n",
      "Epoch 612/1000\n",
      " 6/25 [======>.......................] - ETA: 0s - loss: 3026.2671"
     ]
    },
    {
     "name": "stderr",
     "output_type": "stream",
     "text": [
      "2023-12-14 23:38:27.910165: I tensorflow/core/framework/local_rendezvous.cc:421] Local rendezvous recv item cancelled. Key hash: 5640187878637657889\n"
     ]
    },
    {
     "name": "stdout",
     "output_type": "stream",
     "text": [
      "25/25 [==============================] - 1s 31ms/step - loss: 3023.4973\n",
      "Epoch 613/1000\n",
      " 6/25 [======>.......................] - ETA: 0s - loss: 3022.7678"
     ]
    },
    {
     "name": "stderr",
     "output_type": "stream",
     "text": [
      "2023-12-14 23:38:28.725578: I tensorflow/core/framework/local_rendezvous.cc:421] Local rendezvous recv item cancelled. Key hash: 5640187878637657889\n"
     ]
    },
    {
     "name": "stdout",
     "output_type": "stream",
     "text": [
      "25/25 [==============================] - 1s 32ms/step - loss: 3020.0076\n",
      "Epoch 614/1000\n",
      " 6/25 [======>.......................] - ETA: 0s - loss: 3019.2842"
     ]
    },
    {
     "name": "stderr",
     "output_type": "stream",
     "text": [
      "2023-12-14 23:38:29.553906: I tensorflow/core/framework/local_rendezvous.cc:421] Local rendezvous recv item cancelled. Key hash: 5640187878637657889\n"
     ]
    },
    {
     "name": "stdout",
     "output_type": "stream",
     "text": [
      "25/25 [==============================] - 1s 32ms/step - loss: 3016.5393\n",
      "Epoch 615/1000\n",
      " 6/25 [======>.......................] - ETA: 0s - loss: 3015.8176"
     ]
    },
    {
     "name": "stderr",
     "output_type": "stream",
     "text": [
      "2023-12-14 23:38:30.375719: I tensorflow/core/framework/local_rendezvous.cc:421] Local rendezvous recv item cancelled. Key hash: 5640187878637657889\n"
     ]
    },
    {
     "name": "stdout",
     "output_type": "stream",
     "text": [
      "25/25 [==============================] - 1s 32ms/step - loss: 3013.0747\n",
      "Epoch 616/1000\n",
      " 6/25 [======>.......................] - ETA: 0s - loss: 3012.3547"
     ]
    },
    {
     "name": "stderr",
     "output_type": "stream",
     "text": [
      "2023-12-14 23:38:31.193098: I tensorflow/core/framework/local_rendezvous.cc:421] Local rendezvous recv item cancelled. Key hash: 5640187878637657889\n"
     ]
    },
    {
     "name": "stdout",
     "output_type": "stream",
     "text": [
      "25/25 [==============================] - 1s 31ms/step - loss: 3009.6030\n",
      "Epoch 617/1000\n",
      " 6/25 [======>.......................] - ETA: 0s - loss: 3008.8843"
     ]
    },
    {
     "name": "stderr",
     "output_type": "stream",
     "text": [
      "2023-12-14 23:38:32.005221: I tensorflow/core/framework/local_rendezvous.cc:421] Local rendezvous recv item cancelled. Key hash: 5640187878637657889\n"
     ]
    },
    {
     "name": "stdout",
     "output_type": "stream",
     "text": [
      "25/25 [==============================] - 1s 32ms/step - loss: 3006.1470\n",
      "Epoch 618/1000\n",
      " 6/25 [======>.......................] - ETA: 0s - loss: 3005.4299"
     ]
    },
    {
     "name": "stderr",
     "output_type": "stream",
     "text": [
      "2023-12-14 23:38:32.825255: I tensorflow/core/framework/local_rendezvous.cc:421] Local rendezvous recv item cancelled. Key hash: 5640187878637657889\n"
     ]
    },
    {
     "name": "stdout",
     "output_type": "stream",
     "text": [
      "25/25 [==============================] - 1s 31ms/step - loss: 3002.7119\n",
      "Epoch 619/1000\n",
      " 6/25 [======>.......................] - ETA: 0s - loss: 3001.9939"
     ]
    },
    {
     "name": "stderr",
     "output_type": "stream",
     "text": [
      "2023-12-14 23:38:33.638031: I tensorflow/core/framework/local_rendezvous.cc:421] Local rendezvous recv item cancelled. Key hash: 5640187878637657889\n"
     ]
    },
    {
     "name": "stdout",
     "output_type": "stream",
     "text": [
      "25/25 [==============================] - 1s 32ms/step - loss: 2999.2776\n",
      "Epoch 620/1000\n",
      " 6/25 [======>.......................] - ETA: 0s - loss: 2998.5662"
     ]
    },
    {
     "name": "stderr",
     "output_type": "stream",
     "text": [
      "2023-12-14 23:38:34.454194: I tensorflow/core/framework/local_rendezvous.cc:421] Local rendezvous recv item cancelled. Key hash: 5640187878637657889\n"
     ]
    },
    {
     "name": "stdout",
     "output_type": "stream",
     "text": [
      "25/25 [==============================] - 1s 32ms/step - loss: 2995.8586\n",
      "Epoch 621/1000\n",
      " 6/25 [======>.......................] - ETA: 0s - loss: 2995.1479"
     ]
    },
    {
     "name": "stderr",
     "output_type": "stream",
     "text": [
      "2023-12-14 23:38:35.277869: I tensorflow/core/framework/local_rendezvous.cc:421] Local rendezvous recv item cancelled. Key hash: 5640187878637657889\n"
     ]
    },
    {
     "name": "stdout",
     "output_type": "stream",
     "text": [
      "25/25 [==============================] - 1s 31ms/step - loss: 2992.4509\n",
      "Epoch 622/1000\n",
      " 6/25 [======>.......................] - ETA: 0s - loss: 2991.7417"
     ]
    },
    {
     "name": "stderr",
     "output_type": "stream",
     "text": [
      "2023-12-14 23:38:36.094109: I tensorflow/core/framework/local_rendezvous.cc:421] Local rendezvous recv item cancelled. Key hash: 5640187878637657889\n"
     ]
    },
    {
     "name": "stdout",
     "output_type": "stream",
     "text": [
      "25/25 [==============================] - 1s 32ms/step - loss: 2989.0449\n",
      "Epoch 623/1000\n",
      " 6/25 [======>.......................] - ETA: 0s - loss: 2988.3396"
     ]
    },
    {
     "name": "stderr",
     "output_type": "stream",
     "text": [
      "2023-12-14 23:38:36.915147: I tensorflow/core/framework/local_rendezvous.cc:421] Local rendezvous recv item cancelled. Key hash: 5640187878637657889\n"
     ]
    },
    {
     "name": "stdout",
     "output_type": "stream",
     "text": [
      "25/25 [==============================] - 1s 32ms/step - loss: 2985.6423\n",
      "Epoch 624/1000\n",
      " 6/25 [======>.......................] - ETA: 0s - loss: 2984.9319"
     ]
    },
    {
     "name": "stderr",
     "output_type": "stream",
     "text": [
      "2023-12-14 23:38:37.735171: I tensorflow/core/framework/local_rendezvous.cc:421] Local rendezvous recv item cancelled. Key hash: 5640187878637657889\n"
     ]
    },
    {
     "name": "stdout",
     "output_type": "stream",
     "text": [
      "25/25 [==============================] - 1s 31ms/step - loss: 2982.2517\n",
      "Epoch 625/1000\n",
      " 6/25 [======>.......................] - ETA: 0s - loss: 2981.5464"
     ]
    },
    {
     "name": "stderr",
     "output_type": "stream",
     "text": [
      "2023-12-14 23:38:38.543411: I tensorflow/core/framework/local_rendezvous.cc:421] Local rendezvous recv item cancelled. Key hash: 5640187878637657889\n"
     ]
    },
    {
     "name": "stdout",
     "output_type": "stream",
     "text": [
      "25/25 [==============================] - 1s 31ms/step - loss: 2978.8770\n",
      "Epoch 626/1000\n",
      " 6/25 [======>.......................] - ETA: 0s - loss: 2978.1746"
     ]
    },
    {
     "name": "stderr",
     "output_type": "stream",
     "text": [
      "2023-12-14 23:38:39.355226: I tensorflow/core/framework/local_rendezvous.cc:421] Local rendezvous recv item cancelled. Key hash: 5640187878637657889\n"
     ]
    },
    {
     "name": "stdout",
     "output_type": "stream",
     "text": [
      "25/25 [==============================] - 1s 32ms/step - loss: 2975.5156\n",
      "Epoch 627/1000\n",
      " 6/25 [======>.......................] - ETA: 0s - loss: 2974.8186"
     ]
    },
    {
     "name": "stderr",
     "output_type": "stream",
     "text": [
      "2023-12-14 23:38:40.171360: I tensorflow/core/framework/local_rendezvous.cc:421] Local rendezvous recv item cancelled. Key hash: 5640187878637657889\n"
     ]
    },
    {
     "name": "stdout",
     "output_type": "stream",
     "text": [
      "25/25 [==============================] - 1s 31ms/step - loss: 2972.1609\n",
      "Epoch 628/1000\n",
      " 6/25 [======>.......................] - ETA: 0s - loss: 2971.4639"
     ]
    },
    {
     "name": "stderr",
     "output_type": "stream",
     "text": [
      "2023-12-14 23:38:40.987146: I tensorflow/core/framework/local_rendezvous.cc:421] Local rendezvous recv item cancelled. Key hash: 5640187878637657889\n"
     ]
    },
    {
     "name": "stdout",
     "output_type": "stream",
     "text": [
      "25/25 [==============================] - 1s 32ms/step - loss: 2968.8108\n",
      "Epoch 629/1000\n",
      " 4/25 [===>..........................] - ETA: 0s - loss: 2968.3955"
     ]
    },
    {
     "name": "stderr",
     "output_type": "stream",
     "text": [
      "2023-12-14 23:38:41.807766: I tensorflow/core/framework/local_rendezvous.cc:421] Local rendezvous recv item cancelled. Key hash: 5640187878637657889\n"
     ]
    },
    {
     "name": "stdout",
     "output_type": "stream",
     "text": [
      "25/25 [==============================] - 1s 32ms/step - loss: 2965.4739\n",
      "Epoch 630/1000\n",
      " 6/25 [======>.......................] - ETA: 0s - loss: 2964.7817"
     ]
    },
    {
     "name": "stderr",
     "output_type": "stream",
     "text": [
      "2023-12-14 23:38:42.654279: I tensorflow/core/framework/local_rendezvous.cc:421] Local rendezvous recv item cancelled. Key hash: 5640187878637657889\n"
     ]
    },
    {
     "name": "stdout",
     "output_type": "stream",
     "text": [
      "25/25 [==============================] - 1s 32ms/step - loss: 2962.1367\n",
      "Epoch 631/1000\n",
      " 6/25 [======>.......................] - ETA: 0s - loss: 2961.4392"
     ]
    },
    {
     "name": "stderr",
     "output_type": "stream",
     "text": [
      "2023-12-14 23:38:43.488965: I tensorflow/core/framework/local_rendezvous.cc:421] Local rendezvous recv item cancelled. Key hash: 5640187878637657889\n"
     ]
    },
    {
     "name": "stdout",
     "output_type": "stream",
     "text": [
      "25/25 [==============================] - 1s 32ms/step - loss: 2958.8057\n",
      "Epoch 632/1000\n",
      " 6/25 [======>.......................] - ETA: 0s - loss: 2958.1113"
     ]
    },
    {
     "name": "stderr",
     "output_type": "stream",
     "text": [
      "2023-12-14 23:38:44.329356: I tensorflow/core/framework/local_rendezvous.cc:421] Local rendezvous recv item cancelled. Key hash: 5640187878637657889\n"
     ]
    },
    {
     "name": "stdout",
     "output_type": "stream",
     "text": [
      "25/25 [==============================] - 1s 32ms/step - loss: 2955.4902\n",
      "Epoch 633/1000\n",
      " 6/25 [======>.......................] - ETA: 0s - loss: 2954.7959"
     ]
    },
    {
     "name": "stderr",
     "output_type": "stream",
     "text": [
      "2023-12-14 23:38:45.155041: I tensorflow/core/framework/local_rendezvous.cc:421] Local rendezvous recv item cancelled. Key hash: 5640187878637657889\n"
     ]
    },
    {
     "name": "stdout",
     "output_type": "stream",
     "text": [
      "25/25 [==============================] - 1s 33ms/step - loss: 2952.1824\n",
      "Epoch 634/1000\n",
      " 6/25 [======>.......................] - ETA: 0s - loss: 2951.4944"
     ]
    },
    {
     "name": "stderr",
     "output_type": "stream",
     "text": [
      "2023-12-14 23:38:45.995193: I tensorflow/core/framework/local_rendezvous.cc:421] Local rendezvous recv item cancelled. Key hash: 5640187878637657889\n"
     ]
    },
    {
     "name": "stdout",
     "output_type": "stream",
     "text": [
      "25/25 [==============================] - 1s 32ms/step - loss: 2948.8867\n",
      "Epoch 635/1000\n",
      " 6/25 [======>.......................] - ETA: 0s - loss: 2948.2031"
     ]
    },
    {
     "name": "stderr",
     "output_type": "stream",
     "text": [
      "2023-12-14 23:38:46.828994: I tensorflow/core/framework/local_rendezvous.cc:421] Local rendezvous recv item cancelled. Key hash: 5640187878637657889\n"
     ]
    },
    {
     "name": "stdout",
     "output_type": "stream",
     "text": [
      "25/25 [==============================] - 1s 32ms/step - loss: 2945.6023\n",
      "Epoch 636/1000\n",
      " 4/25 [===>..........................] - ETA: 0s - loss: 2945.1917"
     ]
    },
    {
     "name": "stderr",
     "output_type": "stream",
     "text": [
      "2023-12-14 23:38:47.666188: I tensorflow/core/framework/local_rendezvous.cc:421] Local rendezvous recv item cancelled. Key hash: 5640187878637657889\n"
     ]
    },
    {
     "name": "stdout",
     "output_type": "stream",
     "text": [
      "25/25 [==============================] - 1s 33ms/step - loss: 2942.3245\n",
      "Epoch 637/1000\n",
      " 4/25 [===>..........................] - ETA: 0s - loss: 2941.9143"
     ]
    },
    {
     "name": "stderr",
     "output_type": "stream",
     "text": [
      "2023-12-14 23:38:48.514270: I tensorflow/core/framework/local_rendezvous.cc:421] Local rendezvous recv item cancelled. Key hash: 5640187878637657889\n"
     ]
    },
    {
     "name": "stdout",
     "output_type": "stream",
     "text": [
      "25/25 [==============================] - 1s 33ms/step - loss: 2939.0554\n",
      "Epoch 638/1000\n",
      " 6/25 [======>.......................] - ETA: 0s - loss: 2938.3750"
     ]
    },
    {
     "name": "stderr",
     "output_type": "stream",
     "text": [
      "2023-12-14 23:38:49.370201: I tensorflow/core/framework/local_rendezvous.cc:421] Local rendezvous recv item cancelled. Key hash: 5640187878637657889\n"
     ]
    },
    {
     "name": "stdout",
     "output_type": "stream",
     "text": [
      "25/25 [==============================] - 1s 32ms/step - loss: 2935.7969\n",
      "Epoch 639/1000\n",
      " 6/25 [======>.......................] - ETA: 0s - loss: 2935.1165"
     ]
    },
    {
     "name": "stderr",
     "output_type": "stream",
     "text": [
      "2023-12-14 23:38:50.205239: I tensorflow/core/framework/local_rendezvous.cc:421] Local rendezvous recv item cancelled. Key hash: 5640187878637657889\n"
     ]
    },
    {
     "name": "stdout",
     "output_type": "stream",
     "text": [
      "25/25 [==============================] - 1s 32ms/step - loss: 2932.5393\n",
      "Epoch 640/1000\n",
      " 6/25 [======>.......................] - ETA: 0s - loss: 2931.8630"
     ]
    },
    {
     "name": "stderr",
     "output_type": "stream",
     "text": [
      "2023-12-14 23:38:51.039289: I tensorflow/core/framework/local_rendezvous.cc:421] Local rendezvous recv item cancelled. Key hash: 5640187878637657889\n"
     ]
    },
    {
     "name": "stdout",
     "output_type": "stream",
     "text": [
      "25/25 [==============================] - 1s 32ms/step - loss: 2929.2903\n",
      "Epoch 641/1000\n",
      " 4/25 [===>..........................] - ETA: 0s - loss: 2928.8833"
     ]
    },
    {
     "name": "stderr",
     "output_type": "stream",
     "text": [
      "2023-12-14 23:38:51.872411: I tensorflow/core/framework/local_rendezvous.cc:421] Local rendezvous recv item cancelled. Key hash: 5640187878637657889\n"
     ]
    },
    {
     "name": "stdout",
     "output_type": "stream",
     "text": [
      "25/25 [==============================] - 1s 32ms/step - loss: 2926.0503\n",
      "Epoch 642/1000\n",
      " 4/25 [===>..........................] - ETA: 0s - loss: 2925.6477"
     ]
    },
    {
     "name": "stderr",
     "output_type": "stream",
     "text": [
      "2023-12-14 23:38:52.712822: I tensorflow/core/framework/local_rendezvous.cc:421] Local rendezvous recv item cancelled. Key hash: 5640187878637657889\n"
     ]
    },
    {
     "name": "stdout",
     "output_type": "stream",
     "text": [
      "25/25 [==============================] - 1s 33ms/step - loss: 2922.8203\n",
      "Epoch 643/1000\n",
      " 6/25 [======>.......................] - ETA: 0s - loss: 2922.1504"
     ]
    },
    {
     "name": "stderr",
     "output_type": "stream",
     "text": [
      "2023-12-14 23:38:53.556437: I tensorflow/core/framework/local_rendezvous.cc:421] Local rendezvous recv item cancelled. Key hash: 5640187878637657889\n"
     ]
    },
    {
     "name": "stdout",
     "output_type": "stream",
     "text": [
      "25/25 [==============================] - 1s 33ms/step - loss: 2919.6067\n",
      "Epoch 644/1000\n",
      " 6/25 [======>.......................] - ETA: 0s - loss: 2918.9353"
     ]
    },
    {
     "name": "stderr",
     "output_type": "stream",
     "text": [
      "2023-12-14 23:38:54.404352: I tensorflow/core/framework/local_rendezvous.cc:421] Local rendezvous recv item cancelled. Key hash: 5640187878637657889\n"
     ]
    },
    {
     "name": "stdout",
     "output_type": "stream",
     "text": [
      "25/25 [==============================] - 1s 32ms/step - loss: 2916.3933\n",
      "Epoch 645/1000\n",
      " 6/25 [======>.......................] - ETA: 0s - loss: 2915.7256"
     ]
    },
    {
     "name": "stderr",
     "output_type": "stream",
     "text": [
      "2023-12-14 23:38:55.238401: I tensorflow/core/framework/local_rendezvous.cc:421] Local rendezvous recv item cancelled. Key hash: 5640187878637657889\n"
     ]
    },
    {
     "name": "stdout",
     "output_type": "stream",
     "text": [
      "25/25 [==============================] - 1s 32ms/step - loss: 2913.1936\n",
      "Epoch 646/1000\n",
      " 6/25 [======>.......................] - ETA: 0s - loss: 2912.5281"
     ]
    },
    {
     "name": "stderr",
     "output_type": "stream",
     "text": [
      "2023-12-14 23:38:56.070994: I tensorflow/core/framework/local_rendezvous.cc:421] Local rendezvous recv item cancelled. Key hash: 5640187878637657889\n"
     ]
    },
    {
     "name": "stdout",
     "output_type": "stream",
     "text": [
      "25/25 [==============================] - 1s 32ms/step - loss: 2909.9998\n",
      "Epoch 647/1000\n",
      " 4/25 [===>..........................] - ETA: 0s - loss: 2909.6008"
     ]
    },
    {
     "name": "stderr",
     "output_type": "stream",
     "text": [
      "2023-12-14 23:38:56.904810: I tensorflow/core/framework/local_rendezvous.cc:421] Local rendezvous recv item cancelled. Key hash: 5640187878637657889\n"
     ]
    },
    {
     "name": "stdout",
     "output_type": "stream",
     "text": [
      "25/25 [==============================] - 1s 32ms/step - loss: 2906.8018\n",
      "Epoch 648/1000\n",
      " 4/25 [===>..........................] - ETA: 0s - loss: 2906.4031"
     ]
    },
    {
     "name": "stderr",
     "output_type": "stream",
     "text": [
      "2023-12-14 23:38:57.743997: I tensorflow/core/framework/local_rendezvous.cc:421] Local rendezvous recv item cancelled. Key hash: 5640187878637657889\n"
     ]
    },
    {
     "name": "stdout",
     "output_type": "stream",
     "text": [
      "25/25 [==============================] - 1s 32ms/step - loss: 2903.6204\n",
      "Epoch 649/1000\n",
      " 4/25 [===>..........................] - ETA: 0s - loss: 2903.2246"
     ]
    },
    {
     "name": "stderr",
     "output_type": "stream",
     "text": [
      "2023-12-14 23:38:58.587849: I tensorflow/core/framework/local_rendezvous.cc:421] Local rendezvous recv item cancelled. Key hash: 5640187878637657889\n"
     ]
    },
    {
     "name": "stdout",
     "output_type": "stream",
     "text": [
      "25/25 [==============================] - 1s 32ms/step - loss: 2900.4514\n",
      "Epoch 650/1000\n",
      " 4/25 [===>..........................] - ETA: 0s - loss: 2900.0554"
     ]
    },
    {
     "name": "stderr",
     "output_type": "stream",
     "text": [
      "2023-12-14 23:38:59.426843: I tensorflow/core/framework/local_rendezvous.cc:421] Local rendezvous recv item cancelled. Key hash: 5640187878637657889\n"
     ]
    },
    {
     "name": "stdout",
     "output_type": "stream",
     "text": [
      "25/25 [==============================] - 1s 33ms/step - loss: 2897.2920\n",
      "Epoch 651/1000\n",
      " 4/25 [===>..........................] - ETA: 0s - loss: 2896.9016"
     ]
    },
    {
     "name": "stderr",
     "output_type": "stream",
     "text": [
      "2023-12-14 23:39:00.273399: I tensorflow/core/framework/local_rendezvous.cc:421] Local rendezvous recv item cancelled. Key hash: 5640187878637657889\n"
     ]
    },
    {
     "name": "stdout",
     "output_type": "stream",
     "text": [
      "25/25 [==============================] - 1s 33ms/step - loss: 2894.1316\n",
      "Epoch 652/1000\n",
      " 4/25 [===>..........................] - ETA: 0s - loss: 2893.7378"
     ]
    },
    {
     "name": "stderr",
     "output_type": "stream",
     "text": [
      "2023-12-14 23:39:01.121173: I tensorflow/core/framework/local_rendezvous.cc:421] Local rendezvous recv item cancelled. Key hash: 5640187878637657889\n"
     ]
    },
    {
     "name": "stdout",
     "output_type": "stream",
     "text": [
      "25/25 [==============================] - 1s 32ms/step - loss: 2890.9871\n",
      "Epoch 653/1000\n",
      " 4/25 [===>..........................] - ETA: 0s - loss: 2890.5940"
     ]
    },
    {
     "name": "stderr",
     "output_type": "stream",
     "text": [
      "2023-12-14 23:39:01.962040: I tensorflow/core/framework/local_rendezvous.cc:421] Local rendezvous recv item cancelled. Key hash: 5640187878637657889\n"
     ]
    },
    {
     "name": "stdout",
     "output_type": "stream",
     "text": [
      "25/25 [==============================] - 1s 33ms/step - loss: 2887.8506\n",
      "Epoch 654/1000\n",
      " 4/25 [===>..........................] - ETA: 0s - loss: 2887.4587"
     ]
    },
    {
     "name": "stderr",
     "output_type": "stream",
     "text": [
      "2023-12-14 23:39:02.811627: I tensorflow/core/framework/local_rendezvous.cc:421] Local rendezvous recv item cancelled. Key hash: 5640187878637657889\n"
     ]
    },
    {
     "name": "stdout",
     "output_type": "stream",
     "text": [
      "25/25 [==============================] - 1s 32ms/step - loss: 2884.7083\n",
      "Epoch 655/1000\n",
      " 4/25 [===>..........................] - ETA: 0s - loss: 2884.3169"
     ]
    },
    {
     "name": "stderr",
     "output_type": "stream",
     "text": [
      "2023-12-14 23:39:03.655769: I tensorflow/core/framework/local_rendezvous.cc:421] Local rendezvous recv item cancelled. Key hash: 5640187878637657889\n"
     ]
    },
    {
     "name": "stdout",
     "output_type": "stream",
     "text": [
      "25/25 [==============================] - 1s 32ms/step - loss: 2881.5764\n",
      "Epoch 656/1000\n",
      " 4/25 [===>..........................] - ETA: 0s - loss: 2881.1868"
     ]
    },
    {
     "name": "stderr",
     "output_type": "stream",
     "text": [
      "2023-12-14 23:39:04.505186: I tensorflow/core/framework/local_rendezvous.cc:421] Local rendezvous recv item cancelled. Key hash: 5640187878637657889\n"
     ]
    },
    {
     "name": "stdout",
     "output_type": "stream",
     "text": [
      "25/25 [==============================] - 1s 32ms/step - loss: 2878.4626\n",
      "Epoch 657/1000\n",
      " 6/25 [======>.......................] - ETA: 0s - loss: 2877.8101"
     ]
    },
    {
     "name": "stderr",
     "output_type": "stream",
     "text": [
      "2023-12-14 23:39:05.345231: I tensorflow/core/framework/local_rendezvous.cc:421] Local rendezvous recv item cancelled. Key hash: 5640187878637657889\n"
     ]
    },
    {
     "name": "stdout",
     "output_type": "stream",
     "text": [
      "25/25 [==============================] - 1s 33ms/step - loss: 2875.3533\n",
      "Epoch 658/1000\n",
      " 6/25 [======>.......................] - ETA: 0s - loss: 2874.7092"
     ]
    },
    {
     "name": "stderr",
     "output_type": "stream",
     "text": [
      "2023-12-14 23:39:06.188015: I tensorflow/core/framework/local_rendezvous.cc:421] Local rendezvous recv item cancelled. Key hash: 5640187878637657889\n"
     ]
    },
    {
     "name": "stdout",
     "output_type": "stream",
     "text": [
      "25/25 [==============================] - 1s 32ms/step - loss: 2872.2566\n",
      "Epoch 659/1000\n",
      " 6/25 [======>.......................] - ETA: 0s - loss: 2871.6138"
     ]
    },
    {
     "name": "stderr",
     "output_type": "stream",
     "text": [
      "2023-12-14 23:39:07.020937: I tensorflow/core/framework/local_rendezvous.cc:421] Local rendezvous recv item cancelled. Key hash: 5640187878637657889\n"
     ]
    },
    {
     "name": "stdout",
     "output_type": "stream",
     "text": [
      "25/25 [==============================] - 1s 32ms/step - loss: 2869.1560\n",
      "Epoch 660/1000\n",
      " 6/25 [======>.......................] - ETA: 0s - loss: 2868.5105"
     ]
    },
    {
     "name": "stderr",
     "output_type": "stream",
     "text": [
      "2023-12-14 23:39:07.855005: I tensorflow/core/framework/local_rendezvous.cc:421] Local rendezvous recv item cancelled. Key hash: 5640187878637657889\n"
     ]
    },
    {
     "name": "stdout",
     "output_type": "stream",
     "text": [
      "25/25 [==============================] - 1s 32ms/step - loss: 2866.0688\n",
      "Epoch 661/1000\n",
      " 6/25 [======>.......................] - ETA: 0s - loss: 2865.4265"
     ]
    },
    {
     "name": "stderr",
     "output_type": "stream",
     "text": [
      "2023-12-14 23:39:08.688182: I tensorflow/core/framework/local_rendezvous.cc:421] Local rendezvous recv item cancelled. Key hash: 5640187878637657889\n"
     ]
    },
    {
     "name": "stdout",
     "output_type": "stream",
     "text": [
      "25/25 [==============================] - 1s 33ms/step - loss: 2862.9841\n",
      "Epoch 662/1000\n",
      " 6/25 [======>.......................] - ETA: 0s - loss: 2862.3469"
     ]
    },
    {
     "name": "stderr",
     "output_type": "stream",
     "text": [
      "2023-12-14 23:39:09.525499: I tensorflow/core/framework/local_rendezvous.cc:421] Local rendezvous recv item cancelled. Key hash: 5640187878637657889\n"
     ]
    },
    {
     "name": "stdout",
     "output_type": "stream",
     "text": [
      "25/25 [==============================] - 1s 33ms/step - loss: 2859.9177\n",
      "Epoch 663/1000\n",
      " 6/25 [======>.......................] - ETA: 0s - loss: 2859.2776"
     ]
    },
    {
     "name": "stderr",
     "output_type": "stream",
     "text": [
      "2023-12-14 23:39:10.365126: I tensorflow/core/framework/local_rendezvous.cc:421] Local rendezvous recv item cancelled. Key hash: 5640187878637657889\n"
     ]
    },
    {
     "name": "stdout",
     "output_type": "stream",
     "text": [
      "25/25 [==============================] - 1s 33ms/step - loss: 2856.8423\n",
      "Epoch 664/1000\n",
      " 6/25 [======>.......................] - ETA: 0s - loss: 2856.2085"
     ]
    },
    {
     "name": "stderr",
     "output_type": "stream",
     "text": [
      "2023-12-14 23:39:11.208745: I tensorflow/core/framework/local_rendezvous.cc:421] Local rendezvous recv item cancelled. Key hash: 5640187878637657889\n"
     ]
    },
    {
     "name": "stdout",
     "output_type": "stream",
     "text": [
      "25/25 [==============================] - 1s 32ms/step - loss: 2853.7874\n",
      "Epoch 665/1000\n",
      " 4/25 [===>..........................] - ETA: 0s - loss: 2853.4072"
     ]
    },
    {
     "name": "stderr",
     "output_type": "stream",
     "text": [
      "2023-12-14 23:39:12.038727: I tensorflow/core/framework/local_rendezvous.cc:421] Local rendezvous recv item cancelled. Key hash: 5640187878637657889\n"
     ]
    },
    {
     "name": "stdout",
     "output_type": "stream",
     "text": [
      "25/25 [==============================] - 1s 33ms/step - loss: 2850.7395\n",
      "Epoch 666/1000\n",
      " 4/25 [===>..........................] - ETA: 0s - loss: 2850.3586"
     ]
    },
    {
     "name": "stderr",
     "output_type": "stream",
     "text": [
      "2023-12-14 23:39:12.888638: I tensorflow/core/framework/local_rendezvous.cc:421] Local rendezvous recv item cancelled. Key hash: 5640187878637657889\n"
     ]
    },
    {
     "name": "stdout",
     "output_type": "stream",
     "text": [
      "25/25 [==============================] - 1s 33ms/step - loss: 2847.6992\n",
      "Epoch 667/1000\n",
      " 6/25 [======>.......................] - ETA: 0s - loss: 2847.0637"
     ]
    },
    {
     "name": "stderr",
     "output_type": "stream",
     "text": [
      "2023-12-14 23:39:13.737708: I tensorflow/core/framework/local_rendezvous.cc:421] Local rendezvous recv item cancelled. Key hash: 5640187878637657889\n"
     ]
    },
    {
     "name": "stdout",
     "output_type": "stream",
     "text": [
      "25/25 [==============================] - 1s 32ms/step - loss: 2844.6599\n",
      "Epoch 668/1000\n",
      " 6/25 [======>.......................] - ETA: 0s - loss: 2844.0291"
     ]
    },
    {
     "name": "stderr",
     "output_type": "stream",
     "text": [
      "2023-12-14 23:39:14.572133: I tensorflow/core/framework/local_rendezvous.cc:421] Local rendezvous recv item cancelled. Key hash: 5640187878637657889\n"
     ]
    },
    {
     "name": "stdout",
     "output_type": "stream",
     "text": [
      "25/25 [==============================] - 1s 32ms/step - loss: 2841.6375\n",
      "Epoch 669/1000\n",
      " 4/25 [===>..........................] - ETA: 0s - loss: 2841.2605"
     ]
    },
    {
     "name": "stderr",
     "output_type": "stream",
     "text": [
      "2023-12-14 23:39:15.405731: I tensorflow/core/framework/local_rendezvous.cc:421] Local rendezvous recv item cancelled. Key hash: 5640187878637657889\n"
     ]
    },
    {
     "name": "stdout",
     "output_type": "stream",
     "text": [
      "25/25 [==============================] - 1s 33ms/step - loss: 2838.6208\n",
      "Epoch 670/1000\n",
      " 6/25 [======>.......................] - ETA: 0s - loss: 2837.9905"
     ]
    },
    {
     "name": "stderr",
     "output_type": "stream",
     "text": [
      "2023-12-14 23:39:16.251413: I tensorflow/core/framework/local_rendezvous.cc:421] Local rendezvous recv item cancelled. Key hash: 5640187878637657889\n"
     ]
    },
    {
     "name": "stdout",
     "output_type": "stream",
     "text": [
      "25/25 [==============================] - 1s 32ms/step - loss: 2835.6077\n",
      "Epoch 671/1000\n",
      " 6/25 [======>.......................] - ETA: 0s - loss: 2834.9797"
     ]
    },
    {
     "name": "stderr",
     "output_type": "stream",
     "text": [
      "2023-12-14 23:39:17.087818: I tensorflow/core/framework/local_rendezvous.cc:421] Local rendezvous recv item cancelled. Key hash: 5640187878637657889\n"
     ]
    },
    {
     "name": "stdout",
     "output_type": "stream",
     "text": [
      "25/25 [==============================] - 1s 32ms/step - loss: 2832.5984\n",
      "Epoch 672/1000\n",
      " 6/25 [======>.......................] - ETA: 0s - loss: 2831.9739"
     ]
    },
    {
     "name": "stderr",
     "output_type": "stream",
     "text": [
      "2023-12-14 23:39:17.921659: I tensorflow/core/framework/local_rendezvous.cc:421] Local rendezvous recv item cancelled. Key hash: 5640187878637657889\n"
     ]
    },
    {
     "name": "stdout",
     "output_type": "stream",
     "text": [
      "25/25 [==============================] - 1s 32ms/step - loss: 2829.5959\n",
      "Epoch 673/1000\n",
      " 6/25 [======>.......................] - ETA: 0s - loss: 2828.9697"
     ]
    },
    {
     "name": "stderr",
     "output_type": "stream",
     "text": [
      "2023-12-14 23:39:18.755567: I tensorflow/core/framework/local_rendezvous.cc:421] Local rendezvous recv item cancelled. Key hash: 5640187878637657889\n"
     ]
    },
    {
     "name": "stdout",
     "output_type": "stream",
     "text": [
      "25/25 [==============================] - 1s 33ms/step - loss: 2826.6018\n",
      "Epoch 674/1000\n",
      " 4/25 [===>..........................] - ETA: 0s - loss: 2826.2273"
     ]
    },
    {
     "name": "stderr",
     "output_type": "stream",
     "text": [
      "2023-12-14 23:39:19.596232: I tensorflow/core/framework/local_rendezvous.cc:421] Local rendezvous recv item cancelled. Key hash: 5640187878637657889\n"
     ]
    },
    {
     "name": "stdout",
     "output_type": "stream",
     "text": [
      "25/25 [==============================] - 1s 33ms/step - loss: 2823.6147\n",
      "Epoch 675/1000\n",
      " 6/25 [======>.......................] - ETA: 0s - loss: 2822.9963"
     ]
    },
    {
     "name": "stderr",
     "output_type": "stream",
     "text": [
      "2023-12-14 23:39:20.438411: I tensorflow/core/framework/local_rendezvous.cc:421] Local rendezvous recv item cancelled. Key hash: 5640187878637657889\n"
     ]
    },
    {
     "name": "stdout",
     "output_type": "stream",
     "text": [
      "25/25 [==============================] - 1s 32ms/step - loss: 2820.6536\n",
      "Epoch 676/1000\n",
      " 4/25 [===>..........................] - ETA: 0s - loss: 2820.2820"
     ]
    },
    {
     "name": "stderr",
     "output_type": "stream",
     "text": [
      "2023-12-14 23:39:21.271951: I tensorflow/core/framework/local_rendezvous.cc:421] Local rendezvous recv item cancelled. Key hash: 5640187878637657889\n"
     ]
    },
    {
     "name": "stdout",
     "output_type": "stream",
     "text": [
      "25/25 [==============================] - 1s 32ms/step - loss: 2817.6865\n",
      "Epoch 677/1000\n",
      " 4/25 [===>..........................] - ETA: 0s - loss: 2817.3159"
     ]
    },
    {
     "name": "stderr",
     "output_type": "stream",
     "text": [
      "2023-12-14 23:39:22.113590: I tensorflow/core/framework/local_rendezvous.cc:421] Local rendezvous recv item cancelled. Key hash: 5640187878637657889\n"
     ]
    },
    {
     "name": "stdout",
     "output_type": "stream",
     "text": [
      "25/25 [==============================] - 1s 32ms/step - loss: 2814.7200\n",
      "Epoch 678/1000\n",
      " 6/25 [======>.......................] - ETA: 0s - loss: 2814.1021"
     ]
    },
    {
     "name": "stderr",
     "output_type": "stream",
     "text": [
      "2023-12-14 23:39:22.958626: I tensorflow/core/framework/local_rendezvous.cc:421] Local rendezvous recv item cancelled. Key hash: 5640187878637657889\n"
     ]
    },
    {
     "name": "stdout",
     "output_type": "stream",
     "text": [
      "25/25 [==============================] - 1s 33ms/step - loss: 2811.7769\n",
      "Epoch 679/1000\n",
      " 4/25 [===>..........................] - ETA: 0s - loss: 2811.4087"
     ]
    },
    {
     "name": "stderr",
     "output_type": "stream",
     "text": [
      "2023-12-14 23:39:23.798571: I tensorflow/core/framework/local_rendezvous.cc:421] Local rendezvous recv item cancelled. Key hash: 5640187878637657889\n"
     ]
    },
    {
     "name": "stdout",
     "output_type": "stream",
     "text": [
      "25/25 [==============================] - 1s 32ms/step - loss: 2808.8379\n",
      "Epoch 680/1000\n",
      " 4/25 [===>..........................] - ETA: 0s - loss: 2808.4670"
     ]
    },
    {
     "name": "stderr",
     "output_type": "stream",
     "text": [
      "2023-12-14 23:39:24.638070: I tensorflow/core/framework/local_rendezvous.cc:421] Local rendezvous recv item cancelled. Key hash: 5640187878637657889\n"
     ]
    },
    {
     "name": "stdout",
     "output_type": "stream",
     "text": [
      "25/25 [==============================] - 1s 32ms/step - loss: 2805.9011\n",
      "Epoch 681/1000\n",
      " 4/25 [===>..........................] - ETA: 0s - loss: 2805.5327"
     ]
    },
    {
     "name": "stderr",
     "output_type": "stream",
     "text": [
      "2023-12-14 23:39:25.475586: I tensorflow/core/framework/local_rendezvous.cc:421] Local rendezvous recv item cancelled. Key hash: 5640187878637657889\n"
     ]
    },
    {
     "name": "stdout",
     "output_type": "stream",
     "text": [
      "25/25 [==============================] - 1s 32ms/step - loss: 2802.9734\n",
      "Epoch 682/1000\n",
      " 6/25 [======>.......................] - ETA: 0s - loss: 2802.3657"
     ]
    },
    {
     "name": "stderr",
     "output_type": "stream",
     "text": [
      "2023-12-14 23:39:26.312227: I tensorflow/core/framework/local_rendezvous.cc:421] Local rendezvous recv item cancelled. Key hash: 5640187878637657889\n"
     ]
    },
    {
     "name": "stdout",
     "output_type": "stream",
     "text": [
      "25/25 [==============================] - 1s 32ms/step - loss: 2800.0457\n",
      "Epoch 683/1000\n",
      " 4/25 [===>..........................] - ETA: 0s - loss: 2799.6799"
     ]
    },
    {
     "name": "stderr",
     "output_type": "stream",
     "text": [
      "2023-12-14 23:39:27.145418: I tensorflow/core/framework/local_rendezvous.cc:421] Local rendezvous recv item cancelled. Key hash: 5640187878637657889\n"
     ]
    },
    {
     "name": "stdout",
     "output_type": "stream",
     "text": [
      "25/25 [==============================] - 1s 33ms/step - loss: 2797.1392\n",
      "Epoch 684/1000\n",
      " 6/25 [======>.......................] - ETA: 0s - loss: 2796.5308"
     ]
    },
    {
     "name": "stderr",
     "output_type": "stream",
     "text": [
      "2023-12-14 23:39:27.987679: I tensorflow/core/framework/local_rendezvous.cc:421] Local rendezvous recv item cancelled. Key hash: 5640187878637657889\n"
     ]
    },
    {
     "name": "stdout",
     "output_type": "stream",
     "text": [
      "25/25 [==============================] - 1s 32ms/step - loss: 2794.2317\n",
      "Epoch 685/1000\n",
      " 4/25 [===>..........................] - ETA: 0s - loss: 2793.8684"
     ]
    },
    {
     "name": "stderr",
     "output_type": "stream",
     "text": [
      "2023-12-14 23:39:28.820003: I tensorflow/core/framework/local_rendezvous.cc:421] Local rendezvous recv item cancelled. Key hash: 5640187878637657889\n"
     ]
    },
    {
     "name": "stdout",
     "output_type": "stream",
     "text": [
      "25/25 [==============================] - 1s 32ms/step - loss: 2791.3208\n",
      "Epoch 686/1000\n",
      " 6/25 [======>.......................] - ETA: 0s - loss: 2790.7212"
     ]
    },
    {
     "name": "stderr",
     "output_type": "stream",
     "text": [
      "2023-12-14 23:39:29.661556: I tensorflow/core/framework/local_rendezvous.cc:421] Local rendezvous recv item cancelled. Key hash: 5640187878637657889\n"
     ]
    },
    {
     "name": "stdout",
     "output_type": "stream",
     "text": [
      "25/25 [==============================] - 1s 33ms/step - loss: 2788.4226\n",
      "Epoch 687/1000\n",
      " 6/25 [======>.......................] - ETA: 0s - loss: 2787.8240"
     ]
    },
    {
     "name": "stderr",
     "output_type": "stream",
     "text": [
      "2023-12-14 23:39:30.501399: I tensorflow/core/framework/local_rendezvous.cc:421] Local rendezvous recv item cancelled. Key hash: 5640187878637657889\n"
     ]
    },
    {
     "name": "stdout",
     "output_type": "stream",
     "text": [
      "25/25 [==============================] - 1s 32ms/step - loss: 2785.5430\n",
      "Epoch 688/1000\n",
      " 4/25 [===>..........................] - ETA: 0s - loss: 2785.1821"
     ]
    },
    {
     "name": "stderr",
     "output_type": "stream",
     "text": [
      "2023-12-14 23:39:31.331809: I tensorflow/core/framework/local_rendezvous.cc:421] Local rendezvous recv item cancelled. Key hash: 5640187878637657889\n"
     ]
    },
    {
     "name": "stdout",
     "output_type": "stream",
     "text": [
      "25/25 [==============================] - 1s 32ms/step - loss: 2782.6624\n",
      "Epoch 689/1000\n",
      " 6/25 [======>.......................] - ETA: 0s - loss: 2782.0615"
     ]
    },
    {
     "name": "stderr",
     "output_type": "stream",
     "text": [
      "2023-12-14 23:39:32.171731: I tensorflow/core/framework/local_rendezvous.cc:421] Local rendezvous recv item cancelled. Key hash: 5640187878637657889\n"
     ]
    },
    {
     "name": "stdout",
     "output_type": "stream",
     "text": [
      "25/25 [==============================] - 1s 32ms/step - loss: 2779.7871\n",
      "Epoch 690/1000\n",
      " 6/25 [======>.......................] - ETA: 0s - loss: 2779.1919"
     ]
    },
    {
     "name": "stderr",
     "output_type": "stream",
     "text": [
      "2023-12-14 23:39:33.005317: I tensorflow/core/framework/local_rendezvous.cc:421] Local rendezvous recv item cancelled. Key hash: 5640187878637657889\n"
     ]
    },
    {
     "name": "stdout",
     "output_type": "stream",
     "text": [
      "25/25 [==============================] - 1s 33ms/step - loss: 2776.9189\n",
      "Epoch 691/1000\n",
      " 4/25 [===>..........................] - ETA: 0s - loss: 2776.5620"
     ]
    },
    {
     "name": "stderr",
     "output_type": "stream",
     "text": [
      "2023-12-14 23:39:33.845532: I tensorflow/core/framework/local_rendezvous.cc:421] Local rendezvous recv item cancelled. Key hash: 5640187878637657889\n"
     ]
    },
    {
     "name": "stdout",
     "output_type": "stream",
     "text": [
      "25/25 [==============================] - 1s 32ms/step - loss: 2774.0510\n",
      "Epoch 692/1000\n",
      " 4/25 [===>..........................] - ETA: 0s - loss: 2773.6943"
     ]
    },
    {
     "name": "stderr",
     "output_type": "stream",
     "text": [
      "2023-12-14 23:39:34.688729: I tensorflow/core/framework/local_rendezvous.cc:421] Local rendezvous recv item cancelled. Key hash: 5640187878637657889\n"
     ]
    },
    {
     "name": "stdout",
     "output_type": "stream",
     "text": [
      "25/25 [==============================] - 1s 32ms/step - loss: 2771.2009\n",
      "Epoch 693/1000\n",
      " 6/25 [======>.......................] - ETA: 0s - loss: 2770.6045"
     ]
    },
    {
     "name": "stderr",
     "output_type": "stream",
     "text": [
      "2023-12-14 23:39:35.528468: I tensorflow/core/framework/local_rendezvous.cc:421] Local rendezvous recv item cancelled. Key hash: 5640187878637657889\n"
     ]
    },
    {
     "name": "stdout",
     "output_type": "stream",
     "text": [
      "25/25 [==============================] - 1s 32ms/step - loss: 2768.3435\n",
      "Epoch 694/1000\n",
      " 4/25 [===>..........................] - ETA: 0s - loss: 2767.9880"
     ]
    },
    {
     "name": "stderr",
     "output_type": "stream",
     "text": [
      "2023-12-14 23:39:36.367093: I tensorflow/core/framework/local_rendezvous.cc:421] Local rendezvous recv item cancelled. Key hash: 5640187878637657889\n"
     ]
    },
    {
     "name": "stdout",
     "output_type": "stream",
     "text": [
      "25/25 [==============================] - 1s 32ms/step - loss: 2765.5107\n",
      "Epoch 695/1000\n",
      " 6/25 [======>.......................] - ETA: 0s - loss: 2764.9131"
     ]
    },
    {
     "name": "stderr",
     "output_type": "stream",
     "text": [
      "2023-12-14 23:39:37.204617: I tensorflow/core/framework/local_rendezvous.cc:421] Local rendezvous recv item cancelled. Key hash: 5640187878637657889\n"
     ]
    },
    {
     "name": "stdout",
     "output_type": "stream",
     "text": [
      "25/25 [==============================] - 1s 33ms/step - loss: 2762.6721\n",
      "Epoch 696/1000\n",
      " 4/25 [===>..........................] - ETA: 0s - loss: 2762.3169"
     ]
    },
    {
     "name": "stderr",
     "output_type": "stream",
     "text": [
      "2023-12-14 23:39:38.051259: I tensorflow/core/framework/local_rendezvous.cc:421] Local rendezvous recv item cancelled. Key hash: 5640187878637657889\n"
     ]
    },
    {
     "name": "stdout",
     "output_type": "stream",
     "text": [
      "25/25 [==============================] - 1s 33ms/step - loss: 2759.8518\n",
      "Epoch 697/1000\n",
      " 4/25 [===>..........................] - ETA: 0s - loss: 2759.4985"
     ]
    },
    {
     "name": "stderr",
     "output_type": "stream",
     "text": [
      "2023-12-14 23:39:38.905518: I tensorflow/core/framework/local_rendezvous.cc:421] Local rendezvous recv item cancelled. Key hash: 5640187878637657889\n"
     ]
    },
    {
     "name": "stdout",
     "output_type": "stream",
     "text": [
      "25/25 [==============================] - 1s 32ms/step - loss: 2757.0381\n",
      "Epoch 698/1000\n",
      " 6/25 [======>.......................] - ETA: 0s - loss: 2756.4512"
     ]
    },
    {
     "name": "stderr",
     "output_type": "stream",
     "text": [
      "2023-12-14 23:39:39.739322: I tensorflow/core/framework/local_rendezvous.cc:421] Local rendezvous recv item cancelled. Key hash: 5640187878637657889\n"
     ]
    },
    {
     "name": "stdout",
     "output_type": "stream",
     "text": [
      "25/25 [==============================] - 1s 31ms/step - loss: 2754.2234\n",
      "Epoch 699/1000\n",
      " 6/25 [======>.......................] - ETA: 0s - loss: 2753.6396"
     ]
    },
    {
     "name": "stderr",
     "output_type": "stream",
     "text": [
      "2023-12-14 23:39:40.547378: I tensorflow/core/framework/local_rendezvous.cc:421] Local rendezvous recv item cancelled. Key hash: 5640187878637657889\n"
     ]
    },
    {
     "name": "stdout",
     "output_type": "stream",
     "text": [
      "25/25 [==============================] - 1s 32ms/step - loss: 2751.4138\n",
      "Epoch 700/1000\n",
      " 6/25 [======>.......................] - ETA: 0s - loss: 2750.8306"
     ]
    },
    {
     "name": "stderr",
     "output_type": "stream",
     "text": [
      "2023-12-14 23:39:41.385798: I tensorflow/core/framework/local_rendezvous.cc:421] Local rendezvous recv item cancelled. Key hash: 5640187878637657889\n"
     ]
    },
    {
     "name": "stdout",
     "output_type": "stream",
     "text": [
      "25/25 [==============================] - 1s 32ms/step - loss: 2748.6108\n",
      "Epoch 701/1000\n",
      " 4/25 [===>..........................] - ETA: 0s - loss: 2748.2598"
     ]
    },
    {
     "name": "stderr",
     "output_type": "stream",
     "text": [
      "2023-12-14 23:39:42.207498: I tensorflow/core/framework/local_rendezvous.cc:421] Local rendezvous recv item cancelled. Key hash: 5640187878637657889\n"
     ]
    },
    {
     "name": "stdout",
     "output_type": "stream",
     "text": [
      "25/25 [==============================] - 1s 31ms/step - loss: 2745.8127\n",
      "Epoch 702/1000\n",
      " 6/25 [======>.......................] - ETA: 0s - loss: 2745.2327"
     ]
    },
    {
     "name": "stderr",
     "output_type": "stream",
     "text": [
      "2023-12-14 23:39:43.014139: I tensorflow/core/framework/local_rendezvous.cc:421] Local rendezvous recv item cancelled. Key hash: 5640187878637657889\n"
     ]
    },
    {
     "name": "stdout",
     "output_type": "stream",
     "text": [
      "25/25 [==============================] - 1s 31ms/step - loss: 2743.0266\n",
      "Epoch 703/1000\n",
      " 6/25 [======>.......................] - ETA: 0s - loss: 2742.4470"
     ]
    },
    {
     "name": "stderr",
     "output_type": "stream",
     "text": [
      "2023-12-14 23:39:43.804031: I tensorflow/core/framework/local_rendezvous.cc:421] Local rendezvous recv item cancelled. Key hash: 5640187878637657889\n"
     ]
    },
    {
     "name": "stdout",
     "output_type": "stream",
     "text": [
      "25/25 [==============================] - 1s 31ms/step - loss: 2740.2529\n",
      "Epoch 704/1000\n",
      " 6/25 [======>.......................] - ETA: 0s - loss: 2739.6694"
     ]
    },
    {
     "name": "stderr",
     "output_type": "stream",
     "text": [
      "2023-12-14 23:39:44.598968: I tensorflow/core/framework/local_rendezvous.cc:421] Local rendezvous recv item cancelled. Key hash: 5640187878637657889\n"
     ]
    },
    {
     "name": "stdout",
     "output_type": "stream",
     "text": [
      "25/25 [==============================] - 1s 31ms/step - loss: 2737.4778\n",
      "Epoch 705/1000\n",
      " 6/25 [======>.......................] - ETA: 0s - loss: 2736.9014"
     ]
    },
    {
     "name": "stderr",
     "output_type": "stream",
     "text": [
      "2023-12-14 23:39:45.402877: I tensorflow/core/framework/local_rendezvous.cc:421] Local rendezvous recv item cancelled. Key hash: 5640187878637657889\n"
     ]
    },
    {
     "name": "stdout",
     "output_type": "stream",
     "text": [
      "25/25 [==============================] - 1s 32ms/step - loss: 2734.7083\n",
      "Epoch 706/1000\n",
      " 6/25 [======>.......................] - ETA: 0s - loss: 2734.1394"
     ]
    },
    {
     "name": "stderr",
     "output_type": "stream",
     "text": [
      "2023-12-14 23:39:46.237912: I tensorflow/core/framework/local_rendezvous.cc:421] Local rendezvous recv item cancelled. Key hash: 5640187878637657889\n"
     ]
    },
    {
     "name": "stdout",
     "output_type": "stream",
     "text": [
      "25/25 [==============================] - 1s 31ms/step - loss: 2731.9502\n",
      "Epoch 707/1000\n",
      " 6/25 [======>.......................] - ETA: 0s - loss: 2731.3723"
     ]
    },
    {
     "name": "stderr",
     "output_type": "stream",
     "text": [
      "2023-12-14 23:39:47.046474: I tensorflow/core/framework/local_rendezvous.cc:421] Local rendezvous recv item cancelled. Key hash: 5640187878637657889\n"
     ]
    },
    {
     "name": "stdout",
     "output_type": "stream",
     "text": [
      "25/25 [==============================] - 1s 32ms/step - loss: 2729.1956\n",
      "Epoch 708/1000\n",
      " 6/25 [======>.......................] - ETA: 0s - loss: 2728.6250"
     ]
    },
    {
     "name": "stderr",
     "output_type": "stream",
     "text": [
      "2023-12-14 23:39:47.873878: I tensorflow/core/framework/local_rendezvous.cc:421] Local rendezvous recv item cancelled. Key hash: 5640187878637657889\n"
     ]
    },
    {
     "name": "stdout",
     "output_type": "stream",
     "text": [
      "25/25 [==============================] - 1s 32ms/step - loss: 2726.4534\n",
      "Epoch 709/1000\n",
      " 6/25 [======>.......................] - ETA: 0s - loss: 2725.8826"
     ]
    },
    {
     "name": "stderr",
     "output_type": "stream",
     "text": [
      "2023-12-14 23:39:48.702091: I tensorflow/core/framework/local_rendezvous.cc:421] Local rendezvous recv item cancelled. Key hash: 5640187878637657889\n"
     ]
    },
    {
     "name": "stdout",
     "output_type": "stream",
     "text": [
      "25/25 [==============================] - 1s 31ms/step - loss: 2723.7200\n",
      "Epoch 710/1000\n",
      " 6/25 [======>.......................] - ETA: 0s - loss: 2723.1521"
     ]
    },
    {
     "name": "stderr",
     "output_type": "stream",
     "text": [
      "2023-12-14 23:39:49.502303: I tensorflow/core/framework/local_rendezvous.cc:421] Local rendezvous recv item cancelled. Key hash: 5640187878637657889\n"
     ]
    },
    {
     "name": "stdout",
     "output_type": "stream",
     "text": [
      "25/25 [==============================] - 1s 31ms/step - loss: 2720.9910\n",
      "Epoch 711/1000\n",
      " 6/25 [======>.......................] - ETA: 0s - loss: 2720.4226"
     ]
    },
    {
     "name": "stderr",
     "output_type": "stream",
     "text": [
      "2023-12-14 23:39:50.302805: I tensorflow/core/framework/local_rendezvous.cc:421] Local rendezvous recv item cancelled. Key hash: 5640187878637657889\n"
     ]
    },
    {
     "name": "stdout",
     "output_type": "stream",
     "text": [
      "25/25 [==============================] - 1s 32ms/step - loss: 2718.2625\n",
      "Epoch 712/1000\n",
      " 6/25 [======>.......................] - ETA: 0s - loss: 2717.6951"
     ]
    },
    {
     "name": "stderr",
     "output_type": "stream",
     "text": [
      "2023-12-14 23:39:51.117564: I tensorflow/core/framework/local_rendezvous.cc:421] Local rendezvous recv item cancelled. Key hash: 5640187878637657889\n"
     ]
    },
    {
     "name": "stdout",
     "output_type": "stream",
     "text": [
      "25/25 [==============================] - 1s 32ms/step - loss: 2715.5327\n",
      "Epoch 713/1000\n",
      " 6/25 [======>.......................] - ETA: 0s - loss: 2714.9656"
     ]
    },
    {
     "name": "stderr",
     "output_type": "stream",
     "text": [
      "2023-12-14 23:39:51.953263: I tensorflow/core/framework/local_rendezvous.cc:421] Local rendezvous recv item cancelled. Key hash: 5640187878637657889\n"
     ]
    },
    {
     "name": "stdout",
     "output_type": "stream",
     "text": [
      "25/25 [==============================] - 1s 31ms/step - loss: 2712.8201\n",
      "Epoch 714/1000\n",
      " 6/25 [======>.......................] - ETA: 0s - loss: 2712.2546"
     ]
    },
    {
     "name": "stderr",
     "output_type": "stream",
     "text": [
      "2023-12-14 23:39:52.771163: I tensorflow/core/framework/local_rendezvous.cc:421] Local rendezvous recv item cancelled. Key hash: 5640187878637657889\n"
     ]
    },
    {
     "name": "stdout",
     "output_type": "stream",
     "text": [
      "25/25 [==============================] - 1s 31ms/step - loss: 2710.0984\n",
      "Epoch 715/1000\n",
      " 6/25 [======>.......................] - ETA: 0s - loss: 2709.5332"
     ]
    },
    {
     "name": "stderr",
     "output_type": "stream",
     "text": [
      "2023-12-14 23:39:53.585263: I tensorflow/core/framework/local_rendezvous.cc:421] Local rendezvous recv item cancelled. Key hash: 5640187878637657889\n"
     ]
    },
    {
     "name": "stdout",
     "output_type": "stream",
     "text": [
      "25/25 [==============================] - 1s 31ms/step - loss: 2707.3857\n",
      "Epoch 716/1000\n",
      " 6/25 [======>.......................] - ETA: 0s - loss: 2706.8208"
     ]
    },
    {
     "name": "stderr",
     "output_type": "stream",
     "text": [
      "2023-12-14 23:39:54.394918: I tensorflow/core/framework/local_rendezvous.cc:421] Local rendezvous recv item cancelled. Key hash: 5640187878637657889\n"
     ]
    },
    {
     "name": "stdout",
     "output_type": "stream",
     "text": [
      "25/25 [==============================] - 1s 31ms/step - loss: 2704.6887\n",
      "Epoch 717/1000\n",
      " 6/25 [======>.......................] - ETA: 0s - loss: 2704.1318"
     ]
    },
    {
     "name": "stderr",
     "output_type": "stream",
     "text": [
      "2023-12-14 23:39:55.197073: I tensorflow/core/framework/local_rendezvous.cc:421] Local rendezvous recv item cancelled. Key hash: 5640187878637657889\n"
     ]
    },
    {
     "name": "stdout",
     "output_type": "stream",
     "text": [
      "25/25 [==============================] - 1s 31ms/step - loss: 2702.0027\n",
      "Epoch 718/1000\n",
      " 6/25 [======>.......................] - ETA: 0s - loss: 2701.4438"
     ]
    },
    {
     "name": "stderr",
     "output_type": "stream",
     "text": [
      "2023-12-14 23:39:56.002004: I tensorflow/core/framework/local_rendezvous.cc:421] Local rendezvous recv item cancelled. Key hash: 5640187878637657889\n"
     ]
    },
    {
     "name": "stdout",
     "output_type": "stream",
     "text": [
      "25/25 [==============================] - 1s 31ms/step - loss: 2699.3105\n",
      "Epoch 719/1000\n",
      " 6/25 [======>.......................] - ETA: 0s - loss: 2698.7537"
     ]
    },
    {
     "name": "stderr",
     "output_type": "stream",
     "text": [
      "2023-12-14 23:39:56.797910: I tensorflow/core/framework/local_rendezvous.cc:421] Local rendezvous recv item cancelled. Key hash: 5640187878637657889\n"
     ]
    },
    {
     "name": "stdout",
     "output_type": "stream",
     "text": [
      "25/25 [==============================] - 1s 30ms/step - loss: 2696.6294\n",
      "Epoch 720/1000\n",
      " 6/25 [======>.......................] - ETA: 0s - loss: 2696.0742"
     ]
    },
    {
     "name": "stderr",
     "output_type": "stream",
     "text": [
      "2023-12-14 23:39:57.588352: I tensorflow/core/framework/local_rendezvous.cc:421] Local rendezvous recv item cancelled. Key hash: 5640187878637657889\n"
     ]
    },
    {
     "name": "stdout",
     "output_type": "stream",
     "text": [
      "25/25 [==============================] - 1s 30ms/step - loss: 2693.9609\n",
      "Epoch 721/1000\n",
      " 6/25 [======>.......................] - ETA: 0s - loss: 2693.4089"
     ]
    },
    {
     "name": "stderr",
     "output_type": "stream",
     "text": [
      "2023-12-14 23:39:58.373310: I tensorflow/core/framework/local_rendezvous.cc:421] Local rendezvous recv item cancelled. Key hash: 5640187878637657889\n"
     ]
    },
    {
     "name": "stdout",
     "output_type": "stream",
     "text": [
      "25/25 [==============================] - 1s 30ms/step - loss: 2691.2966\n",
      "Epoch 722/1000\n",
      " 6/25 [======>.......................] - ETA: 0s - loss: 2690.7390"
     ]
    },
    {
     "name": "stderr",
     "output_type": "stream",
     "text": [
      "2023-12-14 23:39:59.157839: I tensorflow/core/framework/local_rendezvous.cc:421] Local rendezvous recv item cancelled. Key hash: 5640187878637657889\n"
     ]
    },
    {
     "name": "stdout",
     "output_type": "stream",
     "text": [
      "25/25 [==============================] - 1s 31ms/step - loss: 2688.6375\n",
      "Epoch 723/1000\n",
      " 6/25 [======>.......................] - ETA: 0s - loss: 2688.0835"
     ]
    },
    {
     "name": "stderr",
     "output_type": "stream",
     "text": [
      "2023-12-14 23:39:59.956378: I tensorflow/core/framework/local_rendezvous.cc:421] Local rendezvous recv item cancelled. Key hash: 5640187878637657889\n"
     ]
    },
    {
     "name": "stdout",
     "output_type": "stream",
     "text": [
      "25/25 [==============================] - 1s 31ms/step - loss: 2685.9856\n",
      "Epoch 724/1000\n",
      " 6/25 [======>.......................] - ETA: 0s - loss: 2685.4336"
     ]
    },
    {
     "name": "stderr",
     "output_type": "stream",
     "text": [
      "2023-12-14 23:40:00.764682: I tensorflow/core/framework/local_rendezvous.cc:421] Local rendezvous recv item cancelled. Key hash: 5640187878637657889\n"
     ]
    },
    {
     "name": "stdout",
     "output_type": "stream",
     "text": [
      "25/25 [==============================] - 1s 33ms/step - loss: 2683.3367\n",
      "Epoch 725/1000\n",
      " 4/25 [===>..........................] - ETA: 0s - loss: 2683.0032"
     ]
    },
    {
     "name": "stderr",
     "output_type": "stream",
     "text": [
      "2023-12-14 23:40:01.604291: I tensorflow/core/framework/local_rendezvous.cc:421] Local rendezvous recv item cancelled. Key hash: 5640187878637657889\n"
     ]
    },
    {
     "name": "stdout",
     "output_type": "stream",
     "text": [
      "25/25 [==============================] - 1s 32ms/step - loss: 2680.6958\n",
      "Epoch 726/1000\n",
      " 4/25 [===>..........................] - ETA: 0s - loss: 2680.3655"
     ]
    },
    {
     "name": "stderr",
     "output_type": "stream",
     "text": [
      "2023-12-14 23:40:02.447079: I tensorflow/core/framework/local_rendezvous.cc:421] Local rendezvous recv item cancelled. Key hash: 5640187878637657889\n"
     ]
    },
    {
     "name": "stdout",
     "output_type": "stream",
     "text": [
      "25/25 [==============================] - 1s 32ms/step - loss: 2678.0574\n",
      "Epoch 727/1000\n",
      " 6/25 [======>.......................] - ETA: 0s - loss: 2677.5059"
     ]
    },
    {
     "name": "stderr",
     "output_type": "stream",
     "text": [
      "2023-12-14 23:40:03.287751: I tensorflow/core/framework/local_rendezvous.cc:421] Local rendezvous recv item cancelled. Key hash: 5640187878637657889\n"
     ]
    },
    {
     "name": "stdout",
     "output_type": "stream",
     "text": [
      "25/25 [==============================] - 1s 32ms/step - loss: 2675.4155\n",
      "Epoch 728/1000\n",
      " 6/25 [======>.......................] - ETA: 0s - loss: 2674.8696"
     ]
    },
    {
     "name": "stderr",
     "output_type": "stream",
     "text": [
      "2023-12-14 23:40:04.120729: I tensorflow/core/framework/local_rendezvous.cc:421] Local rendezvous recv item cancelled. Key hash: 5640187878637657889\n"
     ]
    },
    {
     "name": "stdout",
     "output_type": "stream",
     "text": [
      "25/25 [==============================] - 1s 32ms/step - loss: 2672.7878\n",
      "Epoch 729/1000\n",
      " 6/25 [======>.......................] - ETA: 0s - loss: 2672.2400"
     ]
    },
    {
     "name": "stderr",
     "output_type": "stream",
     "text": [
      "2023-12-14 23:40:04.953539: I tensorflow/core/framework/local_rendezvous.cc:421] Local rendezvous recv item cancelled. Key hash: 5640187878637657889\n"
     ]
    },
    {
     "name": "stdout",
     "output_type": "stream",
     "text": [
      "25/25 [==============================] - 1s 32ms/step - loss: 2670.1697\n",
      "Epoch 730/1000\n",
      " 6/25 [======>.......................] - ETA: 0s - loss: 2669.6252"
     ]
    },
    {
     "name": "stderr",
     "output_type": "stream",
     "text": [
      "2023-12-14 23:40:05.786862: I tensorflow/core/framework/local_rendezvous.cc:421] Local rendezvous recv item cancelled. Key hash: 5640187878637657889\n"
     ]
    },
    {
     "name": "stdout",
     "output_type": "stream",
     "text": [
      "25/25 [==============================] - 1s 32ms/step - loss: 2667.5559\n",
      "Epoch 731/1000\n",
      " 6/25 [======>.......................] - ETA: 0s - loss: 2667.0146"
     ]
    },
    {
     "name": "stderr",
     "output_type": "stream",
     "text": [
      "2023-12-14 23:40:06.620512: I tensorflow/core/framework/local_rendezvous.cc:421] Local rendezvous recv item cancelled. Key hash: 5640187878637657889\n"
     ]
    },
    {
     "name": "stdout",
     "output_type": "stream",
     "text": [
      "25/25 [==============================] - 1s 32ms/step - loss: 2664.9497\n",
      "Epoch 732/1000\n",
      " 6/25 [======>.......................] - ETA: 0s - loss: 2664.4094"
     ]
    },
    {
     "name": "stderr",
     "output_type": "stream",
     "text": [
      "2023-12-14 23:40:07.453634: I tensorflow/core/framework/local_rendezvous.cc:421] Local rendezvous recv item cancelled. Key hash: 5640187878637657889\n"
     ]
    },
    {
     "name": "stdout",
     "output_type": "stream",
     "text": [
      "25/25 [==============================] - 1s 32ms/step - loss: 2662.3474\n",
      "Epoch 733/1000\n",
      " 4/25 [===>..........................] - ETA: 0s - loss: 2662.0237"
     ]
    },
    {
     "name": "stderr",
     "output_type": "stream",
     "text": [
      "2023-12-14 23:40:08.286587: I tensorflow/core/framework/local_rendezvous.cc:421] Local rendezvous recv item cancelled. Key hash: 5640187878637657889\n"
     ]
    },
    {
     "name": "stdout",
     "output_type": "stream",
     "text": [
      "25/25 [==============================] - 1s 33ms/step - loss: 2659.7505\n",
      "Epoch 734/1000\n",
      " 6/25 [======>.......................] - ETA: 0s - loss: 2659.2107"
     ]
    },
    {
     "name": "stderr",
     "output_type": "stream",
     "text": [
      "2023-12-14 23:40:09.134759: I tensorflow/core/framework/local_rendezvous.cc:421] Local rendezvous recv item cancelled. Key hash: 5640187878637657889\n"
     ]
    },
    {
     "name": "stdout",
     "output_type": "stream",
     "text": [
      "25/25 [==============================] - 1s 33ms/step - loss: 2657.1572\n",
      "Epoch 735/1000\n",
      " 4/25 [===>..........................] - ETA: 0s - loss: 2656.8354"
     ]
    },
    {
     "name": "stderr",
     "output_type": "stream",
     "text": [
      "2023-12-14 23:40:09.971223: I tensorflow/core/framework/local_rendezvous.cc:421] Local rendezvous recv item cancelled. Key hash: 5640187878637657889\n"
     ]
    },
    {
     "name": "stdout",
     "output_type": "stream",
     "text": [
      "25/25 [==============================] - 1s 33ms/step - loss: 2654.5791\n",
      "Epoch 736/1000\n",
      " 6/25 [======>.......................] - ETA: 0s - loss: 2654.0432"
     ]
    },
    {
     "name": "stderr",
     "output_type": "stream",
     "text": [
      "2023-12-14 23:40:10.823411: I tensorflow/core/framework/local_rendezvous.cc:421] Local rendezvous recv item cancelled. Key hash: 5640187878637657889\n"
     ]
    },
    {
     "name": "stdout",
     "output_type": "stream",
     "text": [
      "25/25 [==============================] - 1s 33ms/step - loss: 2652.0010\n",
      "Epoch 737/1000\n",
      " 4/25 [===>..........................] - ETA: 0s - loss: 2651.6794"
     ]
    },
    {
     "name": "stderr",
     "output_type": "stream",
     "text": [
      "2023-12-14 23:40:11.677051: I tensorflow/core/framework/local_rendezvous.cc:421] Local rendezvous recv item cancelled. Key hash: 5640187878637657889\n"
     ]
    },
    {
     "name": "stdout",
     "output_type": "stream",
     "text": [
      "25/25 [==============================] - 1s 32ms/step - loss: 2649.4290\n",
      "Epoch 738/1000\n",
      " 6/25 [======>.......................] - ETA: 0s - loss: 2648.8931"
     ]
    },
    {
     "name": "stderr",
     "output_type": "stream",
     "text": [
      "2023-12-14 23:40:12.521137: I tensorflow/core/framework/local_rendezvous.cc:421] Local rendezvous recv item cancelled. Key hash: 5640187878637657889\n"
     ]
    },
    {
     "name": "stdout",
     "output_type": "stream",
     "text": [
      "25/25 [==============================] - 1s 32ms/step - loss: 2646.8555\n",
      "Epoch 739/1000\n",
      " 4/25 [===>..........................] - ETA: 0s - loss: 2646.5378"
     ]
    },
    {
     "name": "stderr",
     "output_type": "stream",
     "text": [
      "2023-12-14 23:40:13.361046: I tensorflow/core/framework/local_rendezvous.cc:421] Local rendezvous recv item cancelled. Key hash: 5640187878637657889\n"
     ]
    },
    {
     "name": "stdout",
     "output_type": "stream",
     "text": [
      "25/25 [==============================] - 1s 33ms/step - loss: 2644.2981\n",
      "Epoch 740/1000\n",
      " 6/25 [======>.......................] - ETA: 0s - loss: 2643.7642"
     ]
    },
    {
     "name": "stderr",
     "output_type": "stream",
     "text": [
      "2023-12-14 23:40:14.206770: I tensorflow/core/framework/local_rendezvous.cc:421] Local rendezvous recv item cancelled. Key hash: 5640187878637657889\n"
     ]
    },
    {
     "name": "stdout",
     "output_type": "stream",
     "text": [
      "25/25 [==============================] - 1s 32ms/step - loss: 2641.7388\n",
      "Epoch 741/1000\n",
      " 4/25 [===>..........................] - ETA: 0s - loss: 2641.4216"
     ]
    },
    {
     "name": "stderr",
     "output_type": "stream",
     "text": [
      "2023-12-14 23:40:15.045169: I tensorflow/core/framework/local_rendezvous.cc:421] Local rendezvous recv item cancelled. Key hash: 5640187878637657889\n"
     ]
    },
    {
     "name": "stdout",
     "output_type": "stream",
     "text": [
      "25/25 [==============================] - 1s 32ms/step - loss: 2639.1907\n",
      "Epoch 742/1000\n",
      " 6/25 [======>.......................] - ETA: 0s - loss: 2638.6602"
     ]
    },
    {
     "name": "stderr",
     "output_type": "stream",
     "text": [
      "2023-12-14 23:40:15.887216: I tensorflow/core/framework/local_rendezvous.cc:421] Local rendezvous recv item cancelled. Key hash: 5640187878637657889\n"
     ]
    },
    {
     "name": "stdout",
     "output_type": "stream",
     "text": [
      "25/25 [==============================] - 1s 32ms/step - loss: 2636.6350\n",
      "Epoch 743/1000\n",
      " 6/25 [======>.......................] - ETA: 0s - loss: 2636.1016"
     ]
    },
    {
     "name": "stderr",
     "output_type": "stream",
     "text": [
      "2023-12-14 23:40:16.720358: I tensorflow/core/framework/local_rendezvous.cc:421] Local rendezvous recv item cancelled. Key hash: 5640187878637657889\n"
     ]
    },
    {
     "name": "stdout",
     "output_type": "stream",
     "text": [
      "25/25 [==============================] - 1s 32ms/step - loss: 2634.1023\n",
      "Epoch 744/1000\n",
      " 6/25 [======>.......................] - ETA: 0s - loss: 2633.5750"
     ]
    },
    {
     "name": "stderr",
     "output_type": "stream",
     "text": [
      "2023-12-14 23:40:17.553931: I tensorflow/core/framework/local_rendezvous.cc:421] Local rendezvous recv item cancelled. Key hash: 5640187878637657889\n"
     ]
    },
    {
     "name": "stdout",
     "output_type": "stream",
     "text": [
      "25/25 [==============================] - 1s 32ms/step - loss: 2631.5696\n",
      "Epoch 745/1000\n",
      " 6/25 [======>.......................] - ETA: 0s - loss: 2631.0439"
     ]
    },
    {
     "name": "stderr",
     "output_type": "stream",
     "text": [
      "2023-12-14 23:40:18.387162: I tensorflow/core/framework/local_rendezvous.cc:421] Local rendezvous recv item cancelled. Key hash: 5640187878637657889\n"
     ]
    },
    {
     "name": "stdout",
     "output_type": "stream",
     "text": [
      "25/25 [==============================] - 1s 32ms/step - loss: 2629.0415\n",
      "Epoch 746/1000\n",
      " 4/25 [===>..........................] - ETA: 0s - loss: 2628.7268"
     ]
    },
    {
     "name": "stderr",
     "output_type": "stream",
     "text": [
      "2023-12-14 23:40:19.224560: I tensorflow/core/framework/local_rendezvous.cc:421] Local rendezvous recv item cancelled. Key hash: 5640187878637657889\n"
     ]
    },
    {
     "name": "stdout",
     "output_type": "stream",
     "text": [
      "25/25 [==============================] - 1s 32ms/step - loss: 2626.5266\n",
      "Epoch 747/1000\n",
      " 6/25 [======>.......................] - ETA: 0s - loss: 2626.0010"
     ]
    },
    {
     "name": "stderr",
     "output_type": "stream",
     "text": [
      "2023-12-14 23:40:20.064296: I tensorflow/core/framework/local_rendezvous.cc:421] Local rendezvous recv item cancelled. Key hash: 5640187878637657889\n"
     ]
    },
    {
     "name": "stdout",
     "output_type": "stream",
     "text": [
      "25/25 [==============================] - 1s 32ms/step - loss: 2624.0110\n",
      "Epoch 748/1000\n",
      " 6/25 [======>.......................] - ETA: 0s - loss: 2623.4885"
     ]
    },
    {
     "name": "stderr",
     "output_type": "stream",
     "text": [
      "2023-12-14 23:40:20.902244: I tensorflow/core/framework/local_rendezvous.cc:421] Local rendezvous recv item cancelled. Key hash: 5640187878637657889\n"
     ]
    },
    {
     "name": "stdout",
     "output_type": "stream",
     "text": [
      "25/25 [==============================] - 1s 32ms/step - loss: 2621.4995\n",
      "Epoch 749/1000\n",
      " 4/25 [===>..........................] - ETA: 0s - loss: 2621.1855"
     ]
    },
    {
     "name": "stderr",
     "output_type": "stream",
     "text": [
      "2023-12-14 23:40:21.737092: I tensorflow/core/framework/local_rendezvous.cc:421] Local rendezvous recv item cancelled. Key hash: 5640187878637657889\n"
     ]
    },
    {
     "name": "stdout",
     "output_type": "stream",
     "text": [
      "25/25 [==============================] - 1s 33ms/step - loss: 2618.9963\n",
      "Epoch 750/1000\n",
      " 6/25 [======>.......................] - ETA: 0s - loss: 2618.4775"
     ]
    },
    {
     "name": "stderr",
     "output_type": "stream",
     "text": [
      "2023-12-14 23:40:22.586638: I tensorflow/core/framework/local_rendezvous.cc:421] Local rendezvous recv item cancelled. Key hash: 5640187878637657889\n"
     ]
    },
    {
     "name": "stdout",
     "output_type": "stream",
     "text": [
      "25/25 [==============================] - 1s 33ms/step - loss: 2616.4995\n",
      "Epoch 751/1000\n",
      " 6/25 [======>.......................] - ETA: 0s - loss: 2615.9797"
     ]
    },
    {
     "name": "stderr",
     "output_type": "stream",
     "text": [
      "2023-12-14 23:40:23.432843: I tensorflow/core/framework/local_rendezvous.cc:421] Local rendezvous recv item cancelled. Key hash: 5640187878637657889\n"
     ]
    },
    {
     "name": "stdout",
     "output_type": "stream",
     "text": [
      "25/25 [==============================] - 1s 33ms/step - loss: 2614.0085\n",
      "Epoch 752/1000\n",
      " 4/25 [===>..........................] - ETA: 0s - loss: 2613.6987"
     ]
    },
    {
     "name": "stderr",
     "output_type": "stream",
     "text": [
      "2023-12-14 23:40:24.276848: I tensorflow/core/framework/local_rendezvous.cc:421] Local rendezvous recv item cancelled. Key hash: 5640187878637657889\n"
     ]
    },
    {
     "name": "stdout",
     "output_type": "stream",
     "text": [
      "25/25 [==============================] - 1s 33ms/step - loss: 2611.5159\n",
      "Epoch 753/1000\n",
      " 4/25 [===>..........................] - ETA: 0s - loss: 2611.2034"
     ]
    },
    {
     "name": "stderr",
     "output_type": "stream",
     "text": [
      "2023-12-14 23:40:25.117058: I tensorflow/core/framework/local_rendezvous.cc:421] Local rendezvous recv item cancelled. Key hash: 5640187878637657889\n"
     ]
    },
    {
     "name": "stdout",
     "output_type": "stream",
     "text": [
      "25/25 [==============================] - 1s 32ms/step - loss: 2609.0288\n",
      "Epoch 754/1000\n",
      " 6/25 [======>.......................] - ETA: 0s - loss: 2608.5146"
     ]
    },
    {
     "name": "stderr",
     "output_type": "stream",
     "text": [
      "2023-12-14 23:40:25.966353: I tensorflow/core/framework/local_rendezvous.cc:421] Local rendezvous recv item cancelled. Key hash: 5640187878637657889\n"
     ]
    },
    {
     "name": "stdout",
     "output_type": "stream",
     "text": [
      "25/25 [==============================] - 1s 32ms/step - loss: 2606.5496\n",
      "Epoch 755/1000\n",
      " 6/25 [======>.......................] - ETA: 0s - loss: 2606.0327"
     ]
    },
    {
     "name": "stderr",
     "output_type": "stream",
     "text": [
      "2023-12-14 23:40:26.803360: I tensorflow/core/framework/local_rendezvous.cc:421] Local rendezvous recv item cancelled. Key hash: 5640187878637657889\n"
     ]
    },
    {
     "name": "stdout",
     "output_type": "stream",
     "text": [
      "25/25 [==============================] - 1s 32ms/step - loss: 2604.0789\n",
      "Epoch 756/1000\n",
      " 4/25 [===>..........................] - ETA: 0s - loss: 2603.7712"
     ]
    },
    {
     "name": "stderr",
     "output_type": "stream",
     "text": [
      "2023-12-14 23:40:27.636646: I tensorflow/core/framework/local_rendezvous.cc:421] Local rendezvous recv item cancelled. Key hash: 5640187878637657889\n"
     ]
    },
    {
     "name": "stdout",
     "output_type": "stream",
     "text": [
      "25/25 [==============================] - 1s 32ms/step - loss: 2601.6150\n",
      "Epoch 757/1000\n",
      " 4/25 [===>..........................] - ETA: 0s - loss: 2601.3093"
     ]
    },
    {
     "name": "stderr",
     "output_type": "stream",
     "text": [
      "2023-12-14 23:40:28.482309: I tensorflow/core/framework/local_rendezvous.cc:421] Local rendezvous recv item cancelled. Key hash: 5640187878637657889\n"
     ]
    },
    {
     "name": "stdout",
     "output_type": "stream",
     "text": [
      "25/25 [==============================] - 1s 32ms/step - loss: 2599.1567\n",
      "Epoch 758/1000\n",
      " 4/25 [===>..........................] - ETA: 0s - loss: 2598.8513"
     ]
    },
    {
     "name": "stderr",
     "output_type": "stream",
     "text": [
      "2023-12-14 23:40:29.321284: I tensorflow/core/framework/local_rendezvous.cc:421] Local rendezvous recv item cancelled. Key hash: 5640187878637657889\n"
     ]
    },
    {
     "name": "stdout",
     "output_type": "stream",
     "text": [
      "25/25 [==============================] - 1s 33ms/step - loss: 2596.6980\n",
      "Epoch 759/1000\n",
      " 6/25 [======>.......................] - ETA: 0s - loss: 2596.1877"
     ]
    },
    {
     "name": "stderr",
     "output_type": "stream",
     "text": [
      "2023-12-14 23:40:30.169758: I tensorflow/core/framework/local_rendezvous.cc:421] Local rendezvous recv item cancelled. Key hash: 5640187878637657889\n"
     ]
    },
    {
     "name": "stdout",
     "output_type": "stream",
     "text": [
      "25/25 [==============================] - 1s 32ms/step - loss: 2594.2478\n",
      "Epoch 760/1000\n",
      " 6/25 [======>.......................] - ETA: 0s - loss: 2593.7388"
     ]
    },
    {
     "name": "stderr",
     "output_type": "stream",
     "text": [
      "2023-12-14 23:40:31.003968: I tensorflow/core/framework/local_rendezvous.cc:421] Local rendezvous recv item cancelled. Key hash: 5640187878637657889\n"
     ]
    },
    {
     "name": "stdout",
     "output_type": "stream",
     "text": [
      "25/25 [==============================] - 1s 32ms/step - loss: 2591.8027\n",
      "Epoch 761/1000\n",
      " 6/25 [======>.......................] - ETA: 0s - loss: 2591.2964"
     ]
    },
    {
     "name": "stderr",
     "output_type": "stream",
     "text": [
      "2023-12-14 23:40:31.837578: I tensorflow/core/framework/local_rendezvous.cc:421] Local rendezvous recv item cancelled. Key hash: 5640187878637657889\n"
     ]
    },
    {
     "name": "stdout",
     "output_type": "stream",
     "text": [
      "25/25 [==============================] - 1s 32ms/step - loss: 2589.3655\n",
      "Epoch 762/1000\n",
      " 6/25 [======>.......................] - ETA: 0s - loss: 2588.8630"
     ]
    },
    {
     "name": "stderr",
     "output_type": "stream",
     "text": [
      "2023-12-14 23:40:32.667303: I tensorflow/core/framework/local_rendezvous.cc:421] Local rendezvous recv item cancelled. Key hash: 5640187878637657889\n"
     ]
    },
    {
     "name": "stdout",
     "output_type": "stream",
     "text": [
      "25/25 [==============================] - 1s 32ms/step - loss: 2586.9341\n",
      "Epoch 763/1000\n",
      " 4/25 [===>..........................] - ETA: 0s - loss: 2586.6299"
     ]
    },
    {
     "name": "stderr",
     "output_type": "stream",
     "text": [
      "2023-12-14 23:40:33.492941: I tensorflow/core/framework/local_rendezvous.cc:421] Local rendezvous recv item cancelled. Key hash: 5640187878637657889\n"
     ]
    },
    {
     "name": "stdout",
     "output_type": "stream",
     "text": [
      "25/25 [==============================] - 1s 32ms/step - loss: 2584.5024\n",
      "Epoch 764/1000\n",
      " 4/25 [===>..........................] - ETA: 0s - loss: 2584.1975"
     ]
    },
    {
     "name": "stderr",
     "output_type": "stream",
     "text": [
      "2023-12-14 23:40:34.332594: I tensorflow/core/framework/local_rendezvous.cc:421] Local rendezvous recv item cancelled. Key hash: 5640187878637657889\n"
     ]
    },
    {
     "name": "stdout",
     "output_type": "stream",
     "text": [
      "25/25 [==============================] - 1s 32ms/step - loss: 2582.0742\n",
      "Epoch 765/1000\n",
      " 4/25 [===>..........................] - ETA: 0s - loss: 2581.7739"
     ]
    },
    {
     "name": "stderr",
     "output_type": "stream",
     "text": [
      "2023-12-14 23:40:35.172369: I tensorflow/core/framework/local_rendezvous.cc:421] Local rendezvous recv item cancelled. Key hash: 5640187878637657889\n"
     ]
    },
    {
     "name": "stdout",
     "output_type": "stream",
     "text": [
      "25/25 [==============================] - 1s 33ms/step - loss: 2579.6675\n",
      "Epoch 766/1000\n",
      " 6/25 [======>.......................] - ETA: 0s - loss: 2579.1650"
     ]
    },
    {
     "name": "stderr",
     "output_type": "stream",
     "text": [
      "2023-12-14 23:40:36.020376: I tensorflow/core/framework/local_rendezvous.cc:421] Local rendezvous recv item cancelled. Key hash: 5640187878637657889\n"
     ]
    },
    {
     "name": "stdout",
     "output_type": "stream",
     "text": [
      "25/25 [==============================] - 1s 32ms/step - loss: 2577.2495\n",
      "Epoch 767/1000\n",
      " 6/25 [======>.......................] - ETA: 0s - loss: 2576.7493"
     ]
    },
    {
     "name": "stderr",
     "output_type": "stream",
     "text": [
      "2023-12-14 23:40:36.853937: I tensorflow/core/framework/local_rendezvous.cc:421] Local rendezvous recv item cancelled. Key hash: 5640187878637657889\n"
     ]
    },
    {
     "name": "stdout",
     "output_type": "stream",
     "text": [
      "25/25 [==============================] - 1s 32ms/step - loss: 2574.8467\n",
      "Epoch 768/1000\n",
      " 6/25 [======>.......................] - ETA: 0s - loss: 2574.3464"
     ]
    },
    {
     "name": "stderr",
     "output_type": "stream",
     "text": [
      "2023-12-14 23:40:37.682299: I tensorflow/core/framework/local_rendezvous.cc:421] Local rendezvous recv item cancelled. Key hash: 5640187878637657889\n"
     ]
    },
    {
     "name": "stdout",
     "output_type": "stream",
     "text": [
      "25/25 [==============================] - 1s 32ms/step - loss: 2572.4502\n",
      "Epoch 769/1000\n",
      " 6/25 [======>.......................] - ETA: 0s - loss: 2571.9482"
     ]
    },
    {
     "name": "stderr",
     "output_type": "stream",
     "text": [
      "2023-12-14 23:40:38.520598: I tensorflow/core/framework/local_rendezvous.cc:421] Local rendezvous recv item cancelled. Key hash: 5640187878637657889\n"
     ]
    },
    {
     "name": "stdout",
     "output_type": "stream",
     "text": [
      "25/25 [==============================] - 1s 33ms/step - loss: 2570.0488\n",
      "Epoch 770/1000\n",
      " 4/25 [===>..........................] - ETA: 0s - loss: 2569.7483"
     ]
    },
    {
     "name": "stderr",
     "output_type": "stream",
     "text": [
      "2023-12-14 23:40:39.365680: I tensorflow/core/framework/local_rendezvous.cc:421] Local rendezvous recv item cancelled. Key hash: 5640187878637657889\n"
     ]
    },
    {
     "name": "stdout",
     "output_type": "stream",
     "text": [
      "25/25 [==============================] - 1s 32ms/step - loss: 2567.6526\n",
      "Epoch 771/1000\n",
      " 6/25 [======>.......................] - ETA: 0s - loss: 2567.1565"
     ]
    },
    {
     "name": "stderr",
     "output_type": "stream",
     "text": [
      "2023-12-14 23:40:40.203721: I tensorflow/core/framework/local_rendezvous.cc:421] Local rendezvous recv item cancelled. Key hash: 5640187878637657889\n"
     ]
    },
    {
     "name": "stdout",
     "output_type": "stream",
     "text": [
      "25/25 [==============================] - 1s 32ms/step - loss: 2565.2668\n",
      "Epoch 772/1000\n",
      " 4/25 [===>..........................] - ETA: 0s - loss: 2564.9692"
     ]
    },
    {
     "name": "stderr",
     "output_type": "stream",
     "text": [
      "2023-12-14 23:40:41.035167: I tensorflow/core/framework/local_rendezvous.cc:421] Local rendezvous recv item cancelled. Key hash: 5640187878637657889\n"
     ]
    },
    {
     "name": "stdout",
     "output_type": "stream",
     "text": [
      "25/25 [==============================] - 1s 33ms/step - loss: 2562.8872\n",
      "Epoch 773/1000\n",
      " 4/25 [===>..........................] - ETA: 0s - loss: 2562.5879"
     ]
    },
    {
     "name": "stderr",
     "output_type": "stream",
     "text": [
      "2023-12-14 23:40:41.882426: I tensorflow/core/framework/local_rendezvous.cc:421] Local rendezvous recv item cancelled. Key hash: 5640187878637657889\n"
     ]
    },
    {
     "name": "stdout",
     "output_type": "stream",
     "text": [
      "25/25 [==============================] - 1s 32ms/step - loss: 2560.5007\n",
      "Epoch 774/1000\n",
      " 4/25 [===>..........................] - ETA: 0s - loss: 2560.2012"
     ]
    },
    {
     "name": "stderr",
     "output_type": "stream",
     "text": [
      "2023-12-14 23:40:42.721412: I tensorflow/core/framework/local_rendezvous.cc:421] Local rendezvous recv item cancelled. Key hash: 5640187878637657889\n"
     ]
    },
    {
     "name": "stdout",
     "output_type": "stream",
     "text": [
      "25/25 [==============================] - 1s 33ms/step - loss: 2558.1277\n",
      "Epoch 775/1000\n",
      " 6/25 [======>.......................] - ETA: 0s - loss: 2557.6311"
     ]
    },
    {
     "name": "stderr",
     "output_type": "stream",
     "text": [
      "2023-12-14 23:40:43.570455: I tensorflow/core/framework/local_rendezvous.cc:421] Local rendezvous recv item cancelled. Key hash: 5640187878637657889\n"
     ]
    },
    {
     "name": "stdout",
     "output_type": "stream",
     "text": [
      "25/25 [==============================] - 1s 32ms/step - loss: 2555.7578\n",
      "Epoch 776/1000\n",
      " 4/25 [===>..........................] - ETA: 0s - loss: 2555.4648"
     ]
    },
    {
     "name": "stderr",
     "output_type": "stream",
     "text": [
      "2023-12-14 23:40:44.406382: I tensorflow/core/framework/local_rendezvous.cc:421] Local rendezvous recv item cancelled. Key hash: 5640187878637657889\n"
     ]
    },
    {
     "name": "stdout",
     "output_type": "stream",
     "text": [
      "25/25 [==============================] - 1s 33ms/step - loss: 2553.3950\n",
      "Epoch 777/1000\n",
      " 4/25 [===>..........................] - ETA: 0s - loss: 2553.1021"
     ]
    },
    {
     "name": "stderr",
     "output_type": "stream",
     "text": [
      "2023-12-14 23:40:45.270643: I tensorflow/core/framework/local_rendezvous.cc:421] Local rendezvous recv item cancelled. Key hash: 5640187878637657889\n"
     ]
    },
    {
     "name": "stdout",
     "output_type": "stream",
     "text": [
      "25/25 [==============================] - 1s 33ms/step - loss: 2551.0427\n",
      "Epoch 778/1000\n",
      " 6/25 [======>.......................] - ETA: 0s - loss: 2550.5522"
     ]
    },
    {
     "name": "stderr",
     "output_type": "stream",
     "text": [
      "2023-12-14 23:40:46.125174: I tensorflow/core/framework/local_rendezvous.cc:421] Local rendezvous recv item cancelled. Key hash: 5640187878637657889\n"
     ]
    },
    {
     "name": "stdout",
     "output_type": "stream",
     "text": [
      "25/25 [==============================] - 1s 33ms/step - loss: 2548.6826\n",
      "Epoch 779/1000\n",
      " 6/25 [======>.......................] - ETA: 0s - loss: 2548.1924"
     ]
    },
    {
     "name": "stderr",
     "output_type": "stream",
     "text": [
      "2023-12-14 23:40:46.970417: I tensorflow/core/framework/local_rendezvous.cc:421] Local rendezvous recv item cancelled. Key hash: 5640187878637657889\n"
     ]
    },
    {
     "name": "stdout",
     "output_type": "stream",
     "text": [
      "25/25 [==============================] - 1s 32ms/step - loss: 2546.3274\n",
      "Epoch 780/1000\n",
      " 6/25 [======>.......................] - ETA: 0s - loss: 2545.8411"
     ]
    },
    {
     "name": "stderr",
     "output_type": "stream",
     "text": [
      "2023-12-14 23:40:47.802865: I tensorflow/core/framework/local_rendezvous.cc:421] Local rendezvous recv item cancelled. Key hash: 5640187878637657889\n"
     ]
    },
    {
     "name": "stdout",
     "output_type": "stream",
     "text": [
      "25/25 [==============================] - 1s 33ms/step - loss: 2543.9888\n",
      "Epoch 781/1000\n",
      " 6/25 [======>.......................] - ETA: 0s - loss: 2543.5022"
     ]
    },
    {
     "name": "stderr",
     "output_type": "stream",
     "text": [
      "2023-12-14 23:40:48.654551: I tensorflow/core/framework/local_rendezvous.cc:421] Local rendezvous recv item cancelled. Key hash: 5640187878637657889\n"
     ]
    },
    {
     "name": "stdout",
     "output_type": "stream",
     "text": [
      "25/25 [==============================] - 1s 33ms/step - loss: 2541.6528\n",
      "Epoch 782/1000\n",
      " 4/25 [===>..........................] - ETA: 0s - loss: 2541.3599"
     ]
    },
    {
     "name": "stderr",
     "output_type": "stream",
     "text": [
      "2023-12-14 23:40:49.503366: I tensorflow/core/framework/local_rendezvous.cc:421] Local rendezvous recv item cancelled. Key hash: 5640187878637657889\n"
     ]
    },
    {
     "name": "stdout",
     "output_type": "stream",
     "text": [
      "25/25 [==============================] - 1s 33ms/step - loss: 2539.3167\n",
      "Epoch 783/1000\n",
      " 4/25 [===>..........................] - ETA: 0s - loss: 2539.0269"
     ]
    },
    {
     "name": "stderr",
     "output_type": "stream",
     "text": [
      "2023-12-14 23:40:50.357573: I tensorflow/core/framework/local_rendezvous.cc:421] Local rendezvous recv item cancelled. Key hash: 5640187878637657889\n"
     ]
    },
    {
     "name": "stdout",
     "output_type": "stream",
     "text": [
      "25/25 [==============================] - 1s 33ms/step - loss: 2536.9937\n",
      "Epoch 784/1000\n",
      " 4/25 [===>..........................] - ETA: 0s - loss: 2536.7043"
     ]
    },
    {
     "name": "stderr",
     "output_type": "stream",
     "text": [
      "2023-12-14 23:40:51.207130: I tensorflow/core/framework/local_rendezvous.cc:421] Local rendezvous recv item cancelled. Key hash: 5640187878637657889\n"
     ]
    },
    {
     "name": "stdout",
     "output_type": "stream",
     "text": [
      "25/25 [==============================] - 1s 33ms/step - loss: 2534.6797\n",
      "Epoch 785/1000\n",
      " 4/25 [===>..........................] - ETA: 0s - loss: 2534.3894"
     ]
    },
    {
     "name": "stderr",
     "output_type": "stream",
     "text": [
      "2023-12-14 23:40:52.053679: I tensorflow/core/framework/local_rendezvous.cc:421] Local rendezvous recv item cancelled. Key hash: 5640187878637657889\n"
     ]
    },
    {
     "name": "stdout",
     "output_type": "stream",
     "text": [
      "25/25 [==============================] - 1s 33ms/step - loss: 2532.3591\n",
      "Epoch 786/1000\n",
      " 6/25 [======>.......................] - ETA: 0s - loss: 2531.8770"
     ]
    },
    {
     "name": "stderr",
     "output_type": "stream",
     "text": [
      "2023-12-14 23:40:52.904324: I tensorflow/core/framework/local_rendezvous.cc:421] Local rendezvous recv item cancelled. Key hash: 5640187878637657889\n"
     ]
    },
    {
     "name": "stdout",
     "output_type": "stream",
     "text": [
      "25/25 [==============================] - 1s 33ms/step - loss: 2530.0479\n",
      "Epoch 787/1000\n",
      " 4/25 [===>..........................] - ETA: 0s - loss: 2529.7573"
     ]
    },
    {
     "name": "stderr",
     "output_type": "stream",
     "text": [
      "2023-12-14 23:40:53.762657: I tensorflow/core/framework/local_rendezvous.cc:421] Local rendezvous recv item cancelled. Key hash: 5640187878637657889\n"
     ]
    },
    {
     "name": "stdout",
     "output_type": "stream",
     "text": [
      "25/25 [==============================] - 1s 33ms/step - loss: 2527.7380\n",
      "Epoch 788/1000\n",
      " 4/25 [===>..........................] - ETA: 0s - loss: 2527.4500"
     ]
    },
    {
     "name": "stderr",
     "output_type": "stream",
     "text": [
      "2023-12-14 23:40:54.621180: I tensorflow/core/framework/local_rendezvous.cc:421] Local rendezvous recv item cancelled. Key hash: 5640187878637657889\n"
     ]
    },
    {
     "name": "stdout",
     "output_type": "stream",
     "text": [
      "25/25 [==============================] - 1s 33ms/step - loss: 2525.4404\n",
      "Epoch 789/1000\n",
      " 4/25 [===>..........................] - ETA: 0s - loss: 2525.1528"
     ]
    },
    {
     "name": "stderr",
     "output_type": "stream",
     "text": [
      "2023-12-14 23:40:55.488156: I tensorflow/core/framework/local_rendezvous.cc:421] Local rendezvous recv item cancelled. Key hash: 5640187878637657889\n"
     ]
    },
    {
     "name": "stdout",
     "output_type": "stream",
     "text": [
      "25/25 [==============================] - 1s 33ms/step - loss: 2523.1538\n",
      "Epoch 790/1000\n",
      " 4/25 [===>..........................] - ETA: 0s - loss: 2522.8667"
     ]
    },
    {
     "name": "stderr",
     "output_type": "stream",
     "text": [
      "2023-12-14 23:40:56.348543: I tensorflow/core/framework/local_rendezvous.cc:421] Local rendezvous recv item cancelled. Key hash: 5640187878637657889\n"
     ]
    },
    {
     "name": "stdout",
     "output_type": "stream",
     "text": [
      "25/25 [==============================] - 1s 33ms/step - loss: 2520.8640\n",
      "Epoch 791/1000\n",
      " 4/25 [===>..........................] - ETA: 0s - loss: 2520.5789"
     ]
    },
    {
     "name": "stderr",
     "output_type": "stream",
     "text": [
      "2023-12-14 23:40:57.210443: I tensorflow/core/framework/local_rendezvous.cc:421] Local rendezvous recv item cancelled. Key hash: 5640187878637657889\n"
     ]
    },
    {
     "name": "stdout",
     "output_type": "stream",
     "text": [
      "25/25 [==============================] - 1s 34ms/step - loss: 2518.5776\n",
      "Epoch 792/1000\n",
      " 4/25 [===>..........................] - ETA: 0s - loss: 2518.2932"
     ]
    },
    {
     "name": "stderr",
     "output_type": "stream",
     "text": [
      "2023-12-14 23:40:58.113672: I tensorflow/core/framework/local_rendezvous.cc:421] Local rendezvous recv item cancelled. Key hash: 5640187878637657889\n"
     ]
    },
    {
     "name": "stdout",
     "output_type": "stream",
     "text": [
      "25/25 [==============================] - 1s 34ms/step - loss: 2516.2949\n",
      "Epoch 793/1000\n",
      " 4/25 [===>..........................] - ETA: 0s - loss: 2516.0115"
     ]
    },
    {
     "name": "stderr",
     "output_type": "stream",
     "text": [
      "2023-12-14 23:40:59.003856: I tensorflow/core/framework/local_rendezvous.cc:421] Local rendezvous recv item cancelled. Key hash: 5640187878637657889\n"
     ]
    },
    {
     "name": "stdout",
     "output_type": "stream",
     "text": [
      "25/25 [==============================] - 1s 33ms/step - loss: 2514.0227\n",
      "Epoch 794/1000\n",
      " 4/25 [===>..........................] - ETA: 0s - loss: 2513.7373"
     ]
    },
    {
     "name": "stderr",
     "output_type": "stream",
     "text": [
      "2023-12-14 23:40:59.884511: I tensorflow/core/framework/local_rendezvous.cc:421] Local rendezvous recv item cancelled. Key hash: 5640187878637657889\n"
     ]
    },
    {
     "name": "stdout",
     "output_type": "stream",
     "text": [
      "25/25 [==============================] - 1s 33ms/step - loss: 2511.7537\n",
      "Epoch 795/1000\n",
      " 4/25 [===>..........................] - ETA: 0s - loss: 2511.4722"
     ]
    },
    {
     "name": "stderr",
     "output_type": "stream",
     "text": [
      "2023-12-14 23:41:00.756668: I tensorflow/core/framework/local_rendezvous.cc:421] Local rendezvous recv item cancelled. Key hash: 5640187878637657889\n"
     ]
    },
    {
     "name": "stdout",
     "output_type": "stream",
     "text": [
      "25/25 [==============================] - 1s 33ms/step - loss: 2509.4883\n",
      "Epoch 796/1000\n",
      " 4/25 [===>..........................] - ETA: 0s - loss: 2509.2056"
     ]
    },
    {
     "name": "stderr",
     "output_type": "stream",
     "text": [
      "2023-12-14 23:41:01.652791: I tensorflow/core/framework/local_rendezvous.cc:421] Local rendezvous recv item cancelled. Key hash: 5640187878637657889\n"
     ]
    },
    {
     "name": "stdout",
     "output_type": "stream",
     "text": [
      "25/25 [==============================] - 1s 35ms/step - loss: 2507.2288\n",
      "Epoch 797/1000\n",
      " 4/25 [===>..........................] - ETA: 0s - loss: 2506.9475"
     ]
    },
    {
     "name": "stderr",
     "output_type": "stream",
     "text": [
      "2023-12-14 23:41:02.577116: I tensorflow/core/framework/local_rendezvous.cc:421] Local rendezvous recv item cancelled. Key hash: 5640187878637657889\n"
     ]
    },
    {
     "name": "stdout",
     "output_type": "stream",
     "text": [
      "25/25 [==============================] - 1s 34ms/step - loss: 2504.9668\n",
      "Epoch 798/1000\n",
      " 4/25 [===>..........................] - ETA: 0s - loss: 2504.6858"
     ]
    },
    {
     "name": "stderr",
     "output_type": "stream",
     "text": [
      "2023-12-14 23:41:03.472362: I tensorflow/core/framework/local_rendezvous.cc:421] Local rendezvous recv item cancelled. Key hash: 5640187878637657889\n"
     ]
    },
    {
     "name": "stdout",
     "output_type": "stream",
     "text": [
      "25/25 [==============================] - 1s 33ms/step - loss: 2502.7188\n",
      "Epoch 799/1000\n",
      " 6/25 [======>.......................] - ETA: 0s - loss: 2502.2480"
     ]
    },
    {
     "name": "stderr",
     "output_type": "stream",
     "text": [
      "2023-12-14 23:41:04.337801: I tensorflow/core/framework/local_rendezvous.cc:421] Local rendezvous recv item cancelled. Key hash: 5640187878637657889\n"
     ]
    },
    {
     "name": "stdout",
     "output_type": "stream",
     "text": [
      "25/25 [==============================] - 1s 32ms/step - loss: 2500.4717\n",
      "Epoch 800/1000\n",
      " 4/25 [===>..........................] - ETA: 0s - loss: 2500.1912"
     ]
    },
    {
     "name": "stderr",
     "output_type": "stream",
     "text": [
      "2023-12-14 23:41:05.172940: I tensorflow/core/framework/local_rendezvous.cc:421] Local rendezvous recv item cancelled. Key hash: 5640187878637657889\n"
     ]
    },
    {
     "name": "stdout",
     "output_type": "stream",
     "text": [
      "25/25 [==============================] - 1s 33ms/step - loss: 2498.2241\n",
      "Epoch 801/1000\n",
      " 4/25 [===>..........................] - ETA: 0s - loss: 2497.9431"
     ]
    },
    {
     "name": "stderr",
     "output_type": "stream",
     "text": [
      "2023-12-14 23:41:06.033258: I tensorflow/core/framework/local_rendezvous.cc:421] Local rendezvous recv item cancelled. Key hash: 5640187878637657889\n"
     ]
    },
    {
     "name": "stdout",
     "output_type": "stream",
     "text": [
      "25/25 [==============================] - 1s 33ms/step - loss: 2495.9871\n",
      "Epoch 802/1000\n",
      " 4/25 [===>..........................] - ETA: 0s - loss: 2495.7065"
     ]
    },
    {
     "name": "stderr",
     "output_type": "stream",
     "text": [
      "2023-12-14 23:41:06.900922: I tensorflow/core/framework/local_rendezvous.cc:421] Local rendezvous recv item cancelled. Key hash: 5640187878637657889\n"
     ]
    },
    {
     "name": "stdout",
     "output_type": "stream",
     "text": [
      "25/25 [==============================] - 1s 33ms/step - loss: 2493.7505\n",
      "Epoch 803/1000\n",
      " 4/25 [===>..........................] - ETA: 0s - loss: 2493.4758"
     ]
    },
    {
     "name": "stderr",
     "output_type": "stream",
     "text": [
      "2023-12-14 23:41:07.753831: I tensorflow/core/framework/local_rendezvous.cc:421] Local rendezvous recv item cancelled. Key hash: 5640187878637657889\n"
     ]
    },
    {
     "name": "stdout",
     "output_type": "stream",
     "text": [
      "25/25 [==============================] - 1s 33ms/step - loss: 2491.5186\n",
      "Epoch 804/1000\n",
      " 6/25 [======>.......................] - ETA: 0s - loss: 2491.0552"
     ]
    },
    {
     "name": "stderr",
     "output_type": "stream",
     "text": [
      "2023-12-14 23:41:08.603006: I tensorflow/core/framework/local_rendezvous.cc:421] Local rendezvous recv item cancelled. Key hash: 5640187878637657889\n"
     ]
    },
    {
     "name": "stdout",
     "output_type": "stream",
     "text": [
      "25/25 [==============================] - 1s 33ms/step - loss: 2489.2920\n",
      "Epoch 805/1000\n",
      " 4/25 [===>..........................] - ETA: 0s - loss: 2489.0132"
     ]
    },
    {
     "name": "stderr",
     "output_type": "stream",
     "text": [
      "2023-12-14 23:41:09.444602: I tensorflow/core/framework/local_rendezvous.cc:421] Local rendezvous recv item cancelled. Key hash: 5640187878637657889\n"
     ]
    },
    {
     "name": "stdout",
     "output_type": "stream",
     "text": [
      "25/25 [==============================] - 1s 33ms/step - loss: 2487.0679\n",
      "Epoch 806/1000\n",
      " 4/25 [===>..........................] - ETA: 0s - loss: 2486.7944"
     ]
    },
    {
     "name": "stderr",
     "output_type": "stream",
     "text": [
      "2023-12-14 23:41:10.289714: I tensorflow/core/framework/local_rendezvous.cc:421] Local rendezvous recv item cancelled. Key hash: 5640187878637657889\n"
     ]
    },
    {
     "name": "stdout",
     "output_type": "stream",
     "text": [
      "25/25 [==============================] - 1s 34ms/step - loss: 2484.8574\n",
      "Epoch 807/1000\n",
      " 4/25 [===>..........................] - ETA: 0s - loss: 2484.5833"
     ]
    },
    {
     "name": "stderr",
     "output_type": "stream",
     "text": [
      "2023-12-14 23:41:11.163665: I tensorflow/core/framework/local_rendezvous.cc:421] Local rendezvous recv item cancelled. Key hash: 5640187878637657889\n"
     ]
    },
    {
     "name": "stdout",
     "output_type": "stream",
     "text": [
      "25/25 [==============================] - 1s 33ms/step - loss: 2482.6492\n",
      "Epoch 808/1000\n",
      " 6/25 [======>.......................] - ETA: 0s - loss: 2482.1897"
     ]
    },
    {
     "name": "stderr",
     "output_type": "stream",
     "text": [
      "2023-12-14 23:41:12.020431: I tensorflow/core/framework/local_rendezvous.cc:421] Local rendezvous recv item cancelled. Key hash: 5640187878637657889\n"
     ]
    },
    {
     "name": "stdout",
     "output_type": "stream",
     "text": [
      "25/25 [==============================] - 1s 32ms/step - loss: 2480.4409\n",
      "Epoch 809/1000\n",
      " 4/25 [===>..........................] - ETA: 0s - loss: 2480.1677"
     ]
    },
    {
     "name": "stderr",
     "output_type": "stream",
     "text": [
      "2023-12-14 23:41:12.853937: I tensorflow/core/framework/local_rendezvous.cc:421] Local rendezvous recv item cancelled. Key hash: 5640187878637657889\n"
     ]
    },
    {
     "name": "stdout",
     "output_type": "stream",
     "text": [
      "25/25 [==============================] - 1s 33ms/step - loss: 2478.2429\n",
      "Epoch 810/1000\n",
      " 6/25 [======>.......................] - ETA: 0s - loss: 2477.7847"
     ]
    },
    {
     "name": "stderr",
     "output_type": "stream",
     "text": [
      "2023-12-14 23:41:13.703458: I tensorflow/core/framework/local_rendezvous.cc:421] Local rendezvous recv item cancelled. Key hash: 5640187878637657889\n"
     ]
    },
    {
     "name": "stdout",
     "output_type": "stream",
     "text": [
      "25/25 [==============================] - 1s 33ms/step - loss: 2476.0454\n",
      "Epoch 811/1000\n",
      " 4/25 [===>..........................] - ETA: 0s - loss: 2475.7727"
     ]
    },
    {
     "name": "stderr",
     "output_type": "stream",
     "text": [
      "2023-12-14 23:41:14.548902: I tensorflow/core/framework/local_rendezvous.cc:421] Local rendezvous recv item cancelled. Key hash: 5640187878637657889\n"
     ]
    },
    {
     "name": "stdout",
     "output_type": "stream",
     "text": [
      "25/25 [==============================] - 1s 34ms/step - loss: 2473.8562\n",
      "Epoch 812/1000\n",
      " 4/25 [===>..........................] - ETA: 0s - loss: 2473.5835"
     ]
    },
    {
     "name": "stderr",
     "output_type": "stream",
     "text": [
      "2023-12-14 23:41:15.415202: I tensorflow/core/framework/local_rendezvous.cc:421] Local rendezvous recv item cancelled. Key hash: 5640187878637657889\n"
     ]
    },
    {
     "name": "stdout",
     "output_type": "stream",
     "text": [
      "25/25 [==============================] - 1s 33ms/step - loss: 2471.6733\n",
      "Epoch 813/1000\n",
      " 4/25 [===>..........................] - ETA: 0s - loss: 2471.4016"
     ]
    },
    {
     "name": "stderr",
     "output_type": "stream",
     "text": [
      "2023-12-14 23:41:16.274432: I tensorflow/core/framework/local_rendezvous.cc:421] Local rendezvous recv item cancelled. Key hash: 5640187878637657889\n"
     ]
    },
    {
     "name": "stdout",
     "output_type": "stream",
     "text": [
      "25/25 [==============================] - 1s 33ms/step - loss: 2469.4932\n",
      "Epoch 814/1000\n",
      " 4/25 [===>..........................] - ETA: 0s - loss: 2469.2163"
     ]
    },
    {
     "name": "stderr",
     "output_type": "stream",
     "text": [
      "2023-12-14 23:41:17.139550: I tensorflow/core/framework/local_rendezvous.cc:421] Local rendezvous recv item cancelled. Key hash: 5640187878637657889\n"
     ]
    },
    {
     "name": "stdout",
     "output_type": "stream",
     "text": [
      "25/25 [==============================] - 1s 34ms/step - loss: 2467.3052\n",
      "Epoch 815/1000\n",
      " 4/25 [===>..........................] - ETA: 0s - loss: 2467.0347"
     ]
    },
    {
     "name": "stderr",
     "output_type": "stream",
     "text": [
      "2023-12-14 23:41:18.022104: I tensorflow/core/framework/local_rendezvous.cc:421] Local rendezvous recv item cancelled. Key hash: 5640187878637657889\n"
     ]
    },
    {
     "name": "stdout",
     "output_type": "stream",
     "text": [
      "25/25 [==============================] - 1s 33ms/step - loss: 2465.1313\n",
      "Epoch 816/1000\n",
      " 6/25 [======>.......................] - ETA: 0s - loss: 2464.6787"
     ]
    },
    {
     "name": "stderr",
     "output_type": "stream",
     "text": [
      "2023-12-14 23:41:18.867803: I tensorflow/core/framework/local_rendezvous.cc:421] Local rendezvous recv item cancelled. Key hash: 5640187878637657889\n"
     ]
    },
    {
     "name": "stdout",
     "output_type": "stream",
     "text": [
      "25/25 [==============================] - 1s 33ms/step - loss: 2462.9612\n",
      "Epoch 817/1000\n",
      " 4/25 [===>..........................] - ETA: 0s - loss: 2462.6919"
     ]
    },
    {
     "name": "stderr",
     "output_type": "stream",
     "text": [
      "2023-12-14 23:41:19.719158: I tensorflow/core/framework/local_rendezvous.cc:421] Local rendezvous recv item cancelled. Key hash: 5640187878637657889\n"
     ]
    },
    {
     "name": "stdout",
     "output_type": "stream",
     "text": [
      "25/25 [==============================] - 1s 33ms/step - loss: 2460.8008\n",
      "Epoch 818/1000\n",
      " 4/25 [===>..........................] - ETA: 0s - loss: 2460.5303"
     ]
    },
    {
     "name": "stderr",
     "output_type": "stream",
     "text": [
      "2023-12-14 23:41:20.578761: I tensorflow/core/framework/local_rendezvous.cc:421] Local rendezvous recv item cancelled. Key hash: 5640187878637657889\n"
     ]
    },
    {
     "name": "stdout",
     "output_type": "stream",
     "text": [
      "25/25 [==============================] - 1s 33ms/step - loss: 2458.6357\n",
      "Epoch 819/1000\n",
      " 4/25 [===>..........................] - ETA: 0s - loss: 2458.3669"
     ]
    },
    {
     "name": "stderr",
     "output_type": "stream",
     "text": [
      "2023-12-14 23:41:21.421086: I tensorflow/core/framework/local_rendezvous.cc:421] Local rendezvous recv item cancelled. Key hash: 5640187878637657889\n"
     ]
    },
    {
     "name": "stdout",
     "output_type": "stream",
     "text": [
      "25/25 [==============================] - 1s 32ms/step - loss: 2456.4810\n",
      "Epoch 820/1000\n",
      " 4/25 [===>..........................] - ETA: 0s - loss: 2456.2134"
     ]
    },
    {
     "name": "stderr",
     "output_type": "stream",
     "text": [
      "2023-12-14 23:41:22.267909: I tensorflow/core/framework/local_rendezvous.cc:421] Local rendezvous recv item cancelled. Key hash: 5640187878637657889\n"
     ]
    },
    {
     "name": "stdout",
     "output_type": "stream",
     "text": [
      "25/25 [==============================] - 1s 33ms/step - loss: 2454.3296\n",
      "Epoch 821/1000\n",
      " 4/25 [===>..........................] - ETA: 0s - loss: 2454.0623"
     ]
    },
    {
     "name": "stderr",
     "output_type": "stream",
     "text": [
      "2023-12-14 23:41:23.114881: I tensorflow/core/framework/local_rendezvous.cc:421] Local rendezvous recv item cancelled. Key hash: 5640187878637657889\n"
     ]
    },
    {
     "name": "stdout",
     "output_type": "stream",
     "text": [
      "25/25 [==============================] - 1s 33ms/step - loss: 2452.1804\n",
      "Epoch 822/1000\n",
      " 4/25 [===>..........................] - ETA: 0s - loss: 2451.9128"
     ]
    },
    {
     "name": "stderr",
     "output_type": "stream",
     "text": [
      "2023-12-14 23:41:23.970232: I tensorflow/core/framework/local_rendezvous.cc:421] Local rendezvous recv item cancelled. Key hash: 5640187878637657889\n"
     ]
    },
    {
     "name": "stdout",
     "output_type": "stream",
     "text": [
      "25/25 [==============================] - 1s 34ms/step - loss: 2450.0432\n",
      "Epoch 823/1000\n",
      " 6/25 [======>.......................] - ETA: 0s - loss: 2449.5989"
     ]
    },
    {
     "name": "stderr",
     "output_type": "stream",
     "text": [
      "2023-12-14 23:41:24.847164: I tensorflow/core/framework/local_rendezvous.cc:421] Local rendezvous recv item cancelled. Key hash: 5640187878637657889\n"
     ]
    },
    {
     "name": "stdout",
     "output_type": "stream",
     "text": [
      "25/25 [==============================] - 1s 32ms/step - loss: 2447.9092\n",
      "Epoch 824/1000\n",
      " 6/25 [======>.......................] - ETA: 0s - loss: 2447.4666"
     ]
    },
    {
     "name": "stderr",
     "output_type": "stream",
     "text": [
      "2023-12-14 23:41:25.687720: I tensorflow/core/framework/local_rendezvous.cc:421] Local rendezvous recv item cancelled. Key hash: 5640187878637657889\n"
     ]
    },
    {
     "name": "stdout",
     "output_type": "stream",
     "text": [
      "25/25 [==============================] - 1s 33ms/step - loss: 2445.7798\n",
      "Epoch 825/1000\n",
      " 4/25 [===>..........................] - ETA: 0s - loss: 2445.5103"
     ]
    },
    {
     "name": "stderr",
     "output_type": "stream",
     "text": [
      "2023-12-14 23:41:26.527576: I tensorflow/core/framework/local_rendezvous.cc:421] Local rendezvous recv item cancelled. Key hash: 5640187878637657889\n"
     ]
    },
    {
     "name": "stdout",
     "output_type": "stream",
     "text": [
      "25/25 [==============================] - 1s 33ms/step - loss: 2443.6438\n",
      "Epoch 826/1000\n",
      " 6/25 [======>.......................] - ETA: 0s - loss: 2443.2024"
     ]
    },
    {
     "name": "stderr",
     "output_type": "stream",
     "text": [
      "2023-12-14 23:41:27.385029: I tensorflow/core/framework/local_rendezvous.cc:421] Local rendezvous recv item cancelled. Key hash: 5640187878637657889\n"
     ]
    },
    {
     "name": "stdout",
     "output_type": "stream",
     "text": [
      "25/25 [==============================] - 1s 33ms/step - loss: 2441.5129\n",
      "Epoch 827/1000\n",
      " 4/25 [===>..........................] - ETA: 0s - loss: 2441.2510"
     ]
    },
    {
     "name": "stderr",
     "output_type": "stream",
     "text": [
      "2023-12-14 23:41:28.234106: I tensorflow/core/framework/local_rendezvous.cc:421] Local rendezvous recv item cancelled. Key hash: 5640187878637657889\n"
     ]
    },
    {
     "name": "stdout",
     "output_type": "stream",
     "text": [
      "25/25 [==============================] - 1s 34ms/step - loss: 2439.3926\n",
      "Epoch 828/1000\n",
      " 4/25 [===>..........................] - ETA: 0s - loss: 2439.1277"
     ]
    },
    {
     "name": "stderr",
     "output_type": "stream",
     "text": [
      "2023-12-14 23:41:29.108179: I tensorflow/core/framework/local_rendezvous.cc:421] Local rendezvous recv item cancelled. Key hash: 5640187878637657889\n"
     ]
    },
    {
     "name": "stdout",
     "output_type": "stream",
     "text": [
      "25/25 [==============================] - 1s 34ms/step - loss: 2437.2742\n",
      "Epoch 829/1000\n",
      " 4/25 [===>..........................] - ETA: 0s - loss: 2437.0112"
     ]
    },
    {
     "name": "stderr",
     "output_type": "stream",
     "text": [
      "2023-12-14 23:41:29.986580: I tensorflow/core/framework/local_rendezvous.cc:421] Local rendezvous recv item cancelled. Key hash: 5640187878637657889\n"
     ]
    },
    {
     "name": "stdout",
     "output_type": "stream",
     "text": [
      "25/25 [==============================] - 1s 33ms/step - loss: 2435.1621\n",
      "Epoch 830/1000\n",
      " 4/25 [===>..........................] - ETA: 0s - loss: 2434.8962"
     ]
    },
    {
     "name": "stderr",
     "output_type": "stream",
     "text": [
      "2023-12-14 23:41:30.837010: I tensorflow/core/framework/local_rendezvous.cc:421] Local rendezvous recv item cancelled. Key hash: 5640187878637657889\n"
     ]
    },
    {
     "name": "stdout",
     "output_type": "stream",
     "text": [
      "25/25 [==============================] - 1s 33ms/step - loss: 2433.0503\n",
      "Epoch 831/1000\n",
      " 4/25 [===>..........................] - ETA: 0s - loss: 2432.7883"
     ]
    },
    {
     "name": "stderr",
     "output_type": "stream",
     "text": [
      "2023-12-14 23:41:31.688941: I tensorflow/core/framework/local_rendezvous.cc:421] Local rendezvous recv item cancelled. Key hash: 5640187878637657889\n"
     ]
    },
    {
     "name": "stdout",
     "output_type": "stream",
     "text": [
      "25/25 [==============================] - 1s 33ms/step - loss: 2430.9453\n",
      "Epoch 832/1000\n",
      " 6/25 [======>.......................] - ETA: 0s - loss: 2430.5054"
     ]
    },
    {
     "name": "stderr",
     "output_type": "stream",
     "text": [
      "2023-12-14 23:41:32.536489: I tensorflow/core/framework/local_rendezvous.cc:421] Local rendezvous recv item cancelled. Key hash: 5640187878637657889\n"
     ]
    },
    {
     "name": "stdout",
     "output_type": "stream",
     "text": [
      "25/25 [==============================] - 1s 32ms/step - loss: 2428.8442\n",
      "Epoch 833/1000\n",
      " 4/25 [===>..........................] - ETA: 0s - loss: 2428.5818"
     ]
    },
    {
     "name": "stderr",
     "output_type": "stream",
     "text": [
      "2023-12-14 23:41:33.368413: I tensorflow/core/framework/local_rendezvous.cc:421] Local rendezvous recv item cancelled. Key hash: 5640187878637657889\n"
     ]
    },
    {
     "name": "stdout",
     "output_type": "stream",
     "text": [
      "25/25 [==============================] - 1s 33ms/step - loss: 2426.7456\n",
      "Epoch 834/1000\n",
      " 6/25 [======>.......................] - ETA: 0s - loss: 2426.3083"
     ]
    },
    {
     "name": "stderr",
     "output_type": "stream",
     "text": [
      "2023-12-14 23:41:34.220683: I tensorflow/core/framework/local_rendezvous.cc:421] Local rendezvous recv item cancelled. Key hash: 5640187878637657889\n"
     ]
    },
    {
     "name": "stdout",
     "output_type": "stream",
     "text": [
      "25/25 [==============================] - 1s 33ms/step - loss: 2424.6541\n",
      "Epoch 835/1000\n",
      " 4/25 [===>..........................] - ETA: 0s - loss: 2424.3921"
     ]
    },
    {
     "name": "stderr",
     "output_type": "stream",
     "text": [
      "2023-12-14 23:41:35.071055: I tensorflow/core/framework/local_rendezvous.cc:421] Local rendezvous recv item cancelled. Key hash: 5640187878637657889\n"
     ]
    },
    {
     "name": "stdout",
     "output_type": "stream",
     "text": [
      "25/25 [==============================] - 1s 32ms/step - loss: 2422.5679\n",
      "Epoch 836/1000\n",
      " 4/25 [===>..........................] - ETA: 0s - loss: 2422.3081"
     ]
    },
    {
     "name": "stderr",
     "output_type": "stream",
     "text": [
      "2023-12-14 23:41:35.917548: I tensorflow/core/framework/local_rendezvous.cc:421] Local rendezvous recv item cancelled. Key hash: 5640187878637657889\n"
     ]
    },
    {
     "name": "stdout",
     "output_type": "stream",
     "text": [
      "25/25 [==============================] - 1s 33ms/step - loss: 2420.4824\n",
      "Epoch 837/1000\n",
      " 4/25 [===>..........................] - ETA: 0s - loss: 2420.2231"
     ]
    },
    {
     "name": "stderr",
     "output_type": "stream",
     "text": [
      "2023-12-14 23:41:36.768174: I tensorflow/core/framework/local_rendezvous.cc:421] Local rendezvous recv item cancelled. Key hash: 5640187878637657889\n"
     ]
    },
    {
     "name": "stdout",
     "output_type": "stream",
     "text": [
      "25/25 [==============================] - 1s 33ms/step - loss: 2418.3972\n",
      "Epoch 838/1000\n",
      " 4/25 [===>..........................] - ETA: 0s - loss: 2418.1399"
     ]
    },
    {
     "name": "stderr",
     "output_type": "stream",
     "text": [
      "2023-12-14 23:41:37.617330: I tensorflow/core/framework/local_rendezvous.cc:421] Local rendezvous recv item cancelled. Key hash: 5640187878637657889\n"
     ]
    },
    {
     "name": "stdout",
     "output_type": "stream",
     "text": [
      "25/25 [==============================] - 1s 33ms/step - loss: 2416.3186\n",
      "Epoch 839/1000\n",
      " 6/25 [======>.......................] - ETA: 0s - loss: 2415.8872"
     ]
    },
    {
     "name": "stderr",
     "output_type": "stream",
     "text": [
      "2023-12-14 23:41:38.464788: I tensorflow/core/framework/local_rendezvous.cc:421] Local rendezvous recv item cancelled. Key hash: 5640187878637657889\n"
     ]
    },
    {
     "name": "stdout",
     "output_type": "stream",
     "text": [
      "25/25 [==============================] - 1s 33ms/step - loss: 2414.2468\n",
      "Epoch 840/1000\n",
      " 6/25 [======>.......................] - ETA: 0s - loss: 2413.8154"
     ]
    },
    {
     "name": "stderr",
     "output_type": "stream",
     "text": [
      "2023-12-14 23:41:39.303224: I tensorflow/core/framework/local_rendezvous.cc:421] Local rendezvous recv item cancelled. Key hash: 5640187878637657889\n"
     ]
    },
    {
     "name": "stdout",
     "output_type": "stream",
     "text": [
      "25/25 [==============================] - 1s 33ms/step - loss: 2412.1814\n",
      "Epoch 841/1000\n",
      " 4/25 [===>..........................] - ETA: 0s - loss: 2411.9221"
     ]
    },
    {
     "name": "stderr",
     "output_type": "stream",
     "text": [
      "2023-12-14 23:41:40.142798: I tensorflow/core/framework/local_rendezvous.cc:421] Local rendezvous recv item cancelled. Key hash: 5640187878637657889\n"
     ]
    },
    {
     "name": "stdout",
     "output_type": "stream",
     "text": [
      "25/25 [==============================] - 1s 33ms/step - loss: 2410.1143\n",
      "Epoch 842/1000\n",
      " 4/25 [===>..........................] - ETA: 0s - loss: 2409.8564"
     ]
    },
    {
     "name": "stderr",
     "output_type": "stream",
     "text": [
      "2023-12-14 23:41:40.986852: I tensorflow/core/framework/local_rendezvous.cc:421] Local rendezvous recv item cancelled. Key hash: 5640187878637657889\n"
     ]
    },
    {
     "name": "stdout",
     "output_type": "stream",
     "text": [
      "25/25 [==============================] - 1s 33ms/step - loss: 2408.0542\n",
      "Epoch 843/1000\n",
      " 6/25 [======>.......................] - ETA: 0s - loss: 2407.6301"
     ]
    },
    {
     "name": "stderr",
     "output_type": "stream",
     "text": [
      "2023-12-14 23:41:41.834918: I tensorflow/core/framework/local_rendezvous.cc:421] Local rendezvous recv item cancelled. Key hash: 5640187878637657889\n"
     ]
    },
    {
     "name": "stdout",
     "output_type": "stream",
     "text": [
      "25/25 [==============================] - 1s 33ms/step - loss: 2406.0037\n",
      "Epoch 844/1000\n",
      " 6/25 [======>.......................] - ETA: 0s - loss: 2405.5759"
     ]
    },
    {
     "name": "stderr",
     "output_type": "stream",
     "text": [
      "2023-12-14 23:41:42.680250: I tensorflow/core/framework/local_rendezvous.cc:421] Local rendezvous recv item cancelled. Key hash: 5640187878637657889\n"
     ]
    },
    {
     "name": "stdout",
     "output_type": "stream",
     "text": [
      "25/25 [==============================] - 1s 32ms/step - loss: 2403.9480\n",
      "Epoch 845/1000\n",
      " 4/25 [===>..........................] - ETA: 0s - loss: 2403.6909"
     ]
    },
    {
     "name": "stderr",
     "output_type": "stream",
     "text": [
      "2023-12-14 23:41:43.515812: I tensorflow/core/framework/local_rendezvous.cc:421] Local rendezvous recv item cancelled. Key hash: 5640187878637657889\n"
     ]
    },
    {
     "name": "stdout",
     "output_type": "stream",
     "text": [
      "25/25 [==============================] - 1s 33ms/step - loss: 2401.9048\n",
      "Epoch 846/1000\n",
      " 6/25 [======>.......................] - ETA: 0s - loss: 2401.4807"
     ]
    },
    {
     "name": "stderr",
     "output_type": "stream",
     "text": [
      "2023-12-14 23:41:44.368198: I tensorflow/core/framework/local_rendezvous.cc:421] Local rendezvous recv item cancelled. Key hash: 5640187878637657889\n"
     ]
    },
    {
     "name": "stdout",
     "output_type": "stream",
     "text": [
      "25/25 [==============================] - 1s 32ms/step - loss: 2399.8604\n",
      "Epoch 847/1000\n",
      " 6/25 [======>.......................] - ETA: 0s - loss: 2399.4363"
     ]
    },
    {
     "name": "stderr",
     "output_type": "stream",
     "text": [
      "2023-12-14 23:41:45.202808: I tensorflow/core/framework/local_rendezvous.cc:421] Local rendezvous recv item cancelled. Key hash: 5640187878637657889\n"
     ]
    },
    {
     "name": "stdout",
     "output_type": "stream",
     "text": [
      "25/25 [==============================] - 1s 32ms/step - loss: 2397.8235\n",
      "Epoch 848/1000\n",
      " 6/25 [======>.......................] - ETA: 0s - loss: 2397.3994"
     ]
    },
    {
     "name": "stderr",
     "output_type": "stream",
     "text": [
      "2023-12-14 23:41:46.038659: I tensorflow/core/framework/local_rendezvous.cc:421] Local rendezvous recv item cancelled. Key hash: 5640187878637657889\n"
     ]
    },
    {
     "name": "stdout",
     "output_type": "stream",
     "text": [
      "25/25 [==============================] - 1s 33ms/step - loss: 2395.7869\n",
      "Epoch 849/1000\n",
      " 4/25 [===>..........................] - ETA: 0s - loss: 2395.5332"
     ]
    },
    {
     "name": "stderr",
     "output_type": "stream",
     "text": [
      "2023-12-14 23:41:46.877558: I tensorflow/core/framework/local_rendezvous.cc:421] Local rendezvous recv item cancelled. Key hash: 5640187878637657889\n"
     ]
    },
    {
     "name": "stdout",
     "output_type": "stream",
     "text": [
      "25/25 [==============================] - 1s 33ms/step - loss: 2393.7593\n",
      "Epoch 850/1000\n",
      " 6/25 [======>.......................] - ETA: 0s - loss: 2393.3381"
     ]
    },
    {
     "name": "stderr",
     "output_type": "stream",
     "text": [
      "2023-12-14 23:41:47.720640: I tensorflow/core/framework/local_rendezvous.cc:421] Local rendezvous recv item cancelled. Key hash: 5640187878637657889\n"
     ]
    },
    {
     "name": "stdout",
     "output_type": "stream",
     "text": [
      "25/25 [==============================] - 1s 32ms/step - loss: 2391.7378\n",
      "Epoch 851/1000\n",
      " 6/25 [======>.......................] - ETA: 0s - loss: 2391.3154"
     ]
    },
    {
     "name": "stderr",
     "output_type": "stream",
     "text": [
      "2023-12-14 23:41:48.553690: I tensorflow/core/framework/local_rendezvous.cc:421] Local rendezvous recv item cancelled. Key hash: 5640187878637657889\n"
     ]
    },
    {
     "name": "stdout",
     "output_type": "stream",
     "text": [
      "25/25 [==============================] - 1s 33ms/step - loss: 2389.7192\n",
      "Epoch 852/1000\n",
      " 4/25 [===>..........................] - ETA: 0s - loss: 2389.4658"
     ]
    },
    {
     "name": "stderr",
     "output_type": "stream",
     "text": [
      "2023-12-14 23:41:49.393585: I tensorflow/core/framework/local_rendezvous.cc:421] Local rendezvous recv item cancelled. Key hash: 5640187878637657889\n"
     ]
    },
    {
     "name": "stdout",
     "output_type": "stream",
     "text": [
      "25/25 [==============================] - 1s 32ms/step - loss: 2387.6958\n",
      "Epoch 853/1000\n",
      " 6/25 [======>.......................] - ETA: 0s - loss: 2387.2766"
     ]
    },
    {
     "name": "stderr",
     "output_type": "stream",
     "text": [
      "2023-12-14 23:41:50.236959: I tensorflow/core/framework/local_rendezvous.cc:421] Local rendezvous recv item cancelled. Key hash: 5640187878637657889\n"
     ]
    },
    {
     "name": "stdout",
     "output_type": "stream",
     "text": [
      "25/25 [==============================] - 1s 33ms/step - loss: 2385.6804\n",
      "Epoch 854/1000\n",
      " 4/25 [===>..........................] - ETA: 0s - loss: 2385.4302"
     ]
    },
    {
     "name": "stderr",
     "output_type": "stream",
     "text": [
      "2023-12-14 23:41:51.075196: I tensorflow/core/framework/local_rendezvous.cc:421] Local rendezvous recv item cancelled. Key hash: 5640187878637657889\n"
     ]
    },
    {
     "name": "stdout",
     "output_type": "stream",
     "text": [
      "25/25 [==============================] - 1s 33ms/step - loss: 2383.6753\n",
      "Epoch 855/1000\n",
      " 4/25 [===>..........................] - ETA: 0s - loss: 2383.4246"
     ]
    },
    {
     "name": "stderr",
     "output_type": "stream",
     "text": [
      "2023-12-14 23:41:51.924119: I tensorflow/core/framework/local_rendezvous.cc:421] Local rendezvous recv item cancelled. Key hash: 5640187878637657889\n"
     ]
    },
    {
     "name": "stdout",
     "output_type": "stream",
     "text": [
      "25/25 [==============================] - 1s 33ms/step - loss: 2381.6638\n",
      "Epoch 856/1000\n",
      " 6/25 [======>.......................] - ETA: 0s - loss: 2381.2485"
     ]
    },
    {
     "name": "stderr",
     "output_type": "stream",
     "text": [
      "2023-12-14 23:41:52.775629: I tensorflow/core/framework/local_rendezvous.cc:421] Local rendezvous recv item cancelled. Key hash: 5640187878637657889\n"
     ]
    },
    {
     "name": "stdout",
     "output_type": "stream",
     "text": [
      "25/25 [==============================] - 1s 33ms/step - loss: 2379.6648\n",
      "Epoch 857/1000\n",
      " 4/25 [===>..........................] - ETA: 0s - loss: 2379.4141"
     ]
    },
    {
     "name": "stderr",
     "output_type": "stream",
     "text": [
      "2023-12-14 23:41:53.615901: I tensorflow/core/framework/local_rendezvous.cc:421] Local rendezvous recv item cancelled. Key hash: 5640187878637657889\n"
     ]
    },
    {
     "name": "stdout",
     "output_type": "stream",
     "text": [
      "25/25 [==============================] - 1s 33ms/step - loss: 2377.6648\n",
      "Epoch 858/1000\n",
      " 6/25 [======>.......................] - ETA: 0s - loss: 2377.2485"
     ]
    },
    {
     "name": "stderr",
     "output_type": "stream",
     "text": [
      "2023-12-14 23:41:54.464091: I tensorflow/core/framework/local_rendezvous.cc:421] Local rendezvous recv item cancelled. Key hash: 5640187878637657889\n"
     ]
    },
    {
     "name": "stdout",
     "output_type": "stream",
     "text": [
      "25/25 [==============================] - 1s 33ms/step - loss: 2375.6631\n",
      "Epoch 859/1000\n",
      " 4/25 [===>..........................] - ETA: 0s - loss: 2375.4126"
     ]
    },
    {
     "name": "stderr",
     "output_type": "stream",
     "text": [
      "2023-12-14 23:41:55.306946: I tensorflow/core/framework/local_rendezvous.cc:421] Local rendezvous recv item cancelled. Key hash: 5640187878637657889\n"
     ]
    },
    {
     "name": "stdout",
     "output_type": "stream",
     "text": [
      "25/25 [==============================] - 1s 33ms/step - loss: 2373.6641\n",
      "Epoch 860/1000\n",
      " 6/25 [======>.......................] - ETA: 0s - loss: 2373.2495"
     ]
    },
    {
     "name": "stderr",
     "output_type": "stream",
     "text": [
      "2023-12-14 23:41:56.152506: I tensorflow/core/framework/local_rendezvous.cc:421] Local rendezvous recv item cancelled. Key hash: 5640187878637657889\n"
     ]
    },
    {
     "name": "stdout",
     "output_type": "stream",
     "text": [
      "25/25 [==============================] - 1s 33ms/step - loss: 2371.6799\n",
      "Epoch 861/1000\n",
      " 4/25 [===>..........................] - ETA: 0s - loss: 2371.4331"
     ]
    },
    {
     "name": "stderr",
     "output_type": "stream",
     "text": [
      "2023-12-14 23:41:56.999599: I tensorflow/core/framework/local_rendezvous.cc:421] Local rendezvous recv item cancelled. Key hash: 5640187878637657889\n"
     ]
    },
    {
     "name": "stdout",
     "output_type": "stream",
     "text": [
      "25/25 [==============================] - 1s 33ms/step - loss: 2369.6980\n",
      "Epoch 862/1000\n",
      " 4/25 [===>..........................] - ETA: 0s - loss: 2369.4504"
     ]
    },
    {
     "name": "stderr",
     "output_type": "stream",
     "text": [
      "2023-12-14 23:41:57.854847: I tensorflow/core/framework/local_rendezvous.cc:421] Local rendezvous recv item cancelled. Key hash: 5640187878637657889\n"
     ]
    },
    {
     "name": "stdout",
     "output_type": "stream",
     "text": [
      "25/25 [==============================] - 1s 33ms/step - loss: 2367.7188\n",
      "Epoch 863/1000\n",
      " 4/25 [===>..........................] - ETA: 0s - loss: 2367.4736"
     ]
    },
    {
     "name": "stderr",
     "output_type": "stream",
     "text": [
      "2023-12-14 23:41:58.720316: I tensorflow/core/framework/local_rendezvous.cc:421] Local rendezvous recv item cancelled. Key hash: 5640187878637657889\n"
     ]
    },
    {
     "name": "stdout",
     "output_type": "stream",
     "text": [
      "25/25 [==============================] - 1s 33ms/step - loss: 2365.7473\n",
      "Epoch 864/1000\n",
      " 4/25 [===>..........................] - ETA: 0s - loss: 2365.5024"
     ]
    },
    {
     "name": "stderr",
     "output_type": "stream",
     "text": [
      "2023-12-14 23:41:59.587336: I tensorflow/core/framework/local_rendezvous.cc:421] Local rendezvous recv item cancelled. Key hash: 5640187878637657889\n"
     ]
    },
    {
     "name": "stdout",
     "output_type": "stream",
     "text": [
      "25/25 [==============================] - 1s 33ms/step - loss: 2363.7708\n",
      "Epoch 865/1000\n",
      " 4/25 [===>..........................] - ETA: 0s - loss: 2363.5229"
     ]
    },
    {
     "name": "stderr",
     "output_type": "stream",
     "text": [
      "2023-12-14 23:42:00.453859: I tensorflow/core/framework/local_rendezvous.cc:421] Local rendezvous recv item cancelled. Key hash: 5640187878637657889\n"
     ]
    },
    {
     "name": "stdout",
     "output_type": "stream",
     "text": [
      "25/25 [==============================] - 1s 33ms/step - loss: 2361.7988\n",
      "Epoch 866/1000\n",
      " 4/25 [===>..........................] - ETA: 0s - loss: 2361.5562"
     ]
    },
    {
     "name": "stderr",
     "output_type": "stream",
     "text": [
      "2023-12-14 23:42:01.320600: I tensorflow/core/framework/local_rendezvous.cc:421] Local rendezvous recv item cancelled. Key hash: 5640187878637657889\n"
     ]
    },
    {
     "name": "stdout",
     "output_type": "stream",
     "text": [
      "25/25 [==============================] - 1s 33ms/step - loss: 2359.8308\n",
      "Epoch 867/1000\n",
      " 4/25 [===>..........................] - ETA: 0s - loss: 2359.5864"
     ]
    },
    {
     "name": "stderr",
     "output_type": "stream",
     "text": [
      "2023-12-14 23:42:02.187543: I tensorflow/core/framework/local_rendezvous.cc:421] Local rendezvous recv item cancelled. Key hash: 5640187878637657889\n"
     ]
    },
    {
     "name": "stdout",
     "output_type": "stream",
     "text": [
      "25/25 [==============================] - 1s 33ms/step - loss: 2357.8684\n",
      "Epoch 868/1000\n",
      " 4/25 [===>..........................] - ETA: 0s - loss: 2357.6240"
     ]
    },
    {
     "name": "stderr",
     "output_type": "stream",
     "text": [
      "2023-12-14 23:42:03.037652: I tensorflow/core/framework/local_rendezvous.cc:421] Local rendezvous recv item cancelled. Key hash: 5640187878637657889\n"
     ]
    },
    {
     "name": "stdout",
     "output_type": "stream",
     "text": [
      "25/25 [==============================] - 1s 32ms/step - loss: 2355.9092\n",
      "Epoch 869/1000\n",
      " 4/25 [===>..........................] - ETA: 0s - loss: 2355.6638"
     ]
    },
    {
     "name": "stderr",
     "output_type": "stream",
     "text": [
      "2023-12-14 23:42:03.886717: I tensorflow/core/framework/local_rendezvous.cc:421] Local rendezvous recv item cancelled. Key hash: 5640187878637657889\n"
     ]
    },
    {
     "name": "stdout",
     "output_type": "stream",
     "text": [
      "25/25 [==============================] - 1s 33ms/step - loss: 2353.9556\n",
      "Epoch 870/1000\n",
      " 4/25 [===>..........................] - ETA: 0s - loss: 2353.7112"
     ]
    },
    {
     "name": "stderr",
     "output_type": "stream",
     "text": [
      "2023-12-14 23:42:04.737847: I tensorflow/core/framework/local_rendezvous.cc:421] Local rendezvous recv item cancelled. Key hash: 5640187878637657889\n"
     ]
    },
    {
     "name": "stdout",
     "output_type": "stream",
     "text": [
      "25/25 [==============================] - 1s 33ms/step - loss: 2352.0049\n",
      "Epoch 871/1000\n",
      " 4/25 [===>..........................] - ETA: 0s - loss: 2351.7617"
     ]
    },
    {
     "name": "stderr",
     "output_type": "stream",
     "text": [
      "2023-12-14 23:42:05.588438: I tensorflow/core/framework/local_rendezvous.cc:421] Local rendezvous recv item cancelled. Key hash: 5640187878637657889\n"
     ]
    },
    {
     "name": "stdout",
     "output_type": "stream",
     "text": [
      "25/25 [==============================] - 1s 33ms/step - loss: 2350.0630\n",
      "Epoch 872/1000\n",
      " 4/25 [===>..........................] - ETA: 0s - loss: 2349.8210"
     ]
    },
    {
     "name": "stderr",
     "output_type": "stream",
     "text": [
      "2023-12-14 23:42:06.435485: I tensorflow/core/framework/local_rendezvous.cc:421] Local rendezvous recv item cancelled. Key hash: 5640187878637657889\n"
     ]
    },
    {
     "name": "stdout",
     "output_type": "stream",
     "text": [
      "25/25 [==============================] - 1s 33ms/step - loss: 2348.1245\n",
      "Epoch 873/1000\n",
      " 6/25 [======>.......................] - ETA: 0s - loss: 2347.7207"
     ]
    },
    {
     "name": "stderr",
     "output_type": "stream",
     "text": [
      "2023-12-14 23:42:07.282531: I tensorflow/core/framework/local_rendezvous.cc:421] Local rendezvous recv item cancelled. Key hash: 5640187878637657889\n"
     ]
    },
    {
     "name": "stdout",
     "output_type": "stream",
     "text": [
      "25/25 [==============================] - 1s 32ms/step - loss: 2346.1897\n",
      "Epoch 874/1000\n",
      " 6/25 [======>.......................] - ETA: 0s - loss: 2345.7866"
     ]
    },
    {
     "name": "stderr",
     "output_type": "stream",
     "text": [
      "2023-12-14 23:42:08.118811: I tensorflow/core/framework/local_rendezvous.cc:421] Local rendezvous recv item cancelled. Key hash: 5640187878637657889\n"
     ]
    },
    {
     "name": "stdout",
     "output_type": "stream",
     "text": [
      "25/25 [==============================] - 1s 32ms/step - loss: 2344.2539\n",
      "Epoch 875/1000\n",
      " 6/25 [======>.......................] - ETA: 0s - loss: 2343.8516"
     ]
    },
    {
     "name": "stderr",
     "output_type": "stream",
     "text": [
      "2023-12-14 23:42:08.952498: I tensorflow/core/framework/local_rendezvous.cc:425] Local rendezvous send item cancelled. Key hash: 7472141119732702058\n",
      "2023-12-14 23:42:08.952530: I tensorflow/core/framework/local_rendezvous.cc:421] Local rendezvous recv item cancelled. Key hash: 5640187878637657889\n"
     ]
    },
    {
     "name": "stdout",
     "output_type": "stream",
     "text": [
      "25/25 [==============================] - 1s 32ms/step - loss: 2342.3293\n",
      "Epoch 876/1000\n",
      " 6/25 [======>.......................] - ETA: 0s - loss: 2341.9260"
     ]
    },
    {
     "name": "stderr",
     "output_type": "stream",
     "text": [
      "2023-12-14 23:42:09.786247: I tensorflow/core/framework/local_rendezvous.cc:421] Local rendezvous recv item cancelled. Key hash: 5640187878637657889\n"
     ]
    },
    {
     "name": "stdout",
     "output_type": "stream",
     "text": [
      "25/25 [==============================] - 1s 32ms/step - loss: 2340.4011\n",
      "Epoch 877/1000\n",
      " 6/25 [======>.......................] - ETA: 0s - loss: 2340.0012"
     ]
    },
    {
     "name": "stderr",
     "output_type": "stream",
     "text": [
      "2023-12-14 23:42:10.618755: I tensorflow/core/framework/local_rendezvous.cc:421] Local rendezvous recv item cancelled. Key hash: 5640187878637657889\n"
     ]
    },
    {
     "name": "stdout",
     "output_type": "stream",
     "text": [
      "25/25 [==============================] - 1s 32ms/step - loss: 2338.4778\n",
      "Epoch 878/1000\n",
      " 6/25 [======>.......................] - ETA: 0s - loss: 2338.0752"
     ]
    },
    {
     "name": "stderr",
     "output_type": "stream",
     "text": [
      "2023-12-14 23:42:11.452797: I tensorflow/core/framework/local_rendezvous.cc:421] Local rendezvous recv item cancelled. Key hash: 5640187878637657889\n"
     ]
    },
    {
     "name": "stdout",
     "output_type": "stream",
     "text": [
      "25/25 [==============================] - 1s 32ms/step - loss: 2336.5566\n",
      "Epoch 879/1000\n",
      " 6/25 [======>.......................] - ETA: 0s - loss: 2336.1592"
     ]
    },
    {
     "name": "stderr",
     "output_type": "stream",
     "text": [
      "2023-12-14 23:42:12.285007: I tensorflow/core/framework/local_rendezvous.cc:421] Local rendezvous recv item cancelled. Key hash: 5640187878637657889\n"
     ]
    },
    {
     "name": "stdout",
     "output_type": "stream",
     "text": [
      "25/25 [==============================] - 1s 32ms/step - loss: 2334.6421\n",
      "Epoch 880/1000\n",
      " 6/25 [======>.......................] - ETA: 0s - loss: 2334.2446"
     ]
    },
    {
     "name": "stderr",
     "output_type": "stream",
     "text": [
      "2023-12-14 23:42:13.119231: I tensorflow/core/framework/local_rendezvous.cc:421] Local rendezvous recv item cancelled. Key hash: 5640187878637657889\n"
     ]
    },
    {
     "name": "stdout",
     "output_type": "stream",
     "text": [
      "25/25 [==============================] - 1s 32ms/step - loss: 2332.7327\n",
      "Epoch 881/1000\n",
      " 6/25 [======>.......................] - ETA: 0s - loss: 2332.3347"
     ]
    },
    {
     "name": "stderr",
     "output_type": "stream",
     "text": [
      "2023-12-14 23:42:13.952016: I tensorflow/core/framework/local_rendezvous.cc:421] Local rendezvous recv item cancelled. Key hash: 5640187878637657889\n"
     ]
    },
    {
     "name": "stdout",
     "output_type": "stream",
     "text": [
      "25/25 [==============================] - 1s 32ms/step - loss: 2330.8293\n",
      "Epoch 882/1000\n",
      " 6/25 [======>.......................] - ETA: 0s - loss: 2330.4331"
     ]
    },
    {
     "name": "stderr",
     "output_type": "stream",
     "text": [
      "2023-12-14 23:42:14.785890: I tensorflow/core/framework/local_rendezvous.cc:421] Local rendezvous recv item cancelled. Key hash: 5640187878637657889\n"
     ]
    },
    {
     "name": "stdout",
     "output_type": "stream",
     "text": [
      "25/25 [==============================] - 1s 32ms/step - loss: 2328.9214\n",
      "Epoch 883/1000\n",
      " 4/25 [===>..........................] - ETA: 0s - loss: 2328.6838"
     ]
    },
    {
     "name": "stderr",
     "output_type": "stream",
     "text": [
      "2023-12-14 23:42:15.618644: I tensorflow/core/framework/local_rendezvous.cc:421] Local rendezvous recv item cancelled. Key hash: 5640187878637657889\n"
     ]
    },
    {
     "name": "stdout",
     "output_type": "stream",
     "text": [
      "25/25 [==============================] - 1s 33ms/step - loss: 2327.0229\n",
      "Epoch 884/1000\n",
      " 6/25 [======>.......................] - ETA: 0s - loss: 2326.6299"
     ]
    },
    {
     "name": "stderr",
     "output_type": "stream",
     "text": [
      "2023-12-14 23:42:16.466345: I tensorflow/core/framework/local_rendezvous.cc:421] Local rendezvous recv item cancelled. Key hash: 5640187878637657889\n"
     ]
    },
    {
     "name": "stdout",
     "output_type": "stream",
     "text": [
      "25/25 [==============================] - 1s 32ms/step - loss: 2325.1296\n",
      "Epoch 885/1000\n",
      " 4/25 [===>..........................] - ETA: 0s - loss: 2324.8933"
     ]
    },
    {
     "name": "stderr",
     "output_type": "stream",
     "text": [
      "2023-12-14 23:42:17.302512: I tensorflow/core/framework/local_rendezvous.cc:421] Local rendezvous recv item cancelled. Key hash: 5640187878637657889\n"
     ]
    },
    {
     "name": "stdout",
     "output_type": "stream",
     "text": [
      "25/25 [==============================] - 1s 33ms/step - loss: 2323.2397\n",
      "Epoch 886/1000\n",
      " 4/25 [===>..........................] - ETA: 0s - loss: 2323.0049"
     ]
    },
    {
     "name": "stderr",
     "output_type": "stream",
     "text": [
      "2023-12-14 23:42:18.153146: I tensorflow/core/framework/local_rendezvous.cc:421] Local rendezvous recv item cancelled. Key hash: 5640187878637657889\n"
     ]
    },
    {
     "name": "stdout",
     "output_type": "stream",
     "text": [
      "25/25 [==============================] - 1s 33ms/step - loss: 2321.3496\n",
      "Epoch 887/1000\n",
      " 6/25 [======>.......................] - ETA: 0s - loss: 2320.9570"
     ]
    },
    {
     "name": "stderr",
     "output_type": "stream",
     "text": [
      "2023-12-14 23:42:19.016664: I tensorflow/core/framework/local_rendezvous.cc:421] Local rendezvous recv item cancelled. Key hash: 5640187878637657889\n"
     ]
    },
    {
     "name": "stdout",
     "output_type": "stream",
     "text": [
      "25/25 [==============================] - 1s 32ms/step - loss: 2319.4670\n",
      "Epoch 888/1000\n",
      " 6/25 [======>.......................] - ETA: 0s - loss: 2319.0745"
     ]
    },
    {
     "name": "stderr",
     "output_type": "stream",
     "text": [
      "2023-12-14 23:42:19.852552: I tensorflow/core/framework/local_rendezvous.cc:421] Local rendezvous recv item cancelled. Key hash: 5640187878637657889\n"
     ]
    },
    {
     "name": "stdout",
     "output_type": "stream",
     "text": [
      "25/25 [==============================] - 1s 32ms/step - loss: 2317.5820\n",
      "Epoch 889/1000\n",
      " 4/25 [===>..........................] - ETA: 0s - loss: 2317.3469"
     ]
    },
    {
     "name": "stderr",
     "output_type": "stream",
     "text": [
      "2023-12-14 23:42:20.685147: I tensorflow/core/framework/local_rendezvous.cc:421] Local rendezvous recv item cancelled. Key hash: 5640187878637657889\n"
     ]
    },
    {
     "name": "stdout",
     "output_type": "stream",
     "text": [
      "25/25 [==============================] - 1s 33ms/step - loss: 2315.7063\n",
      "Epoch 890/1000\n",
      " 6/25 [======>.......................] - ETA: 0s - loss: 2315.3174"
     ]
    },
    {
     "name": "stderr",
     "output_type": "stream",
     "text": [
      "2023-12-14 23:42:21.535006: I tensorflow/core/framework/local_rendezvous.cc:421] Local rendezvous recv item cancelled. Key hash: 5640187878637657889\n"
     ]
    },
    {
     "name": "stdout",
     "output_type": "stream",
     "text": [
      "25/25 [==============================] - 1s 32ms/step - loss: 2313.8323\n",
      "Epoch 891/1000\n",
      " 6/25 [======>.......................] - ETA: 0s - loss: 2313.4404"
     ]
    },
    {
     "name": "stderr",
     "output_type": "stream",
     "text": [
      "2023-12-14 23:42:22.368635: I tensorflow/core/framework/local_rendezvous.cc:421] Local rendezvous recv item cancelled. Key hash: 5640187878637657889\n"
     ]
    },
    {
     "name": "stdout",
     "output_type": "stream",
     "text": [
      "25/25 [==============================] - 1s 32ms/step - loss: 2311.9548\n",
      "Epoch 892/1000\n",
      " 6/25 [======>.......................] - ETA: 0s - loss: 2311.5642"
     ]
    },
    {
     "name": "stderr",
     "output_type": "stream",
     "text": [
      "2023-12-14 23:42:23.202077: I tensorflow/core/framework/local_rendezvous.cc:421] Local rendezvous recv item cancelled. Key hash: 5640187878637657889\n"
     ]
    },
    {
     "name": "stdout",
     "output_type": "stream",
     "text": [
      "25/25 [==============================] - 1s 32ms/step - loss: 2310.0830\n",
      "Epoch 893/1000\n",
      " 6/25 [======>.......................] - ETA: 0s - loss: 2309.6941"
     ]
    },
    {
     "name": "stderr",
     "output_type": "stream",
     "text": [
      "2023-12-14 23:42:24.034191: I tensorflow/core/framework/local_rendezvous.cc:421] Local rendezvous recv item cancelled. Key hash: 5640187878637657889\n"
     ]
    },
    {
     "name": "stdout",
     "output_type": "stream",
     "text": [
      "25/25 [==============================] - 1s 32ms/step - loss: 2308.2214\n",
      "Epoch 894/1000\n",
      " 6/25 [======>.......................] - ETA: 0s - loss: 2307.8330"
     ]
    },
    {
     "name": "stderr",
     "output_type": "stream",
     "text": [
      "2023-12-14 23:42:24.869476: I tensorflow/core/framework/local_rendezvous.cc:421] Local rendezvous recv item cancelled. Key hash: 5640187878637657889\n"
     ]
    },
    {
     "name": "stdout",
     "output_type": "stream",
     "text": [
      "25/25 [==============================] - 1s 32ms/step - loss: 2306.3503\n",
      "Epoch 895/1000\n",
      " 6/25 [======>.......................] - ETA: 0s - loss: 2305.9639"
     ]
    },
    {
     "name": "stderr",
     "output_type": "stream",
     "text": [
      "2023-12-14 23:42:25.702893: I tensorflow/core/framework/local_rendezvous.cc:421] Local rendezvous recv item cancelled. Key hash: 5640187878637657889\n"
     ]
    },
    {
     "name": "stdout",
     "output_type": "stream",
     "text": [
      "25/25 [==============================] - 1s 32ms/step - loss: 2304.4856\n",
      "Epoch 896/1000\n",
      " 6/25 [======>.......................] - ETA: 0s - loss: 2304.0979"
     ]
    },
    {
     "name": "stderr",
     "output_type": "stream",
     "text": [
      "2023-12-14 23:42:26.535689: I tensorflow/core/framework/local_rendezvous.cc:421] Local rendezvous recv item cancelled. Key hash: 5640187878637657889\n"
     ]
    },
    {
     "name": "stdout",
     "output_type": "stream",
     "text": [
      "25/25 [==============================] - 1s 32ms/step - loss: 2302.6331\n",
      "Epoch 897/1000\n",
      " 6/25 [======>.......................] - ETA: 0s - loss: 2302.2478"
     ]
    },
    {
     "name": "stderr",
     "output_type": "stream",
     "text": [
      "2023-12-14 23:42:27.369120: I tensorflow/core/framework/local_rendezvous.cc:421] Local rendezvous recv item cancelled. Key hash: 5640187878637657889\n"
     ]
    },
    {
     "name": "stdout",
     "output_type": "stream",
     "text": [
      "25/25 [==============================] - 1s 32ms/step - loss: 2300.7834\n",
      "Epoch 898/1000\n",
      " 6/25 [======>.......................] - ETA: 0s - loss: 2300.3955"
     ]
    },
    {
     "name": "stderr",
     "output_type": "stream",
     "text": [
      "2023-12-14 23:42:28.202495: I tensorflow/core/framework/local_rendezvous.cc:421] Local rendezvous recv item cancelled. Key hash: 5640187878637657889\n"
     ]
    },
    {
     "name": "stdout",
     "output_type": "stream",
     "text": [
      "25/25 [==============================] - 1s 32ms/step - loss: 2298.9336\n",
      "Epoch 899/1000\n",
      " 4/25 [===>..........................] - ETA: 0s - loss: 2298.7036"
     ]
    },
    {
     "name": "stderr",
     "output_type": "stream",
     "text": [
      "2023-12-14 23:42:29.035371: I tensorflow/core/framework/local_rendezvous.cc:421] Local rendezvous recv item cancelled. Key hash: 5640187878637657889\n"
     ]
    },
    {
     "name": "stdout",
     "output_type": "stream",
     "text": [
      "25/25 [==============================] - 1s 33ms/step - loss: 2297.0918\n",
      "Epoch 900/1000\n",
      " 6/25 [======>.......................] - ETA: 0s - loss: 2296.7097"
     ]
    },
    {
     "name": "stderr",
     "output_type": "stream",
     "text": [
      "2023-12-14 23:42:29.885201: I tensorflow/core/framework/local_rendezvous.cc:421] Local rendezvous recv item cancelled. Key hash: 5640187878637657889\n"
     ]
    },
    {
     "name": "stdout",
     "output_type": "stream",
     "text": [
      "25/25 [==============================] - 1s 32ms/step - loss: 2295.2534\n",
      "Epoch 901/1000\n",
      " 6/25 [======>.......................] - ETA: 0s - loss: 2294.8704"
     ]
    },
    {
     "name": "stderr",
     "output_type": "stream",
     "text": [
      "2023-12-14 23:42:30.718734: I tensorflow/core/framework/local_rendezvous.cc:421] Local rendezvous recv item cancelled. Key hash: 5640187878637657889\n"
     ]
    },
    {
     "name": "stdout",
     "output_type": "stream",
     "text": [
      "25/25 [==============================] - 1s 32ms/step - loss: 2293.4189\n",
      "Epoch 902/1000\n",
      " 4/25 [===>..........................] - ETA: 0s - loss: 2293.1907"
     ]
    },
    {
     "name": "stderr",
     "output_type": "stream",
     "text": [
      "2023-12-14 23:42:31.551278: I tensorflow/core/framework/local_rendezvous.cc:421] Local rendezvous recv item cancelled. Key hash: 5640187878637657889\n"
     ]
    },
    {
     "name": "stdout",
     "output_type": "stream",
     "text": [
      "25/25 [==============================] - 1s 32ms/step - loss: 2291.5908\n",
      "Epoch 903/1000\n",
      " 6/25 [======>.......................] - ETA: 0s - loss: 2291.2100"
     ]
    },
    {
     "name": "stderr",
     "output_type": "stream",
     "text": [
      "2023-12-14 23:42:32.385350: I tensorflow/core/framework/local_rendezvous.cc:421] Local rendezvous recv item cancelled. Key hash: 5640187878637657889\n"
     ]
    },
    {
     "name": "stdout",
     "output_type": "stream",
     "text": [
      "25/25 [==============================] - 1s 32ms/step - loss: 2289.7651\n",
      "Epoch 904/1000\n",
      " 6/25 [======>.......................] - ETA: 0s - loss: 2289.3831"
     ]
    },
    {
     "name": "stderr",
     "output_type": "stream",
     "text": [
      "2023-12-14 23:42:33.217871: I tensorflow/core/framework/local_rendezvous.cc:421] Local rendezvous recv item cancelled. Key hash: 5640187878637657889\n"
     ]
    },
    {
     "name": "stdout",
     "output_type": "stream",
     "text": [
      "25/25 [==============================] - 1s 32ms/step - loss: 2287.9326\n",
      "Epoch 905/1000\n",
      " 6/25 [======>.......................] - ETA: 0s - loss: 2287.5530"
     ]
    },
    {
     "name": "stderr",
     "output_type": "stream",
     "text": [
      "2023-12-14 23:42:34.052332: I tensorflow/core/framework/local_rendezvous.cc:421] Local rendezvous recv item cancelled. Key hash: 5640187878637657889\n"
     ]
    },
    {
     "name": "stdout",
     "output_type": "stream",
     "text": [
      "25/25 [==============================] - 1s 32ms/step - loss: 2286.1123\n",
      "Epoch 906/1000\n",
      " 6/25 [======>.......................] - ETA: 0s - loss: 2285.7349"
     ]
    },
    {
     "name": "stderr",
     "output_type": "stream",
     "text": [
      "2023-12-14 23:42:34.884883: I tensorflow/core/framework/local_rendezvous.cc:421] Local rendezvous recv item cancelled. Key hash: 5640187878637657889\n"
     ]
    },
    {
     "name": "stdout",
     "output_type": "stream",
     "text": [
      "25/25 [==============================] - 1s 32ms/step - loss: 2284.2920\n",
      "Epoch 907/1000\n",
      " 6/25 [======>.......................] - ETA: 0s - loss: 2283.9124"
     ]
    },
    {
     "name": "stderr",
     "output_type": "stream",
     "text": [
      "2023-12-14 23:42:35.719806: I tensorflow/core/framework/local_rendezvous.cc:421] Local rendezvous recv item cancelled. Key hash: 5640187878637657889\n"
     ]
    },
    {
     "name": "stdout",
     "output_type": "stream",
     "text": [
      "25/25 [==============================] - 1s 33ms/step - loss: 2282.4707\n",
      "Epoch 908/1000\n",
      " 4/25 [===>..........................] - ETA: 0s - loss: 2282.2432"
     ]
    },
    {
     "name": "stderr",
     "output_type": "stream",
     "text": [
      "2023-12-14 23:42:36.562962: I tensorflow/core/framework/local_rendezvous.cc:421] Local rendezvous recv item cancelled. Key hash: 5640187878637657889\n"
     ]
    },
    {
     "name": "stdout",
     "output_type": "stream",
     "text": [
      "25/25 [==============================] - 1s 33ms/step - loss: 2280.6580\n",
      "Epoch 909/1000\n",
      " 4/25 [===>..........................] - ETA: 0s - loss: 2280.4341"
     ]
    },
    {
     "name": "stderr",
     "output_type": "stream",
     "text": [
      "2023-12-14 23:42:37.409595: I tensorflow/core/framework/local_rendezvous.cc:421] Local rendezvous recv item cancelled. Key hash: 5640187878637657889\n"
     ]
    },
    {
     "name": "stdout",
     "output_type": "stream",
     "text": [
      "25/25 [==============================] - 1s 33ms/step - loss: 2278.8484\n",
      "Epoch 910/1000\n",
      " 4/25 [===>..........................] - ETA: 0s - loss: 2278.6235"
     ]
    },
    {
     "name": "stderr",
     "output_type": "stream",
     "text": [
      "2023-12-14 23:42:38.258400: I tensorflow/core/framework/local_rendezvous.cc:421] Local rendezvous recv item cancelled. Key hash: 5640187878637657889\n"
     ]
    },
    {
     "name": "stdout",
     "output_type": "stream",
     "text": [
      "25/25 [==============================] - 1s 32ms/step - loss: 2277.0437\n",
      "Epoch 911/1000\n",
      " 6/25 [======>.......................] - ETA: 0s - loss: 2276.6677"
     ]
    },
    {
     "name": "stderr",
     "output_type": "stream",
     "text": [
      "2023-12-14 23:42:39.102780: I tensorflow/core/framework/local_rendezvous.cc:421] Local rendezvous recv item cancelled. Key hash: 5640187878637657889\n"
     ]
    },
    {
     "name": "stdout",
     "output_type": "stream",
     "text": [
      "25/25 [==============================] - 1s 32ms/step - loss: 2275.2444\n",
      "Epoch 912/1000\n",
      " 4/25 [===>..........................] - ETA: 0s - loss: 2275.0183"
     ]
    },
    {
     "name": "stderr",
     "output_type": "stream",
     "text": [
      "2023-12-14 23:42:39.936106: I tensorflow/core/framework/local_rendezvous.cc:421] Local rendezvous recv item cancelled. Key hash: 5640187878637657889\n"
     ]
    },
    {
     "name": "stdout",
     "output_type": "stream",
     "text": [
      "25/25 [==============================] - 1s 33ms/step - loss: 2273.4470\n",
      "Epoch 913/1000\n",
      " 6/25 [======>.......................] - ETA: 0s - loss: 2273.0732"
     ]
    },
    {
     "name": "stderr",
     "output_type": "stream",
     "text": [
      "2023-12-14 23:42:40.785253: I tensorflow/core/framework/local_rendezvous.cc:421] Local rendezvous recv item cancelled. Key hash: 5640187878637657889\n"
     ]
    },
    {
     "name": "stdout",
     "output_type": "stream",
     "text": [
      "25/25 [==============================] - 1s 32ms/step - loss: 2271.6501\n",
      "Epoch 914/1000\n",
      " 6/25 [======>.......................] - ETA: 0s - loss: 2271.2747"
     ]
    },
    {
     "name": "stderr",
     "output_type": "stream",
     "text": [
      "2023-12-14 23:42:41.619464: I tensorflow/core/framework/local_rendezvous.cc:421] Local rendezvous recv item cancelled. Key hash: 5640187878637657889\n"
     ]
    },
    {
     "name": "stdout",
     "output_type": "stream",
     "text": [
      "25/25 [==============================] - 1s 32ms/step - loss: 2269.8521\n",
      "Epoch 915/1000\n",
      " 4/25 [===>..........................] - ETA: 0s - loss: 2269.6311"
     ]
    },
    {
     "name": "stderr",
     "output_type": "stream",
     "text": [
      "2023-12-14 23:42:42.452895: I tensorflow/core/framework/local_rendezvous.cc:421] Local rendezvous recv item cancelled. Key hash: 5640187878637657889\n"
     ]
    },
    {
     "name": "stdout",
     "output_type": "stream",
     "text": [
      "25/25 [==============================] - 1s 33ms/step - loss: 2268.0588\n",
      "Epoch 916/1000\n",
      " 4/25 [===>..........................] - ETA: 0s - loss: 2267.8335"
     ]
    },
    {
     "name": "stderr",
     "output_type": "stream",
     "text": [
      "2023-12-14 23:42:43.301078: I tensorflow/core/framework/local_rendezvous.cc:421] Local rendezvous recv item cancelled. Key hash: 5640187878637657889\n"
     ]
    },
    {
     "name": "stdout",
     "output_type": "stream",
     "text": [
      "25/25 [==============================] - 1s 32ms/step - loss: 2266.2720\n",
      "Epoch 917/1000\n",
      " 4/25 [===>..........................] - ETA: 0s - loss: 2266.0493"
     ]
    },
    {
     "name": "stderr",
     "output_type": "stream",
     "text": [
      "2023-12-14 23:42:44.135797: I tensorflow/core/framework/local_rendezvous.cc:421] Local rendezvous recv item cancelled. Key hash: 5640187878637657889\n"
     ]
    },
    {
     "name": "stdout",
     "output_type": "stream",
     "text": [
      "25/25 [==============================] - 1s 33ms/step - loss: 2264.4890\n",
      "Epoch 918/1000\n",
      " 6/25 [======>.......................] - ETA: 0s - loss: 2264.1194"
     ]
    },
    {
     "name": "stderr",
     "output_type": "stream",
     "text": [
      "2023-12-14 23:42:44.985871: I tensorflow/core/framework/local_rendezvous.cc:421] Local rendezvous recv item cancelled. Key hash: 5640187878637657889\n"
     ]
    },
    {
     "name": "stdout",
     "output_type": "stream",
     "text": [
      "25/25 [==============================] - 1s 33ms/step - loss: 2262.7073\n",
      "Epoch 919/1000\n",
      " 4/25 [===>..........................] - ETA: 0s - loss: 2262.4856"
     ]
    },
    {
     "name": "stderr",
     "output_type": "stream",
     "text": [
      "2023-12-14 23:42:45.832668: I tensorflow/core/framework/local_rendezvous.cc:421] Local rendezvous recv item cancelled. Key hash: 5640187878637657889\n"
     ]
    },
    {
     "name": "stdout",
     "output_type": "stream",
     "text": [
      "25/25 [==============================] - 1s 33ms/step - loss: 2260.9299\n",
      "Epoch 920/1000\n",
      " 4/25 [===>..........................] - ETA: 0s - loss: 2260.7085"
     ]
    },
    {
     "name": "stderr",
     "output_type": "stream",
     "text": [
      "2023-12-14 23:42:46.680733: I tensorflow/core/framework/local_rendezvous.cc:421] Local rendezvous recv item cancelled. Key hash: 5640187878637657889\n"
     ]
    },
    {
     "name": "stdout",
     "output_type": "stream",
     "text": [
      "25/25 [==============================] - 1s 32ms/step - loss: 2259.1538\n",
      "Epoch 921/1000\n",
      " 6/25 [======>.......................] - ETA: 0s - loss: 2258.7844"
     ]
    },
    {
     "name": "stderr",
     "output_type": "stream",
     "text": [
      "2023-12-14 23:42:47.519576: I tensorflow/core/framework/local_rendezvous.cc:421] Local rendezvous recv item cancelled. Key hash: 5640187878637657889\n"
     ]
    },
    {
     "name": "stdout",
     "output_type": "stream",
     "text": [
      "25/25 [==============================] - 1s 32ms/step - loss: 2257.3845\n",
      "Epoch 922/1000\n",
      " 6/25 [======>.......................] - ETA: 0s - loss: 2257.0161"
     ]
    },
    {
     "name": "stderr",
     "output_type": "stream",
     "text": [
      "2023-12-14 23:42:48.353063: I tensorflow/core/framework/local_rendezvous.cc:421] Local rendezvous recv item cancelled. Key hash: 5640187878637657889\n"
     ]
    },
    {
     "name": "stdout",
     "output_type": "stream",
     "text": [
      "25/25 [==============================] - 1s 32ms/step - loss: 2255.6150\n",
      "Epoch 923/1000\n",
      " 6/25 [======>.......................] - ETA: 0s - loss: 2255.2476"
     ]
    },
    {
     "name": "stderr",
     "output_type": "stream",
     "text": [
      "2023-12-14 23:42:49.186269: I tensorflow/core/framework/local_rendezvous.cc:421] Local rendezvous recv item cancelled. Key hash: 5640187878637657889\n"
     ]
    },
    {
     "name": "stdout",
     "output_type": "stream",
     "text": [
      "25/25 [==============================] - 1s 33ms/step - loss: 2253.8540\n",
      "Epoch 924/1000\n",
      " 4/25 [===>..........................] - ETA: 0s - loss: 2253.6340"
     ]
    },
    {
     "name": "stderr",
     "output_type": "stream",
     "text": [
      "2023-12-14 23:42:50.035080: I tensorflow/core/framework/local_rendezvous.cc:421] Local rendezvous recv item cancelled. Key hash: 5640187878637657889\n"
     ]
    },
    {
     "name": "stdout",
     "output_type": "stream",
     "text": [
      "25/25 [==============================] - 1s 33ms/step - loss: 2252.0972\n",
      "Epoch 925/1000\n",
      " 6/25 [======>.......................] - ETA: 0s - loss: 2251.7300"
     ]
    },
    {
     "name": "stderr",
     "output_type": "stream",
     "text": [
      "2023-12-14 23:42:50.887251: I tensorflow/core/framework/local_rendezvous.cc:421] Local rendezvous recv item cancelled. Key hash: 5640187878637657889\n"
     ]
    },
    {
     "name": "stdout",
     "output_type": "stream",
     "text": [
      "25/25 [==============================] - 1s 33ms/step - loss: 2250.3391\n",
      "Epoch 926/1000\n",
      " 6/25 [======>.......................] - ETA: 0s - loss: 2249.9731"
     ]
    },
    {
     "name": "stderr",
     "output_type": "stream",
     "text": [
      "2023-12-14 23:42:51.736153: I tensorflow/core/framework/local_rendezvous.cc:421] Local rendezvous recv item cancelled. Key hash: 5640187878637657889\n"
     ]
    },
    {
     "name": "stdout",
     "output_type": "stream",
     "text": [
      "25/25 [==============================] - 1s 32ms/step - loss: 2248.5840\n",
      "Epoch 927/1000\n",
      "25/25 [==============================] - 1s 33ms/step - loss: 2246.8298\n",
      "Epoch 928/1000\n",
      " 6/25 [======>.......................] - ETA: 0s - loss: 2246.4673"
     ]
    },
    {
     "name": "stderr",
     "output_type": "stream",
     "text": [
      "2023-12-14 23:42:53.419819: I tensorflow/core/framework/local_rendezvous.cc:421] Local rendezvous recv item cancelled. Key hash: 5640187878637657889\n"
     ]
    },
    {
     "name": "stdout",
     "output_type": "stream",
     "text": [
      "25/25 [==============================] - 1s 33ms/step - loss: 2245.0803\n",
      "Epoch 929/1000\n",
      " 4/25 [===>..........................] - ETA: 0s - loss: 2244.8611"
     ]
    },
    {
     "name": "stderr",
     "output_type": "stream",
     "text": [
      "2023-12-14 23:42:54.259359: I tensorflow/core/framework/local_rendezvous.cc:421] Local rendezvous recv item cancelled. Key hash: 5640187878637657889\n"
     ]
    },
    {
     "name": "stdout",
     "output_type": "stream",
     "text": [
      "25/25 [==============================] - 1s 33ms/step - loss: 2243.3354\n",
      "Epoch 930/1000\n",
      " 4/25 [===>..........................] - ETA: 0s - loss: 2243.1165"
     ]
    },
    {
     "name": "stderr",
     "output_type": "stream",
     "text": [
      "2023-12-14 23:42:55.115760: I tensorflow/core/framework/local_rendezvous.cc:421] Local rendezvous recv item cancelled. Key hash: 5640187878637657889\n"
     ]
    },
    {
     "name": "stdout",
     "output_type": "stream",
     "text": [
      "25/25 [==============================] - 1s 33ms/step - loss: 2241.5989\n",
      "Epoch 931/1000\n",
      "25/25 [==============================] - 1s 33ms/step - loss: 2239.8640\n",
      "Epoch 932/1000\n",
      " 4/25 [===>..........................] - ETA: 0s - loss: 2239.6467"
     ]
    },
    {
     "name": "stderr",
     "output_type": "stream",
     "text": [
      "2023-12-14 23:42:56.818765: I tensorflow/core/framework/local_rendezvous.cc:421] Local rendezvous recv item cancelled. Key hash: 5640187878637657889\n"
     ]
    },
    {
     "name": "stdout",
     "output_type": "stream",
     "text": [
      "25/25 [==============================] - 1s 33ms/step - loss: 2238.1292\n",
      "Epoch 933/1000\n",
      " 4/25 [===>..........................] - ETA: 0s - loss: 2237.9155"
     ]
    },
    {
     "name": "stderr",
     "output_type": "stream",
     "text": [
      "2023-12-14 23:42:57.669550: I tensorflow/core/framework/local_rendezvous.cc:421] Local rendezvous recv item cancelled. Key hash: 5640187878637657889\n"
     ]
    },
    {
     "name": "stdout",
     "output_type": "stream",
     "text": [
      "25/25 [==============================] - 1s 32ms/step - loss: 2236.4021\n",
      "Epoch 934/1000\n",
      " 6/25 [======>.......................] - ETA: 0s - loss: 2236.0425"
     ]
    },
    {
     "name": "stderr",
     "output_type": "stream",
     "text": [
      "2023-12-14 23:42:58.513750: I tensorflow/core/framework/local_rendezvous.cc:421] Local rendezvous recv item cancelled. Key hash: 5640187878637657889\n"
     ]
    },
    {
     "name": "stdout",
     "output_type": "stream",
     "text": [
      "25/25 [==============================] - 1s 32ms/step - loss: 2234.6682\n",
      "Epoch 935/1000\n",
      " 6/25 [======>.......................] - ETA: 0s - loss: 2234.3101"
     ]
    },
    {
     "name": "stderr",
     "output_type": "stream",
     "text": [
      "2023-12-14 23:42:59.347490: I tensorflow/core/framework/local_rendezvous.cc:421] Local rendezvous recv item cancelled. Key hash: 5640187878637657889\n"
     ]
    },
    {
     "name": "stdout",
     "output_type": "stream",
     "text": [
      "25/25 [==============================] - 1s 32ms/step - loss: 2232.9448\n",
      "Epoch 936/1000\n",
      " 4/25 [===>..........................] - ETA: 0s - loss: 2232.7297"
     ]
    },
    {
     "name": "stderr",
     "output_type": "stream",
     "text": [
      "2023-12-14 23:43:00.180619: I tensorflow/core/framework/local_rendezvous.cc:421] Local rendezvous recv item cancelled. Key hash: 5640187878637657889\n"
     ]
    },
    {
     "name": "stdout",
     "output_type": "stream",
     "text": [
      "25/25 [==============================] - 1s 32ms/step - loss: 2231.2239\n",
      "Epoch 937/1000\n",
      " 6/25 [======>.......................] - ETA: 0s - loss: 2230.8665"
     ]
    },
    {
     "name": "stderr",
     "output_type": "stream",
     "text": [
      "2023-12-14 23:43:01.014157: I tensorflow/core/framework/local_rendezvous.cc:421] Local rendezvous recv item cancelled. Key hash: 5640187878637657889\n"
     ]
    },
    {
     "name": "stdout",
     "output_type": "stream",
     "text": [
      "25/25 [==============================] - 1s 31ms/step - loss: 2229.5103\n",
      "Epoch 938/1000\n",
      " 6/25 [======>.......................] - ETA: 0s - loss: 2229.1533"
     ]
    },
    {
     "name": "stderr",
     "output_type": "stream",
     "text": [
      "2023-12-14 23:43:01.816387: I tensorflow/core/framework/local_rendezvous.cc:421] Local rendezvous recv item cancelled. Key hash: 5640187878637657889\n"
     ]
    },
    {
     "name": "stdout",
     "output_type": "stream",
     "text": [
      "25/25 [==============================] - 1s 31ms/step - loss: 2227.7937\n",
      "Epoch 939/1000\n",
      " 6/25 [======>.......................] - ETA: 0s - loss: 2227.4358"
     ]
    },
    {
     "name": "stderr",
     "output_type": "stream",
     "text": [
      "2023-12-14 23:43:02.615822: I tensorflow/core/framework/local_rendezvous.cc:421] Local rendezvous recv item cancelled. Key hash: 5640187878637657889\n"
     ]
    },
    {
     "name": "stdout",
     "output_type": "stream",
     "text": [
      "25/25 [==============================] - 1s 31ms/step - loss: 2226.0779\n",
      "Epoch 940/1000\n",
      " 6/25 [======>.......................] - ETA: 0s - loss: 2225.7209"
     ]
    },
    {
     "name": "stderr",
     "output_type": "stream",
     "text": [
      "2023-12-14 23:43:03.415587: I tensorflow/core/framework/local_rendezvous.cc:421] Local rendezvous recv item cancelled. Key hash: 5640187878637657889\n"
     ]
    },
    {
     "name": "stdout",
     "output_type": "stream",
     "text": [
      "25/25 [==============================] - 1s 31ms/step - loss: 2224.3682\n",
      "Epoch 941/1000\n",
      " 6/25 [======>.......................] - ETA: 0s - loss: 2224.0098"
     ]
    },
    {
     "name": "stderr",
     "output_type": "stream",
     "text": [
      "2023-12-14 23:43:04.208829: I tensorflow/core/framework/local_rendezvous.cc:421] Local rendezvous recv item cancelled. Key hash: 5640187878637657889\n"
     ]
    },
    {
     "name": "stdout",
     "output_type": "stream",
     "text": [
      "25/25 [==============================] - 1s 31ms/step - loss: 2222.6604\n",
      "Epoch 942/1000\n",
      " 6/25 [======>.......................] - ETA: 0s - loss: 2222.3032"
     ]
    },
    {
     "name": "stderr",
     "output_type": "stream",
     "text": [
      "2023-12-14 23:43:05.008256: I tensorflow/core/framework/local_rendezvous.cc:421] Local rendezvous recv item cancelled. Key hash: 5640187878637657889\n"
     ]
    },
    {
     "name": "stdout",
     "output_type": "stream",
     "text": [
      "25/25 [==============================] - 1s 31ms/step - loss: 2220.9541\n",
      "Epoch 943/1000\n",
      " 6/25 [======>.......................] - ETA: 0s - loss: 2220.5999"
     ]
    },
    {
     "name": "stderr",
     "output_type": "stream",
     "text": [
      "2023-12-14 23:43:05.799989: I tensorflow/core/framework/local_rendezvous.cc:421] Local rendezvous recv item cancelled. Key hash: 5640187878637657889\n"
     ]
    },
    {
     "name": "stdout",
     "output_type": "stream",
     "text": [
      "25/25 [==============================] - 1s 31ms/step - loss: 2219.2527\n",
      "Epoch 944/1000\n",
      " 6/25 [======>.......................] - ETA: 0s - loss: 2218.8987"
     ]
    },
    {
     "name": "stderr",
     "output_type": "stream",
     "text": [
      "2023-12-14 23:43:06.599767: I tensorflow/core/framework/local_rendezvous.cc:421] Local rendezvous recv item cancelled. Key hash: 5640187878637657889\n"
     ]
    },
    {
     "name": "stdout",
     "output_type": "stream",
     "text": [
      "25/25 [==============================] - 1s 31ms/step - loss: 2217.5547\n",
      "Epoch 945/1000\n",
      " 6/25 [======>.......................] - ETA: 0s - loss: 2217.1995"
     ]
    },
    {
     "name": "stderr",
     "output_type": "stream",
     "text": [
      "2023-12-14 23:43:07.393603: I tensorflow/core/framework/local_rendezvous.cc:421] Local rendezvous recv item cancelled. Key hash: 5640187878637657889\n"
     ]
    },
    {
     "name": "stdout",
     "output_type": "stream",
     "text": [
      "25/25 [==============================] - 1s 31ms/step - loss: 2215.8557\n",
      "Epoch 946/1000\n",
      " 6/25 [======>.......................] - ETA: 0s - loss: 2215.4995"
     ]
    },
    {
     "name": "stderr",
     "output_type": "stream",
     "text": [
      "2023-12-14 23:43:08.198133: I tensorflow/core/framework/local_rendezvous.cc:421] Local rendezvous recv item cancelled. Key hash: 5640187878637657889\n"
     ]
    },
    {
     "name": "stdout",
     "output_type": "stream",
     "text": [
      "25/25 [==============================] - 1s 31ms/step - loss: 2214.1660\n",
      "Epoch 947/1000\n",
      " 6/25 [======>.......................] - ETA: 0s - loss: 2213.8149"
     ]
    },
    {
     "name": "stderr",
     "output_type": "stream",
     "text": [
      "2023-12-14 23:43:08.996253: I tensorflow/core/framework/local_rendezvous.cc:421] Local rendezvous recv item cancelled. Key hash: 5640187878637657889\n"
     ]
    },
    {
     "name": "stdout",
     "output_type": "stream",
     "text": [
      "25/25 [==============================] - 1s 31ms/step - loss: 2212.4778\n",
      "Epoch 948/1000\n",
      " 6/25 [======>.......................] - ETA: 0s - loss: 2212.1262"
     ]
    },
    {
     "name": "stderr",
     "output_type": "stream",
     "text": [
      "2023-12-14 23:43:09.795935: I tensorflow/core/framework/local_rendezvous.cc:421] Local rendezvous recv item cancelled. Key hash: 5640187878637657889\n"
     ]
    },
    {
     "name": "stdout",
     "output_type": "stream",
     "text": [
      "25/25 [==============================] - 1s 31ms/step - loss: 2210.7942\n",
      "Epoch 949/1000\n",
      " 6/25 [======>.......................] - ETA: 0s - loss: 2210.4390"
     ]
    },
    {
     "name": "stderr",
     "output_type": "stream",
     "text": [
      "2023-12-14 23:43:10.589908: I tensorflow/core/framework/local_rendezvous.cc:421] Local rendezvous recv item cancelled. Key hash: 5640187878637657889\n"
     ]
    },
    {
     "name": "stdout",
     "output_type": "stream",
     "text": [
      "25/25 [==============================] - 1s 31ms/step - loss: 2209.1086\n",
      "Epoch 950/1000\n",
      " 6/25 [======>.......................] - ETA: 0s - loss: 2208.7612"
     ]
    },
    {
     "name": "stderr",
     "output_type": "stream",
     "text": [
      "2023-12-14 23:43:11.391687: I tensorflow/core/framework/local_rendezvous.cc:421] Local rendezvous recv item cancelled. Key hash: 5640187878637657889\n"
     ]
    },
    {
     "name": "stdout",
     "output_type": "stream",
     "text": [
      "25/25 [==============================] - 1s 31ms/step - loss: 2207.4312\n",
      "Epoch 951/1000\n",
      " 6/25 [======>.......................] - ETA: 0s - loss: 2207.0811"
     ]
    },
    {
     "name": "stderr",
     "output_type": "stream",
     "text": [
      "2023-12-14 23:43:12.182946: I tensorflow/core/framework/local_rendezvous.cc:421] Local rendezvous recv item cancelled. Key hash: 5640187878637657889\n"
     ]
    },
    {
     "name": "stdout",
     "output_type": "stream",
     "text": [
      "25/25 [==============================] - 1s 30ms/step - loss: 2205.7561\n",
      "Epoch 952/1000\n",
      " 6/25 [======>.......................] - ETA: 0s - loss: 2205.4041"
     ]
    },
    {
     "name": "stderr",
     "output_type": "stream",
     "text": [
      "2023-12-14 23:43:12.967818: I tensorflow/core/framework/local_rendezvous.cc:421] Local rendezvous recv item cancelled. Key hash: 5640187878637657889\n"
     ]
    },
    {
     "name": "stdout",
     "output_type": "stream",
     "text": [
      "25/25 [==============================] - 1s 30ms/step - loss: 2204.0735\n",
      "Epoch 953/1000\n",
      " 6/25 [======>.......................] - ETA: 0s - loss: 2203.7227"
     ]
    },
    {
     "name": "stderr",
     "output_type": "stream",
     "text": [
      "2023-12-14 23:43:13.760943: I tensorflow/core/framework/local_rendezvous.cc:421] Local rendezvous recv item cancelled. Key hash: 5640187878637657889\n"
     ]
    },
    {
     "name": "stdout",
     "output_type": "stream",
     "text": [
      "25/25 [==============================] - 1s 31ms/step - loss: 2202.3972\n"
     ]
    },
    {
     "name": "stderr",
     "output_type": "stream",
     "text": [
      "2023-12-14 23:43:14.560615: I tensorflow/core/framework/local_rendezvous.cc:421] Local rendezvous recv item cancelled. Key hash: 5640187878637657889\n"
     ]
    },
    {
     "name": "stdout",
     "output_type": "stream",
     "text": [
      "Epoch 954/1000\n",
      "25/25 [==============================] - 1s 31ms/step - loss: 2200.7300\n",
      "Epoch 955/1000\n",
      " 6/25 [======>.......................] - ETA: 0s - loss: 2200.3821"
     ]
    },
    {
     "name": "stderr",
     "output_type": "stream",
     "text": [
      "2023-12-14 23:43:16.460610: I tensorflow/core/framework/local_rendezvous.cc:421] Local rendezvous recv item cancelled. Key hash: 5640187878637657889\n"
     ]
    },
    {
     "name": "stdout",
     "output_type": "stream",
     "text": [
      "25/25 [==============================] - 1s 31ms/step - loss: 2199.0618\n",
      "Epoch 956/1000\n",
      " 6/25 [======>.......................] - ETA: 0s - loss: 2198.7146"
     ]
    },
    {
     "name": "stderr",
     "output_type": "stream",
     "text": [
      "2023-12-14 23:43:17.264125: I tensorflow/core/framework/local_rendezvous.cc:421] Local rendezvous recv item cancelled. Key hash: 5640187878637657889\n"
     ]
    },
    {
     "name": "stdout",
     "output_type": "stream",
     "text": [
      "25/25 [==============================] - 1s 31ms/step - loss: 2197.3979\n",
      "Epoch 957/1000\n",
      " 6/25 [======>.......................] - ETA: 0s - loss: 2197.0496"
     ]
    },
    {
     "name": "stderr",
     "output_type": "stream",
     "text": [
      "2023-12-14 23:43:18.070854: I tensorflow/core/framework/local_rendezvous.cc:421] Local rendezvous recv item cancelled. Key hash: 5640187878637657889\n"
     ]
    },
    {
     "name": "stdout",
     "output_type": "stream",
     "text": [
      "25/25 [==============================] - 1s 31ms/step - loss: 2195.7380\n",
      "Epoch 958/1000\n",
      " 6/25 [======>.......................] - ETA: 0s - loss: 2195.3943"
     ]
    },
    {
     "name": "stderr",
     "output_type": "stream",
     "text": [
      "2023-12-14 23:43:18.873984: I tensorflow/core/framework/local_rendezvous.cc:421] Local rendezvous recv item cancelled. Key hash: 5640187878637657889\n"
     ]
    },
    {
     "name": "stdout",
     "output_type": "stream",
     "text": [
      "25/25 [==============================] - 1s 31ms/step - loss: 2194.0840\n",
      "Epoch 959/1000\n",
      " 4/25 [===>..........................] - ETA: 0s - loss: 2193.8770"
     ]
    },
    {
     "name": "stderr",
     "output_type": "stream",
     "text": [
      "2023-12-14 23:43:19.680091: I tensorflow/core/framework/local_rendezvous.cc:421] Local rendezvous recv item cancelled. Key hash: 5640187878637657889\n"
     ]
    },
    {
     "name": "stdout",
     "output_type": "stream",
     "text": [
      "25/25 [==============================] - 1s 31ms/step - loss: 2192.4275\n",
      "Epoch 960/1000\n",
      " 6/25 [======>.......................] - ETA: 0s - loss: 2192.0830"
     ]
    },
    {
     "name": "stderr",
     "output_type": "stream",
     "text": [
      "2023-12-14 23:43:20.483827: I tensorflow/core/framework/local_rendezvous.cc:421] Local rendezvous recv item cancelled. Key hash: 5640187878637657889\n"
     ]
    },
    {
     "name": "stdout",
     "output_type": "stream",
     "text": [
      "25/25 [==============================] - 1s 31ms/step - loss: 2190.7786\n",
      "Epoch 961/1000\n",
      " 4/25 [===>..........................] - ETA: 0s - loss: 2190.5723"
     ]
    },
    {
     "name": "stderr",
     "output_type": "stream",
     "text": [
      "2023-12-14 23:43:21.288950: I tensorflow/core/framework/local_rendezvous.cc:421] Local rendezvous recv item cancelled. Key hash: 5640187878637657889\n"
     ]
    },
    {
     "name": "stdout",
     "output_type": "stream",
     "text": [
      "25/25 [==============================] - 1s 31ms/step - loss: 2189.1350\n",
      "Epoch 962/1000\n",
      " 4/25 [===>..........................] - ETA: 0s - loss: 2188.9285"
     ]
    },
    {
     "name": "stderr",
     "output_type": "stream",
     "text": [
      "2023-12-14 23:43:22.103682: I tensorflow/core/framework/local_rendezvous.cc:421] Local rendezvous recv item cancelled. Key hash: 5640187878637657889\n"
     ]
    },
    {
     "name": "stdout",
     "output_type": "stream",
     "text": [
      "25/25 [==============================] - 1s 31ms/step - loss: 2187.4817\n",
      "Epoch 963/1000\n",
      " 4/25 [===>..........................] - ETA: 0s - loss: 2187.2764"
     ]
    },
    {
     "name": "stderr",
     "output_type": "stream",
     "text": [
      "2023-12-14 23:43:22.915355: I tensorflow/core/framework/local_rendezvous.cc:421] Local rendezvous recv item cancelled. Key hash: 5640187878637657889\n"
     ]
    },
    {
     "name": "stdout",
     "output_type": "stream",
     "text": [
      "25/25 [==============================] - 1s 31ms/step - loss: 2185.8345\n",
      "Epoch 964/1000\n",
      " 6/25 [======>.......................] - ETA: 0s - loss: 2185.4929"
     ]
    },
    {
     "name": "stderr",
     "output_type": "stream",
     "text": [
      "2023-12-14 23:43:23.723574: I tensorflow/core/framework/local_rendezvous.cc:421] Local rendezvous recv item cancelled. Key hash: 5640187878637657889\n"
     ]
    },
    {
     "name": "stdout",
     "output_type": "stream",
     "text": [
      "25/25 [==============================] - 1s 31ms/step - loss: 2184.1987\n",
      "Epoch 965/1000\n",
      " 6/25 [======>.......................] - ETA: 0s - loss: 2183.8567"
     ]
    },
    {
     "name": "stderr",
     "output_type": "stream",
     "text": [
      "2023-12-14 23:43:24.526481: I tensorflow/core/framework/local_rendezvous.cc:421] Local rendezvous recv item cancelled. Key hash: 5640187878637657889\n"
     ]
    },
    {
     "name": "stdout",
     "output_type": "stream",
     "text": [
      "25/25 [==============================] - 1s 31ms/step - loss: 2182.5618\n",
      "Epoch 966/1000\n",
      " 6/25 [======>.......................] - ETA: 0s - loss: 2182.2222"
     ]
    },
    {
     "name": "stderr",
     "output_type": "stream",
     "text": [
      "2023-12-14 23:43:25.323837: I tensorflow/core/framework/local_rendezvous.cc:421] Local rendezvous recv item cancelled. Key hash: 5640187878637657889\n"
     ]
    },
    {
     "name": "stdout",
     "output_type": "stream",
     "text": [
      "25/25 [==============================] - 1s 31ms/step - loss: 2180.9326\n",
      "Epoch 967/1000\n",
      " 6/25 [======>.......................] - ETA: 0s - loss: 2180.5923"
     ]
    },
    {
     "name": "stderr",
     "output_type": "stream",
     "text": [
      "2023-12-14 23:43:26.127028: I tensorflow/core/framework/local_rendezvous.cc:421] Local rendezvous recv item cancelled. Key hash: 5640187878637657889\n"
     ]
    },
    {
     "name": "stdout",
     "output_type": "stream",
     "text": [
      "25/25 [==============================] - 1s 31ms/step - loss: 2179.2957\n",
      "Epoch 968/1000\n",
      " 6/25 [======>.......................] - ETA: 0s - loss: 2178.9558"
     ]
    },
    {
     "name": "stderr",
     "output_type": "stream",
     "text": [
      "2023-12-14 23:43:26.927411: I tensorflow/core/framework/local_rendezvous.cc:421] Local rendezvous recv item cancelled. Key hash: 5640187878637657889\n"
     ]
    },
    {
     "name": "stdout",
     "output_type": "stream",
     "text": [
      "25/25 [==============================] - 1s 31ms/step - loss: 2177.6709\n",
      "Epoch 969/1000\n",
      "25/25 [==============================] - 1s 31ms/step - loss: 2176.0464\n",
      "Epoch 970/1000\n",
      " 6/25 [======>.......................] - ETA: 0s - loss: 2175.7083"
     ]
    },
    {
     "name": "stderr",
     "output_type": "stream",
     "text": [
      "2023-12-14 23:43:28.525683: I tensorflow/core/framework/local_rendezvous.cc:421] Local rendezvous recv item cancelled. Key hash: 5640187878637657889\n"
     ]
    },
    {
     "name": "stdout",
     "output_type": "stream",
     "text": [
      "25/25 [==============================] - 1s 31ms/step - loss: 2174.4216\n",
      "Epoch 971/1000\n",
      " 6/25 [======>.......................] - ETA: 0s - loss: 2174.0845"
     ]
    },
    {
     "name": "stderr",
     "output_type": "stream",
     "text": [
      "2023-12-14 23:43:29.315348: I tensorflow/core/framework/local_rendezvous.cc:421] Local rendezvous recv item cancelled. Key hash: 5640187878637657889\n"
     ]
    },
    {
     "name": "stdout",
     "output_type": "stream",
     "text": [
      "25/25 [==============================] - 1s 31ms/step - loss: 2172.8020\n",
      "Epoch 972/1000\n",
      " 6/25 [======>.......................] - ETA: 0s - loss: 2172.4646"
     ]
    },
    {
     "name": "stderr",
     "output_type": "stream",
     "text": [
      "2023-12-14 23:43:30.113869: I tensorflow/core/framework/local_rendezvous.cc:421] Local rendezvous recv item cancelled. Key hash: 5640187878637657889\n"
     ]
    },
    {
     "name": "stdout",
     "output_type": "stream",
     "text": [
      "25/25 [==============================] - 1s 31ms/step - loss: 2171.1877\n",
      "Epoch 973/1000\n",
      " 6/25 [======>.......................] - ETA: 0s - loss: 2170.8540"
     ]
    },
    {
     "name": "stderr",
     "output_type": "stream",
     "text": [
      "2023-12-14 23:43:30.916456: I tensorflow/core/framework/local_rendezvous.cc:421] Local rendezvous recv item cancelled. Key hash: 5640187878637657889\n"
     ]
    },
    {
     "name": "stdout",
     "output_type": "stream",
     "text": [
      "25/25 [==============================] - 1s 31ms/step - loss: 2169.5806\n",
      "Epoch 974/1000\n",
      " 6/25 [======>.......................] - ETA: 0s - loss: 2169.2458"
     ]
    },
    {
     "name": "stderr",
     "output_type": "stream",
     "text": [
      "2023-12-14 23:43:31.719470: I tensorflow/core/framework/local_rendezvous.cc:421] Local rendezvous recv item cancelled. Key hash: 5640187878637657889\n"
     ]
    },
    {
     "name": "stdout",
     "output_type": "stream",
     "text": [
      "25/25 [==============================] - 1s 31ms/step - loss: 2167.9702\n",
      "Epoch 975/1000\n",
      " 6/25 [======>.......................] - ETA: 0s - loss: 2167.6367"
     ]
    },
    {
     "name": "stderr",
     "output_type": "stream",
     "text": [
      "2023-12-14 23:43:32.526405: I tensorflow/core/framework/local_rendezvous.cc:421] Local rendezvous recv item cancelled. Key hash: 5640187878637657889\n"
     ]
    },
    {
     "name": "stdout",
     "output_type": "stream",
     "text": [
      "25/25 [==============================] - 1s 31ms/step - loss: 2166.3606\n",
      "Epoch 976/1000\n",
      " 4/25 [===>..........................] - ETA: 0s - loss: 2166.1604"
     ]
    },
    {
     "name": "stderr",
     "output_type": "stream",
     "text": [
      "2023-12-14 23:43:33.323942: I tensorflow/core/framework/local_rendezvous.cc:421] Local rendezvous recv item cancelled. Key hash: 5640187878637657889\n"
     ]
    },
    {
     "name": "stdout",
     "output_type": "stream",
     "text": [
      "25/25 [==============================] - 1s 31ms/step - loss: 2164.7627\n",
      "Epoch 977/1000\n",
      " 6/25 [======>.......................] - ETA: 0s - loss: 2164.4277"
     ]
    },
    {
     "name": "stderr",
     "output_type": "stream",
     "text": [
      "2023-12-14 23:43:34.127013: I tensorflow/core/framework/local_rendezvous.cc:421] Local rendezvous recv item cancelled. Key hash: 5640187878637657889\n"
     ]
    },
    {
     "name": "stdout",
     "output_type": "stream",
     "text": [
      "25/25 [==============================] - 1s 31ms/step - loss: 2163.1626\n",
      "Epoch 978/1000\n",
      " 6/25 [======>.......................] - ETA: 0s - loss: 2162.8301"
     ]
    },
    {
     "name": "stderr",
     "output_type": "stream",
     "text": [
      "2023-12-14 23:43:34.928102: I tensorflow/core/framework/local_rendezvous.cc:421] Local rendezvous recv item cancelled. Key hash: 5640187878637657889\n"
     ]
    },
    {
     "name": "stdout",
     "output_type": "stream",
     "text": [
      "25/25 [==============================] - 1s 31ms/step - loss: 2161.5632\n",
      "Epoch 979/1000\n",
      " 6/25 [======>.......................] - ETA: 0s - loss: 2161.2300"
     ]
    },
    {
     "name": "stderr",
     "output_type": "stream",
     "text": [
      "2023-12-14 23:43:35.726517: I tensorflow/core/framework/local_rendezvous.cc:421] Local rendezvous recv item cancelled. Key hash: 5640187878637657889\n"
     ]
    },
    {
     "name": "stdout",
     "output_type": "stream",
     "text": [
      "25/25 [==============================] - 1s 31ms/step - loss: 2159.9692\n",
      "Epoch 980/1000\n",
      " 6/25 [======>.......................] - ETA: 0s - loss: 2159.6350"
     ]
    },
    {
     "name": "stderr",
     "output_type": "stream",
     "text": [
      "2023-12-14 23:43:36.527214: I tensorflow/core/framework/local_rendezvous.cc:421] Local rendezvous recv item cancelled. Key hash: 5640187878637657889\n"
     ]
    },
    {
     "name": "stdout",
     "output_type": "stream",
     "text": [
      "25/25 [==============================] - 1s 31ms/step - loss: 2158.3782\n",
      "Epoch 981/1000\n",
      " 6/25 [======>.......................] - ETA: 0s - loss: 2158.0471"
     ]
    },
    {
     "name": "stderr",
     "output_type": "stream",
     "text": [
      "2023-12-14 23:43:37.326632: I tensorflow/core/framework/local_rendezvous.cc:421] Local rendezvous recv item cancelled. Key hash: 5640187878637657889\n"
     ]
    },
    {
     "name": "stdout",
     "output_type": "stream",
     "text": [
      "25/25 [==============================] - 1s 31ms/step - loss: 2156.7830\n",
      "Epoch 982/1000\n",
      " 4/25 [===>..........................] - ETA: 0s - loss: 2156.5854"
     ]
    },
    {
     "name": "stderr",
     "output_type": "stream",
     "text": [
      "2023-12-14 23:43:38.126558: I tensorflow/core/framework/local_rendezvous.cc:421] Local rendezvous recv item cancelled. Key hash: 5640187878637657889\n"
     ]
    },
    {
     "name": "stdout",
     "output_type": "stream",
     "text": [
      "25/25 [==============================] - 1s 31ms/step - loss: 2155.1987\n",
      "Epoch 983/1000\n",
      " 6/25 [======>.......................] - ETA: 0s - loss: 2154.8691"
     ]
    },
    {
     "name": "stderr",
     "output_type": "stream",
     "text": [
      "2023-12-14 23:43:38.931587: I tensorflow/core/framework/local_rendezvous.cc:421] Local rendezvous recv item cancelled. Key hash: 5640187878637657889\n"
     ]
    },
    {
     "name": "stdout",
     "output_type": "stream",
     "text": [
      "25/25 [==============================] - 1s 31ms/step - loss: 2153.6191\n",
      "Epoch 984/1000\n",
      " 4/25 [===>..........................] - ETA: 0s - loss: 2153.4209"
     ]
    },
    {
     "name": "stderr",
     "output_type": "stream",
     "text": [
      "2023-12-14 23:43:39.740129: I tensorflow/core/framework/local_rendezvous.cc:421] Local rendezvous recv item cancelled. Key hash: 5640187878637657889\n"
     ]
    },
    {
     "name": "stdout",
     "output_type": "stream",
     "text": [
      "25/25 [==============================] - 1s 31ms/step - loss: 2152.0378\n",
      "Epoch 985/1000\n",
      " 6/25 [======>.......................] - ETA: 0s - loss: 2151.7092"
     ]
    },
    {
     "name": "stderr",
     "output_type": "stream",
     "text": [
      "2023-12-14 23:43:40.544329: I tensorflow/core/framework/local_rendezvous.cc:421] Local rendezvous recv item cancelled. Key hash: 5640187878637657889\n"
     ]
    },
    {
     "name": "stdout",
     "output_type": "stream",
     "text": [
      "25/25 [==============================] - 1s 31ms/step - loss: 2150.4590\n",
      "Epoch 986/1000\n",
      " 6/25 [======>.......................] - ETA: 0s - loss: 2150.1289"
     ]
    },
    {
     "name": "stderr",
     "output_type": "stream",
     "text": [
      "2023-12-14 23:43:41.342646: I tensorflow/core/framework/local_rendezvous.cc:421] Local rendezvous recv item cancelled. Key hash: 5640187878637657889\n"
     ]
    },
    {
     "name": "stdout",
     "output_type": "stream",
     "text": [
      "25/25 [==============================] - 1s 31ms/step - loss: 2148.8816\n",
      "Epoch 987/1000\n",
      " 6/25 [======>.......................] - ETA: 0s - loss: 2148.5505"
     ]
    },
    {
     "name": "stderr",
     "output_type": "stream",
     "text": [
      "2023-12-14 23:43:42.145369: I tensorflow/core/framework/local_rendezvous.cc:421] Local rendezvous recv item cancelled. Key hash: 5640187878637657889\n"
     ]
    },
    {
     "name": "stdout",
     "output_type": "stream",
     "text": [
      "25/25 [==============================] - 1s 32ms/step - loss: 2147.3040\n",
      "Epoch 988/1000\n",
      " 4/25 [===>..........................] - ETA: 0s - loss: 2147.1074"
     ]
    },
    {
     "name": "stderr",
     "output_type": "stream",
     "text": [
      "2023-12-14 23:43:42.968145: I tensorflow/core/framework/local_rendezvous.cc:421] Local rendezvous recv item cancelled. Key hash: 5640187878637657889\n"
     ]
    },
    {
     "name": "stdout",
     "output_type": "stream",
     "text": [
      "25/25 [==============================] - 1s 33ms/step - loss: 2145.7329\n",
      "Epoch 989/1000\n",
      " 4/25 [===>..........................] - ETA: 0s - loss: 2145.5364"
     ]
    },
    {
     "name": "stderr",
     "output_type": "stream",
     "text": [
      "2023-12-14 23:43:43.818598: I tensorflow/core/framework/local_rendezvous.cc:421] Local rendezvous recv item cancelled. Key hash: 5640187878637657889\n"
     ]
    },
    {
     "name": "stdout",
     "output_type": "stream",
     "text": [
      "25/25 [==============================] - 1s 32ms/step - loss: 2144.1672\n",
      "Epoch 990/1000\n",
      " 4/25 [===>..........................] - ETA: 0s - loss: 2143.9709"
     ]
    },
    {
     "name": "stderr",
     "output_type": "stream",
     "text": [
      "2023-12-14 23:43:44.667326: I tensorflow/core/framework/local_rendezvous.cc:421] Local rendezvous recv item cancelled. Key hash: 5640187878637657889\n"
     ]
    },
    {
     "name": "stdout",
     "output_type": "stream",
     "text": [
      "25/25 [==============================] - 1s 32ms/step - loss: 2142.6033\n",
      "Epoch 991/1000\n",
      " 6/25 [======>.......................] - ETA: 0s - loss: 2142.2783"
     ]
    },
    {
     "name": "stderr",
     "output_type": "stream",
     "text": [
      "2023-12-14 23:43:45.513634: I tensorflow/core/framework/local_rendezvous.cc:421] Local rendezvous recv item cancelled. Key hash: 5640187878637657889\n"
     ]
    },
    {
     "name": "stdout",
     "output_type": "stream",
     "text": [
      "25/25 [==============================] - 1s 31ms/step - loss: 2141.0359\n",
      "Epoch 992/1000\n",
      " 6/25 [======>.......................] - ETA: 0s - loss: 2140.7107"
     ]
    },
    {
     "name": "stderr",
     "output_type": "stream",
     "text": [
      "2023-12-14 23:43:46.313145: I tensorflow/core/framework/local_rendezvous.cc:421] Local rendezvous recv item cancelled. Key hash: 5640187878637657889\n"
     ]
    },
    {
     "name": "stdout",
     "output_type": "stream",
     "text": [
      "25/25 [==============================] - 1s 31ms/step - loss: 2139.4739\n",
      "Epoch 993/1000\n",
      " 6/25 [======>.......................] - ETA: 0s - loss: 2139.1501"
     ]
    },
    {
     "name": "stderr",
     "output_type": "stream",
     "text": [
      "2023-12-14 23:43:47.117801: I tensorflow/core/framework/local_rendezvous.cc:421] Local rendezvous recv item cancelled. Key hash: 5640187878637657889\n"
     ]
    },
    {
     "name": "stdout",
     "output_type": "stream",
     "text": [
      "25/25 [==============================] - 1s 31ms/step - loss: 2137.9155\n",
      "Epoch 994/1000\n",
      "25/25 [==============================] - 1s 31ms/step - loss: 2136.3562\n",
      "Epoch 995/1000\n",
      " 4/25 [===>..........................] - ETA: 0s - loss: 2136.1628"
     ]
    },
    {
     "name": "stderr",
     "output_type": "stream",
     "text": [
      "2023-12-14 23:43:48.709353: I tensorflow/core/framework/local_rendezvous.cc:421] Local rendezvous recv item cancelled. Key hash: 5640187878637657889\n"
     ]
    },
    {
     "name": "stdout",
     "output_type": "stream",
     "text": [
      "25/25 [==============================] - 1s 33ms/step - loss: 2134.8005\n",
      "Epoch 996/1000\n",
      " 4/25 [===>..........................] - ETA: 0s - loss: 2134.6062"
     ]
    },
    {
     "name": "stderr",
     "output_type": "stream",
     "text": [
      "2023-12-14 23:43:49.554446: I tensorflow/core/framework/local_rendezvous.cc:421] Local rendezvous recv item cancelled. Key hash: 5640187878637657889\n"
     ]
    },
    {
     "name": "stdout",
     "output_type": "stream",
     "text": [
      "25/25 [==============================] - 1s 33ms/step - loss: 2133.2524\n",
      "Epoch 997/1000\n",
      " 4/25 [===>..........................] - ETA: 0s - loss: 2133.0581"
     ]
    },
    {
     "name": "stderr",
     "output_type": "stream",
     "text": [
      "2023-12-14 23:43:50.411304: I tensorflow/core/framework/local_rendezvous.cc:421] Local rendezvous recv item cancelled. Key hash: 5640187878637657889\n"
     ]
    },
    {
     "name": "stdout",
     "output_type": "stream",
     "text": [
      "25/25 [==============================] - 1s 33ms/step - loss: 2131.7017\n",
      "Epoch 998/1000\n",
      " 4/25 [===>..........................] - ETA: 0s - loss: 2131.5083"
     ]
    },
    {
     "name": "stderr",
     "output_type": "stream",
     "text": [
      "2023-12-14 23:43:51.268602: I tensorflow/core/framework/local_rendezvous.cc:421] Local rendezvous recv item cancelled. Key hash: 5640187878637657889\n"
     ]
    },
    {
     "name": "stdout",
     "output_type": "stream",
     "text": [
      "25/25 [==============================] - 1s 33ms/step - loss: 2130.1536\n",
      "Epoch 999/1000\n",
      " 6/25 [======>.......................] - ETA: 0s - loss: 2129.8313"
     ]
    },
    {
     "name": "stderr",
     "output_type": "stream",
     "text": [
      "2023-12-14 23:43:52.127205: I tensorflow/core/framework/local_rendezvous.cc:421] Local rendezvous recv item cancelled. Key hash: 5640187878637657889\n"
     ]
    },
    {
     "name": "stdout",
     "output_type": "stream",
     "text": [
      "25/25 [==============================] - 1s 33ms/step - loss: 2128.6116\n",
      "Epoch 1000/1000\n",
      " 4/25 [===>..........................] - ETA: 0s - loss: 2128.4194"
     ]
    },
    {
     "name": "stderr",
     "output_type": "stream",
     "text": [
      "2023-12-14 23:43:52.978057: I tensorflow/core/framework/local_rendezvous.cc:421] Local rendezvous recv item cancelled. Key hash: 5640187878637657889\n"
     ]
    },
    {
     "name": "stdout",
     "output_type": "stream",
     "text": [
      "25/25 [==============================] - 1s 33ms/step - loss: 2127.0725\n"
     ]
    },
    {
     "name": "stderr",
     "output_type": "stream",
     "text": [
      "2023-12-14 23:43:53.835475: I tensorflow/core/framework/local_rendezvous.cc:421] Local rendezvous recv item cancelled. Key hash: 5640187878637657889\n"
     ]
    }
   ],
   "source": [
    "# Fit the model\n",
    "model.fit(\n",
    "    X_train,\n",
    "    batch_size=32768, # int(X_train.shape[0] / 50),\n",
    "    epochs=1000,  # Number of training epochs\n",
    "    verbose=True  # Enable stdout messages\n",
    ");"
   ]
  },
  {
   "cell_type": "code",
   "execution_count": 21,
   "metadata": {},
   "outputs": [],
   "source": [
    "model_filename = \"kg_embedding_model\"\n",
    "save_model(model, model_filename)"
   ]
  },
  {
   "cell_type": "code",
   "execution_count": 26,
   "metadata": {},
   "outputs": [
    {
     "name": "stdout",
     "output_type": "stream",
     "text": [
      "Saved model does not include a db file. Skipping.\n"
     ]
    }
   ],
   "source": [
    "model = restore_model(model_filename)"
   ]
  },
  {
   "cell_type": "code",
   "execution_count": 27,
   "metadata": {},
   "outputs": [
    {
     "name": "stdout",
     "output_type": "stream",
     "text": [
      "314/314 [==============================] - 136s 434ms/step\n"
     ]
    },
    {
     "name": "stderr",
     "output_type": "stream",
     "text": [
      "2023-12-14 23:52:36.974258: I tensorflow/core/framework/local_rendezvous.cc:421] Local rendezvous recv item cancelled. Key hash: 7377645404474581255\n",
      "2023-12-14 23:52:36.974385: I tensorflow/core/framework/local_rendezvous.cc:421] Local rendezvous recv item cancelled. Key hash: 11944932083158180741\n",
      "2023-12-14 23:52:36.974393: I tensorflow/core/framework/local_rendezvous.cc:421] Local rendezvous recv item cancelled. Key hash: 11490521374090953855\n",
      "2023-12-14 23:52:36.974398: I tensorflow/core/framework/local_rendezvous.cc:421] Local rendezvous recv item cancelled. Key hash: 15898939186316937977\n",
      "2023-12-14 23:52:36.974403: I tensorflow/core/framework/local_rendezvous.cc:421] Local rendezvous recv item cancelled. Key hash: 215871133852060519\n",
      "2023-12-14 23:52:36.974407: I tensorflow/core/framework/local_rendezvous.cc:421] Local rendezvous recv item cancelled. Key hash: 13866983229804850545\n",
      "2023-12-14 23:52:36.974412: I tensorflow/core/framework/local_rendezvous.cc:421] Local rendezvous recv item cancelled. Key hash: 4710292560702132353\n",
      "2023-12-14 23:52:36.974416: I tensorflow/core/framework/local_rendezvous.cc:421] Local rendezvous recv item cancelled. Key hash: 11735193472655774405\n",
      "2023-12-14 23:52:36.974420: I tensorflow/core/framework/local_rendezvous.cc:421] Local rendezvous recv item cancelled. Key hash: 8879942094419515287\n",
      "2023-12-14 23:52:36.974424: I tensorflow/core/framework/local_rendezvous.cc:421] Local rendezvous recv item cancelled. Key hash: 4375609451142314297\n",
      "2023-12-14 23:52:36.974428: I tensorflow/core/framework/local_rendezvous.cc:421] Local rendezvous recv item cancelled. Key hash: 6422706750722791783\n",
      "2023-12-14 23:52:36.974432: I tensorflow/core/framework/local_rendezvous.cc:421] Local rendezvous recv item cancelled. Key hash: 214002042974673761\n",
      "2023-12-14 23:52:36.974436: I tensorflow/core/framework/local_rendezvous.cc:421] Local rendezvous recv item cancelled. Key hash: 5434617258460609699\n",
      "2023-12-14 23:52:36.974440: I tensorflow/core/framework/local_rendezvous.cc:421] Local rendezvous recv item cancelled. Key hash: 8066885217911684777\n",
      "2023-12-14 23:52:36.974444: I tensorflow/core/framework/local_rendezvous.cc:421] Local rendezvous recv item cancelled. Key hash: 17798629532112763211\n",
      "2023-12-14 23:52:36.974479: I tensorflow/core/framework/local_rendezvous.cc:421] Local rendezvous recv item cancelled. Key hash: 12931401548116705386\n",
      "2023-12-14 23:52:36.974484: I tensorflow/core/framework/local_rendezvous.cc:421] Local rendezvous recv item cancelled. Key hash: 12616647729599479446\n",
      "2023-12-14 23:52:36.974488: I tensorflow/core/framework/local_rendezvous.cc:421] Local rendezvous recv item cancelled. Key hash: 17432487620746617406\n",
      "2023-12-14 23:52:36.974492: I tensorflow/core/framework/local_rendezvous.cc:421] Local rendezvous recv item cancelled. Key hash: 4095533311283038192\n",
      "2023-12-14 23:52:36.974496: I tensorflow/core/framework/local_rendezvous.cc:421] Local rendezvous recv item cancelled. Key hash: 17546481773041478334\n",
      "2023-12-14 23:52:36.974500: I tensorflow/core/framework/local_rendezvous.cc:421] Local rendezvous recv item cancelled. Key hash: 903043333882162198\n",
      "2023-12-14 23:52:36.974504: I tensorflow/core/framework/local_rendezvous.cc:421] Local rendezvous recv item cancelled. Key hash: 14098258745193385698\n",
      "2023-12-14 23:52:36.974508: I tensorflow/core/framework/local_rendezvous.cc:421] Local rendezvous recv item cancelled. Key hash: 9815367440920539140\n",
      "2023-12-14 23:52:36.974512: I tensorflow/core/framework/local_rendezvous.cc:421] Local rendezvous recv item cancelled. Key hash: 9581328035412825354\n",
      "2023-12-14 23:52:36.974516: I tensorflow/core/framework/local_rendezvous.cc:421] Local rendezvous recv item cancelled. Key hash: 8397360849079022974\n",
      "2023-12-14 23:52:36.974520: I tensorflow/core/framework/local_rendezvous.cc:421] Local rendezvous recv item cancelled. Key hash: 11387641867414902550\n",
      "2023-12-14 23:52:36.974524: I tensorflow/core/framework/local_rendezvous.cc:421] Local rendezvous recv item cancelled. Key hash: 10202434803859421318\n",
      "2023-12-14 23:52:36.974528: I tensorflow/core/framework/local_rendezvous.cc:421] Local rendezvous recv item cancelled. Key hash: 717203732690261534\n",
      "2023-12-14 23:52:36.974531: I tensorflow/core/framework/local_rendezvous.cc:421] Local rendezvous recv item cancelled. Key hash: 4112616349888502574\n",
      "2023-12-14 23:52:36.974536: I tensorflow/core/framework/local_rendezvous.cc:421] Local rendezvous recv item cancelled. Key hash: 5674327649875433058\n",
      "2023-12-14 23:52:36.974539: I tensorflow/core/framework/local_rendezvous.cc:421] Local rendezvous recv item cancelled. Key hash: 18322245979234885282\n",
      "2023-12-14 23:52:36.974556: I tensorflow/core/framework/local_rendezvous.cc:421] Local rendezvous recv item cancelled. Key hash: 14053843417085468478\n"
     ]
    }
   ],
   "source": [
    "filter_triples = {'test': np.concatenate((X_train, X_valid))}\n",
    "ranks = model.evaluate(\n",
    "    X_valid, use_filter=filter_triples, verbose=True\n",
    ")"
   ]
  },
  {
   "cell_type": "code",
   "execution_count": 28,
   "metadata": {},
   "outputs": [
    {
     "name": "stdout",
     "output_type": "stream",
     "text": [
      "MRR: 0.22\n",
      "MR: 5234.97\n"
     ]
    }
   ],
   "source": [
    "mr = mr_score(ranks)\n",
    "mrr = mrr_score(ranks)\n",
    "print(f\"MRR: {mrr:.2f}\")\n",
    "print(f\"MR: {mr:.2f}\")"
   ]
  },
  {
   "cell_type": "code",
   "execution_count": 29,
   "metadata": {},
   "outputs": [
    {
     "name": "stdout",
     "output_type": "stream",
     "text": [
      "Hits@10: 0.28\n",
      "Hits@3: 0.23\n",
      "Hits@1: 0.19\n"
     ]
    }
   ],
   "source": [
    "hits_10 = hits_at_n_score(ranks, n=10)\n",
    "hits_3 = hits_at_n_score(ranks, n=3)\n",
    "hits_1 = hits_at_n_score(ranks, n=1)\n",
    "print(f\"Hits@10: {hits_10:.2f}\")\n",
    "print(f\"Hits@3: {hits_3:.2f}\")\n",
    "print(f\"Hits@1: {hits_1:.2f}\")"
   ]
  }
 ],
 "metadata": {
  "kernelspec": {
   "display_name": "venv",
   "language": "python",
   "name": "python3"
  },
  "language_info": {
   "codemirror_mode": {
    "name": "ipython",
    "version": 3
   },
   "file_extension": ".py",
   "mimetype": "text/x-python",
   "name": "python",
   "nbconvert_exporter": "python",
   "pygments_lexer": "ipython3",
   "version": "3.10.12"
  }
 },
 "nbformat": 4,
 "nbformat_minor": 2
}
